{
 "cells": [
  {
   "cell_type": "markdown",
   "metadata": {},
   "source": [
    "# Configuration"
   ]
  },
  {
   "cell_type": "code",
   "execution_count": 1,
   "metadata": {},
   "outputs": [],
   "source": [
    "import pandas as pd\n",
    "import matplotlib.pyplot as plt\n",
    "import seaborn as sns\n",
    "import youtubeFns as yt\n",
    "import plotly.express as px\n",
    "import plotly.graph_objects as go\n",
    "from datetime import datetime\n",
    "import numpy as np"
   ]
  },
  {
   "cell_type": "markdown",
   "metadata": {},
   "source": [
    "# Data Retrieval"
   ]
  },
  {
   "cell_type": "markdown",
   "metadata": {},
   "source": [
    "### Import Channel Data"
   ]
  },
  {
   "cell_type": "code",
   "execution_count": 2,
   "metadata": {},
   "outputs": [],
   "source": [
    "url = 'https://www.youtube.com/watch?v=IHrJuBLEsXM'\n",
    "channel_id = yt.retrieve_channel_id(url)\n",
    "stats = yt.retrieve_channel_stats(channel_id)\n",
    "df = yt.retrieve_channel_videos(channel_id)"
   ]
  },
  {
   "cell_type": "markdown",
   "metadata": {},
   "source": [
    "### Set Constants"
   ]
  },
  {
   "cell_type": "code",
   "execution_count": 3,
   "metadata": {},
   "outputs": [],
   "source": [
    "CHANNEL_USERNAME = stats['username']\n",
    "CHANNEL_VIEW_COUNT = int(stats['channel_views'])\n",
    "CHANNEL_SUBSCRIBER_COUNT = int(stats['subscriber'])\n",
    "CHANNEL_VIDEO_COUNT = int(stats['video_count'])"
   ]
  },
  {
   "cell_type": "markdown",
   "metadata": {},
   "source": [
    "# Anomaly Detection"
   ]
  },
  {
   "cell_type": "markdown",
   "metadata": {},
   "source": [
    "### Local Outlier Factor"
   ]
  },
  {
   "cell_type": "code",
   "execution_count": 4,
   "metadata": {},
   "outputs": [],
   "source": [
    "df_test = yt.calculate_lof(df=df, variable='views')\n",
    "df_likes = yt.calculate_lof(df=df, variable='likes')"
   ]
  },
  {
   "cell_type": "code",
   "execution_count": 6,
   "metadata": {},
   "outputs": [
    {
     "data": {
      "application/vnd.plotly.v1+json": {
       "config": {
        "plotlyServerURL": "https://plot.ly"
       },
       "data": [
        {
         "customdata": [
          [
           "I Fished A PRIVATE Tournament!",
           8.85
          ],
          [
           "I Tried Fishing With A GIANT SPOON!!",
           13.97
          ],
          [
           "I Built A FALL Tackle Box!",
           11.82
          ],
          [
           "I Tried Fishing With GUMMY WORMS!!",
           10.12
          ],
          [
           "I Found The PERFECT Glidebait!",
           12.67
          ],
          [
           "The FUNNEST Lure To Throw!",
           9.92
          ],
          [
           "I Went Back To College!",
           11.4
          ],
          [
           "I Built A TOPWATER Box!!",
           13.2
          ],
          [
           "I Tried Fishing On A FOLDABLE Kayak!!",
           15.32
          ],
          [
           "I Fished With A CONTROVERSIAL Bait!",
           10.88
          ],
          [
           "I Tried Fishing With MICRO Baits!",
           10.2
          ],
          [
           "I Tried Fishing With ROBOTIC Baits!",
           9.87
          ],
          [
           "I Tried Fishing With BFS Technology!",
           9.77
          ],
          [
           "I Fished With The Most OVERRATED Baits!!",
           11.15
          ],
          [
           "I Built The Ultimate SUMMERTIME Tackle Box!",
           10.68
          ],
          [
           "I Built A Giant Swimbait Tackle Box!",
           10.12
          ],
          [
           "I Got A Fishing Kayak!",
           11.25
          ],
          [
           "I Went Fishing With The Weirdest Bait Ever!!",
           11.13
          ],
          [
           "I Went Fishing With A Handmade Lure!!",
           12.22
          ],
          [
           "The YinTin Is Finished!!",
           22.17
          ],
          [
           "Fishing My First College Tournament!",
           12.02
          ],
          [
           "My College Lake Is Finally Open!!",
           10.28
          ],
          [
           "Can I Outfish A Tournament Angler?",
           11.97
          ],
          [
           "I Built The Ultimate SPRINGTIME Tackle Box!",
           16.03
          ],
          [
           "Converting The YinTin Into A Bass Boat!!",
           11
          ],
          [
           "I Fished The Most Pressured Pond In Town!",
           13.28
          ],
          [
           "I Went Fishing With My Reels Upside Down!",
           14.2
          ],
          [
           "I Built And Went Fishing With A WINTER Tackle Box!",
           20.4
          ],
          [
           "I Went Fishing With The World's TINIEST Combo!",
           15.1
          ],
          [
           "I Built A Tackle Kit And Then Fished With It!",
           15.43
          ],
          [
           "I Got Permission To Fish This CRAZY PRIVATE POND!",
           17.03
          ],
          [
           "I Went Fishing At My Childhood Pond!!",
           17.23
          ],
          [
           "Top 10 Fishing Moments Of 2022!!",
           23.57
          ],
          [
           "Giant Fish Swim In This Lake!",
           11.58
          ],
          [
           "The HUNT For A Freshwater PB │ Pt. 2",
           11.72
          ],
          [
           "The HUNT For A Freshwater PB │ Pt. 1",
           10.6
          ],
          [
           "I Tried To Catch A New PB!",
           15.9
          ],
          [
           "Cooking Freshly Caught Fish From The Beach",
           11.22
          ],
          [
           "Exploring Fishing Spots Near My College!",
           16.95
          ],
          [
           "Attempting To Break My Colleges Lake Record",
           16.37
          ],
          [
           "I Went Fishing With A Long Range Electric Bike!",
           13.55
          ],
          [
           "I Went Fishing After A Hurricane!",
           11.47
          ],
          [
           "I Only Fished Big Swimbaits For 2 Days!",
           14.82
          ],
          [
           "I Went Fishing With My First Combo!",
           14.17
          ],
          [
           "I Went Fishing With My Oldest Baitcaster Combo!",
           16.47
          ],
          [
           "I Went Fishing With The Perfect Pond Hopping Box!",
           13.95
          ],
          [
           "I Went Fishing At My College!",
           12.75
          ],
          [
           "I Went Fishing At A Cliffside Pond!",
           16.82
          ],
          [
           "I Went Fishing With Game Changing Baits!",
           16.42
          ],
          [
           "The Weirdest Private Lake I’ve Ever Fished..",
           16.08
          ],
          [
           "Fishing On A $400 Origami Folding Kayak!",
           11.25
          ],
          [
           "I Fished On The World's Largest Paddleboard!",
           11.3
          ],
          [
           "I Got An Inflatable Fishing Paddle Board!",
           11.9
          ],
          [
           "I Fished In a Sauna Suit for 24 Hours",
           14.78
          ],
          [
           "This Tackle Kit Makes Fishing Easy!",
           10.93
          ],
          [
           "Whoever Catches The Biggest Fish Wins $300!!",
           9.32
          ],
          [
           "World's Most Famous Fishing Destination!",
           12.63
          ],
          [
           "This Fish Attractant Will Change Everything!",
           13.47
          ],
          [
           "I Drove 8 Hours To Catch A Bass",
           12.42
          ],
          [
           "Fishing On My Project Boat For The First Time!",
           11.5
          ],
          [
           "Fishing Is Expensive, So I Gave Away Free Tackle!",
           10.92
          ],
          [
           "Chasing The State Record Bass",
           10.47
          ],
          [
           "Transforming My Jon Boat Into A Bass Boat!",
           9.6
          ],
          [
           "Trout Fishing In The Freezing Rain!",
           8.55
          ],
          [
           "I Swapped Boats For The Day!",
           8.63
          ],
          [
           "Catch a Fish and I'll Eat a Ghost Pepper Chip!",
           8.55
          ],
          [
           "Can I Outfish a High School Tournament Angler?",
           8.17
          ],
          [
           "Spending a Day on My Dream Boat",
           11.78
          ],
          [
           "I Took My College Friend Fishing!",
           8.32
          ],
          [
           "Day in the Life of a Fishing YouTuber",
           6.48
          ],
          [
           "I Went Fishing With A Fish Sonar!",
           12.08
          ],
          [
           "Big Fish In My Little Boat!",
           10.28
          ],
          [
           "First Time Fishing On My Boat!",
           11.95
          ],
          [
           "My Boat is Finally Here!",
           13.48
          ],
          [
           "Whoever Catches the Smallest Fish Shaves Their Head!!",
           17.08
          ],
          [
           "They Made A Pikachu Fishing Lure..",
           10.5
          ],
          [
           "I Fished the Best Ponds In the Country!!",
           8.73
          ],
          [
           "I Drove 3 Hours to Catch This Fish!!",
           11.63
          ],
          [
           "I Bought My Dream Baitcaster!!",
           12.1
          ],
          [
           "I Went Fishing With A Telescopic Rod..",
           12.2
          ],
          [
           "I Went On A Guided Fly Fishing Trip!!",
           9.1
          ],
          [
           "Unboxing $1000 Of Fishing Lures!!",
           8.05
          ],
          [
           "EXTREME Budget ACADEMY Fishing Challenge!!",
           14.22
          ],
          [
           "What's inside a GOOGAN's Tackle Room?!?",
           6.6
          ],
          [
           "I Went Fishing At Lojo's Backyard Pond!!",
           15.82
          ],
          [
           "FIRST Time MAKING My Own SOFT PLASTICS!! (ft. LarryMelton, Jr.)",
           6.77
          ],
          [
           "You Have $20 To Pick Out My Fishing Lures!!!",
           14.32
          ],
          [
           "SURPRISING My Friend With His DREAM FISHING REEL!!!",
           9.55
          ],
          [
           "ULTIMATE Roulette FISHING CHALLENGE With Mystery Tackle Boxes!!",
           15.65
          ],
          [
           "My FIRST Time Fishing On A BASS BOAT!!",
           11.8
          ],
          [
           "FRANKENFISH CATCH N' COOK (So Delicious!!)",
           15.78
          ],
          [
           "thank you",
           8.38
          ],
          [
           "THE BIGGEST FISH OF HIS LIFE!!! (Drag Screaming Action)",
           11.9
          ],
          [
           "INSANE 6 MILE FISHING ADVENTURE (Crazy Topwater Eats)",
           12.52
          ],
          [
           "SPILLWAY FISHING ADVENTURE WITH CATCH CO BOX (On The Line Challenge #4)",
           15.02
          ],
          [
           "CREATE MY OWN FISHING LURE CATCH CO CHALLENGE!! (On The Line Challenge #3)",
           14.58
          ],
          [
           "CRAZY SPEED FISHING CHALLENGE WITH A CATCH CO BOX!! (On The Line Challenge #2)",
           15
          ],
          [
           "COMPLETING A CATCH CO TACKLE BOX SLAM?!? (On The Line Challenge #1)",
           14.93
          ],
          [
           "I FINALLY Caught This Fish AFTER TWO YEARS (James River Fishing)",
           11.08
          ],
          [
           "I CAUGHT My BIGGEST Smallmouth On The FLY (Wet Wading Adventure)",
           11.9
          ],
          [
           "THROWING The Chatterbait PAYS OFF! (Bank Fishing)",
           7.33
          ],
          [
           "I HOOKED INTO AN ABSOLUTE BEAST!! (Jon Boat Adventure)",
           9.58
          ],
          [
           "WE THOUGHT WE HOOKED A ROCK!! (Scary Reptile Encounter)",
           9.83
          ],
          [
           "CRAPPIE CATCH N' COOK (6K SUBSCRIBER SPECIAL)",
           14.13
          ],
          [
           "INSANE Bed Fishing For AGGRESSIVE Largemouth (BIG BASS CAUGHT)",
           8.95
          ],
          [
           "EXPLORING Crystal Clear Streams For BEAUTIFUL FISH -- On The Fly (3/3)",
           18.45
          ],
          [
           "The BEST Trout Stream I've Ever Fished!! --- On The Fly (2/3)",
           16.07
          ],
          [
           "Fly Fishing PRISTINE Mountain Stream --- On The Fly (1/3)",
           9.37
          ],
          [
           "HE DID NOT MEAN TO CATCH THIS FISH!!! (Pond Hopping Adventure)",
           9.6
          ],
          [
           "Hunting Down the POOR MAN'S TARPON In Richmond, VA!! (RVA Shad Fishing)",
           9.3
          ],
          [
           "I BOUGHT The MOST EXPENSIVE Baitcaster From BASS PRO & Caught Fish On It!!",
           10.75
          ],
          [
           "Fishing Against HUGE Cliffside (Reel Unboxing!!)",
           8.47
          ],
          [
           "I'VE NEVER CAUGHT THIS FISH BEFORE!! (Swift Creek Reservoir)",
           8.3
          ],
          [
           "THE ULTIMATE FLY FISHING SHOWDOWN (1v1v1)",
           9.13
          ],
          [
           "They FINALLY Came In -- VLOG #2",
           7.63
          ],
          [
           "Fishing BIG SWIMBAITS For Pre-Spawn Bass (Bank Fishing)",
           11.83
          ],
          [
           "HE CAUGHT A GIANT BASS!!! (Winter Pond Hopping)",
           8.75
          ],
          [
           "REACTING To My OLD FISHING VIDEOS (Hilarious)",
           11.87
          ],
          [
           "This was NOT supposed to happen...",
           6.78
          ],
          [
           "POND HOPPING A Golf Course With Subscriber (BIG BASS CAUGHT)",
           11.8
          ],
          [
           "FINESSE Fishing For COLD Water Largemouth",
           10.53
          ],
          [
           "FISHING In The SNOW?! (BAD IDEA)",
           5.77
          ],
          [
           "GHOST PEPPER CHIP FISHING CHALLENGE (Painful)",
           11.43
          ],
          [
           "Fishing an URBAN CREEK FOR WHATEVER BITES",
           11.27
          ],
          [
           "That's A Big Trout.. -- VLOG #1",
           4.88
          ],
          [
           "URBAN Creek Fishing For LARGIES (Crystal Clear Water)",
           9.68
          ],
          [
           "Exploring ABANDONED Golf Course (CRAZY Fun)",
           3.93
          ],
          [
           "The HUNT For ELUSIVE River MONSTERS (Cut Bait)",
           9.42
          ],
          [
           "My 2021 Fishing Tackle...",
           9.18
          ],
          [
           "Winter SPILLWAY Fishing Is TOUGH",
           6.03
          ],
          [
           "Top 5 Craziest Fishing Moments from 2020",
           8.68
          ],
          [
           "Catching WINTER Bass Under TREES (Bank Fishing)",
           16.82
          ],
          [
           "INSANE Day of Bass Fishing (Pond Hopping)",
           14.4
          ],
          [
           "I GOT NEW RODS & REELS",
           3.13
          ],
          [
           "How To: Drop Shot",
           7.6
          ],
          [
           "The HUNT For Brown Trout In An AMAZING Stream",
           13.67
          ],
          [
           "DIFFICULT GOOGLE MAPS Fishing CHALLENGE",
           19.13
          ],
          [
           "HAMMERING Some AGGRESSIVE Largies (Dam Fishing)",
           13.62
          ],
          [
           "Fly Fishing Basics",
           12.27
          ],
          [
           "Fishing With FROZEN Shad",
           9.63
          ],
          [
           "Someone Sent Me A REEL",
           7.97
          ],
          [
           "OFF TRAIL (Small Stream Fly Fishing Adventure)",
           13.8
          ],
          [
           "FISH CANNOT RESIST THIS LURE",
           15.82
          ],
          [
           "FOUND THE FISH!!  (Kayak Fishing)",
           6.48
          ],
          [
           "FISHING WITH SUBSCRIBER SENT LURES  (Surprise Catch)",
           16.17
          ],
          [
           "Bottom Fishing For HUNGRY Catfish",
           10.02
          ],
          [
           "UNBOXING FAN MAIL",
           9.22
          ],
          [
           "REACTING to FISHING FAILS (2k Sub Special)",
           7.75
          ],
          [
           "CATFISH CATCH N' COOK",
           8.27
          ],
          [
           "This Store Is INSANE",
           7.3
          ],
          [
           "Fishing With A DRILL (WHAT WAS I THINKING??)",
           9.53
          ],
          [
           "SPIDER-MAN ROD BASS FISHING CHALLENGE!!!",
           13.07
          ],
          [
           "BLUEGILL CATCH N' COOK  (100TH VIDEO SPECIAL)",
           12.67
          ],
          [
           "WHAT'S IN MY FISHING BACKPACK?!? (+ROD AND REELS)",
           8.77
          ],
          [
           "CRAZY TOPWATER LURE CHALLENGE",
           11.67
          ],
          [
           "FISHING URBAN WATERFALLS   (FLY FISHING)",
           8.97
          ],
          [
           "10,000 Fish Shimmer Shad   (IS IT WORTH IT??)",
           9.63
          ],
          [
           "Caught In A Storm (This Is BAD)",
           8.8
          ],
          [
           "WET WADING The James River!",
           8.08
          ],
          [
           "NIGHTTIME Catfishing (Channels, Brown Bullheads, Perch)",
           9
          ],
          [
           "EPIC Live Bait Fishing (New PB)",
           13.28
          ],
          [
           "Fishing Off SKETCHY Tree (River Fishing)",
           8.85
          ],
          [
           "Fishing PUDDLES",
           10.43
          ],
          [
           "Summer Fishing Has Begun!!",
           9.93
          ],
          [
           "Catching First Bass On My New SLX DC",
           6.7
          ],
          [
           "SHIMANO SLX DC COMBO (Unboxing And Review)",
           11.97
          ],
          [
           "MultiSpecies At The River",
           8.58
          ],
          [
           "Giant Turtle Ate Our Bluegill",
           14.07
          ],
          [
           "Canoe Fishing Adventure (Swift Creek Reservoir)",
           10.38
          ],
          [
           "NEW BIGGEST BASS OF 2020!!!",
           6.83
          ],
          [
           "Catching Vicious Sharp Toothed Fish (NEW SPECIES)",
           7.83
          ],
          [
           "Catfish LOVE The Dropshot!",
           12.68
          ],
          [
           "Trying Out The Googan Baits Saucy Swimmer",
           7.1
          ],
          [
           "MICRO Fishing In Creek",
           7.03
          ],
          [
           "WHAT DID THIS FISH EAT??",
           5.77
          ],
          [
           "LIVE BAITFISH FISHING (Two PBs Caught)",
           15.77
          ],
          [
           "CRYSTAL CLEAR Fly Fishing For Native Brook Trout",
           20.12
          ],
          [
           "HOMEMADE COKE BOTTLE FISH TRAP",
           8.35
          ],
          [
           "WE ARE CRAZY FOR WADING THIS!!!",
           14.1
          ],
          [
           "RARE Meanmouth Bass Caught?!?",
           11.18
          ],
          [
           "QUARANTINE MONDOS",
           5.17
          ],
          [
           "Fishing Thick Brush For Prespawn Bass",
           5.05
          ],
          [
           "Aggressive Bass Destroyed These Flies!!!!!",
           1.85
          ],
          [
           "Fly Fishing Backwoods Creek With Popper (My First Catch on my Fly)",
           9.2
          ],
          [
           "TFO NXT Black Label Combo Unboxing!!!",
           5.3
          ],
          [
           "Creek Fishing My Backyard!",
           10.52
          ],
          [
           "These River Fish Were Finicky (Spring Fishing With the Boys)",
           3.13
          ],
          [
           "BASS SPECIES SLAM (Smallmouth, Spotted, Largemouth)",
           9.28
          ],
          [
           "EPIC FLY FISHING CHALLENGE!!! (ft. NEWFishing, FishingWithEthan)",
           11.17
          ],
          [
           "Catching My Second Bass of The Year!",
           1.47
          ],
          [
           "Richmond Fishing Expo (ft. ScottMartinChallenge, Mike Bucca)",
           8.35
          ],
          [
           "My TOP SIX FISHING MOMENTS of 2019!",
           8.28
          ],
          [
           "Late December Fishing",
           7.58
          ],
          [
           "These Striped Bass were BIG  (New Jersey) (Bottom Jigging)",
           13.17
          ],
          [
           "My First Spotted Bass (New Species)",
           7.27
          ],
          [
           "CHILLY River Fishing With Ned Rig (NEW SPECIES!!) (ft. FishingWithEthan)",
           8.93
          ],
          [
           "UNREAL Topwater Bass At The River!!",
           9.85
          ],
          [
           "Fishing the Appomattox River  (PB Smallie) (New Species)",
           8.7
          ],
          [
           "BOWFIN ATE AT MY FEET!!  (James River Fishing w/ NEWFishing)",
           5.98
          ],
          [
           "Cane Pole Fishing A Drying Creek",
           8.33
          ],
          [
           "Catching Bass using CHEAP Bluegill Swimbait!!",
           4.37
          ],
          [
           "Wading in a CRYSTAL CLEAR river for Smallmouth Bass   (New Personal Species!)",
           12.63
          ],
          [
           "5LB+ BASS COMES OFF MY HOOK! (Live Minnow Fishing)",
           5.43
          ],
          [
           "Trying out the Lunkerhunt Dragonfly Lure!",
           7.02
          ],
          [
           "My First Time Fishing A Jig",
           3.5
          ],
          [
           "Fly Fishing GORGEOUS Streams for Brook Trout",
           6.08
          ],
          [
           "LOOK WHAT HE CAUGHT (Long Beach Island. Ep 4)",
           4.33
          ],
          [
           "I Got Extremly Sea Sick (Long Beach Island. Ep 3)",
           4.2
          ],
          [
           "Using BIG Poppers to catch BIG Fish (Long Beach Island. Ep 2)",
           6.85
          ],
          [
           "The Bass of the Sea (Long Beach Island. Ep 1)",
           5.45
          ],
          [
           "I HAD TO GET IN THE WATER TO LAND THIS FISH!!!  (Fishing at UVA)",
           7.23
          ],
          [
           "Fishing at UVA! (His first bass ever)",
           5.8
          ],
          [
           "Putting Bandito Bugs to the test! (ft.EBO)",
           6.1
          ],
          [
           "My LARGEST freshwater fish",
           10.12
          ],
          [
           "FISHING TRICKSHOTS",
           2.22
          ],
          [
           "GIANT Bass Caught Out of TINY CREEK  (2019 Personal Best!) (Ft. FishingWithEthan)",
           12.88
          ],
          [
           "Fishing With My New Combo From Bass Pro Shops ( Ft. NEWFishing)",
           8.6
          ],
          [
           "STOCKING a Local Pond With Bluegill! (Ft.NEWFishing)",
           11.9
          ],
          [
           "TINY Dock Demon Bass Fishing CHALLENGE!!! (Ft.NEWFishing, EBO)",
           10
          ],
          [
           "My FIRST time using this lure",
           4.58
          ],
          [
           "CREEK Fishing in the James River",
           8.42
          ],
          [
           "Trying out the Hula Popper! (Topwater Bass)",
           4.73
          ],
          [
           "HIT RIGHT AT MY FEET ON THE SWIMBAIT!!",
           6.8
          ],
          [
           "Cheap swimbait from Wish app! (Ft. NEWFishing, FWE, and Iverson)",
           5.05
          ],
          [
           "NO WAY HE CAUGHT THIS ON A FLY! (ft. NEWFishing)",
           12.38
          ],
          [
           "Topwater Bass on the Whopper Plopper!!",
           13.1
          ],
          [
           "My Favorite Springtime Bass Lure! (2019 PB CAUGHT) FT. NEWFishing, and FishingWithEthan",
           18.97
          ],
          [
           "Swift Creek Reservoir Adventure",
           9.87
          ],
          [
           "Golf Course Pond Hopping (ft. NEWFishing)",
           12.4
          ],
          [
           "This Mini Popper Catches EVERYTHING! Spring Bloom (Part 2)",
           7.28
          ],
          [
           "Spring Bloom (Part 1) AGGRESIVE FISH DESTROY PLASTIC WORM",
           5.7
          ],
          [
           "Fishing Bear Creek State Park",
           5.05
          ],
          [
           "I REALLY need to work on my hookset (ft.FishingWithEthan)",
           4.15
          ],
          [
           "Dinks, Dinks, and more Dinks..",
           3.77
          ],
          [
           "I Can't Believe I Wasn't Recording...",
           5.12
          ],
          [
           "I LOST A GIANT (ft. FishingWithEthan)",
           9.82
          ],
          [
           "HEAT WAVE (Part 2) Nasty Pond Scum Bed Fishing",
           7.07
          ],
          [
           "HEAT WAVE (Part 1) What A Crappie Day!",
           9.15
          ],
          [
           "I Catch Everything Except a Crappie",
           8.18
          ],
          [
           "ARTIFICIAL VS LIVE BAIT Challenge!!",
           5.43
          ],
          [
           "Bobber Fishing Madness!!",
           7
          ],
          [
           "Fishing Before a Thunderstorm!! (BIG BASS CAUGHT)",
           8.43
          ],
          [
           "Fishing An Old Coal Mine!! (ft. NEWFishing)",
           5.57
          ],
          [
           "Fluke Saves The Day (ft. NEWFishing)",
           5.95
          ],
          [
           "Spring Is Just Around the Corner!",
           4.28
          ],
          [
           "Finally ended my BASS SKUNK!!",
           4.4
          ],
          [
           "UNEXPECTED FISH CAUGHT AT SMALL POND!",
           11.4
          ],
          [
           "Dead Fish Everywhere!",
           8.88
          ],
          [
           "Catching Our First Fish Of The Year?!",
           5.12
          ],
          [
           "Crappie Fishing In December",
           3.5
          ],
          [
           "Winter Biggins",
           5.98
          ],
          [
           "Catching Bass On A Broken Lure?!",
           5.2
          ],
          [
           "POND FISHING IN DECEMBER [Giant Perch Caught]",
           6.28
          ]
         ],
         "hovertemplate": "performance=Normal<br>publishTime=%{x}<br>views=%{y}<br>title=%{customdata[0]}<br>duration_min=%{customdata[1]}<extra></extra>",
         "legendgroup": "Normal",
         "marker": {
          "color": "#497174",
          "symbol": "circle"
         },
         "mode": "markers",
         "name": "Normal",
         "orientation": "v",
         "showlegend": true,
         "type": "scatter",
         "x": [
          "2023-10-24T20:29:54+00:00",
          "2023-10-17T20:31:32+00:00",
          "2023-10-03T20:28:46+00:00",
          "2023-09-26T20:31:59+00:00",
          "2023-09-19T20:27:47+00:00",
          "2023-09-12T20:27:20+00:00",
          "2023-09-05T20:26:58+00:00",
          "2023-08-29T20:28:20+00:00",
          "2023-08-22T20:30:24+00:00",
          "2023-08-15T20:28:45+00:00",
          "2023-08-01T20:28:10+00:00",
          "2023-07-25T20:28:26+00:00",
          "2023-07-11T20:28:53+00:00",
          "2023-06-20T20:27:18+00:00",
          "2023-06-13T20:29:39+00:00",
          "2023-06-06T20:29:04+00:00",
          "2023-05-30T20:28:22+00:00",
          "2023-05-23T20:28:25+00:00",
          "2023-05-16T20:30:34+00:00",
          "2023-04-25T20:29:23+00:00",
          "2023-04-11T20:28:40+00:00",
          "2023-04-04T20:29:52+00:00",
          "2023-03-21T20:28:39+00:00",
          "2023-03-14T20:29:56+00:00",
          "2023-02-28T21:29:26+00:00",
          "2023-02-21T21:28:20+00:00",
          "2023-02-14T21:29:39+00:00",
          "2023-02-07T21:28:53+00:00",
          "2023-01-31T21:30:05+00:00",
          "2023-01-24T21:30:28+00:00",
          "2023-01-17T21:30:37+00:00",
          "2023-01-10T21:31:35+00:00",
          "2023-01-03T21:32:57+00:00",
          "2022-12-27T21:27:51+00:00",
          "2022-12-20T20:42:47+00:00",
          "2022-12-13T21:29:54+00:00",
          "2022-12-06T21:28:58+00:00",
          "2022-11-22T21:27:07+00:00",
          "2022-11-15T21:30:16+00:00",
          "2022-11-08T21:30:52+00:00",
          "2022-11-01T20:28:40+00:00",
          "2022-10-11T20:30:02+00:00",
          "2022-10-04T20:31:08+00:00",
          "2022-09-27T20:31:56+00:00",
          "2022-09-20T20:30:42+00:00",
          "2022-09-13T20:29:52+00:00",
          "2022-09-06T20:33:20+00:00",
          "2022-08-23T15:15:41+00:00",
          "2022-08-16T15:16:02+00:00",
          "2022-08-09T15:16:02+00:00",
          "2022-07-26T15:00:13+00:00",
          "2022-07-19T15:16:11+00:00",
          "2022-07-05T15:14:29+00:00",
          "2022-06-13T18:57:00+00:00",
          "2022-05-15T12:25:00+00:00",
          "2022-04-23T14:45:04+00:00",
          "2022-04-02T14:39:23+00:00",
          "2022-03-12T15:37:55+00:00",
          "2022-03-05T14:15:01+00:00",
          "2022-02-19T16:45:02+00:00",
          "2022-02-05T17:12:52+00:00",
          "2022-01-29T16:45:59+00:00",
          "2022-01-22T16:46:08+00:00",
          "2022-01-06T23:45:00+00:00",
          "2022-01-01T16:40:00+00:00",
          "2021-12-18T16:00:12+00:00",
          "2021-12-11T17:15:01+00:00",
          "2021-12-03T00:15:00+00:00",
          "2021-11-27T00:00:04+00:00",
          "2021-11-18T00:00:01+00:00",
          "2021-11-11T00:00:26+00:00",
          "2021-11-04T21:00:04+00:00",
          "2021-10-21T16:15:03+00:00",
          "2021-10-14T16:15:00+00:00",
          "2021-09-30T16:15:05+00:00",
          "2021-09-25T16:15:00+00:00",
          "2021-09-23T16:15:00+00:00",
          "2021-09-18T16:15:01+00:00",
          "2021-09-02T16:15:01+00:00",
          "2021-08-28T16:15:01+00:00",
          "2021-08-21T16:30:00+00:00",
          "2021-08-17T16:00:14+00:00",
          "2021-08-14T14:30:10+00:00",
          "2021-08-12T16:00:15+00:00",
          "2021-08-10T16:00:04+00:00",
          "2021-08-05T16:00:33+00:00",
          "2021-08-03T16:00:24+00:00",
          "2021-07-29T16:00:09+00:00",
          "2021-07-27T15:00:05+00:00",
          "2021-07-22T16:00:26+00:00",
          "2021-07-20T15:00:24+00:00",
          "2021-07-15T16:00:22+00:00",
          "2021-07-13T14:07:45+00:00",
          "2021-06-29T14:33:57+00:00",
          "2021-06-22T15:08:12+00:00",
          "2021-06-15T14:02:27+00:00",
          "2021-06-08T14:00:16+00:00",
          "2021-06-01T14:00:09+00:00",
          "2021-05-25T21:00:14+00:00",
          "2021-05-21T17:49:23+00:00",
          "2021-05-18T21:00:32+00:00",
          "2021-05-11T21:00:07+00:00",
          "2021-05-04T20:59:35+00:00",
          "2021-04-27T21:00:30+00:00",
          "2021-04-20T19:05:21+00:00",
          "2021-04-17T22:00:15+00:00",
          "2021-04-14T21:00:19+00:00",
          "2021-04-12T16:00:03+00:00",
          "2021-03-31T21:30:02+00:00",
          "2021-03-29T19:00:14+00:00",
          "2021-03-24T21:30:16+00:00",
          "2021-03-22T19:00:16+00:00",
          "2021-03-18T22:00:01+00:00",
          "2021-03-15T19:00:00+00:00",
          "2021-03-12T16:30:06+00:00",
          "2021-03-11T23:00:12+00:00",
          "2021-03-05T21:00:06+00:00",
          "2021-02-28T23:15:00+00:00",
          "2021-02-22T16:57:08+00:00",
          "2021-02-19T22:00:07+00:00",
          "2021-02-12T21:00:06+00:00",
          "2021-02-08T19:15:00+00:00",
          "2021-02-05T21:00:13+00:00",
          "2021-02-01T19:00:08+00:00",
          "2021-01-29T20:45:00+00:00",
          "2021-01-24T00:00:02+00:00",
          "2021-01-20T19:30:01+00:00",
          "2021-01-17T19:15:00+00:00",
          "2021-01-07T18:00:00+00:00",
          "2021-01-01T19:30:02+00:00",
          "2020-12-26T18:30:10+00:00",
          "2020-12-21T19:59:07+00:00",
          "2020-12-09T19:45:00+00:00",
          "2020-12-05T13:00:12+00:00",
          "2020-11-26T16:22:31+00:00",
          "2020-11-15T19:57:13+00:00",
          "2020-11-14T16:28:26+00:00",
          "2020-10-12T23:10:52+00:00",
          "2020-10-03T03:23:41+00:00",
          "2020-09-29T02:03:43+00:00",
          "2020-09-19T01:55:53+00:00",
          "2020-09-13T23:37:40+00:00",
          "2020-09-08T02:22:36+00:00",
          "2020-09-04T23:06:47+00:00",
          "2020-09-01T16:46:31+00:00",
          "2020-08-27T16:32:36+00:00",
          "2020-08-26T14:56:44+00:00",
          "2020-08-22T14:27:50+00:00",
          "2020-08-20T13:32:10+00:00",
          "2020-08-19T01:00:46+00:00",
          "2020-08-15T17:46:28+00:00",
          "2020-08-12T22:22:07+00:00",
          "2020-08-08T21:06:13+00:00",
          "2020-08-06T02:47:06+00:00",
          "2020-08-04T18:13:30+00:00",
          "2020-08-02T21:53:18+00:00",
          "2020-07-30T21:53:03+00:00",
          "2020-07-25T02:30:14+00:00",
          "2020-07-20T22:36:35+00:00",
          "2020-07-14T22:07:04+00:00",
          "2020-07-12T21:21:03+00:00",
          "2020-07-06T02:45:55+00:00",
          "2020-06-30T03:18:38+00:00",
          "2020-06-10T04:00:10+00:00",
          "2020-06-07T14:00:13+00:00",
          "2020-06-06T18:51:38+00:00",
          "2020-06-03T21:30:09+00:00",
          "2020-05-30T13:59:31+00:00",
          "2020-05-28T03:02:37+00:00",
          "2020-05-23T04:02:50+00:00",
          "2020-05-19T15:28:38+00:00",
          "2020-05-18T14:42:27+00:00",
          "2020-05-10T02:22:16+00:00",
          "2020-05-08T04:11:12+00:00",
          "2020-05-05T15:55:36+00:00",
          "2020-04-30T21:43:58+00:00",
          "2020-04-25T02:06:16+00:00",
          "2020-04-21T23:16:36+00:00",
          "2020-04-19T02:20:56+00:00",
          "2020-04-13T15:37:39+00:00",
          "2020-04-09T03:23:20+00:00",
          "2020-04-05T20:27:29+00:00",
          "2020-03-31T00:41:52+00:00",
          "2020-03-28T21:48:41+00:00",
          "2020-03-26T20:03:27+00:00",
          "2020-03-21T01:54:15+00:00",
          "2020-03-14T17:28:49+00:00",
          "2020-03-14T00:43:50+00:00",
          "2020-03-08T00:41:11+00:00",
          "2020-01-25T23:39:51+00:00",
          "2020-01-19T23:37:02+00:00",
          "2019-12-31T04:45:06+00:00",
          "2019-12-29T22:00:28+00:00",
          "2019-12-02T00:28:33+00:00",
          "2019-11-07T02:18:25+00:00",
          "2019-11-03T01:30:15+00:00",
          "2019-10-31T02:31:36+00:00",
          "2019-10-14T00:19:36+00:00",
          "2019-10-13T21:45:52+00:00",
          "2019-10-12T17:29:57+00:00",
          "2019-10-06T18:53:39+00:00",
          "2019-10-01T22:09:32+00:00",
          "2019-09-23T21:19:10+00:00",
          "2019-09-15T18:20:31+00:00",
          "2019-08-30T22:02:51+00:00",
          "2019-08-28T19:24:27+00:00",
          "2019-08-26T02:20:38+00:00",
          "2019-08-23T17:18:47+00:00",
          "2019-08-23T00:37:39+00:00",
          "2019-08-22T22:13:07+00:00",
          "2019-07-27T17:13:55+00:00",
          "2019-07-21T18:34:13+00:00",
          "2019-06-30T13:31:55+00:00",
          "2019-06-29T23:07:24+00:00",
          "2019-06-27T22:47:57+00:00",
          "2019-06-17T15:41:20+00:00",
          "2019-06-15T21:04:34+00:00",
          "2019-06-14T18:57:06+00:00",
          "2019-06-12T22:35:01+00:00",
          "2019-06-09T23:11:34+00:00",
          "2019-06-06T02:14:56+00:00",
          "2019-06-04T17:59:48+00:00",
          "2019-06-02T02:28:18+00:00",
          "2019-05-25T20:48:24+00:00",
          "2019-05-19T13:29:45+00:00",
          "2019-05-13T02:58:37+00:00",
          "2019-05-11T20:51:16+00:00",
          "2019-05-04T23:35:34+00:00",
          "2019-04-18T00:30:35+00:00",
          "2019-04-12T01:53:50+00:00",
          "2019-04-09T03:05:09+00:00",
          "2019-04-08T01:44:48+00:00",
          "2019-04-05T03:01:14+00:00",
          "2019-04-04T02:43:16+00:00",
          "2019-04-01T15:26:50+00:00",
          "2019-03-31T19:04:58+00:00",
          "2019-03-30T16:47:20+00:00",
          "2019-03-30T03:24:52+00:00",
          "2019-03-23T13:46:07+00:00",
          "2019-03-18T01:53:20+00:00",
          "2019-03-17T03:20:49+00:00",
          "2019-03-16T14:44:54+00:00",
          "2019-03-11T01:32:11+00:00",
          "2019-03-08T22:10:33+00:00",
          "2019-02-16T15:22:40+00:00",
          "2019-02-10T03:52:01+00:00",
          "2019-01-27T23:06:51+00:00",
          "2019-01-20T19:32:41+00:00",
          "2019-01-06T22:47:12+00:00",
          "2018-12-24T05:46:17+00:00",
          "2018-12-21T00:07:13+00:00",
          "2018-12-16T18:17:35+00:00",
          "2018-12-08T03:21:50+00:00"
         ],
         "xaxis": "x",
         "y": [
          3828,
          24384,
          21502,
          62998,
          20648,
          26745,
          24532,
          33461,
          29348,
          27109,
          48812,
          64768,
          67412,
          56066,
          56167,
          67022,
          51980,
          37688,
          50620,
          75640,
          67928,
          23190,
          27700,
          78740,
          58295,
          31536,
          11921,
          31573,
          24808,
          27869,
          20145,
          50776,
          7990,
          6753,
          10954,
          11367,
          16948,
          7181,
          20924,
          25579,
          13237,
          26458,
          53821,
          39009,
          34005,
          50234,
          34763,
          83479,
          67382,
          29000,
          47013,
          21638,
          58120,
          13446,
          63937,
          32434,
          50875,
          69033,
          11743,
          27333,
          10555,
          41091,
          48929,
          12133,
          7156,
          23252,
          73942,
          12135,
          6388,
          9547,
          57797,
          11812,
          15712,
          16348,
          33615,
          32459,
          29498,
          55505,
          72931,
          53334,
          10656,
          17212,
          63055,
          12438,
          68380,
          53772,
          32224,
          55628,
          13023,
          9097,
          6726,
          2266,
          2419,
          12543,
          22097,
          25362,
          18134,
          44999,
          5511,
          4915,
          2262,
          5510,
          4873,
          4570,
          2130,
          7685,
          3647,
          1182,
          2263,
          2235,
          9829,
          2053,
          4014,
          6291,
          1584,
          3556,
          2550,
          1219,
          848,
          1342,
          1683,
          1642,
          3380,
          1605,
          1451,
          5987,
          1000,
          1623,
          1845,
          1503,
          1320,
          12653,
          3506,
          1133,
          1442,
          2855,
          31662,
          4225,
          1108,
          3762,
          1258,
          1936,
          4349,
          924,
          22866,
          1410,
          901,
          858,
          1733,
          1279,
          1571,
          11900,
          6700,
          5066,
          6309,
          4140,
          4667,
          753,
          2143,
          575,
          4813,
          479,
          661,
          497,
          760,
          20695,
          424,
          342,
          1255,
          347,
          367,
          3231,
          12173,
          221,
          151,
          555,
          4267,
          653,
          188,
          657,
          145,
          190,
          618,
          2946,
          8935,
          1507,
          183,
          172,
          272,
          116,
          363,
          144,
          134,
          857,
          218,
          140,
          176,
          1509,
          345,
          1039,
          5680,
          223,
          176,
          5480,
          249,
          304,
          121,
          193,
          328,
          164,
          366,
          330,
          316,
          426,
          175,
          739,
          285,
          156,
          676,
          161,
          744,
          32075,
          123,
          3358,
          133,
          423,
          222,
          764,
          210,
          311,
          117,
          439,
          119,
          116,
          122,
          142,
          355,
          142,
          228,
          236,
          686,
          186,
          482,
          295,
          290,
          215,
          328,
          586,
          538,
          327,
          434,
          527,
          3638
         ],
         "yaxis": "y"
        },
        {
         "customdata": [
          [
           "The YinTin's First Tournament! (WE WON)",
           11.63
          ],
          [
           "I Built A PREMIUM Pond Hopping Tackle Box!!",
           18.52
          ],
          [
           "I Tried Fishing With GIANT Worms!! (NEW PB)",
           11.3
          ],
          [
           "I Went Fishing With Realistic Baits!!",
           11.87
          ],
          [
           "Taking The YinTin Fishing!!",
           15.85
          ],
          [
           "I Went Fishing With The Stinkiest Baits!!",
           11
          ],
          [
           "I Went Fishing With A LEGENDARY Baitcaster!",
           14.18
          ],
          [
           "I Bought Amazon's BEST RATED Telescopic Rods!",
           13.55
          ],
          [
           "I Went Fishing With The Kraziest Looking Combos",
           10.1
          ],
          [
           "Surviving 48 Hours In The Woods",
           19.7
          ],
          [
           "I Gave Myself 2 Days To Break My PB",
           11.42
          ],
          [
           "I Fished Florida’s Best Private Lakes!",
           12.67
          ],
          [
           "Fishing Big Swimbaits For 24 Hours!",
           17.15
          ],
          [
           "He Got Me Into Fishing!",
           11.55
          ],
          [
           "The Best Lake I've Ever Fished..",
           17.42
          ],
          [
           "I Went Fishing With My Old Gear..",
           12.17
          ],
          [
           "I Got A Fishing Paddle Board!!",
           14.12
          ],
          [
           "Pick Any Baitcasting Combo and I'll Buy It For You!!",
           11.22
          ],
          [
           "We Fished With DC Reels Only...",
           10.45
          ],
          [
           "GOOGLE MAPS Pond Was LOADED With Fish!!",
           10.08
          ],
          [
           "MICRO Fishing A PUDDLE! (Insanely Difficult)",
           8.23
          ]
         ],
         "hovertemplate": "performance=Hit<br>publishTime=%{x}<br>views=%{y}<br>title=%{customdata[0]}<br>duration_min=%{customdata[1]}<extra></extra>",
         "legendgroup": "Hit",
         "marker": {
          "color": "#EB6440",
          "symbol": "circle"
         },
         "mode": "markers",
         "name": "Hit",
         "orientation": "v",
         "showlegend": true,
         "type": "scatter",
         "x": [
          "2023-07-18T20:30:48+00:00",
          "2023-07-04T20:23:20+00:00",
          "2023-06-27T20:32:56+00:00",
          "2023-05-09T20:30:33+00:00",
          "2023-05-02T20:30:13+00:00",
          "2023-03-28T20:28:55+00:00",
          "2023-03-07T21:27:28+00:00",
          "2022-10-25T20:30:58+00:00",
          "2022-06-21T15:00:54+00:00",
          "2022-05-29T12:20:01+00:00",
          "2022-05-01T12:15:02+00:00",
          "2022-04-09T14:40:00+00:00",
          "2022-03-19T14:45:03+00:00",
          "2021-10-28T16:15:00+00:00",
          "2021-10-07T16:15:01+00:00",
          "2021-09-09T16:15:03+00:00",
          "2021-09-04T16:15:00+00:00",
          "2021-08-26T16:15:01+00:00",
          "2021-08-19T16:15:30+00:00",
          "2021-05-30T23:49:49+00:00",
          "2021-05-17T00:00:05+00:00"
         ],
         "xaxis": "x",
         "y": [
          313788,
          114668,
          156000,
          211174,
          99098,
          153250,
          111025,
          88924,
          512758,
          164927,
          193999,
          147101,
          100290,
          87817,
          115375,
          203455,
          131274,
          111808,
          112183,
          265437,
          269078
         ],
         "yaxis": "y"
        },
        {
         "hovertemplate": "publishTime=%{x}<br>normal_rolling_average=%{y}<extra></extra>",
         "legendgroup": "",
         "line": {
          "color": "#497174",
          "dash": "solid"
         },
         "marker": {
          "symbol": "circle"
         },
         "mode": "lines",
         "name": "",
         "orientation": "v",
         "showlegend": false,
         "type": "scatter",
         "x": [
          "2023-10-24T20:29:54+00:00",
          "2023-10-17T20:31:32+00:00",
          "2023-10-03T20:28:46+00:00",
          "2023-09-26T20:31:59+00:00",
          "2023-09-19T20:27:47+00:00",
          "2023-09-12T20:27:20+00:00",
          "2023-09-05T20:26:58+00:00",
          "2023-08-29T20:28:20+00:00",
          "2023-08-22T20:30:24+00:00",
          "2023-08-15T20:28:45+00:00",
          "2023-08-01T20:28:10+00:00",
          "2023-07-25T20:28:26+00:00",
          "2023-07-11T20:28:53+00:00",
          "2023-06-20T20:27:18+00:00",
          "2023-06-13T20:29:39+00:00",
          "2023-06-06T20:29:04+00:00",
          "2023-05-30T20:28:22+00:00",
          "2023-05-23T20:28:25+00:00",
          "2023-05-16T20:30:34+00:00",
          "2023-04-25T20:29:23+00:00",
          "2023-04-11T20:28:40+00:00",
          "2023-04-04T20:29:52+00:00",
          "2023-03-21T20:28:39+00:00",
          "2023-03-14T20:29:56+00:00",
          "2023-02-28T21:29:26+00:00",
          "2023-02-21T21:28:20+00:00",
          "2023-02-14T21:29:39+00:00",
          "2023-02-07T21:28:53+00:00",
          "2023-01-31T21:30:05+00:00",
          "2023-01-24T21:30:28+00:00",
          "2023-01-17T21:30:37+00:00",
          "2023-01-10T21:31:35+00:00",
          "2023-01-03T21:32:57+00:00",
          "2022-12-27T21:27:51+00:00",
          "2022-12-20T20:42:47+00:00",
          "2022-12-13T21:29:54+00:00",
          "2022-12-06T21:28:58+00:00",
          "2022-11-22T21:27:07+00:00",
          "2022-11-15T21:30:16+00:00",
          "2022-11-08T21:30:52+00:00",
          "2022-11-01T20:28:40+00:00",
          "2022-10-11T20:30:02+00:00",
          "2022-10-04T20:31:08+00:00",
          "2022-09-27T20:31:56+00:00",
          "2022-09-20T20:30:42+00:00",
          "2022-09-13T20:29:52+00:00",
          "2022-09-06T20:33:20+00:00",
          "2022-08-23T15:15:41+00:00",
          "2022-08-16T15:16:02+00:00",
          "2022-08-09T15:16:02+00:00",
          "2022-07-26T15:00:13+00:00",
          "2022-07-19T15:16:11+00:00",
          "2022-07-05T15:14:29+00:00",
          "2022-06-13T18:57:00+00:00",
          "2022-05-15T12:25:00+00:00",
          "2022-04-23T14:45:04+00:00",
          "2022-04-02T14:39:23+00:00",
          "2022-03-12T15:37:55+00:00",
          "2022-03-05T14:15:01+00:00",
          "2022-02-19T16:45:02+00:00",
          "2022-02-05T17:12:52+00:00",
          "2022-01-29T16:45:59+00:00",
          "2022-01-22T16:46:08+00:00",
          "2022-01-06T23:45:00+00:00",
          "2022-01-01T16:40:00+00:00",
          "2021-12-18T16:00:12+00:00",
          "2021-12-11T17:15:01+00:00",
          "2021-12-03T00:15:00+00:00",
          "2021-11-27T00:00:04+00:00",
          "2021-11-18T00:00:01+00:00",
          "2021-11-11T00:00:26+00:00",
          "2021-11-04T21:00:04+00:00",
          "2021-10-21T16:15:03+00:00",
          "2021-10-14T16:15:00+00:00",
          "2021-09-30T16:15:05+00:00",
          "2021-09-25T16:15:00+00:00",
          "2021-09-23T16:15:00+00:00",
          "2021-09-18T16:15:01+00:00",
          "2021-09-02T16:15:01+00:00",
          "2021-08-28T16:15:01+00:00",
          "2021-08-21T16:30:00+00:00",
          "2021-08-17T16:00:14+00:00",
          "2021-08-14T14:30:10+00:00",
          "2021-08-12T16:00:15+00:00",
          "2021-08-10T16:00:04+00:00",
          "2021-08-05T16:00:33+00:00",
          "2021-08-03T16:00:24+00:00",
          "2021-07-29T16:00:09+00:00",
          "2021-07-27T15:00:05+00:00",
          "2021-07-22T16:00:26+00:00",
          "2021-07-20T15:00:24+00:00",
          "2021-07-15T16:00:22+00:00",
          "2021-07-13T14:07:45+00:00",
          "2021-06-29T14:33:57+00:00",
          "2021-06-22T15:08:12+00:00",
          "2021-06-15T14:02:27+00:00",
          "2021-06-08T14:00:16+00:00",
          "2021-06-01T14:00:09+00:00",
          "2021-05-25T21:00:14+00:00",
          "2021-05-21T17:49:23+00:00",
          "2021-05-18T21:00:32+00:00",
          "2021-05-11T21:00:07+00:00",
          "2021-05-04T20:59:35+00:00",
          "2021-04-27T21:00:30+00:00",
          "2021-04-20T19:05:21+00:00",
          "2021-04-17T22:00:15+00:00",
          "2021-04-14T21:00:19+00:00",
          "2021-04-12T16:00:03+00:00",
          "2021-03-31T21:30:02+00:00",
          "2021-03-29T19:00:14+00:00",
          "2021-03-24T21:30:16+00:00",
          "2021-03-22T19:00:16+00:00",
          "2021-03-18T22:00:01+00:00",
          "2021-03-15T19:00:00+00:00",
          "2021-03-12T16:30:06+00:00",
          "2021-03-11T23:00:12+00:00",
          "2021-03-05T21:00:06+00:00",
          "2021-02-28T23:15:00+00:00",
          "2021-02-22T16:57:08+00:00",
          "2021-02-19T22:00:07+00:00",
          "2021-02-12T21:00:06+00:00",
          "2021-02-08T19:15:00+00:00",
          "2021-02-05T21:00:13+00:00",
          "2021-02-01T19:00:08+00:00",
          "2021-01-29T20:45:00+00:00",
          "2021-01-24T00:00:02+00:00",
          "2021-01-20T19:30:01+00:00",
          "2021-01-17T19:15:00+00:00",
          "2021-01-07T18:00:00+00:00",
          "2021-01-01T19:30:02+00:00",
          "2020-12-26T18:30:10+00:00",
          "2020-12-21T19:59:07+00:00",
          "2020-12-09T19:45:00+00:00",
          "2020-12-05T13:00:12+00:00",
          "2020-11-26T16:22:31+00:00",
          "2020-11-15T19:57:13+00:00",
          "2020-11-14T16:28:26+00:00",
          "2020-10-12T23:10:52+00:00",
          "2020-10-03T03:23:41+00:00",
          "2020-09-29T02:03:43+00:00",
          "2020-09-19T01:55:53+00:00",
          "2020-09-13T23:37:40+00:00",
          "2020-09-08T02:22:36+00:00",
          "2020-09-04T23:06:47+00:00",
          "2020-09-01T16:46:31+00:00",
          "2020-08-27T16:32:36+00:00",
          "2020-08-26T14:56:44+00:00",
          "2020-08-22T14:27:50+00:00",
          "2020-08-20T13:32:10+00:00",
          "2020-08-19T01:00:46+00:00",
          "2020-08-15T17:46:28+00:00",
          "2020-08-12T22:22:07+00:00",
          "2020-08-08T21:06:13+00:00",
          "2020-08-06T02:47:06+00:00",
          "2020-08-04T18:13:30+00:00",
          "2020-08-02T21:53:18+00:00",
          "2020-07-30T21:53:03+00:00",
          "2020-07-25T02:30:14+00:00",
          "2020-07-20T22:36:35+00:00",
          "2020-07-14T22:07:04+00:00",
          "2020-07-12T21:21:03+00:00",
          "2020-07-06T02:45:55+00:00",
          "2020-06-30T03:18:38+00:00",
          "2020-06-10T04:00:10+00:00",
          "2020-06-07T14:00:13+00:00",
          "2020-06-06T18:51:38+00:00",
          "2020-06-03T21:30:09+00:00",
          "2020-05-30T13:59:31+00:00",
          "2020-05-28T03:02:37+00:00",
          "2020-05-23T04:02:50+00:00",
          "2020-05-19T15:28:38+00:00",
          "2020-05-18T14:42:27+00:00",
          "2020-05-10T02:22:16+00:00",
          "2020-05-08T04:11:12+00:00",
          "2020-05-05T15:55:36+00:00",
          "2020-04-30T21:43:58+00:00",
          "2020-04-25T02:06:16+00:00",
          "2020-04-21T23:16:36+00:00",
          "2020-04-19T02:20:56+00:00",
          "2020-04-13T15:37:39+00:00",
          "2020-04-09T03:23:20+00:00",
          "2020-04-05T20:27:29+00:00",
          "2020-03-31T00:41:52+00:00",
          "2020-03-28T21:48:41+00:00",
          "2020-03-26T20:03:27+00:00",
          "2020-03-21T01:54:15+00:00",
          "2020-03-14T17:28:49+00:00",
          "2020-03-14T00:43:50+00:00",
          "2020-03-08T00:41:11+00:00",
          "2020-01-25T23:39:51+00:00",
          "2020-01-19T23:37:02+00:00",
          "2019-12-31T04:45:06+00:00",
          "2019-12-29T22:00:28+00:00",
          "2019-12-02T00:28:33+00:00",
          "2019-11-07T02:18:25+00:00",
          "2019-11-03T01:30:15+00:00",
          "2019-10-31T02:31:36+00:00",
          "2019-10-14T00:19:36+00:00",
          "2019-10-13T21:45:52+00:00",
          "2019-10-12T17:29:57+00:00",
          "2019-10-06T18:53:39+00:00",
          "2019-10-01T22:09:32+00:00",
          "2019-09-23T21:19:10+00:00",
          "2019-09-15T18:20:31+00:00",
          "2019-08-30T22:02:51+00:00",
          "2019-08-28T19:24:27+00:00",
          "2019-08-26T02:20:38+00:00",
          "2019-08-23T17:18:47+00:00",
          "2019-08-23T00:37:39+00:00",
          "2019-08-22T22:13:07+00:00",
          "2019-07-27T17:13:55+00:00",
          "2019-07-21T18:34:13+00:00",
          "2019-06-30T13:31:55+00:00",
          "2019-06-29T23:07:24+00:00",
          "2019-06-27T22:47:57+00:00",
          "2019-06-17T15:41:20+00:00",
          "2019-06-15T21:04:34+00:00",
          "2019-06-14T18:57:06+00:00",
          "2019-06-12T22:35:01+00:00",
          "2019-06-09T23:11:34+00:00",
          "2019-06-06T02:14:56+00:00",
          "2019-06-04T17:59:48+00:00",
          "2019-06-02T02:28:18+00:00",
          "2019-05-25T20:48:24+00:00",
          "2019-05-19T13:29:45+00:00",
          "2019-05-13T02:58:37+00:00",
          "2019-05-11T20:51:16+00:00",
          "2019-05-04T23:35:34+00:00",
          "2019-04-18T00:30:35+00:00",
          "2019-04-12T01:53:50+00:00",
          "2019-04-09T03:05:09+00:00",
          "2019-04-08T01:44:48+00:00",
          "2019-04-05T03:01:14+00:00",
          "2019-04-04T02:43:16+00:00",
          "2019-04-01T15:26:50+00:00",
          "2019-03-31T19:04:58+00:00",
          "2019-03-30T16:47:20+00:00",
          "2019-03-30T03:24:52+00:00",
          "2019-03-23T13:46:07+00:00",
          "2019-03-18T01:53:20+00:00",
          "2019-03-17T03:20:49+00:00",
          "2019-03-16T14:44:54+00:00",
          "2019-03-11T01:32:11+00:00",
          "2019-03-08T22:10:33+00:00",
          "2019-02-16T15:22:40+00:00",
          "2019-02-10T03:52:01+00:00",
          "2019-01-27T23:06:51+00:00",
          "2019-01-20T19:32:41+00:00",
          "2019-01-06T22:47:12+00:00",
          "2018-12-24T05:46:17+00:00",
          "2018-12-21T00:07:13+00:00",
          "2018-12-16T18:17:35+00:00",
          "2018-12-08T03:21:50+00:00"
         ],
         "xaxis": "x",
         "y": [
          null,
          null,
          null,
          null,
          null,
          null,
          null,
          null,
          null,
          null,
          null,
          32344.583333333332,
          37643.25,
          40283.416666666664,
          43172.166666666664,
          43507.5,
          46118.5,
          47030.416666666664,
          49204.416666666664,
          52719.333333333336,
          55934.333333333336,
          55607.75,
          53848.416666666664,
          55012.75,
          54253,
          52208.833333333336,
          48521.666666666664,
          45567.583333333336,
          43303.25,
          42485,
          39945.416666666664,
          37873.416666666664,
          32878.583333333336,
          31508.833333333332,
          30113.333333333332,
          24498.916666666668,
          21053.333333333332,
          19023.75,
          19774,
          19274.5,
          18310.25,
          18192.666666666668,
          20999,
          20018.416666666668,
          22186.333333333332,
          25809.75,
          27793.833333333332,
          33803.166666666664,
          38006,
          39824.25,
          41998.333333333336,
          41669.916666666664,
          45410.166666666664,
          44325.833333333336,
          45168.833333333336,
          44620.916666666664,
          46026.75,
          47593.333333333336,
          45675,
          40996.166666666664,
          36260.583333333336,
          37268.166666666664,
          37427.833333333336,
          36635.75,
          32388.75,
          33205.916666666664,
          34039.666666666664,
          32348.083333333332,
          28640.833333333332,
          23683.666666666668,
          27521.5,
          26228.083333333332,
          26657.833333333332,
          24595.916666666668,
          23319.75,
          25013.583333333332,
          26875.416666666668,
          29563.166666666668,
          29478.916666666668,
          32912.166666666664,
          33267.833333333336,
          33906.583333333336,
          34344.75,
          34396.916666666664,
          38785.916666666664,
          41904.583333333336,
          41788.666666666664,
          43719.416666666664,
          42346.5,
          38479.166666666664,
          32962.083333333336,
          28706.416666666668,
          28020,
          27630.916666666668,
          24217.75,
          25294.75,
          21107.583333333332,
          20376.5,
          18150.416666666668,
          13924.333333333334,
          13027.583333333334,
          12728.666666666666,
          12574.25,
          12766.25,
          12742.166666666666,
          12337.333333333334,
          10799.833333333334,
          8784.833333333334,
          7462.25,
          3898.5833333333335,
          4258.416666666667,
          4019.9166666666665,
          4165.916666666667,
          4231,
          3956.9166666666665,
          3872.4166666666665,
          3907.4166666666665,
          3368.5833333333335,
          3135.3333333333335,
          3148.6666666666665,
          3100.3333333333335,
          3050.9166666666665,
          2513.5,
          2476.1666666666665,
          2262.5833333333335,
          2237.25,
          2188.5833333333335,
          2027.5,
          1968.75,
          1992.4166666666667,
          2031.75,
          2974.3333333333335,
          3126.25,
          3083.8333333333335,
          2922.3333333333335,
          3026.5,
          5544.083333333333,
          5397.25,
          5406.25,
          5584.5,
          5535.583333333333,
          5571.666666666667,
          5824.083333333333,
          4846.666666666667,
          6460,
          6483.083333333333,
          6438,
          6271.583333333333,
          3777.5,
          3532,
          3570.5833333333335,
          4248.75,
          4702.25,
          4963.083333333333,
          5126.416666666667,
          5394.416666666667,
          3877.8333333333335,
          3823.0833333333335,
          3926.5833333333335,
          3903,
          4159.666666666667,
          4093,
          4017.1666666666665,
          3066.9166666666665,
          2571.9166666666665,
          3874.3333333333335,
          3383.9166666666665,
          3067.4166666666665,
          2783.0833333333335,
          2749.25,
          2601.25,
          2822.5833333333335,
          3435.9166666666665,
          3414.4166666666665,
          3371.9166666666665,
          3376.75,
          3669,
          1998.8333333333333,
          1979.1666666666667,
          2005.4166666666667,
          1912.9166666666667,
          1899.8333333333333,
          1920.75,
          1897,
          1627.1666666666667,
          1734.3333333333333,
          1737,
          1705.0833333333333,
          1372.1666666666667,
          1327.4166666666667,
          1342,
          1299.25,
          1298.3333333333333,
          1353.9166666666667,
          1320.5833333333333,
          1086.75,
          356.8333333333333,
          357,
          370.5,
          442.75,
          893.4166666666666,
          902.3333333333334,
          886.75,
          1331.4166666666667,
          1341,
          1294.9166666666667,
          1286.8333333333333,
          1291.25,
          1303.9166666666667,
          1191.8333333333333,
          1193.5833333333333,
          1134.5,
          687.5,
          704.4166666666666,
          704.3333333333334,
          309.25,
          312.25,
          299.9166666666667,
          346.1666666666667,
          343.5,
          378.1666666666667,
          3037.4166666666665,
          3017.1666666666665,
          3269.5,
          3254.25,
          3254,
          3257.9166666666665,
          3260,
          3253.75,
          3266.6666666666665,
          3220.0833333333335,
          3243.25,
          3191.1666666666665,
          527.9166666666666,
          527.8333333333334,
          259.8333333333333,
          278.3333333333333,
          254.91666666666666,
          255.41666666666666,
          211.41666666666666,
          251.08333333333334,
          240.66666666666666,
          271.0833333333333,
          259.0833333333333,
          273.3333333333333,
          281.5833333333333,
          298.75,
          335.75,
          351,
          366.4166666666667,
          383.5833333333333,
          407.8333333333333,
          653.8333333333334
         ],
         "yaxis": "y"
        }
       ],
       "layout": {
        "height": 600,
        "legend": {
         "itemsizing": "constant",
         "title": {
          "text": "Performance"
         },
         "traceorder": "reversed"
        },
        "plot_bgcolor": "#D6E4E5",
        "template": {
         "data": {
          "bar": [
           {
            "error_x": {
             "color": "#2a3f5f"
            },
            "error_y": {
             "color": "#2a3f5f"
            },
            "marker": {
             "line": {
              "color": "#E5ECF6",
              "width": 0.5
             },
             "pattern": {
              "fillmode": "overlay",
              "size": 10,
              "solidity": 0.2
             }
            },
            "type": "bar"
           }
          ],
          "barpolar": [
           {
            "marker": {
             "line": {
              "color": "#E5ECF6",
              "width": 0.5
             },
             "pattern": {
              "fillmode": "overlay",
              "size": 10,
              "solidity": 0.2
             }
            },
            "type": "barpolar"
           }
          ],
          "carpet": [
           {
            "aaxis": {
             "endlinecolor": "#2a3f5f",
             "gridcolor": "white",
             "linecolor": "white",
             "minorgridcolor": "white",
             "startlinecolor": "#2a3f5f"
            },
            "baxis": {
             "endlinecolor": "#2a3f5f",
             "gridcolor": "white",
             "linecolor": "white",
             "minorgridcolor": "white",
             "startlinecolor": "#2a3f5f"
            },
            "type": "carpet"
           }
          ],
          "choropleth": [
           {
            "colorbar": {
             "outlinewidth": 0,
             "ticks": ""
            },
            "type": "choropleth"
           }
          ],
          "contour": [
           {
            "colorbar": {
             "outlinewidth": 0,
             "ticks": ""
            },
            "colorscale": [
             [
              0,
              "#0d0887"
             ],
             [
              0.1111111111111111,
              "#46039f"
             ],
             [
              0.2222222222222222,
              "#7201a8"
             ],
             [
              0.3333333333333333,
              "#9c179e"
             ],
             [
              0.4444444444444444,
              "#bd3786"
             ],
             [
              0.5555555555555556,
              "#d8576b"
             ],
             [
              0.6666666666666666,
              "#ed7953"
             ],
             [
              0.7777777777777778,
              "#fb9f3a"
             ],
             [
              0.8888888888888888,
              "#fdca26"
             ],
             [
              1,
              "#f0f921"
             ]
            ],
            "type": "contour"
           }
          ],
          "contourcarpet": [
           {
            "colorbar": {
             "outlinewidth": 0,
             "ticks": ""
            },
            "type": "contourcarpet"
           }
          ],
          "heatmap": [
           {
            "colorbar": {
             "outlinewidth": 0,
             "ticks": ""
            },
            "colorscale": [
             [
              0,
              "#0d0887"
             ],
             [
              0.1111111111111111,
              "#46039f"
             ],
             [
              0.2222222222222222,
              "#7201a8"
             ],
             [
              0.3333333333333333,
              "#9c179e"
             ],
             [
              0.4444444444444444,
              "#bd3786"
             ],
             [
              0.5555555555555556,
              "#d8576b"
             ],
             [
              0.6666666666666666,
              "#ed7953"
             ],
             [
              0.7777777777777778,
              "#fb9f3a"
             ],
             [
              0.8888888888888888,
              "#fdca26"
             ],
             [
              1,
              "#f0f921"
             ]
            ],
            "type": "heatmap"
           }
          ],
          "heatmapgl": [
           {
            "colorbar": {
             "outlinewidth": 0,
             "ticks": ""
            },
            "colorscale": [
             [
              0,
              "#0d0887"
             ],
             [
              0.1111111111111111,
              "#46039f"
             ],
             [
              0.2222222222222222,
              "#7201a8"
             ],
             [
              0.3333333333333333,
              "#9c179e"
             ],
             [
              0.4444444444444444,
              "#bd3786"
             ],
             [
              0.5555555555555556,
              "#d8576b"
             ],
             [
              0.6666666666666666,
              "#ed7953"
             ],
             [
              0.7777777777777778,
              "#fb9f3a"
             ],
             [
              0.8888888888888888,
              "#fdca26"
             ],
             [
              1,
              "#f0f921"
             ]
            ],
            "type": "heatmapgl"
           }
          ],
          "histogram": [
           {
            "marker": {
             "pattern": {
              "fillmode": "overlay",
              "size": 10,
              "solidity": 0.2
             }
            },
            "type": "histogram"
           }
          ],
          "histogram2d": [
           {
            "colorbar": {
             "outlinewidth": 0,
             "ticks": ""
            },
            "colorscale": [
             [
              0,
              "#0d0887"
             ],
             [
              0.1111111111111111,
              "#46039f"
             ],
             [
              0.2222222222222222,
              "#7201a8"
             ],
             [
              0.3333333333333333,
              "#9c179e"
             ],
             [
              0.4444444444444444,
              "#bd3786"
             ],
             [
              0.5555555555555556,
              "#d8576b"
             ],
             [
              0.6666666666666666,
              "#ed7953"
             ],
             [
              0.7777777777777778,
              "#fb9f3a"
             ],
             [
              0.8888888888888888,
              "#fdca26"
             ],
             [
              1,
              "#f0f921"
             ]
            ],
            "type": "histogram2d"
           }
          ],
          "histogram2dcontour": [
           {
            "colorbar": {
             "outlinewidth": 0,
             "ticks": ""
            },
            "colorscale": [
             [
              0,
              "#0d0887"
             ],
             [
              0.1111111111111111,
              "#46039f"
             ],
             [
              0.2222222222222222,
              "#7201a8"
             ],
             [
              0.3333333333333333,
              "#9c179e"
             ],
             [
              0.4444444444444444,
              "#bd3786"
             ],
             [
              0.5555555555555556,
              "#d8576b"
             ],
             [
              0.6666666666666666,
              "#ed7953"
             ],
             [
              0.7777777777777778,
              "#fb9f3a"
             ],
             [
              0.8888888888888888,
              "#fdca26"
             ],
             [
              1,
              "#f0f921"
             ]
            ],
            "type": "histogram2dcontour"
           }
          ],
          "mesh3d": [
           {
            "colorbar": {
             "outlinewidth": 0,
             "ticks": ""
            },
            "type": "mesh3d"
           }
          ],
          "parcoords": [
           {
            "line": {
             "colorbar": {
              "outlinewidth": 0,
              "ticks": ""
             }
            },
            "type": "parcoords"
           }
          ],
          "pie": [
           {
            "automargin": true,
            "type": "pie"
           }
          ],
          "scatter": [
           {
            "fillpattern": {
             "fillmode": "overlay",
             "size": 10,
             "solidity": 0.2
            },
            "type": "scatter"
           }
          ],
          "scatter3d": [
           {
            "line": {
             "colorbar": {
              "outlinewidth": 0,
              "ticks": ""
             }
            },
            "marker": {
             "colorbar": {
              "outlinewidth": 0,
              "ticks": ""
             }
            },
            "type": "scatter3d"
           }
          ],
          "scattercarpet": [
           {
            "marker": {
             "colorbar": {
              "outlinewidth": 0,
              "ticks": ""
             }
            },
            "type": "scattercarpet"
           }
          ],
          "scattergeo": [
           {
            "marker": {
             "colorbar": {
              "outlinewidth": 0,
              "ticks": ""
             }
            },
            "type": "scattergeo"
           }
          ],
          "scattergl": [
           {
            "marker": {
             "colorbar": {
              "outlinewidth": 0,
              "ticks": ""
             }
            },
            "type": "scattergl"
           }
          ],
          "scattermapbox": [
           {
            "marker": {
             "colorbar": {
              "outlinewidth": 0,
              "ticks": ""
             }
            },
            "type": "scattermapbox"
           }
          ],
          "scatterpolar": [
           {
            "marker": {
             "colorbar": {
              "outlinewidth": 0,
              "ticks": ""
             }
            },
            "type": "scatterpolar"
           }
          ],
          "scatterpolargl": [
           {
            "marker": {
             "colorbar": {
              "outlinewidth": 0,
              "ticks": ""
             }
            },
            "type": "scatterpolargl"
           }
          ],
          "scatterternary": [
           {
            "marker": {
             "colorbar": {
              "outlinewidth": 0,
              "ticks": ""
             }
            },
            "type": "scatterternary"
           }
          ],
          "surface": [
           {
            "colorbar": {
             "outlinewidth": 0,
             "ticks": ""
            },
            "colorscale": [
             [
              0,
              "#0d0887"
             ],
             [
              0.1111111111111111,
              "#46039f"
             ],
             [
              0.2222222222222222,
              "#7201a8"
             ],
             [
              0.3333333333333333,
              "#9c179e"
             ],
             [
              0.4444444444444444,
              "#bd3786"
             ],
             [
              0.5555555555555556,
              "#d8576b"
             ],
             [
              0.6666666666666666,
              "#ed7953"
             ],
             [
              0.7777777777777778,
              "#fb9f3a"
             ],
             [
              0.8888888888888888,
              "#fdca26"
             ],
             [
              1,
              "#f0f921"
             ]
            ],
            "type": "surface"
           }
          ],
          "table": [
           {
            "cells": {
             "fill": {
              "color": "#EBF0F8"
             },
             "line": {
              "color": "white"
             }
            },
            "header": {
             "fill": {
              "color": "#C8D4E3"
             },
             "line": {
              "color": "white"
             }
            },
            "type": "table"
           }
          ]
         },
         "layout": {
          "annotationdefaults": {
           "arrowcolor": "#2a3f5f",
           "arrowhead": 0,
           "arrowwidth": 1
          },
          "autotypenumbers": "strict",
          "coloraxis": {
           "colorbar": {
            "outlinewidth": 0,
            "ticks": ""
           }
          },
          "colorscale": {
           "diverging": [
            [
             0,
             "#8e0152"
            ],
            [
             0.1,
             "#c51b7d"
            ],
            [
             0.2,
             "#de77ae"
            ],
            [
             0.3,
             "#f1b6da"
            ],
            [
             0.4,
             "#fde0ef"
            ],
            [
             0.5,
             "#f7f7f7"
            ],
            [
             0.6,
             "#e6f5d0"
            ],
            [
             0.7,
             "#b8e186"
            ],
            [
             0.8,
             "#7fbc41"
            ],
            [
             0.9,
             "#4d9221"
            ],
            [
             1,
             "#276419"
            ]
           ],
           "sequential": [
            [
             0,
             "#0d0887"
            ],
            [
             0.1111111111111111,
             "#46039f"
            ],
            [
             0.2222222222222222,
             "#7201a8"
            ],
            [
             0.3333333333333333,
             "#9c179e"
            ],
            [
             0.4444444444444444,
             "#bd3786"
            ],
            [
             0.5555555555555556,
             "#d8576b"
            ],
            [
             0.6666666666666666,
             "#ed7953"
            ],
            [
             0.7777777777777778,
             "#fb9f3a"
            ],
            [
             0.8888888888888888,
             "#fdca26"
            ],
            [
             1,
             "#f0f921"
            ]
           ],
           "sequentialminus": [
            [
             0,
             "#0d0887"
            ],
            [
             0.1111111111111111,
             "#46039f"
            ],
            [
             0.2222222222222222,
             "#7201a8"
            ],
            [
             0.3333333333333333,
             "#9c179e"
            ],
            [
             0.4444444444444444,
             "#bd3786"
            ],
            [
             0.5555555555555556,
             "#d8576b"
            ],
            [
             0.6666666666666666,
             "#ed7953"
            ],
            [
             0.7777777777777778,
             "#fb9f3a"
            ],
            [
             0.8888888888888888,
             "#fdca26"
            ],
            [
             1,
             "#f0f921"
            ]
           ]
          },
          "colorway": [
           "#636efa",
           "#EF553B",
           "#00cc96",
           "#ab63fa",
           "#FFA15A",
           "#19d3f3",
           "#FF6692",
           "#B6E880",
           "#FF97FF",
           "#FECB52"
          ],
          "font": {
           "color": "#2a3f5f"
          },
          "geo": {
           "bgcolor": "white",
           "lakecolor": "white",
           "landcolor": "#E5ECF6",
           "showlakes": true,
           "showland": true,
           "subunitcolor": "white"
          },
          "hoverlabel": {
           "align": "left"
          },
          "hovermode": "closest",
          "mapbox": {
           "style": "light"
          },
          "paper_bgcolor": "white",
          "plot_bgcolor": "#E5ECF6",
          "polar": {
           "angularaxis": {
            "gridcolor": "white",
            "linecolor": "white",
            "ticks": ""
           },
           "bgcolor": "#E5ECF6",
           "radialaxis": {
            "gridcolor": "white",
            "linecolor": "white",
            "ticks": ""
           }
          },
          "scene": {
           "xaxis": {
            "backgroundcolor": "#E5ECF6",
            "gridcolor": "white",
            "gridwidth": 2,
            "linecolor": "white",
            "showbackground": true,
            "ticks": "",
            "zerolinecolor": "white"
           },
           "yaxis": {
            "backgroundcolor": "#E5ECF6",
            "gridcolor": "white",
            "gridwidth": 2,
            "linecolor": "white",
            "showbackground": true,
            "ticks": "",
            "zerolinecolor": "white"
           },
           "zaxis": {
            "backgroundcolor": "#E5ECF6",
            "gridcolor": "white",
            "gridwidth": 2,
            "linecolor": "white",
            "showbackground": true,
            "ticks": "",
            "zerolinecolor": "white"
           }
          },
          "shapedefaults": {
           "line": {
            "color": "#2a3f5f"
           }
          },
          "ternary": {
           "aaxis": {
            "gridcolor": "white",
            "linecolor": "white",
            "ticks": ""
           },
           "baxis": {
            "gridcolor": "white",
            "linecolor": "white",
            "ticks": ""
           },
           "bgcolor": "#E5ECF6",
           "caxis": {
            "gridcolor": "white",
            "linecolor": "white",
            "ticks": ""
           }
          },
          "title": {
           "x": 0.05
          },
          "xaxis": {
           "automargin": true,
           "gridcolor": "white",
           "linecolor": "white",
           "ticks": "",
           "title": {
            "standoff": 15
           },
           "zerolinecolor": "white",
           "zerolinewidth": 2
          },
          "yaxis": {
           "automargin": true,
           "gridcolor": "white",
           "linecolor": "white",
           "ticks": "",
           "title": {
            "standoff": 15
           },
           "zerolinecolor": "white",
           "zerolinewidth": 2
          }
         }
        },
        "title": {
         "text": "FISHERYIN's Youtube Video Performance (views)",
         "x": 0.5
        },
        "xaxis": {
         "title": {
          "text": "Date Posted"
         }
        },
        "yaxis": {
         "title": {
          "text": "views"
         }
        }
       }
      }
     },
     "metadata": {},
     "output_type": "display_data"
    }
   ],
   "source": [
    "yt.visualize_performance(CHANNEL_USERNAME, df_test, 'views', 'standard')"
   ]
  },
  {
   "cell_type": "code",
   "execution_count": 7,
   "metadata": {},
   "outputs": [
    {
     "data": {
      "application/vnd.plotly.v1+json": {
       "config": {
        "plotlyServerURL": "https://plot.ly"
       },
       "data": [
        {
         "customdata": [
          [
           "Fishing on EASY MODE!",
           0.98
          ],
          [
           "You MUST fish right now!",
           0.97
          ],
          [
           "I feel really bad about this…",
           0.97
          ],
          [
           "Fishing with gummy worms..",
           0.38
          ],
          [
           "I’m in love with this…",
           0.53
          ],
          [
           "My friends scared of fish..",
           1
          ],
          [
           "Things didn’t go as planned..",
           1
          ],
          [
           "I waited all summer for this…",
           0.28
          ],
          [
           "Would you pay $600 for this?",
           0.42
          ],
          [
           "Tie this on when things get tough!",
           0.98
          ],
          [
           "People are angry with this bait..",
           0.58
          ],
          [
           "Winning my first tournament!",
           0.98
          ],
          [
           "This was a mistake…",
           0.97
          ],
          [
           "I decided to switch things up…",
           0.43
          ],
          [
           "These baits are too fancy for me",
           0.38
          ],
          [
           "Does this fish catch count?",
           0.97
          ],
          [
           "Fishing here is cheating!",
           0.98
          ],
          [
           "I caught the lake monster!",
           0.98
          ],
          [
           "I’m in trouble..",
           0.98
          ],
          [
           "I’m confused why this exists",
           0.38
          ],
          [
           "I suck at catching this fish",
           0.98
          ],
          [
           "The biggest bass of my life!",
           1
          ],
          [
           "He caught his biggest bass!",
           0.97
          ],
          [
           "My most expensive tackle box!",
           0.42
          ],
          [
           "We caught these GIANT fish!!",
           0.42
          ],
          [
           "Fishing on my paddleboard!",
           0.6
          ],
          [
           "Do these baits actually work?",
           0.37
          ],
          [
           "Taking my mini bass boat fishing!",
           0.77
          ],
          [
           "Transforming my jon boat into a bass boat! Pt. 2",
           0.63
          ],
          [
           "Transforming my jon boat into a bass boat! Pt.1",
           0.7
          ],
          [
           "This is a luxury kayak!",
           0.4
          ],
          [
           "This tackle box catches giants!",
           0.28
          ],
          [
           "Catching my own dinner!",
           0.5
          ],
          [
           "Fishing is for everyone!!",
           0.57
          ],
          [
           "He finally caught a fish!",
           0.5
          ],
          [
           "I fished with a broken finger",
           0.58
          ],
          [
           "Taking my college roommate fishing!!",
           0.63
          ],
          [
           "Taking my classmate fishing!",
           0.72
          ],
          [
           "This Is Why I LOVE Fishing!",
           0.77
          ],
          [
           "Fishing my first college tournament!!",
           0.63
          ],
          [
           "Why I woke up at 3am",
           0.55
          ],
          [
           "Celebrating the end of winter!!",
           0.63
          ],
          [
           "I took my friend fishing!!",
           0.68
          ],
          [
           "Celebrating my last week of school!",
           0.77
          ],
          [
           "My class got canceled, so I went fishing!",
           0.68
          ],
          [
           "Fishing After A College Exam!",
           0.82
          ],
          [
           "Why I Do This Exercise Incorrectly",
           0.8
          ],
          [
           "A Day In My Life As A Student Fishlete",
           0.95
          ],
          [
           "Surprising My Friend With A TINY Fishing Rod!",
           0.97
          ],
          [
           "I Went Fishing On My First Day Back At College!",
           0.8
          ],
          [
           "This Store Is Better Than Bass Pro!",
           0.93
          ],
          [
           "A Fisherman’s Dream Convention!",
           0.7
          ],
          [
           "The Government Put Fish In This Pond!",
           0.68
          ],
          [
           "I Built A Fishing Tackle Box!",
           0.57
          ],
          [
           "What I Do On Rainy Days",
           0.63
          ],
          [
           "Biggest Fishing Fails Of 2022!",
           0.58
          ],
          [
           "I Went Fishing Before Class!",
           0.72
          ],
          [
           "I’ve Never Had This Happen While Fishing!",
           0.75
          ],
          [
           "My Favorite Lake Is Closing Down..",
           0.8
          ],
          [
           "I Took My Classmate Fishing!",
           0.73
          ],
          [
           "My Longest River Adventure! (Part 2)",
           0.65
          ],
          [
           "My Longest River Adventure! (Part 1)",
           0.72
          ],
          [
           "We Avoided A Near DISASTER!",
           0.62
          ],
          [
           "My FAVORITE Way to Fish With Friends!!",
           0.43
          ],
          [
           "I’ve NEVER Fished Anywhere Like This!!",
           0.62
          ],
          [
           "Kid challenges me to a 1v1..",
           0.55
          ],
          [
           "Fish love snakes!! #shorts",
           0.23
          ],
          [
           "I Bought My Friend His DREAM Fishing Reel",
           0.92
          ],
          [
           "Friend's First Bass Is BIGGER Than My PB!!!",
           0.42
          ],
          [
           "FISHING LURE VENDING MACHINE!!",
           0.52
          ],
          [
           "CATCHING MINNOWS IN A STREAM #shorts",
           0.52
          ],
          [
           "Why Topwater Bites Are The BEST",
           0.6
          ],
          [
           "Bass Ate Right At My FEET!",
           0.63
          ],
          [
           "BIG Striper HOOKED!!!",
           0.62
          ],
          [
           "CRAZY Smallmouth Caught On FLY ROD",
           0.73
          ],
          [
           "This Fishing REEL Cost Me An ARM And A LEG!",
           0.8
          ],
          [
           "Are There FISH In This PUDDLE?!?",
           0.25
          ],
          [
           "STRANGE LOOKING Fishing Lure CATCHES Fish!",
           0.48
          ],
          [
           "MY WORST DAY OF FISHING...",
           0.92
          ],
          [
           "I went fishing...with a drill?",
           0.72
          ],
          [
           "A SNAKE BROKE MY FISHING ROD?!?",
           0.7
          ]
         ],
         "hovertemplate": "performance=Normal<br>publishTime=%{x}<br>views=%{y}<br>title=%{customdata[0]}<br>duration_min=%{customdata[1]}<extra></extra>",
         "legendgroup": "Normal",
         "marker": {
          "color": "#497174",
          "symbol": "circle"
         },
         "mode": "markers",
         "name": "Normal",
         "orientation": "v",
         "showlegend": true,
         "type": "scatter",
         "x": [
          "2023-10-20T20:25:00+00:00",
          "2023-10-16T20:25:00+00:00",
          "2023-09-28T20:21:00+00:00",
          "2023-09-27T20:25:00+00:00",
          "2023-09-20T20:24:00+00:00",
          "2023-09-14T20:29:48+00:00",
          "2023-09-07T20:24:00+00:00",
          "2023-09-06T20:25:01+00:00",
          "2023-08-23T20:25:01+00:00",
          "2023-08-17T20:24:00+00:00",
          "2023-08-16T20:25:01+00:00",
          "2023-08-04T20:49:01+00:00",
          "2023-08-03T20:26:00+00:00",
          "2023-08-02T20:26:00+00:00",
          "2023-07-26T20:20:01+00:00",
          "2023-07-20T20:25:00+00:00",
          "2023-07-19T20:26:00+00:00",
          "2023-07-17T20:35:00+00:00",
          "2023-07-15T15:50:00+00:00",
          "2023-07-13T20:26:00+00:00",
          "2023-07-12T20:25:00+00:00",
          "2023-07-10T20:32:00+00:00",
          "2023-07-08T15:36:00+00:00",
          "2023-07-05T20:28:01+00:00",
          "2023-06-29T20:24:00+00:00",
          "2023-06-24T15:44:00+00:00",
          "2023-06-22T20:23:00+00:00",
          "2023-06-21T20:21:00+00:00",
          "2023-06-19T20:20:00+00:00",
          "2023-06-17T15:34:00+00:00",
          "2023-06-16T20:23:00+00:00",
          "2023-06-14T19:50:40+00:00",
          "2023-06-10T15:30:05+00:00",
          "2023-06-05T20:30:02+00:00",
          "2023-05-27T15:30:04+00:00",
          "2023-05-20T15:30:19+00:00",
          "2023-05-11T20:30:03+00:00",
          "2023-04-27T20:25:00+00:00",
          "2023-04-20T20:28:00+00:00",
          "2023-04-18T20:58:32+00:00",
          "2023-04-06T20:25:00+00:00",
          "2023-03-30T20:00:22+00:00",
          "2023-03-16T20:41:25+00:00",
          "2023-03-09T21:29:51+00:00",
          "2023-03-02T21:35:07+00:00",
          "2023-02-23T21:32:16+00:00",
          "2023-02-16T21:24:52+00:00",
          "2023-02-09T21:26:24+00:00",
          "2023-02-02T21:28:31+00:00",
          "2023-01-25T20:36:55+00:00",
          "2023-01-21T15:41:39+00:00",
          "2023-01-18T21:28:59+00:00",
          "2023-01-14T16:45:01+00:00",
          "2023-01-11T21:29:24+00:00",
          "2023-01-04T21:30:03+00:00",
          "2023-01-02T21:28:02+00:00",
          "2022-12-16T20:01:28+00:00",
          "2022-11-29T23:41:15+00:00",
          "2022-11-05T15:28:34+00:00",
          "2022-10-22T15:32:04+00:00",
          "2022-08-30T20:36:14+00:00",
          "2022-08-27T12:56:56+00:00",
          "2022-08-03T14:58:42+00:00",
          "2022-07-25T16:33:43+00:00",
          "2022-07-20T15:57:23+00:00",
          "2022-06-07T14:57:36+00:00",
          "2021-09-28T15:27:41+00:00",
          "2021-08-13T14:59:15+00:00",
          "2021-07-23T20:57:30+00:00",
          "2021-07-19T16:27:15+00:00",
          "2021-07-08T15:41:49+00:00",
          "2021-07-07T16:00:44+00:00",
          "2021-05-29T21:00:10+00:00",
          "2021-05-27T00:00:00+00:00",
          "2021-05-21T23:45:00+00:00",
          "2021-05-14T19:00:21+00:00",
          "2021-05-13T03:18:44+00:00",
          "2021-05-12T20:27:32+00:00",
          "2021-04-23T23:15:00+00:00",
          "2021-04-20T22:12:14+00:00",
          "2021-03-29T16:04:16+00:00"
         ],
         "xaxis": "x",
         "y": [
          27311,
          19709,
          73681,
          317119,
          298256,
          303434,
          70797,
          39946,
          42732,
          175190,
          517537,
          499682,
          219569,
          119119,
          695417,
          140084,
          199360,
          364760,
          280433,
          549571,
          471632,
          166587,
          83710,
          106945,
          114201,
          236967,
          106567,
          100561,
          84934,
          746571,
          320490,
          263658,
          164780,
          153646,
          306642,
          390966,
          184929,
          92845,
          171444,
          405731,
          33767,
          48372,
          261411,
          148307,
          136076,
          311579,
          112173,
          351572,
          620286,
          54258,
          110120,
          80768,
          514864,
          68495,
          44218,
          90368,
          286600,
          483302,
          216618,
          412350,
          243020,
          159933,
          87001,
          267645,
          638488,
          462228,
          500885,
          149744,
          89388,
          507635,
          45087,
          33772,
          25336,
          218983,
          26358,
          57608,
          22212,
          28118,
          18664,
          21563,
          81795
         ],
         "yaxis": "y"
        },
        {
         "customdata": [
          [
           "The most SATISFYING bait to skip!",
           0.4
          ],
          [
           "I caught fish using grass!",
           0.98
          ],
          [
           "I’ve never thrown a worm this big..",
           0.28
          ],
          [
           "I’m terrified to throw these baits!",
           0.43
          ],
          [
           "This is one of my favorite fish!",
           0.62
          ],
          [
           "I’m Scared To Throw This Lure!",
           0.83
          ],
          [
           "I Went Fishing After Class!",
           0.82
          ],
          [
           "I Took My Friends Fishing For The First Time!",
           0.65
          ],
          [
           "I Built A Perfect Pond Hopping Tackle Box!",
           0.68
          ]
         ],
         "hovertemplate": "performance=Hit<br>publishTime=%{x}<br>views=%{y}<br>title=%{customdata[0]}<br>duration_min=%{customdata[1]}<extra></extra>",
         "legendgroup": "Hit",
         "marker": {
          "color": "#EB6440",
          "symbol": "circle"
         },
         "mode": "markers",
         "name": "Hit",
         "orientation": "v",
         "showlegend": true,
         "type": "scatter",
         "x": [
          "2023-09-13T20:20:01+00:00",
          "2023-07-14T20:27:00+00:00",
          "2023-06-28T20:25:00+00:00",
          "2023-06-15T20:20:00+00:00",
          "2023-06-03T15:30:05+00:00",
          "2022-10-18T20:31:33+00:00",
          "2022-09-17T15:05:32+00:00",
          "2022-08-20T15:12:39+00:00",
          "2022-08-11T15:07:33+00:00"
         ],
         "xaxis": "x",
         "y": [
          1159167,
          1846042,
          988363,
          816365,
          1416909,
          814029,
          917769,
          930134,
          990655
         ],
         "yaxis": "y"
        },
        {
         "hovertemplate": "publishTime=%{x}<br>normal_rolling_average=%{y}<extra></extra>",
         "legendgroup": "",
         "line": {
          "color": "#497174",
          "dash": "solid"
         },
         "marker": {
          "symbol": "circle"
         },
         "mode": "lines",
         "name": "",
         "orientation": "v",
         "showlegend": false,
         "type": "scatter",
         "x": [
          "2023-10-20T20:25:00+00:00",
          "2023-10-16T20:25:00+00:00",
          "2023-09-28T20:21:00+00:00",
          "2023-09-27T20:25:00+00:00",
          "2023-09-20T20:24:00+00:00",
          "2023-09-14T20:29:48+00:00",
          "2023-09-07T20:24:00+00:00",
          "2023-09-06T20:25:01+00:00",
          "2023-08-23T20:25:01+00:00",
          "2023-08-17T20:24:00+00:00",
          "2023-08-16T20:25:01+00:00",
          "2023-08-04T20:49:01+00:00",
          "2023-08-03T20:26:00+00:00",
          "2023-08-02T20:26:00+00:00",
          "2023-07-26T20:20:01+00:00",
          "2023-07-20T20:25:00+00:00",
          "2023-07-19T20:26:00+00:00",
          "2023-07-17T20:35:00+00:00",
          "2023-07-15T15:50:00+00:00",
          "2023-07-13T20:26:00+00:00",
          "2023-07-12T20:25:00+00:00",
          "2023-07-10T20:32:00+00:00",
          "2023-07-08T15:36:00+00:00",
          "2023-07-05T20:28:01+00:00",
          "2023-06-29T20:24:00+00:00",
          "2023-06-24T15:44:00+00:00",
          "2023-06-22T20:23:00+00:00",
          "2023-06-21T20:21:00+00:00",
          "2023-06-19T20:20:00+00:00",
          "2023-06-17T15:34:00+00:00",
          "2023-06-16T20:23:00+00:00",
          "2023-06-14T19:50:40+00:00",
          "2023-06-10T15:30:05+00:00",
          "2023-06-05T20:30:02+00:00",
          "2023-05-27T15:30:04+00:00",
          "2023-05-20T15:30:19+00:00",
          "2023-05-11T20:30:03+00:00",
          "2023-04-27T20:25:00+00:00",
          "2023-04-20T20:28:00+00:00",
          "2023-04-18T20:58:32+00:00",
          "2023-04-06T20:25:00+00:00",
          "2023-03-30T20:00:22+00:00",
          "2023-03-16T20:41:25+00:00",
          "2023-03-09T21:29:51+00:00",
          "2023-03-02T21:35:07+00:00",
          "2023-02-23T21:32:16+00:00",
          "2023-02-16T21:24:52+00:00",
          "2023-02-09T21:26:24+00:00",
          "2023-02-02T21:28:31+00:00",
          "2023-01-25T20:36:55+00:00",
          "2023-01-21T15:41:39+00:00",
          "2023-01-18T21:28:59+00:00",
          "2023-01-14T16:45:01+00:00",
          "2023-01-11T21:29:24+00:00",
          "2023-01-04T21:30:03+00:00",
          "2023-01-02T21:28:02+00:00",
          "2022-12-16T20:01:28+00:00",
          "2022-11-29T23:41:15+00:00",
          "2022-11-05T15:28:34+00:00",
          "2022-10-22T15:32:04+00:00",
          "2022-08-30T20:36:14+00:00",
          "2022-08-27T12:56:56+00:00",
          "2022-08-03T14:58:42+00:00",
          "2022-07-25T16:33:43+00:00",
          "2022-07-20T15:57:23+00:00",
          "2022-06-07T14:57:36+00:00",
          "2021-09-28T15:27:41+00:00",
          "2021-08-13T14:59:15+00:00",
          "2021-07-23T20:57:30+00:00",
          "2021-07-19T16:27:15+00:00",
          "2021-07-08T15:41:49+00:00",
          "2021-07-07T16:00:44+00:00",
          "2021-05-29T21:00:10+00:00",
          "2021-05-27T00:00:00+00:00",
          "2021-05-21T23:45:00+00:00",
          "2021-05-14T19:00:21+00:00",
          "2021-05-13T03:18:44+00:00",
          "2021-05-12T20:27:32+00:00",
          "2021-04-23T23:15:00+00:00",
          "2021-04-20T22:12:14+00:00",
          "2021-03-29T16:04:16+00:00"
         ],
         "xaxis": "x",
         "y": [
          null,
          null,
          null,
          null,
          null,
          null,
          null,
          null,
          null,
          null,
          null,
          198782.83333333334,
          214804.33333333334,
          223088.5,
          274899.8333333333,
          260146.91666666666,
          251905.58333333334,
          257016.08333333334,
          274485.75,
          316954.5,
          352696.1666666667,
          351979.25,
          315827,
          283098.9166666667,
          274318.25,
          284138.9166666667,
          235068.08333333334,
          231774.5,
          222239,
          254056.58333333334,
          257394.66666666666,
          233568.58333333334,
          207997.58333333334,
          206919.16666666666,
          225496.83333333334,
          249165.25,
          255059.25,
          243049.08333333334,
          248455.5,
          273886.3333333333,
          269622.4166666667,
          211439.16666666666,
          206515.91666666666,
          196903.33333333334,
          194511.33333333334,
          207672.41666666666,
          191466.66666666666,
          188183.83333333334,
          224463.58333333334,
          221248,
          216137.66666666666,
          189057.41666666666,
          229148.83333333334,
          230825.75,
          212726.33333333334,
          207898.08333333334,
          220441.75,
          234752,
          243455.75,
          248520.58333333334,
          217081.75,
          225888,
          223961.41666666666,
          239534.5,
          249836.5,
          282647.5833333333,
          320703.1666666667,
          325651.1666666667,
          309216.8333333333,
          311244.5833333333,
          296950.3333333333,
          265402.1666666667,
          247261.83333333334,
          252182.66666666666,
          247129.08333333334,
          229626,
          178269.66666666666,
          142093.83333333334,
          101908.75,
          91227,
          90594.25
         ],
         "yaxis": "y"
        }
       ],
       "layout": {
        "height": 600,
        "legend": {
         "itemsizing": "constant",
         "title": {
          "text": "Performance"
         },
         "traceorder": "reversed"
        },
        "plot_bgcolor": "#D6E4E5",
        "template": {
         "data": {
          "bar": [
           {
            "error_x": {
             "color": "#2a3f5f"
            },
            "error_y": {
             "color": "#2a3f5f"
            },
            "marker": {
             "line": {
              "color": "#E5ECF6",
              "width": 0.5
             },
             "pattern": {
              "fillmode": "overlay",
              "size": 10,
              "solidity": 0.2
             }
            },
            "type": "bar"
           }
          ],
          "barpolar": [
           {
            "marker": {
             "line": {
              "color": "#E5ECF6",
              "width": 0.5
             },
             "pattern": {
              "fillmode": "overlay",
              "size": 10,
              "solidity": 0.2
             }
            },
            "type": "barpolar"
           }
          ],
          "carpet": [
           {
            "aaxis": {
             "endlinecolor": "#2a3f5f",
             "gridcolor": "white",
             "linecolor": "white",
             "minorgridcolor": "white",
             "startlinecolor": "#2a3f5f"
            },
            "baxis": {
             "endlinecolor": "#2a3f5f",
             "gridcolor": "white",
             "linecolor": "white",
             "minorgridcolor": "white",
             "startlinecolor": "#2a3f5f"
            },
            "type": "carpet"
           }
          ],
          "choropleth": [
           {
            "colorbar": {
             "outlinewidth": 0,
             "ticks": ""
            },
            "type": "choropleth"
           }
          ],
          "contour": [
           {
            "colorbar": {
             "outlinewidth": 0,
             "ticks": ""
            },
            "colorscale": [
             [
              0,
              "#0d0887"
             ],
             [
              0.1111111111111111,
              "#46039f"
             ],
             [
              0.2222222222222222,
              "#7201a8"
             ],
             [
              0.3333333333333333,
              "#9c179e"
             ],
             [
              0.4444444444444444,
              "#bd3786"
             ],
             [
              0.5555555555555556,
              "#d8576b"
             ],
             [
              0.6666666666666666,
              "#ed7953"
             ],
             [
              0.7777777777777778,
              "#fb9f3a"
             ],
             [
              0.8888888888888888,
              "#fdca26"
             ],
             [
              1,
              "#f0f921"
             ]
            ],
            "type": "contour"
           }
          ],
          "contourcarpet": [
           {
            "colorbar": {
             "outlinewidth": 0,
             "ticks": ""
            },
            "type": "contourcarpet"
           }
          ],
          "heatmap": [
           {
            "colorbar": {
             "outlinewidth": 0,
             "ticks": ""
            },
            "colorscale": [
             [
              0,
              "#0d0887"
             ],
             [
              0.1111111111111111,
              "#46039f"
             ],
             [
              0.2222222222222222,
              "#7201a8"
             ],
             [
              0.3333333333333333,
              "#9c179e"
             ],
             [
              0.4444444444444444,
              "#bd3786"
             ],
             [
              0.5555555555555556,
              "#d8576b"
             ],
             [
              0.6666666666666666,
              "#ed7953"
             ],
             [
              0.7777777777777778,
              "#fb9f3a"
             ],
             [
              0.8888888888888888,
              "#fdca26"
             ],
             [
              1,
              "#f0f921"
             ]
            ],
            "type": "heatmap"
           }
          ],
          "heatmapgl": [
           {
            "colorbar": {
             "outlinewidth": 0,
             "ticks": ""
            },
            "colorscale": [
             [
              0,
              "#0d0887"
             ],
             [
              0.1111111111111111,
              "#46039f"
             ],
             [
              0.2222222222222222,
              "#7201a8"
             ],
             [
              0.3333333333333333,
              "#9c179e"
             ],
             [
              0.4444444444444444,
              "#bd3786"
             ],
             [
              0.5555555555555556,
              "#d8576b"
             ],
             [
              0.6666666666666666,
              "#ed7953"
             ],
             [
              0.7777777777777778,
              "#fb9f3a"
             ],
             [
              0.8888888888888888,
              "#fdca26"
             ],
             [
              1,
              "#f0f921"
             ]
            ],
            "type": "heatmapgl"
           }
          ],
          "histogram": [
           {
            "marker": {
             "pattern": {
              "fillmode": "overlay",
              "size": 10,
              "solidity": 0.2
             }
            },
            "type": "histogram"
           }
          ],
          "histogram2d": [
           {
            "colorbar": {
             "outlinewidth": 0,
             "ticks": ""
            },
            "colorscale": [
             [
              0,
              "#0d0887"
             ],
             [
              0.1111111111111111,
              "#46039f"
             ],
             [
              0.2222222222222222,
              "#7201a8"
             ],
             [
              0.3333333333333333,
              "#9c179e"
             ],
             [
              0.4444444444444444,
              "#bd3786"
             ],
             [
              0.5555555555555556,
              "#d8576b"
             ],
             [
              0.6666666666666666,
              "#ed7953"
             ],
             [
              0.7777777777777778,
              "#fb9f3a"
             ],
             [
              0.8888888888888888,
              "#fdca26"
             ],
             [
              1,
              "#f0f921"
             ]
            ],
            "type": "histogram2d"
           }
          ],
          "histogram2dcontour": [
           {
            "colorbar": {
             "outlinewidth": 0,
             "ticks": ""
            },
            "colorscale": [
             [
              0,
              "#0d0887"
             ],
             [
              0.1111111111111111,
              "#46039f"
             ],
             [
              0.2222222222222222,
              "#7201a8"
             ],
             [
              0.3333333333333333,
              "#9c179e"
             ],
             [
              0.4444444444444444,
              "#bd3786"
             ],
             [
              0.5555555555555556,
              "#d8576b"
             ],
             [
              0.6666666666666666,
              "#ed7953"
             ],
             [
              0.7777777777777778,
              "#fb9f3a"
             ],
             [
              0.8888888888888888,
              "#fdca26"
             ],
             [
              1,
              "#f0f921"
             ]
            ],
            "type": "histogram2dcontour"
           }
          ],
          "mesh3d": [
           {
            "colorbar": {
             "outlinewidth": 0,
             "ticks": ""
            },
            "type": "mesh3d"
           }
          ],
          "parcoords": [
           {
            "line": {
             "colorbar": {
              "outlinewidth": 0,
              "ticks": ""
             }
            },
            "type": "parcoords"
           }
          ],
          "pie": [
           {
            "automargin": true,
            "type": "pie"
           }
          ],
          "scatter": [
           {
            "fillpattern": {
             "fillmode": "overlay",
             "size": 10,
             "solidity": 0.2
            },
            "type": "scatter"
           }
          ],
          "scatter3d": [
           {
            "line": {
             "colorbar": {
              "outlinewidth": 0,
              "ticks": ""
             }
            },
            "marker": {
             "colorbar": {
              "outlinewidth": 0,
              "ticks": ""
             }
            },
            "type": "scatter3d"
           }
          ],
          "scattercarpet": [
           {
            "marker": {
             "colorbar": {
              "outlinewidth": 0,
              "ticks": ""
             }
            },
            "type": "scattercarpet"
           }
          ],
          "scattergeo": [
           {
            "marker": {
             "colorbar": {
              "outlinewidth": 0,
              "ticks": ""
             }
            },
            "type": "scattergeo"
           }
          ],
          "scattergl": [
           {
            "marker": {
             "colorbar": {
              "outlinewidth": 0,
              "ticks": ""
             }
            },
            "type": "scattergl"
           }
          ],
          "scattermapbox": [
           {
            "marker": {
             "colorbar": {
              "outlinewidth": 0,
              "ticks": ""
             }
            },
            "type": "scattermapbox"
           }
          ],
          "scatterpolar": [
           {
            "marker": {
             "colorbar": {
              "outlinewidth": 0,
              "ticks": ""
             }
            },
            "type": "scatterpolar"
           }
          ],
          "scatterpolargl": [
           {
            "marker": {
             "colorbar": {
              "outlinewidth": 0,
              "ticks": ""
             }
            },
            "type": "scatterpolargl"
           }
          ],
          "scatterternary": [
           {
            "marker": {
             "colorbar": {
              "outlinewidth": 0,
              "ticks": ""
             }
            },
            "type": "scatterternary"
           }
          ],
          "surface": [
           {
            "colorbar": {
             "outlinewidth": 0,
             "ticks": ""
            },
            "colorscale": [
             [
              0,
              "#0d0887"
             ],
             [
              0.1111111111111111,
              "#46039f"
             ],
             [
              0.2222222222222222,
              "#7201a8"
             ],
             [
              0.3333333333333333,
              "#9c179e"
             ],
             [
              0.4444444444444444,
              "#bd3786"
             ],
             [
              0.5555555555555556,
              "#d8576b"
             ],
             [
              0.6666666666666666,
              "#ed7953"
             ],
             [
              0.7777777777777778,
              "#fb9f3a"
             ],
             [
              0.8888888888888888,
              "#fdca26"
             ],
             [
              1,
              "#f0f921"
             ]
            ],
            "type": "surface"
           }
          ],
          "table": [
           {
            "cells": {
             "fill": {
              "color": "#EBF0F8"
             },
             "line": {
              "color": "white"
             }
            },
            "header": {
             "fill": {
              "color": "#C8D4E3"
             },
             "line": {
              "color": "white"
             }
            },
            "type": "table"
           }
          ]
         },
         "layout": {
          "annotationdefaults": {
           "arrowcolor": "#2a3f5f",
           "arrowhead": 0,
           "arrowwidth": 1
          },
          "autotypenumbers": "strict",
          "coloraxis": {
           "colorbar": {
            "outlinewidth": 0,
            "ticks": ""
           }
          },
          "colorscale": {
           "diverging": [
            [
             0,
             "#8e0152"
            ],
            [
             0.1,
             "#c51b7d"
            ],
            [
             0.2,
             "#de77ae"
            ],
            [
             0.3,
             "#f1b6da"
            ],
            [
             0.4,
             "#fde0ef"
            ],
            [
             0.5,
             "#f7f7f7"
            ],
            [
             0.6,
             "#e6f5d0"
            ],
            [
             0.7,
             "#b8e186"
            ],
            [
             0.8,
             "#7fbc41"
            ],
            [
             0.9,
             "#4d9221"
            ],
            [
             1,
             "#276419"
            ]
           ],
           "sequential": [
            [
             0,
             "#0d0887"
            ],
            [
             0.1111111111111111,
             "#46039f"
            ],
            [
             0.2222222222222222,
             "#7201a8"
            ],
            [
             0.3333333333333333,
             "#9c179e"
            ],
            [
             0.4444444444444444,
             "#bd3786"
            ],
            [
             0.5555555555555556,
             "#d8576b"
            ],
            [
             0.6666666666666666,
             "#ed7953"
            ],
            [
             0.7777777777777778,
             "#fb9f3a"
            ],
            [
             0.8888888888888888,
             "#fdca26"
            ],
            [
             1,
             "#f0f921"
            ]
           ],
           "sequentialminus": [
            [
             0,
             "#0d0887"
            ],
            [
             0.1111111111111111,
             "#46039f"
            ],
            [
             0.2222222222222222,
             "#7201a8"
            ],
            [
             0.3333333333333333,
             "#9c179e"
            ],
            [
             0.4444444444444444,
             "#bd3786"
            ],
            [
             0.5555555555555556,
             "#d8576b"
            ],
            [
             0.6666666666666666,
             "#ed7953"
            ],
            [
             0.7777777777777778,
             "#fb9f3a"
            ],
            [
             0.8888888888888888,
             "#fdca26"
            ],
            [
             1,
             "#f0f921"
            ]
           ]
          },
          "colorway": [
           "#636efa",
           "#EF553B",
           "#00cc96",
           "#ab63fa",
           "#FFA15A",
           "#19d3f3",
           "#FF6692",
           "#B6E880",
           "#FF97FF",
           "#FECB52"
          ],
          "font": {
           "color": "#2a3f5f"
          },
          "geo": {
           "bgcolor": "white",
           "lakecolor": "white",
           "landcolor": "#E5ECF6",
           "showlakes": true,
           "showland": true,
           "subunitcolor": "white"
          },
          "hoverlabel": {
           "align": "left"
          },
          "hovermode": "closest",
          "mapbox": {
           "style": "light"
          },
          "paper_bgcolor": "white",
          "plot_bgcolor": "#E5ECF6",
          "polar": {
           "angularaxis": {
            "gridcolor": "white",
            "linecolor": "white",
            "ticks": ""
           },
           "bgcolor": "#E5ECF6",
           "radialaxis": {
            "gridcolor": "white",
            "linecolor": "white",
            "ticks": ""
           }
          },
          "scene": {
           "xaxis": {
            "backgroundcolor": "#E5ECF6",
            "gridcolor": "white",
            "gridwidth": 2,
            "linecolor": "white",
            "showbackground": true,
            "ticks": "",
            "zerolinecolor": "white"
           },
           "yaxis": {
            "backgroundcolor": "#E5ECF6",
            "gridcolor": "white",
            "gridwidth": 2,
            "linecolor": "white",
            "showbackground": true,
            "ticks": "",
            "zerolinecolor": "white"
           },
           "zaxis": {
            "backgroundcolor": "#E5ECF6",
            "gridcolor": "white",
            "gridwidth": 2,
            "linecolor": "white",
            "showbackground": true,
            "ticks": "",
            "zerolinecolor": "white"
           }
          },
          "shapedefaults": {
           "line": {
            "color": "#2a3f5f"
           }
          },
          "ternary": {
           "aaxis": {
            "gridcolor": "white",
            "linecolor": "white",
            "ticks": ""
           },
           "baxis": {
            "gridcolor": "white",
            "linecolor": "white",
            "ticks": ""
           },
           "bgcolor": "#E5ECF6",
           "caxis": {
            "gridcolor": "white",
            "linecolor": "white",
            "ticks": ""
           }
          },
          "title": {
           "x": 0.05
          },
          "xaxis": {
           "automargin": true,
           "gridcolor": "white",
           "linecolor": "white",
           "ticks": "",
           "title": {
            "standoff": 15
           },
           "zerolinecolor": "white",
           "zerolinewidth": 2
          },
          "yaxis": {
           "automargin": true,
           "gridcolor": "white",
           "linecolor": "white",
           "ticks": "",
           "title": {
            "standoff": 15
           },
           "zerolinecolor": "white",
           "zerolinewidth": 2
          }
         }
        },
        "title": {
         "text": "FISHERYIN's Youtube Shorts Performance (views)",
         "x": 0.5
        },
        "xaxis": {
         "title": {
          "text": "Date Posted"
         }
        },
        "yaxis": {
         "title": {
          "text": "views"
         }
        }
       }
      }
     },
     "metadata": {},
     "output_type": "display_data"
    }
   ],
   "source": [
    "yt.visualize_performance(CHANNEL_USERNAME, df_test, 'views', 'short')"
   ]
  },
  {
   "cell_type": "code",
   "execution_count": 8,
   "metadata": {},
   "outputs": [
    {
     "data": {
      "application/vnd.plotly.v1+json": {
       "config": {
        "plotlyServerURL": "https://plot.ly"
       },
       "data": [
        {
         "customdata": [
          [
           "I Fished A PRIVATE Tournament!",
           8.85
          ],
          [
           "I Tried Fishing With A GIANT SPOON!!",
           13.97
          ],
          [
           "I Built A FALL Tackle Box!",
           11.82
          ],
          [
           "I Tried Fishing With GUMMY WORMS!!",
           10.12
          ],
          [
           "I Found The PERFECT Glidebait!",
           12.67
          ],
          [
           "The FUNNEST Lure To Throw!",
           9.92
          ],
          [
           "I Went Back To College!",
           11.4
          ],
          [
           "I Built A TOPWATER Box!!",
           13.2
          ],
          [
           "I Tried Fishing On A FOLDABLE Kayak!!",
           15.32
          ],
          [
           "I Fished With A CONTROVERSIAL Bait!",
           10.88
          ],
          [
           "I Tried Fishing With MICRO Baits!",
           10.2
          ],
          [
           "I Tried Fishing With ROBOTIC Baits!",
           9.87
          ],
          [
           "I Tried Fishing With BFS Technology!",
           9.77
          ],
          [
           "I Fished With The Most OVERRATED Baits!!",
           11.15
          ],
          [
           "I Built The Ultimate SUMMERTIME Tackle Box!",
           10.68
          ],
          [
           "I Built A Giant Swimbait Tackle Box!",
           10.12
          ],
          [
           "I Got A Fishing Kayak!",
           11.25
          ],
          [
           "I Went Fishing With The Weirdest Bait Ever!!",
           11.13
          ],
          [
           "I Went Fishing With A Handmade Lure!!",
           12.22
          ],
          [
           "Taking The YinTin Fishing!!",
           15.85
          ],
          [
           "The YinTin Is Finished!!",
           22.17
          ],
          [
           "Fishing My First College Tournament!",
           12.02
          ],
          [
           "My College Lake Is Finally Open!!",
           10.28
          ],
          [
           "I Went Fishing With The Stinkiest Baits!!",
           11
          ],
          [
           "Can I Outfish A Tournament Angler?",
           11.97
          ],
          [
           "I Built The Ultimate SPRINGTIME Tackle Box!",
           16.03
          ],
          [
           "I Went Fishing With A LEGENDARY Baitcaster!",
           14.18
          ],
          [
           "Converting The YinTin Into A Bass Boat!!",
           11
          ],
          [
           "I Fished The Most Pressured Pond In Town!",
           13.28
          ],
          [
           "I Went Fishing With My Reels Upside Down!",
           14.2
          ],
          [
           "I Built And Went Fishing With A WINTER Tackle Box!",
           20.4
          ],
          [
           "I Went Fishing With The World's TINIEST Combo!",
           15.1
          ],
          [
           "I Built A Tackle Kit And Then Fished With It!",
           15.43
          ],
          [
           "I Got Permission To Fish This CRAZY PRIVATE POND!",
           17.03
          ],
          [
           "Top 10 Fishing Moments Of 2022!!",
           23.57
          ],
          [
           "Giant Fish Swim In This Lake!",
           11.58
          ],
          [
           "The HUNT For A Freshwater PB │ Pt. 2",
           11.72
          ],
          [
           "The HUNT For A Freshwater PB │ Pt. 1",
           10.6
          ],
          [
           "I Tried To Catch A New PB!",
           15.9
          ],
          [
           "Cooking Freshly Caught Fish From The Beach",
           11.22
          ],
          [
           "Exploring Fishing Spots Near My College!",
           16.95
          ],
          [
           "Attempting To Break My Colleges Lake Record",
           16.37
          ],
          [
           "I Went Fishing With A Long Range Electric Bike!",
           13.55
          ],
          [
           "I Bought Amazon's BEST RATED Telescopic Rods!",
           13.55
          ],
          [
           "I Went Fishing After A Hurricane!",
           11.47
          ],
          [
           "I Only Fished Big Swimbaits For 2 Days!",
           14.82
          ],
          [
           "I Went Fishing With My First Combo!",
           14.17
          ],
          [
           "I Went Fishing With My Oldest Baitcaster Combo!",
           16.47
          ],
          [
           "I Went Fishing With The Perfect Pond Hopping Box!",
           13.95
          ],
          [
           "I Went Fishing At My College!",
           12.75
          ],
          [
           "I Went Fishing With Game Changing Baits!",
           16.42
          ],
          [
           "The Weirdest Private Lake I’ve Ever Fished..",
           16.08
          ],
          [
           "Fishing On A $400 Origami Folding Kayak!",
           11.25
          ],
          [
           "I Fished On The World's Largest Paddleboard!",
           11.3
          ],
          [
           "I Got An Inflatable Fishing Paddle Board!",
           11.9
          ],
          [
           "I Fished In a Sauna Suit for 24 Hours",
           14.78
          ],
          [
           "Surviving 48 Hours In The Woods",
           19.7
          ],
          [
           "This Tackle Kit Makes Fishing Easy!",
           10.93
          ],
          [
           "I Gave Myself 2 Days To Break My PB",
           11.42
          ],
          [
           "Whoever Catches The Biggest Fish Wins $300!!",
           9.32
          ],
          [
           "World's Most Famous Fishing Destination!",
           12.63
          ],
          [
           "Fishing Big Swimbaits For 24 Hours!",
           17.15
          ],
          [
           "This Fish Attractant Will Change Everything!",
           13.47
          ],
          [
           "I Drove 8 Hours To Catch A Bass",
           12.42
          ],
          [
           "Fishing On My Project Boat For The First Time!",
           11.5
          ],
          [
           "Fishing Is Expensive, So I Gave Away Free Tackle!",
           10.92
          ],
          [
           "Chasing The State Record Bass",
           10.47
          ],
          [
           "Transforming My Jon Boat Into A Bass Boat!",
           9.6
          ],
          [
           "Trout Fishing In The Freezing Rain!",
           8.55
          ],
          [
           "I Swapped Boats For The Day!",
           8.63
          ],
          [
           "Catch a Fish and I'll Eat a Ghost Pepper Chip!",
           8.55
          ],
          [
           "Can I Outfish a High School Tournament Angler?",
           8.17
          ],
          [
           "Spending a Day on My Dream Boat",
           11.78
          ],
          [
           "I Took My College Friend Fishing!",
           8.32
          ],
          [
           "Day in the Life of a Fishing YouTuber",
           6.48
          ],
          [
           "I Went Fishing With A Fish Sonar!",
           12.08
          ],
          [
           "Big Fish In My Little Boat!",
           10.28
          ],
          [
           "He Got Me Into Fishing!",
           11.55
          ],
          [
           "First Time Fishing On My Boat!",
           11.95
          ],
          [
           "My Boat is Finally Here!",
           13.48
          ],
          [
           "The Best Lake I've Ever Fished..",
           17.42
          ],
          [
           "Whoever Catches the Smallest Fish Shaves Their Head!!",
           17.08
          ],
          [
           "They Made A Pikachu Fishing Lure..",
           10.5
          ],
          [
           "I Fished the Best Ponds In the Country!!",
           8.73
          ],
          [
           "I Drove 3 Hours to Catch This Fish!!",
           11.63
          ],
          [
           "I Bought My Dream Baitcaster!!",
           12.1
          ],
          [
           "I Went Fishing With A Telescopic Rod..",
           12.2
          ],
          [
           "Pick Any Baitcasting Combo and I'll Buy It For You!!",
           11.22
          ],
          [
           "I Went On A Guided Fly Fishing Trip!!",
           9.1
          ],
          [
           "We Fished With DC Reels Only...",
           10.45
          ],
          [
           "Unboxing $1000 Of Fishing Lures!!",
           8.05
          ],
          [
           "EXTREME Budget ACADEMY Fishing Challenge!!",
           14.22
          ],
          [
           "What's inside a GOOGAN's Tackle Room?!?",
           6.6
          ],
          [
           "I Went Fishing At Lojo's Backyard Pond!!",
           15.82
          ],
          [
           "FIRST Time MAKING My Own SOFT PLASTICS!! (ft. LarryMelton, Jr.)",
           6.77
          ],
          [
           "You Have $20 To Pick Out My Fishing Lures!!!",
           14.32
          ],
          [
           "SURPRISING My Friend With His DREAM FISHING REEL!!!",
           9.55
          ],
          [
           "ULTIMATE Roulette FISHING CHALLENGE With Mystery Tackle Boxes!!",
           15.65
          ],
          [
           "My FIRST Time Fishing On A BASS BOAT!!",
           11.8
          ],
          [
           "THE BIGGEST FISH OF HIS LIFE!!! (Drag Screaming Action)",
           11.9
          ],
          [
           "INSANE 6 MILE FISHING ADVENTURE (Crazy Topwater Eats)",
           12.52
          ],
          [
           "SPILLWAY FISHING ADVENTURE WITH CATCH CO BOX (On The Line Challenge #4)",
           15.02
          ],
          [
           "CREATE MY OWN FISHING LURE CATCH CO CHALLENGE!! (On The Line Challenge #3)",
           14.58
          ],
          [
           "CRAZY SPEED FISHING CHALLENGE WITH A CATCH CO BOX!! (On The Line Challenge #2)",
           15
          ],
          [
           "COMPLETING A CATCH CO TACKLE BOX SLAM?!? (On The Line Challenge #1)",
           14.93
          ],
          [
           "I FINALLY Caught This Fish AFTER TWO YEARS (James River Fishing)",
           11.08
          ],
          [
           "I CAUGHT My BIGGEST Smallmouth On The FLY (Wet Wading Adventure)",
           11.9
          ],
          [
           "THROWING The Chatterbait PAYS OFF! (Bank Fishing)",
           7.33
          ],
          [
           "I HOOKED INTO AN ABSOLUTE BEAST!! (Jon Boat Adventure)",
           9.58
          ],
          [
           "WE THOUGHT WE HOOKED A ROCK!! (Scary Reptile Encounter)",
           9.83
          ],
          [
           "CRAPPIE CATCH N' COOK (6K SUBSCRIBER SPECIAL)",
           14.13
          ],
          [
           "INSANE Bed Fishing For AGGRESSIVE Largemouth (BIG BASS CAUGHT)",
           8.95
          ],
          [
           "EXPLORING Crystal Clear Streams For BEAUTIFUL FISH -- On The Fly (3/3)",
           18.45
          ],
          [
           "The BEST Trout Stream I've Ever Fished!! --- On The Fly (2/3)",
           16.07
          ],
          [
           "Fly Fishing PRISTINE Mountain Stream --- On The Fly (1/3)",
           9.37
          ],
          [
           "HE DID NOT MEAN TO CATCH THIS FISH!!! (Pond Hopping Adventure)",
           9.6
          ],
          [
           "Hunting Down the POOR MAN'S TARPON In Richmond, VA!! (RVA Shad Fishing)",
           9.3
          ],
          [
           "I BOUGHT The MOST EXPENSIVE Baitcaster From BASS PRO & Caught Fish On It!!",
           10.75
          ],
          [
           "Fishing Against HUGE Cliffside (Reel Unboxing!!)",
           8.47
          ],
          [
           "I'VE NEVER CAUGHT THIS FISH BEFORE!! (Swift Creek Reservoir)",
           8.3
          ],
          [
           "THE ULTIMATE FLY FISHING SHOWDOWN (1v1v1)",
           9.13
          ],
          [
           "They FINALLY Came In -- VLOG #2",
           7.63
          ],
          [
           "Fishing BIG SWIMBAITS For Pre-Spawn Bass (Bank Fishing)",
           11.83
          ],
          [
           "HE CAUGHT A GIANT BASS!!! (Winter Pond Hopping)",
           8.75
          ],
          [
           "REACTING To My OLD FISHING VIDEOS (Hilarious)",
           11.87
          ],
          [
           "This was NOT supposed to happen...",
           6.78
          ],
          [
           "POND HOPPING A Golf Course With Subscriber (BIG BASS CAUGHT)",
           11.8
          ],
          [
           "FINESSE Fishing For COLD Water Largemouth",
           10.53
          ],
          [
           "FISHING In The SNOW?! (BAD IDEA)",
           5.77
          ],
          [
           "Fishing an URBAN CREEK FOR WHATEVER BITES",
           11.27
          ],
          [
           "That's A Big Trout.. -- VLOG #1",
           4.88
          ],
          [
           "URBAN Creek Fishing For LARGIES (Crystal Clear Water)",
           9.68
          ],
          [
           "Exploring ABANDONED Golf Course (CRAZY Fun)",
           3.93
          ],
          [
           "The HUNT For ELUSIVE River MONSTERS (Cut Bait)",
           9.42
          ],
          [
           "My 2021 Fishing Tackle...",
           9.18
          ],
          [
           "Winter SPILLWAY Fishing Is TOUGH",
           6.03
          ],
          [
           "Top 5 Craziest Fishing Moments from 2020",
           8.68
          ],
          [
           "Catching WINTER Bass Under TREES (Bank Fishing)",
           16.82
          ],
          [
           "INSANE Day of Bass Fishing (Pond Hopping)",
           14.4
          ],
          [
           "I GOT NEW RODS & REELS",
           3.13
          ],
          [
           "How To: Drop Shot",
           7.6
          ],
          [
           "The HUNT For Brown Trout In An AMAZING Stream",
           13.67
          ],
          [
           "DIFFICULT GOOGLE MAPS Fishing CHALLENGE",
           19.13
          ],
          [
           "HAMMERING Some AGGRESSIVE Largies (Dam Fishing)",
           13.62
          ],
          [
           "Fly Fishing Basics",
           12.27
          ],
          [
           "Fishing With FROZEN Shad",
           9.63
          ],
          [
           "Someone Sent Me A REEL",
           7.97
          ],
          [
           "OFF TRAIL (Small Stream Fly Fishing Adventure)",
           13.8
          ],
          [
           "FISH CANNOT RESIST THIS LURE",
           15.82
          ],
          [
           "FOUND THE FISH!!  (Kayak Fishing)",
           6.48
          ],
          [
           "FISHING WITH SUBSCRIBER SENT LURES  (Surprise Catch)",
           16.17
          ],
          [
           "Bottom Fishing For HUNGRY Catfish",
           10.02
          ],
          [
           "UNBOXING FAN MAIL",
           9.22
          ],
          [
           "REACTING to FISHING FAILS (2k Sub Special)",
           7.75
          ],
          [
           "CATFISH CATCH N' COOK",
           8.27
          ],
          [
           "This Store Is INSANE",
           7.3
          ],
          [
           "Fishing With A DRILL (WHAT WAS I THINKING??)",
           9.53
          ],
          [
           "SPIDER-MAN ROD BASS FISHING CHALLENGE!!!",
           13.07
          ],
          [
           "BLUEGILL CATCH N' COOK  (100TH VIDEO SPECIAL)",
           12.67
          ],
          [
           "CRAZY TOPWATER LURE CHALLENGE",
           11.67
          ],
          [
           "FISHING URBAN WATERFALLS   (FLY FISHING)",
           8.97
          ],
          [
           "10,000 Fish Shimmer Shad   (IS IT WORTH IT??)",
           9.63
          ],
          [
           "WET WADING The James River!",
           8.08
          ],
          [
           "EPIC Live Bait Fishing (New PB)",
           13.28
          ],
          [
           "Summer Fishing Has Begun!!",
           9.93
          ],
          [
           "SHIMANO SLX DC COMBO (Unboxing And Review)",
           11.97
          ],
          [
           "MultiSpecies At The River",
           8.58
          ],
          [
           "Giant Turtle Ate Our Bluegill",
           14.07
          ],
          [
           "Canoe Fishing Adventure (Swift Creek Reservoir)",
           10.38
          ],
          [
           "NEW BIGGEST BASS OF 2020!!!",
           6.83
          ],
          [
           "Catching Vicious Sharp Toothed Fish (NEW SPECIES)",
           7.83
          ],
          [
           "Catfish LOVE The Dropshot!",
           12.68
          ],
          [
           "Trying Out The Googan Baits Saucy Swimmer",
           7.1
          ],
          [
           "MICRO Fishing In Creek",
           7.03
          ],
          [
           "WHAT DID THIS FISH EAT??",
           5.77
          ],
          [
           "LIVE BAITFISH FISHING (Two PBs Caught)",
           15.77
          ],
          [
           "CRYSTAL CLEAR Fly Fishing For Native Brook Trout",
           20.12
          ],
          [
           "HOMEMADE COKE BOTTLE FISH TRAP",
           8.35
          ],
          [
           "WE ARE CRAZY FOR WADING THIS!!!",
           14.1
          ],
          [
           "RARE Meanmouth Bass Caught?!?",
           11.18
          ],
          [
           "QUARANTINE MONDOS",
           5.17
          ],
          [
           "Fishing Thick Brush For Prespawn Bass",
           5.05
          ],
          [
           "Aggressive Bass Destroyed These Flies!!!!!",
           1.85
          ],
          [
           "Fly Fishing Backwoods Creek With Popper (My First Catch on my Fly)",
           9.2
          ],
          [
           "TFO NXT Black Label Combo Unboxing!!!",
           5.3
          ],
          [
           "These River Fish Were Finicky (Spring Fishing With the Boys)",
           3.13
          ],
          [
           "BASS SPECIES SLAM (Smallmouth, Spotted, Largemouth)",
           9.28
          ],
          [
           "EPIC FLY FISHING CHALLENGE!!! (ft. NEWFishing, FishingWithEthan)",
           11.17
          ],
          [
           "Catching My Second Bass of The Year!",
           1.47
          ],
          [
           "Richmond Fishing Expo (ft. ScottMartinChallenge, Mike Bucca)",
           8.35
          ],
          [
           "My TOP SIX FISHING MOMENTS of 2019!",
           8.28
          ],
          [
           "Late December Fishing",
           7.58
          ],
          [
           "These Striped Bass were BIG  (New Jersey) (Bottom Jigging)",
           13.17
          ],
          [
           "My First Spotted Bass (New Species)",
           7.27
          ],
          [
           "CHILLY River Fishing With Ned Rig (NEW SPECIES!!) (ft. FishingWithEthan)",
           8.93
          ],
          [
           "UNREAL Topwater Bass At The River!!",
           9.85
          ],
          [
           "Fishing the Appomattox River  (PB Smallie) (New Species)",
           8.7
          ],
          [
           "BOWFIN ATE AT MY FEET!!  (James River Fishing w/ NEWFishing)",
           5.98
          ],
          [
           "Cane Pole Fishing A Drying Creek",
           8.33
          ],
          [
           "Catching Bass using CHEAP Bluegill Swimbait!!",
           4.37
          ],
          [
           "Wading in a CRYSTAL CLEAR river for Smallmouth Bass   (New Personal Species!)",
           12.63
          ],
          [
           "5LB+ BASS COMES OFF MY HOOK! (Live Minnow Fishing)",
           5.43
          ],
          [
           "Trying out the Lunkerhunt Dragonfly Lure!",
           7.02
          ],
          [
           "My First Time Fishing A Jig",
           3.5
          ],
          [
           "Fly Fishing GORGEOUS Streams for Brook Trout",
           6.08
          ],
          [
           "LOOK WHAT HE CAUGHT (Long Beach Island. Ep 4)",
           4.33
          ],
          [
           "I Got Extremly Sea Sick (Long Beach Island. Ep 3)",
           4.2
          ],
          [
           "Using BIG Poppers to catch BIG Fish (Long Beach Island. Ep 2)",
           6.85
          ],
          [
           "The Bass of the Sea (Long Beach Island. Ep 1)",
           5.45
          ],
          [
           "I HAD TO GET IN THE WATER TO LAND THIS FISH!!!  (Fishing at UVA)",
           7.23
          ],
          [
           "Fishing at UVA! (His first bass ever)",
           5.8
          ],
          [
           "Putting Bandito Bugs to the test! (ft.EBO)",
           6.1
          ],
          [
           "My LARGEST freshwater fish",
           10.12
          ],
          [
           "FISHING TRICKSHOTS",
           2.22
          ],
          [
           "GIANT Bass Caught Out of TINY CREEK  (2019 Personal Best!) (Ft. FishingWithEthan)",
           12.88
          ],
          [
           "Fishing With My New Combo From Bass Pro Shops ( Ft. NEWFishing)",
           8.6
          ],
          [
           "STOCKING a Local Pond With Bluegill! (Ft.NEWFishing)",
           11.9
          ],
          [
           "TINY Dock Demon Bass Fishing CHALLENGE!!! (Ft.NEWFishing, EBO)",
           10
          ],
          [
           "My FIRST time using this lure",
           4.58
          ],
          [
           "CREEK Fishing in the James River",
           8.42
          ],
          [
           "Trying out the Hula Popper! (Topwater Bass)",
           4.73
          ],
          [
           "HIT RIGHT AT MY FEET ON THE SWIMBAIT!!",
           6.8
          ],
          [
           "Cheap swimbait from Wish app! (Ft. NEWFishing, FWE, and Iverson)",
           5.05
          ],
          [
           "NO WAY HE CAUGHT THIS ON A FLY! (ft. NEWFishing)",
           12.38
          ],
          [
           "Topwater Bass on the Whopper Plopper!!",
           13.1
          ],
          [
           "My Favorite Springtime Bass Lure! (2019 PB CAUGHT) FT. NEWFishing, and FishingWithEthan",
           18.97
          ],
          [
           "Swift Creek Reservoir Adventure",
           9.87
          ],
          [
           "Golf Course Pond Hopping (ft. NEWFishing)",
           12.4
          ],
          [
           "This Mini Popper Catches EVERYTHING! Spring Bloom (Part 2)",
           7.28
          ],
          [
           "Spring Bloom (Part 1) AGGRESIVE FISH DESTROY PLASTIC WORM",
           5.7
          ],
          [
           "Fishing Bear Creek State Park",
           5.05
          ],
          [
           "I REALLY need to work on my hookset (ft.FishingWithEthan)",
           4.15
          ],
          [
           "Dinks, Dinks, and more Dinks..",
           3.77
          ],
          [
           "I Can't Believe I Wasn't Recording...",
           5.12
          ],
          [
           "I LOST A GIANT (ft. FishingWithEthan)",
           9.82
          ],
          [
           "HEAT WAVE (Part 2) Nasty Pond Scum Bed Fishing",
           7.07
          ],
          [
           "HEAT WAVE (Part 1) What A Crappie Day!",
           9.15
          ],
          [
           "I Catch Everything Except a Crappie",
           8.18
          ],
          [
           "ARTIFICIAL VS LIVE BAIT Challenge!!",
           5.43
          ],
          [
           "Bobber Fishing Madness!!",
           7
          ],
          [
           "Fishing Before a Thunderstorm!! (BIG BASS CAUGHT)",
           8.43
          ],
          [
           "Fishing An Old Coal Mine!! (ft. NEWFishing)",
           5.57
          ],
          [
           "Fluke Saves The Day (ft. NEWFishing)",
           5.95
          ],
          [
           "Spring Is Just Around the Corner!",
           4.28
          ],
          [
           "Finally ended my BASS SKUNK!!",
           4.4
          ],
          [
           "UNEXPECTED FISH CAUGHT AT SMALL POND!",
           11.4
          ],
          [
           "Dead Fish Everywhere!",
           8.88
          ],
          [
           "Catching Our First Fish Of The Year?!",
           5.12
          ],
          [
           "Crappie Fishing In December",
           3.5
          ],
          [
           "Winter Biggins",
           5.98
          ],
          [
           "Catching Bass On A Broken Lure?!",
           5.2
          ]
         ],
         "hovertemplate": "performance=Normal<br>publishTime=%{x}<br>likes=%{y}<br>title=%{customdata[0]}<br>duration_min=%{customdata[1]}<extra></extra>",
         "legendgroup": "Normal",
         "marker": {
          "color": "#497174",
          "symbol": "circle"
         },
         "mode": "markers",
         "name": "Normal",
         "orientation": "v",
         "showlegend": true,
         "type": "scatter",
         "x": [
          "2023-10-24T20:29:54+00:00",
          "2023-10-17T20:31:32+00:00",
          "2023-10-03T20:28:46+00:00",
          "2023-09-26T20:31:59+00:00",
          "2023-09-19T20:27:47+00:00",
          "2023-09-12T20:27:20+00:00",
          "2023-09-05T20:26:58+00:00",
          "2023-08-29T20:28:20+00:00",
          "2023-08-22T20:30:24+00:00",
          "2023-08-15T20:28:45+00:00",
          "2023-08-01T20:28:10+00:00",
          "2023-07-25T20:28:26+00:00",
          "2023-07-11T20:28:53+00:00",
          "2023-06-20T20:27:18+00:00",
          "2023-06-13T20:29:39+00:00",
          "2023-06-06T20:29:04+00:00",
          "2023-05-30T20:28:22+00:00",
          "2023-05-23T20:28:25+00:00",
          "2023-05-16T20:30:34+00:00",
          "2023-05-02T20:30:13+00:00",
          "2023-04-25T20:29:23+00:00",
          "2023-04-11T20:28:40+00:00",
          "2023-04-04T20:29:52+00:00",
          "2023-03-28T20:28:55+00:00",
          "2023-03-21T20:28:39+00:00",
          "2023-03-14T20:29:56+00:00",
          "2023-03-07T21:27:28+00:00",
          "2023-02-28T21:29:26+00:00",
          "2023-02-21T21:28:20+00:00",
          "2023-02-14T21:29:39+00:00",
          "2023-02-07T21:28:53+00:00",
          "2023-01-31T21:30:05+00:00",
          "2023-01-24T21:30:28+00:00",
          "2023-01-17T21:30:37+00:00",
          "2023-01-03T21:32:57+00:00",
          "2022-12-27T21:27:51+00:00",
          "2022-12-20T20:42:47+00:00",
          "2022-12-13T21:29:54+00:00",
          "2022-12-06T21:28:58+00:00",
          "2022-11-22T21:27:07+00:00",
          "2022-11-15T21:30:16+00:00",
          "2022-11-08T21:30:52+00:00",
          "2022-11-01T20:28:40+00:00",
          "2022-10-25T20:30:58+00:00",
          "2022-10-11T20:30:02+00:00",
          "2022-10-04T20:31:08+00:00",
          "2022-09-27T20:31:56+00:00",
          "2022-09-20T20:30:42+00:00",
          "2022-09-13T20:29:52+00:00",
          "2022-09-06T20:33:20+00:00",
          "2022-08-16T15:16:02+00:00",
          "2022-08-09T15:16:02+00:00",
          "2022-07-26T15:00:13+00:00",
          "2022-07-19T15:16:11+00:00",
          "2022-07-05T15:14:29+00:00",
          "2022-06-13T18:57:00+00:00",
          "2022-05-29T12:20:01+00:00",
          "2022-05-15T12:25:00+00:00",
          "2022-05-01T12:15:02+00:00",
          "2022-04-23T14:45:04+00:00",
          "2022-04-02T14:39:23+00:00",
          "2022-03-19T14:45:03+00:00",
          "2022-03-12T15:37:55+00:00",
          "2022-03-05T14:15:01+00:00",
          "2022-02-19T16:45:02+00:00",
          "2022-02-05T17:12:52+00:00",
          "2022-01-29T16:45:59+00:00",
          "2022-01-22T16:46:08+00:00",
          "2022-01-06T23:45:00+00:00",
          "2022-01-01T16:40:00+00:00",
          "2021-12-18T16:00:12+00:00",
          "2021-12-11T17:15:01+00:00",
          "2021-12-03T00:15:00+00:00",
          "2021-11-27T00:00:04+00:00",
          "2021-11-18T00:00:01+00:00",
          "2021-11-11T00:00:26+00:00",
          "2021-11-04T21:00:04+00:00",
          "2021-10-28T16:15:00+00:00",
          "2021-10-21T16:15:03+00:00",
          "2021-10-14T16:15:00+00:00",
          "2021-10-07T16:15:01+00:00",
          "2021-09-30T16:15:05+00:00",
          "2021-09-25T16:15:00+00:00",
          "2021-09-23T16:15:00+00:00",
          "2021-09-18T16:15:01+00:00",
          "2021-09-02T16:15:01+00:00",
          "2021-08-28T16:15:01+00:00",
          "2021-08-26T16:15:01+00:00",
          "2021-08-21T16:30:00+00:00",
          "2021-08-19T16:15:30+00:00",
          "2021-08-17T16:00:14+00:00",
          "2021-08-14T14:30:10+00:00",
          "2021-08-12T16:00:15+00:00",
          "2021-08-10T16:00:04+00:00",
          "2021-08-05T16:00:33+00:00",
          "2021-08-03T16:00:24+00:00",
          "2021-07-29T16:00:09+00:00",
          "2021-07-27T15:00:05+00:00",
          "2021-07-22T16:00:26+00:00",
          "2021-07-13T14:07:45+00:00",
          "2021-06-29T14:33:57+00:00",
          "2021-06-22T15:08:12+00:00",
          "2021-06-15T14:02:27+00:00",
          "2021-06-08T14:00:16+00:00",
          "2021-06-01T14:00:09+00:00",
          "2021-05-25T21:00:14+00:00",
          "2021-05-21T17:49:23+00:00",
          "2021-05-18T21:00:32+00:00",
          "2021-05-11T21:00:07+00:00",
          "2021-05-04T20:59:35+00:00",
          "2021-04-27T21:00:30+00:00",
          "2021-04-20T19:05:21+00:00",
          "2021-04-17T22:00:15+00:00",
          "2021-04-14T21:00:19+00:00",
          "2021-04-12T16:00:03+00:00",
          "2021-03-31T21:30:02+00:00",
          "2021-03-29T19:00:14+00:00",
          "2021-03-24T21:30:16+00:00",
          "2021-03-22T19:00:16+00:00",
          "2021-03-18T22:00:01+00:00",
          "2021-03-15T19:00:00+00:00",
          "2021-03-12T16:30:06+00:00",
          "2021-03-11T23:00:12+00:00",
          "2021-03-05T21:00:06+00:00",
          "2021-02-28T23:15:00+00:00",
          "2021-02-22T16:57:08+00:00",
          "2021-02-19T22:00:07+00:00",
          "2021-02-12T21:00:06+00:00",
          "2021-02-08T19:15:00+00:00",
          "2021-02-01T19:00:08+00:00",
          "2021-01-29T20:45:00+00:00",
          "2021-01-24T00:00:02+00:00",
          "2021-01-20T19:30:01+00:00",
          "2021-01-17T19:15:00+00:00",
          "2021-01-07T18:00:00+00:00",
          "2021-01-01T19:30:02+00:00",
          "2020-12-26T18:30:10+00:00",
          "2020-12-21T19:59:07+00:00",
          "2020-12-09T19:45:00+00:00",
          "2020-12-05T13:00:12+00:00",
          "2020-11-26T16:22:31+00:00",
          "2020-11-15T19:57:13+00:00",
          "2020-11-14T16:28:26+00:00",
          "2020-10-12T23:10:52+00:00",
          "2020-10-03T03:23:41+00:00",
          "2020-09-29T02:03:43+00:00",
          "2020-09-19T01:55:53+00:00",
          "2020-09-13T23:37:40+00:00",
          "2020-09-08T02:22:36+00:00",
          "2020-09-04T23:06:47+00:00",
          "2020-09-01T16:46:31+00:00",
          "2020-08-27T16:32:36+00:00",
          "2020-08-26T14:56:44+00:00",
          "2020-08-22T14:27:50+00:00",
          "2020-08-20T13:32:10+00:00",
          "2020-08-19T01:00:46+00:00",
          "2020-08-15T17:46:28+00:00",
          "2020-08-12T22:22:07+00:00",
          "2020-08-08T21:06:13+00:00",
          "2020-08-04T18:13:30+00:00",
          "2020-08-02T21:53:18+00:00",
          "2020-07-30T21:53:03+00:00",
          "2020-07-20T22:36:35+00:00",
          "2020-07-12T21:21:03+00:00",
          "2020-06-10T04:00:10+00:00",
          "2020-06-06T18:51:38+00:00",
          "2020-06-03T21:30:09+00:00",
          "2020-05-30T13:59:31+00:00",
          "2020-05-28T03:02:37+00:00",
          "2020-05-23T04:02:50+00:00",
          "2020-05-19T15:28:38+00:00",
          "2020-05-18T14:42:27+00:00",
          "2020-05-10T02:22:16+00:00",
          "2020-05-08T04:11:12+00:00",
          "2020-05-05T15:55:36+00:00",
          "2020-04-30T21:43:58+00:00",
          "2020-04-25T02:06:16+00:00",
          "2020-04-21T23:16:36+00:00",
          "2020-04-19T02:20:56+00:00",
          "2020-04-13T15:37:39+00:00",
          "2020-04-09T03:23:20+00:00",
          "2020-04-05T20:27:29+00:00",
          "2020-03-31T00:41:52+00:00",
          "2020-03-28T21:48:41+00:00",
          "2020-03-26T20:03:27+00:00",
          "2020-03-14T17:28:49+00:00",
          "2020-03-14T00:43:50+00:00",
          "2020-03-08T00:41:11+00:00",
          "2020-01-25T23:39:51+00:00",
          "2020-01-19T23:37:02+00:00",
          "2019-12-31T04:45:06+00:00",
          "2019-12-29T22:00:28+00:00",
          "2019-12-02T00:28:33+00:00",
          "2019-11-07T02:18:25+00:00",
          "2019-11-03T01:30:15+00:00",
          "2019-10-31T02:31:36+00:00",
          "2019-10-14T00:19:36+00:00",
          "2019-10-13T21:45:52+00:00",
          "2019-10-12T17:29:57+00:00",
          "2019-10-06T18:53:39+00:00",
          "2019-10-01T22:09:32+00:00",
          "2019-09-23T21:19:10+00:00",
          "2019-09-15T18:20:31+00:00",
          "2019-08-30T22:02:51+00:00",
          "2019-08-28T19:24:27+00:00",
          "2019-08-26T02:20:38+00:00",
          "2019-08-23T17:18:47+00:00",
          "2019-08-23T00:37:39+00:00",
          "2019-08-22T22:13:07+00:00",
          "2019-07-27T17:13:55+00:00",
          "2019-07-21T18:34:13+00:00",
          "2019-06-30T13:31:55+00:00",
          "2019-06-29T23:07:24+00:00",
          "2019-06-27T22:47:57+00:00",
          "2019-06-17T15:41:20+00:00",
          "2019-06-15T21:04:34+00:00",
          "2019-06-14T18:57:06+00:00",
          "2019-06-12T22:35:01+00:00",
          "2019-06-09T23:11:34+00:00",
          "2019-06-06T02:14:56+00:00",
          "2019-06-04T17:59:48+00:00",
          "2019-06-02T02:28:18+00:00",
          "2019-05-25T20:48:24+00:00",
          "2019-05-19T13:29:45+00:00",
          "2019-05-13T02:58:37+00:00",
          "2019-05-11T20:51:16+00:00",
          "2019-05-04T23:35:34+00:00",
          "2019-04-18T00:30:35+00:00",
          "2019-04-12T01:53:50+00:00",
          "2019-04-09T03:05:09+00:00",
          "2019-04-08T01:44:48+00:00",
          "2019-04-05T03:01:14+00:00",
          "2019-04-04T02:43:16+00:00",
          "2019-04-01T15:26:50+00:00",
          "2019-03-31T19:04:58+00:00",
          "2019-03-30T16:47:20+00:00",
          "2019-03-30T03:24:52+00:00",
          "2019-03-23T13:46:07+00:00",
          "2019-03-18T01:53:20+00:00",
          "2019-03-17T03:20:49+00:00",
          "2019-03-16T14:44:54+00:00",
          "2019-03-11T01:32:11+00:00",
          "2019-03-08T22:10:33+00:00",
          "2019-02-16T15:22:40+00:00",
          "2019-02-10T03:52:01+00:00",
          "2019-01-27T23:06:51+00:00",
          "2019-01-20T19:32:41+00:00",
          "2019-01-06T22:47:12+00:00",
          "2018-12-24T05:46:17+00:00",
          "2018-12-21T00:07:13+00:00",
          "2018-12-16T18:17:35+00:00"
         ],
         "xaxis": "x",
         "y": [
          310,
          698,
          766,
          990,
          723,
          791,
          890,
          976,
          1178,
          1124,
          1481,
          1881,
          1721,
          1641,
          1610,
          1602,
          1626,
          1063,
          1128,
          2171,
          2204,
          1492,
          797,
          2164,
          810,
          1502,
          1774,
          1747,
          909,
          415,
          791,
          676,
          1237,
          620,
          354,
          338,
          447,
          476,
          645,
          365,
          713,
          840,
          504,
          1817,
          867,
          1274,
          935,
          1002,
          1243,
          1327,
          1493,
          1123,
          1166,
          681,
          1618,
          1075,
          2071,
          1095,
          2116,
          748,
          1349,
          1493,
          1211,
          420,
          759,
          468,
          916,
          1113,
          385,
          270,
          842,
          1074,
          393,
          309,
          388,
          1014,
          486,
          1564,
          657,
          830,
          1998,
          1411,
          1001,
          935,
          1137,
          1483,
          1258,
          2115,
          601,
          1695,
          669,
          1400,
          602,
          1591,
          968,
          864,
          1806,
          364,
          344,
          107,
          388,
          1099,
          780,
          626,
          1578,
          174,
          178,
          112,
          190,
          165,
          177,
          120,
          111,
          86,
          82,
          162,
          80,
          324,
          111,
          135,
          189,
          106,
          143,
          120,
          103,
          121,
          110,
          130,
          165,
          133,
          119,
          282,
          85,
          147,
          166,
          168,
          140,
          358,
          179,
          93,
          96,
          164,
          628,
          190,
          143,
          182,
          143,
          161,
          278,
          126,
          502,
          131,
          124,
          133,
          158,
          174,
          167,
          391,
          349,
          278,
          281,
          191,
          95,
          169,
          40,
          429,
          31,
          19,
          40,
          28,
          31,
          93,
          263,
          19,
          16,
          63,
          150,
          17,
          16,
          25,
          14,
          14,
          13,
          38,
          101,
          11,
          13,
          12,
          15,
          28,
          18,
          9,
          18,
          16,
          16,
          14,
          34,
          21,
          28,
          96,
          16,
          10,
          82,
          14,
          18,
          9,
          12,
          17,
          15,
          18,
          28,
          20,
          33,
          25,
          45,
          16,
          8,
          20,
          10,
          18,
          479,
          11,
          106,
          8,
          20,
          9,
          14,
          13,
          11,
          8,
          12,
          14,
          11,
          12,
          7,
          11,
          10,
          14,
          18,
          30,
          13,
          19,
          24,
          19,
          16,
          22,
          21,
          27,
          23,
          31,
          35
         ],
         "yaxis": "y"
        },
        {
         "customdata": [
          [
           "The YinTin's First Tournament! (WE WON)",
           11.63
          ],
          [
           "I Built A PREMIUM Pond Hopping Tackle Box!!",
           18.52
          ],
          [
           "I Tried Fishing With GIANT Worms!! (NEW PB)",
           11.3
          ],
          [
           "I Went Fishing With Realistic Baits!!",
           11.87
          ],
          [
           "I Went Fishing At My Childhood Pond!!",
           17.23
          ],
          [
           "I Went Fishing At A Cliffside Pond!",
           16.82
          ],
          [
           "I Went Fishing With The Kraziest Looking Combos",
           10.1
          ],
          [
           "I Fished Florida’s Best Private Lakes!",
           12.67
          ],
          [
           "I Went Fishing With My Old Gear..",
           12.17
          ],
          [
           "I Got A Fishing Paddle Board!!",
           14.12
          ],
          [
           "FRANKENFISH CATCH N' COOK (So Delicious!!)",
           15.78
          ],
          [
           "thank you",
           8.38
          ],
          [
           "GOOGLE MAPS Pond Was LOADED With Fish!!",
           10.08
          ],
          [
           "MICRO Fishing A PUDDLE! (Insanely Difficult)",
           8.23
          ],
          [
           "GHOST PEPPER CHIP FISHING CHALLENGE (Painful)",
           11.43
          ],
          [
           "WHAT'S IN MY FISHING BACKPACK?!? (+ROD AND REELS)",
           8.77
          ],
          [
           "Caught In A Storm (This Is BAD)",
           8.8
          ],
          [
           "NIGHTTIME Catfishing (Channels, Brown Bullheads, Perch)",
           9
          ],
          [
           "Fishing Off SKETCHY Tree (River Fishing)",
           8.85
          ],
          [
           "Fishing PUDDLES",
           10.43
          ],
          [
           "Catching First Bass On My New SLX DC",
           6.7
          ],
          [
           "Creek Fishing My Backyard!",
           10.52
          ],
          [
           "POND FISHING IN DECEMBER [Giant Perch Caught]",
           6.28
          ]
         ],
         "hovertemplate": "performance=Hit<br>publishTime=%{x}<br>likes=%{y}<br>title=%{customdata[0]}<br>duration_min=%{customdata[1]}<extra></extra>",
         "legendgroup": "Hit",
         "marker": {
          "color": "#EB6440",
          "symbol": "circle"
         },
         "mode": "markers",
         "name": "Hit",
         "orientation": "v",
         "showlegend": true,
         "type": "scatter",
         "x": [
          "2023-07-18T20:30:48+00:00",
          "2023-07-04T20:23:20+00:00",
          "2023-06-27T20:32:56+00:00",
          "2023-05-09T20:30:33+00:00",
          "2023-01-10T21:31:35+00:00",
          "2022-08-23T15:15:41+00:00",
          "2022-06-21T15:00:54+00:00",
          "2022-04-09T14:40:00+00:00",
          "2021-09-09T16:15:03+00:00",
          "2021-09-04T16:15:00+00:00",
          "2021-07-20T15:00:24+00:00",
          "2021-07-15T16:00:22+00:00",
          "2021-05-30T23:49:49+00:00",
          "2021-05-17T00:00:05+00:00",
          "2021-02-05T21:00:13+00:00",
          "2020-08-06T02:47:06+00:00",
          "2020-07-25T02:30:14+00:00",
          "2020-07-14T22:07:04+00:00",
          "2020-07-06T02:45:55+00:00",
          "2020-06-30T03:18:38+00:00",
          "2020-06-07T14:00:13+00:00",
          "2020-03-21T01:54:15+00:00",
          "2018-12-08T03:21:50+00:00"
         ],
         "xaxis": "x",
         "y": [
          4558,
          2418,
          3959,
          2987,
          2387,
          2764,
          5996,
          2276,
          2608,
          2839,
          253,
          252,
          3614,
          3725,
          221,
          244,
          51,
          57,
          48,
          48,
          60,
          54,
          252
         ],
         "yaxis": "y"
        },
        {
         "hovertemplate": "publishTime=%{x}<br>normal_rolling_average=%{y}<extra></extra>",
         "legendgroup": "",
         "line": {
          "color": "#497174",
          "dash": "solid"
         },
         "marker": {
          "symbol": "circle"
         },
         "mode": "lines",
         "name": "",
         "orientation": "v",
         "showlegend": false,
         "type": "scatter",
         "x": [
          "2023-10-24T20:29:54+00:00",
          "2023-10-17T20:31:32+00:00",
          "2023-10-03T20:28:46+00:00",
          "2023-09-26T20:31:59+00:00",
          "2023-09-19T20:27:47+00:00",
          "2023-09-12T20:27:20+00:00",
          "2023-09-05T20:26:58+00:00",
          "2023-08-29T20:28:20+00:00",
          "2023-08-22T20:30:24+00:00",
          "2023-08-15T20:28:45+00:00",
          "2023-08-01T20:28:10+00:00",
          "2023-07-25T20:28:26+00:00",
          "2023-07-11T20:28:53+00:00",
          "2023-06-20T20:27:18+00:00",
          "2023-06-13T20:29:39+00:00",
          "2023-06-06T20:29:04+00:00",
          "2023-05-30T20:28:22+00:00",
          "2023-05-23T20:28:25+00:00",
          "2023-05-16T20:30:34+00:00",
          "2023-05-02T20:30:13+00:00",
          "2023-04-25T20:29:23+00:00",
          "2023-04-11T20:28:40+00:00",
          "2023-04-04T20:29:52+00:00",
          "2023-03-28T20:28:55+00:00",
          "2023-03-21T20:28:39+00:00",
          "2023-03-14T20:29:56+00:00",
          "2023-03-07T21:27:28+00:00",
          "2023-02-28T21:29:26+00:00",
          "2023-02-21T21:28:20+00:00",
          "2023-02-14T21:29:39+00:00",
          "2023-02-07T21:28:53+00:00",
          "2023-01-31T21:30:05+00:00",
          "2023-01-24T21:30:28+00:00",
          "2023-01-17T21:30:37+00:00",
          "2023-01-03T21:32:57+00:00",
          "2022-12-27T21:27:51+00:00",
          "2022-12-20T20:42:47+00:00",
          "2022-12-13T21:29:54+00:00",
          "2022-12-06T21:28:58+00:00",
          "2022-11-22T21:27:07+00:00",
          "2022-11-15T21:30:16+00:00",
          "2022-11-08T21:30:52+00:00",
          "2022-11-01T20:28:40+00:00",
          "2022-10-25T20:30:58+00:00",
          "2022-10-11T20:30:02+00:00",
          "2022-10-04T20:31:08+00:00",
          "2022-09-27T20:31:56+00:00",
          "2022-09-20T20:30:42+00:00",
          "2022-09-13T20:29:52+00:00",
          "2022-09-06T20:33:20+00:00",
          "2022-08-16T15:16:02+00:00",
          "2022-08-09T15:16:02+00:00",
          "2022-07-26T15:00:13+00:00",
          "2022-07-19T15:16:11+00:00",
          "2022-07-05T15:14:29+00:00",
          "2022-06-13T18:57:00+00:00",
          "2022-05-29T12:20:01+00:00",
          "2022-05-15T12:25:00+00:00",
          "2022-05-01T12:15:02+00:00",
          "2022-04-23T14:45:04+00:00",
          "2022-04-02T14:39:23+00:00",
          "2022-03-19T14:45:03+00:00",
          "2022-03-12T15:37:55+00:00",
          "2022-03-05T14:15:01+00:00",
          "2022-02-19T16:45:02+00:00",
          "2022-02-05T17:12:52+00:00",
          "2022-01-29T16:45:59+00:00",
          "2022-01-22T16:46:08+00:00",
          "2022-01-06T23:45:00+00:00",
          "2022-01-01T16:40:00+00:00",
          "2021-12-18T16:00:12+00:00",
          "2021-12-11T17:15:01+00:00",
          "2021-12-03T00:15:00+00:00",
          "2021-11-27T00:00:04+00:00",
          "2021-11-18T00:00:01+00:00",
          "2021-11-11T00:00:26+00:00",
          "2021-11-04T21:00:04+00:00",
          "2021-10-28T16:15:00+00:00",
          "2021-10-21T16:15:03+00:00",
          "2021-10-14T16:15:00+00:00",
          "2021-10-07T16:15:01+00:00",
          "2021-09-30T16:15:05+00:00",
          "2021-09-25T16:15:00+00:00",
          "2021-09-23T16:15:00+00:00",
          "2021-09-18T16:15:01+00:00",
          "2021-09-02T16:15:01+00:00",
          "2021-08-28T16:15:01+00:00",
          "2021-08-26T16:15:01+00:00",
          "2021-08-21T16:30:00+00:00",
          "2021-08-19T16:15:30+00:00",
          "2021-08-17T16:00:14+00:00",
          "2021-08-14T14:30:10+00:00",
          "2021-08-12T16:00:15+00:00",
          "2021-08-10T16:00:04+00:00",
          "2021-08-05T16:00:33+00:00",
          "2021-08-03T16:00:24+00:00",
          "2021-07-29T16:00:09+00:00",
          "2021-07-27T15:00:05+00:00",
          "2021-07-22T16:00:26+00:00",
          "2021-07-13T14:07:45+00:00",
          "2021-06-29T14:33:57+00:00",
          "2021-06-22T15:08:12+00:00",
          "2021-06-15T14:02:27+00:00",
          "2021-06-08T14:00:16+00:00",
          "2021-06-01T14:00:09+00:00",
          "2021-05-25T21:00:14+00:00",
          "2021-05-21T17:49:23+00:00",
          "2021-05-18T21:00:32+00:00",
          "2021-05-11T21:00:07+00:00",
          "2021-05-04T20:59:35+00:00",
          "2021-04-27T21:00:30+00:00",
          "2021-04-20T19:05:21+00:00",
          "2021-04-17T22:00:15+00:00",
          "2021-04-14T21:00:19+00:00",
          "2021-04-12T16:00:03+00:00",
          "2021-03-31T21:30:02+00:00",
          "2021-03-29T19:00:14+00:00",
          "2021-03-24T21:30:16+00:00",
          "2021-03-22T19:00:16+00:00",
          "2021-03-18T22:00:01+00:00",
          "2021-03-15T19:00:00+00:00",
          "2021-03-12T16:30:06+00:00",
          "2021-03-11T23:00:12+00:00",
          "2021-03-05T21:00:06+00:00",
          "2021-02-28T23:15:00+00:00",
          "2021-02-22T16:57:08+00:00",
          "2021-02-19T22:00:07+00:00",
          "2021-02-12T21:00:06+00:00",
          "2021-02-08T19:15:00+00:00",
          "2021-02-01T19:00:08+00:00",
          "2021-01-29T20:45:00+00:00",
          "2021-01-24T00:00:02+00:00",
          "2021-01-20T19:30:01+00:00",
          "2021-01-17T19:15:00+00:00",
          "2021-01-07T18:00:00+00:00",
          "2021-01-01T19:30:02+00:00",
          "2020-12-26T18:30:10+00:00",
          "2020-12-21T19:59:07+00:00",
          "2020-12-09T19:45:00+00:00",
          "2020-12-05T13:00:12+00:00",
          "2020-11-26T16:22:31+00:00",
          "2020-11-15T19:57:13+00:00",
          "2020-11-14T16:28:26+00:00",
          "2020-10-12T23:10:52+00:00",
          "2020-10-03T03:23:41+00:00",
          "2020-09-29T02:03:43+00:00",
          "2020-09-19T01:55:53+00:00",
          "2020-09-13T23:37:40+00:00",
          "2020-09-08T02:22:36+00:00",
          "2020-09-04T23:06:47+00:00",
          "2020-09-01T16:46:31+00:00",
          "2020-08-27T16:32:36+00:00",
          "2020-08-26T14:56:44+00:00",
          "2020-08-22T14:27:50+00:00",
          "2020-08-20T13:32:10+00:00",
          "2020-08-19T01:00:46+00:00",
          "2020-08-15T17:46:28+00:00",
          "2020-08-12T22:22:07+00:00",
          "2020-08-08T21:06:13+00:00",
          "2020-08-04T18:13:30+00:00",
          "2020-08-02T21:53:18+00:00",
          "2020-07-30T21:53:03+00:00",
          "2020-07-20T22:36:35+00:00",
          "2020-07-12T21:21:03+00:00",
          "2020-06-10T04:00:10+00:00",
          "2020-06-06T18:51:38+00:00",
          "2020-06-03T21:30:09+00:00",
          "2020-05-30T13:59:31+00:00",
          "2020-05-28T03:02:37+00:00",
          "2020-05-23T04:02:50+00:00",
          "2020-05-19T15:28:38+00:00",
          "2020-05-18T14:42:27+00:00",
          "2020-05-10T02:22:16+00:00",
          "2020-05-08T04:11:12+00:00",
          "2020-05-05T15:55:36+00:00",
          "2020-04-30T21:43:58+00:00",
          "2020-04-25T02:06:16+00:00",
          "2020-04-21T23:16:36+00:00",
          "2020-04-19T02:20:56+00:00",
          "2020-04-13T15:37:39+00:00",
          "2020-04-09T03:23:20+00:00",
          "2020-04-05T20:27:29+00:00",
          "2020-03-31T00:41:52+00:00",
          "2020-03-28T21:48:41+00:00",
          "2020-03-26T20:03:27+00:00",
          "2020-03-14T17:28:49+00:00",
          "2020-03-14T00:43:50+00:00",
          "2020-03-08T00:41:11+00:00",
          "2020-01-25T23:39:51+00:00",
          "2020-01-19T23:37:02+00:00",
          "2019-12-31T04:45:06+00:00",
          "2019-12-29T22:00:28+00:00",
          "2019-12-02T00:28:33+00:00",
          "2019-11-07T02:18:25+00:00",
          "2019-11-03T01:30:15+00:00",
          "2019-10-31T02:31:36+00:00",
          "2019-10-14T00:19:36+00:00",
          "2019-10-13T21:45:52+00:00",
          "2019-10-12T17:29:57+00:00",
          "2019-10-06T18:53:39+00:00",
          "2019-10-01T22:09:32+00:00",
          "2019-09-23T21:19:10+00:00",
          "2019-09-15T18:20:31+00:00",
          "2019-08-30T22:02:51+00:00",
          "2019-08-28T19:24:27+00:00",
          "2019-08-26T02:20:38+00:00",
          "2019-08-23T17:18:47+00:00",
          "2019-08-23T00:37:39+00:00",
          "2019-08-22T22:13:07+00:00",
          "2019-07-27T17:13:55+00:00",
          "2019-07-21T18:34:13+00:00",
          "2019-06-30T13:31:55+00:00",
          "2019-06-29T23:07:24+00:00",
          "2019-06-27T22:47:57+00:00",
          "2019-06-17T15:41:20+00:00",
          "2019-06-15T21:04:34+00:00",
          "2019-06-14T18:57:06+00:00",
          "2019-06-12T22:35:01+00:00",
          "2019-06-09T23:11:34+00:00",
          "2019-06-06T02:14:56+00:00",
          "2019-06-04T17:59:48+00:00",
          "2019-06-02T02:28:18+00:00",
          "2019-05-25T20:48:24+00:00",
          "2019-05-19T13:29:45+00:00",
          "2019-05-13T02:58:37+00:00",
          "2019-05-11T20:51:16+00:00",
          "2019-05-04T23:35:34+00:00",
          "2019-04-18T00:30:35+00:00",
          "2019-04-12T01:53:50+00:00",
          "2019-04-09T03:05:09+00:00",
          "2019-04-08T01:44:48+00:00",
          "2019-04-05T03:01:14+00:00",
          "2019-04-04T02:43:16+00:00",
          "2019-04-01T15:26:50+00:00",
          "2019-03-31T19:04:58+00:00",
          "2019-03-30T16:47:20+00:00",
          "2019-03-30T03:24:52+00:00",
          "2019-03-23T13:46:07+00:00",
          "2019-03-18T01:53:20+00:00",
          "2019-03-17T03:20:49+00:00",
          "2019-03-16T14:44:54+00:00",
          "2019-03-11T01:32:11+00:00",
          "2019-03-08T22:10:33+00:00",
          "2019-02-16T15:22:40+00:00",
          "2019-02-10T03:52:01+00:00",
          "2019-01-27T23:06:51+00:00",
          "2019-01-20T19:32:41+00:00",
          "2019-01-06T22:47:12+00:00",
          "2018-12-24T05:46:17+00:00",
          "2018-12-21T00:07:13+00:00",
          "2018-12-16T18:17:35+00:00"
         ],
         "xaxis": "x",
         "y": [
          null,
          null,
          null,
          null,
          null,
          null,
          null,
          null,
          null,
          null,
          null,
          984,
          1101.5833333333333,
          1180.1666666666667,
          1250.5,
          1301.5,
          1376.75,
          1399.4166666666667,
          1419.25,
          1518.8333333333333,
          1604.3333333333333,
          1635,
          1578,
          1601.5833333333333,
          1525.6666666666667,
          1514.0833333333333,
          1527.75,
          1539.8333333333333,
          1480.0833333333333,
          1426.0833333333333,
          1398,
          1273.4166666666667,
          1192.8333333333333,
          1120.1666666666667,
          1083.25,
          931.0833333333334,
          900.8333333333334,
          815.3333333333334,
          721.25,
          606.0833333333334,
          589.75,
          625.1666666666666,
          601.25,
          696.3333333333334,
          665.5,
          720,
          768.4166666666666,
          823.75,
          890.0833333333334,
          961,
          1031.6666666666667,
          1094.8333333333333,
          1132.5833333333333,
          1119.3333333333333,
          1212.1666666666667,
          1150.3333333333333,
          1250.6666666666667,
          1235.75,
          1334.1666666666667,
          1313,
          1321.8333333333333,
          1335.6666666666667,
          1312.1666666666667,
          1253.5833333333333,
          1219.6666666666667,
          1201.9166666666667,
          1143.4166666666667,
          1146.5833333333333,
          1006.0833333333334,
          937.3333333333334,
          831.1666666666666,
          858.3333333333334,
          778.6666666666666,
          680,
          611.4166666666666,
          660.9166666666666,
          638.1666666666666,
          729.5,
          707.9166666666666,
          684.3333333333334,
          818.75,
          913.8333333333334,
          927.0833333333334,
          915.5,
          977.5,
          1075.3333333333333,
          1147.8333333333333,
          1239.5833333333333,
          1249.1666666666667,
          1260.0833333333333,
          1261.0833333333333,
          1308.5833333333333,
          1192.25,
          1207.25,
          1204.5,
          1198.5833333333333,
          1254.3333333333333,
          1161.0833333333333,
          1084.9166666666667,
          917.5833333333334,
          899.8333333333334,
          850.1666666666666,
          859.4166666666666,
          794.9166666666666,
          876.25,
          758.1666666666666,
          692.3333333333334,
          629.6666666666666,
          495,
          478.4166666666667,
          464.5,
          465.5833333333333,
          442.5,
          358.0833333333333,
          299.9166666666667,
          261.25,
          136.41666666666666,
          148.91666666666666,
          143.33333333333334,
          145.25,
          145.16666666666666,
          140.25,
          137.41666666666666,
          137.41666666666666,
          136.75,
          139.66666666666666,
          142,
          139.33333333333334,
          146.41666666666666,
          130.5,
          131.16666666666666,
          143.41666666666666,
          134.75,
          138.16666666666666,
          140.08333333333334,
          144.08333333333334,
          147.16666666666666,
          166.91666666666666,
          172.66666666666666,
          169.58333333333334,
          163.83333333333334,
          166.41666666666666,
          208.83333333333334,
          201.16666666666666,
          206,
          208.91666666666666,
          207,
          206.41666666666666,
          217.91666666666666,
          198.58333333333334,
          225.5,
          228.66666666666666,
          231,
          228.41666666666666,
          189.25,
          187.91666666666666,
          189.91666666666666,
          207.33333333333334,
          224.5,
          234.25,
          234.5,
          239.91666666666666,
          206,
          209.16666666666666,
          202.16666666666666,
          226.83333333333334,
          216.25,
          203.33333333333334,
          192.75,
          162.5,
          136,
          120.58333333333333,
          119.08333333333333,
          104.75,
          98.16666666666667,
          89.33333333333333,
          98.5,
          64.16666666666667,
          62.916666666666664,
          63.416666666666664,
          61.25,
          60.083333333333336,
          58.583333333333336,
          54,
          40.5,
          39.833333333333336,
          39.583333333333336,
          35.333333333333336,
          24.083333333333332,
          25,
          25.166666666666668,
          23.833333333333332,
          24.166666666666668,
          24.333333333333332,
          24.583333333333332,
          22.583333333333332,
          17,
          17.833333333333332,
          19.083333333333332,
          26.083333333333332,
          26.166666666666668,
          24.666666666666668,
          30,
          30.416666666666668,
          30.416666666666668,
          29.833333333333332,
          29.5,
          29.75,
          28.166666666666668,
          27.916666666666668,
          27.916666666666668,
          21.583333333333332,
          23,
          24.25,
          21.166666666666668,
          21.333333333333332,
          20.5,
          21.416666666666668,
          21.25,
          21.333333333333332,
          60,
          59.416666666666664,
          65.91666666666667,
          64.91666666666667,
          63.833333333333336,
          62.5,
          59.916666666666664,
          59.666666666666664,
          59.916666666666664,
          58.916666666666664,
          59.083333333333336,
          58.75,
          19.75,
          19.833333333333332,
          11.583333333333334,
          11.833333333333334,
          11,
          11.416666666666666,
          11.75,
          13.166666666666666,
          13.333333333333334,
          14.25,
          15.25,
          15.666666666666666,
          16.083333333333332,
          16.916666666666668,
          18.083333333333332,
          19.416666666666668,
          20.5,
          21.916666666666668,
          23.333333333333332
         ],
         "yaxis": "y"
        }
       ],
       "layout": {
        "height": 600,
        "legend": {
         "itemsizing": "constant",
         "title": {
          "text": "Performance"
         },
         "traceorder": "reversed"
        },
        "plot_bgcolor": "#D6E4E5",
        "template": {
         "data": {
          "bar": [
           {
            "error_x": {
             "color": "#2a3f5f"
            },
            "error_y": {
             "color": "#2a3f5f"
            },
            "marker": {
             "line": {
              "color": "#E5ECF6",
              "width": 0.5
             },
             "pattern": {
              "fillmode": "overlay",
              "size": 10,
              "solidity": 0.2
             }
            },
            "type": "bar"
           }
          ],
          "barpolar": [
           {
            "marker": {
             "line": {
              "color": "#E5ECF6",
              "width": 0.5
             },
             "pattern": {
              "fillmode": "overlay",
              "size": 10,
              "solidity": 0.2
             }
            },
            "type": "barpolar"
           }
          ],
          "carpet": [
           {
            "aaxis": {
             "endlinecolor": "#2a3f5f",
             "gridcolor": "white",
             "linecolor": "white",
             "minorgridcolor": "white",
             "startlinecolor": "#2a3f5f"
            },
            "baxis": {
             "endlinecolor": "#2a3f5f",
             "gridcolor": "white",
             "linecolor": "white",
             "minorgridcolor": "white",
             "startlinecolor": "#2a3f5f"
            },
            "type": "carpet"
           }
          ],
          "choropleth": [
           {
            "colorbar": {
             "outlinewidth": 0,
             "ticks": ""
            },
            "type": "choropleth"
           }
          ],
          "contour": [
           {
            "colorbar": {
             "outlinewidth": 0,
             "ticks": ""
            },
            "colorscale": [
             [
              0,
              "#0d0887"
             ],
             [
              0.1111111111111111,
              "#46039f"
             ],
             [
              0.2222222222222222,
              "#7201a8"
             ],
             [
              0.3333333333333333,
              "#9c179e"
             ],
             [
              0.4444444444444444,
              "#bd3786"
             ],
             [
              0.5555555555555556,
              "#d8576b"
             ],
             [
              0.6666666666666666,
              "#ed7953"
             ],
             [
              0.7777777777777778,
              "#fb9f3a"
             ],
             [
              0.8888888888888888,
              "#fdca26"
             ],
             [
              1,
              "#f0f921"
             ]
            ],
            "type": "contour"
           }
          ],
          "contourcarpet": [
           {
            "colorbar": {
             "outlinewidth": 0,
             "ticks": ""
            },
            "type": "contourcarpet"
           }
          ],
          "heatmap": [
           {
            "colorbar": {
             "outlinewidth": 0,
             "ticks": ""
            },
            "colorscale": [
             [
              0,
              "#0d0887"
             ],
             [
              0.1111111111111111,
              "#46039f"
             ],
             [
              0.2222222222222222,
              "#7201a8"
             ],
             [
              0.3333333333333333,
              "#9c179e"
             ],
             [
              0.4444444444444444,
              "#bd3786"
             ],
             [
              0.5555555555555556,
              "#d8576b"
             ],
             [
              0.6666666666666666,
              "#ed7953"
             ],
             [
              0.7777777777777778,
              "#fb9f3a"
             ],
             [
              0.8888888888888888,
              "#fdca26"
             ],
             [
              1,
              "#f0f921"
             ]
            ],
            "type": "heatmap"
           }
          ],
          "heatmapgl": [
           {
            "colorbar": {
             "outlinewidth": 0,
             "ticks": ""
            },
            "colorscale": [
             [
              0,
              "#0d0887"
             ],
             [
              0.1111111111111111,
              "#46039f"
             ],
             [
              0.2222222222222222,
              "#7201a8"
             ],
             [
              0.3333333333333333,
              "#9c179e"
             ],
             [
              0.4444444444444444,
              "#bd3786"
             ],
             [
              0.5555555555555556,
              "#d8576b"
             ],
             [
              0.6666666666666666,
              "#ed7953"
             ],
             [
              0.7777777777777778,
              "#fb9f3a"
             ],
             [
              0.8888888888888888,
              "#fdca26"
             ],
             [
              1,
              "#f0f921"
             ]
            ],
            "type": "heatmapgl"
           }
          ],
          "histogram": [
           {
            "marker": {
             "pattern": {
              "fillmode": "overlay",
              "size": 10,
              "solidity": 0.2
             }
            },
            "type": "histogram"
           }
          ],
          "histogram2d": [
           {
            "colorbar": {
             "outlinewidth": 0,
             "ticks": ""
            },
            "colorscale": [
             [
              0,
              "#0d0887"
             ],
             [
              0.1111111111111111,
              "#46039f"
             ],
             [
              0.2222222222222222,
              "#7201a8"
             ],
             [
              0.3333333333333333,
              "#9c179e"
             ],
             [
              0.4444444444444444,
              "#bd3786"
             ],
             [
              0.5555555555555556,
              "#d8576b"
             ],
             [
              0.6666666666666666,
              "#ed7953"
             ],
             [
              0.7777777777777778,
              "#fb9f3a"
             ],
             [
              0.8888888888888888,
              "#fdca26"
             ],
             [
              1,
              "#f0f921"
             ]
            ],
            "type": "histogram2d"
           }
          ],
          "histogram2dcontour": [
           {
            "colorbar": {
             "outlinewidth": 0,
             "ticks": ""
            },
            "colorscale": [
             [
              0,
              "#0d0887"
             ],
             [
              0.1111111111111111,
              "#46039f"
             ],
             [
              0.2222222222222222,
              "#7201a8"
             ],
             [
              0.3333333333333333,
              "#9c179e"
             ],
             [
              0.4444444444444444,
              "#bd3786"
             ],
             [
              0.5555555555555556,
              "#d8576b"
             ],
             [
              0.6666666666666666,
              "#ed7953"
             ],
             [
              0.7777777777777778,
              "#fb9f3a"
             ],
             [
              0.8888888888888888,
              "#fdca26"
             ],
             [
              1,
              "#f0f921"
             ]
            ],
            "type": "histogram2dcontour"
           }
          ],
          "mesh3d": [
           {
            "colorbar": {
             "outlinewidth": 0,
             "ticks": ""
            },
            "type": "mesh3d"
           }
          ],
          "parcoords": [
           {
            "line": {
             "colorbar": {
              "outlinewidth": 0,
              "ticks": ""
             }
            },
            "type": "parcoords"
           }
          ],
          "pie": [
           {
            "automargin": true,
            "type": "pie"
           }
          ],
          "scatter": [
           {
            "fillpattern": {
             "fillmode": "overlay",
             "size": 10,
             "solidity": 0.2
            },
            "type": "scatter"
           }
          ],
          "scatter3d": [
           {
            "line": {
             "colorbar": {
              "outlinewidth": 0,
              "ticks": ""
             }
            },
            "marker": {
             "colorbar": {
              "outlinewidth": 0,
              "ticks": ""
             }
            },
            "type": "scatter3d"
           }
          ],
          "scattercarpet": [
           {
            "marker": {
             "colorbar": {
              "outlinewidth": 0,
              "ticks": ""
             }
            },
            "type": "scattercarpet"
           }
          ],
          "scattergeo": [
           {
            "marker": {
             "colorbar": {
              "outlinewidth": 0,
              "ticks": ""
             }
            },
            "type": "scattergeo"
           }
          ],
          "scattergl": [
           {
            "marker": {
             "colorbar": {
              "outlinewidth": 0,
              "ticks": ""
             }
            },
            "type": "scattergl"
           }
          ],
          "scattermapbox": [
           {
            "marker": {
             "colorbar": {
              "outlinewidth": 0,
              "ticks": ""
             }
            },
            "type": "scattermapbox"
           }
          ],
          "scatterpolar": [
           {
            "marker": {
             "colorbar": {
              "outlinewidth": 0,
              "ticks": ""
             }
            },
            "type": "scatterpolar"
           }
          ],
          "scatterpolargl": [
           {
            "marker": {
             "colorbar": {
              "outlinewidth": 0,
              "ticks": ""
             }
            },
            "type": "scatterpolargl"
           }
          ],
          "scatterternary": [
           {
            "marker": {
             "colorbar": {
              "outlinewidth": 0,
              "ticks": ""
             }
            },
            "type": "scatterternary"
           }
          ],
          "surface": [
           {
            "colorbar": {
             "outlinewidth": 0,
             "ticks": ""
            },
            "colorscale": [
             [
              0,
              "#0d0887"
             ],
             [
              0.1111111111111111,
              "#46039f"
             ],
             [
              0.2222222222222222,
              "#7201a8"
             ],
             [
              0.3333333333333333,
              "#9c179e"
             ],
             [
              0.4444444444444444,
              "#bd3786"
             ],
             [
              0.5555555555555556,
              "#d8576b"
             ],
             [
              0.6666666666666666,
              "#ed7953"
             ],
             [
              0.7777777777777778,
              "#fb9f3a"
             ],
             [
              0.8888888888888888,
              "#fdca26"
             ],
             [
              1,
              "#f0f921"
             ]
            ],
            "type": "surface"
           }
          ],
          "table": [
           {
            "cells": {
             "fill": {
              "color": "#EBF0F8"
             },
             "line": {
              "color": "white"
             }
            },
            "header": {
             "fill": {
              "color": "#C8D4E3"
             },
             "line": {
              "color": "white"
             }
            },
            "type": "table"
           }
          ]
         },
         "layout": {
          "annotationdefaults": {
           "arrowcolor": "#2a3f5f",
           "arrowhead": 0,
           "arrowwidth": 1
          },
          "autotypenumbers": "strict",
          "coloraxis": {
           "colorbar": {
            "outlinewidth": 0,
            "ticks": ""
           }
          },
          "colorscale": {
           "diverging": [
            [
             0,
             "#8e0152"
            ],
            [
             0.1,
             "#c51b7d"
            ],
            [
             0.2,
             "#de77ae"
            ],
            [
             0.3,
             "#f1b6da"
            ],
            [
             0.4,
             "#fde0ef"
            ],
            [
             0.5,
             "#f7f7f7"
            ],
            [
             0.6,
             "#e6f5d0"
            ],
            [
             0.7,
             "#b8e186"
            ],
            [
             0.8,
             "#7fbc41"
            ],
            [
             0.9,
             "#4d9221"
            ],
            [
             1,
             "#276419"
            ]
           ],
           "sequential": [
            [
             0,
             "#0d0887"
            ],
            [
             0.1111111111111111,
             "#46039f"
            ],
            [
             0.2222222222222222,
             "#7201a8"
            ],
            [
             0.3333333333333333,
             "#9c179e"
            ],
            [
             0.4444444444444444,
             "#bd3786"
            ],
            [
             0.5555555555555556,
             "#d8576b"
            ],
            [
             0.6666666666666666,
             "#ed7953"
            ],
            [
             0.7777777777777778,
             "#fb9f3a"
            ],
            [
             0.8888888888888888,
             "#fdca26"
            ],
            [
             1,
             "#f0f921"
            ]
           ],
           "sequentialminus": [
            [
             0,
             "#0d0887"
            ],
            [
             0.1111111111111111,
             "#46039f"
            ],
            [
             0.2222222222222222,
             "#7201a8"
            ],
            [
             0.3333333333333333,
             "#9c179e"
            ],
            [
             0.4444444444444444,
             "#bd3786"
            ],
            [
             0.5555555555555556,
             "#d8576b"
            ],
            [
             0.6666666666666666,
             "#ed7953"
            ],
            [
             0.7777777777777778,
             "#fb9f3a"
            ],
            [
             0.8888888888888888,
             "#fdca26"
            ],
            [
             1,
             "#f0f921"
            ]
           ]
          },
          "colorway": [
           "#636efa",
           "#EF553B",
           "#00cc96",
           "#ab63fa",
           "#FFA15A",
           "#19d3f3",
           "#FF6692",
           "#B6E880",
           "#FF97FF",
           "#FECB52"
          ],
          "font": {
           "color": "#2a3f5f"
          },
          "geo": {
           "bgcolor": "white",
           "lakecolor": "white",
           "landcolor": "#E5ECF6",
           "showlakes": true,
           "showland": true,
           "subunitcolor": "white"
          },
          "hoverlabel": {
           "align": "left"
          },
          "hovermode": "closest",
          "mapbox": {
           "style": "light"
          },
          "paper_bgcolor": "white",
          "plot_bgcolor": "#E5ECF6",
          "polar": {
           "angularaxis": {
            "gridcolor": "white",
            "linecolor": "white",
            "ticks": ""
           },
           "bgcolor": "#E5ECF6",
           "radialaxis": {
            "gridcolor": "white",
            "linecolor": "white",
            "ticks": ""
           }
          },
          "scene": {
           "xaxis": {
            "backgroundcolor": "#E5ECF6",
            "gridcolor": "white",
            "gridwidth": 2,
            "linecolor": "white",
            "showbackground": true,
            "ticks": "",
            "zerolinecolor": "white"
           },
           "yaxis": {
            "backgroundcolor": "#E5ECF6",
            "gridcolor": "white",
            "gridwidth": 2,
            "linecolor": "white",
            "showbackground": true,
            "ticks": "",
            "zerolinecolor": "white"
           },
           "zaxis": {
            "backgroundcolor": "#E5ECF6",
            "gridcolor": "white",
            "gridwidth": 2,
            "linecolor": "white",
            "showbackground": true,
            "ticks": "",
            "zerolinecolor": "white"
           }
          },
          "shapedefaults": {
           "line": {
            "color": "#2a3f5f"
           }
          },
          "ternary": {
           "aaxis": {
            "gridcolor": "white",
            "linecolor": "white",
            "ticks": ""
           },
           "baxis": {
            "gridcolor": "white",
            "linecolor": "white",
            "ticks": ""
           },
           "bgcolor": "#E5ECF6",
           "caxis": {
            "gridcolor": "white",
            "linecolor": "white",
            "ticks": ""
           }
          },
          "title": {
           "x": 0.05
          },
          "xaxis": {
           "automargin": true,
           "gridcolor": "white",
           "linecolor": "white",
           "ticks": "",
           "title": {
            "standoff": 15
           },
           "zerolinecolor": "white",
           "zerolinewidth": 2
          },
          "yaxis": {
           "automargin": true,
           "gridcolor": "white",
           "linecolor": "white",
           "ticks": "",
           "title": {
            "standoff": 15
           },
           "zerolinecolor": "white",
           "zerolinewidth": 2
          }
         }
        },
        "title": {
         "text": "FISHERYIN's Youtube Video Performance (likes)",
         "x": 0.5
        },
        "xaxis": {
         "title": {
          "text": "Date Posted"
         }
        },
        "yaxis": {
         "title": {
          "text": "likes"
         }
        }
       }
      }
     },
     "metadata": {},
     "output_type": "display_data"
    }
   ],
   "source": [
    "yt.visualize_performance(CHANNEL_USERNAME, df_likes, 'likes', 'standard')"
   ]
  }
 ],
 "metadata": {
  "kernelspec": {
   "display_name": "Python 3",
   "language": "python",
   "name": "python3"
  },
  "language_info": {
   "codemirror_mode": {
    "name": "ipython",
    "version": 3
   },
   "file_extension": ".py",
   "mimetype": "text/x-python",
   "name": "python",
   "nbconvert_exporter": "python",
   "pygments_lexer": "ipython3",
   "version": "3.11.0"
  },
  "orig_nbformat": 4
 },
 "nbformat": 4,
 "nbformat_minor": 2
}
