{
 "cells": [
  {
   "cell_type": "markdown",
   "metadata": {},
   "source": [
    "# Configuration"
   ]
  },
  {
   "cell_type": "code",
   "execution_count": 1,
   "metadata": {},
   "outputs": [],
   "source": [
    "import pandas as pd\n",
    "import matplotlib.pyplot as plt\n",
    "import seaborn as sns\n",
    "import youtubeFns as yt"
   ]
  },
  {
   "cell_type": "markdown",
   "metadata": {},
   "source": [
    "# Channel Analysis"
   ]
  },
  {
   "cell_type": "code",
   "execution_count": 6,
   "metadata": {},
   "outputs": [],
   "source": [
    "url = 'https://www.youtube.com/watch?v=1CM7ibbbvI4'"
   ]
  },
  {
   "cell_type": "code",
   "execution_count": 7,
   "metadata": {},
   "outputs": [],
   "source": [
    "channel_id = yt.retrieve_channel_id(url)"
   ]
  },
  {
   "cell_type": "code",
   "execution_count": 12,
   "metadata": {},
   "outputs": [],
   "source": [
    "stats = yt.retrieve_channel_stats(channel_id)"
   ]
  },
  {
   "cell_type": "code",
   "execution_count": 9,
   "metadata": {},
   "outputs": [],
   "source": [
    "df = yt.retrieve_channel_videos(channel_id)"
   ]
  },
  {
   "cell_type": "code",
   "execution_count": 11,
   "metadata": {},
   "outputs": [
    {
     "data": {
      "text/plain": [
       "{'username': 'Magnus Midtbø',\n",
       " 'channel_id': 'UC_gSotrFVZ_PiAxo3fTQVuQ',\n",
       " 'channel_views': '325754987',\n",
       " 'subscriber': '1970000',\n",
       " 'video_count': '380'}"
      ]
     },
     "execution_count": 11,
     "metadata": {},
     "output_type": "execute_result"
    }
   ],
   "source": [
    "stats"
   ]
  },
  {
   "cell_type": "code",
   "execution_count": 10,
   "metadata": {},
   "outputs": [
    {
     "data": {
      "text/html": [
       "<div>\n",
       "<style scoped>\n",
       "    .dataframe tbody tr th:only-of-type {\n",
       "        vertical-align: middle;\n",
       "    }\n",
       "\n",
       "    .dataframe tbody tr th {\n",
       "        vertical-align: top;\n",
       "    }\n",
       "\n",
       "    .dataframe thead th {\n",
       "        text-align: right;\n",
       "    }\n",
       "</style>\n",
       "<table border=\"1\" class=\"dataframe\">\n",
       "  <thead>\n",
       "    <tr style=\"text-align: right;\">\n",
       "      <th></th>\n",
       "      <th>id</th>\n",
       "      <th>title</th>\n",
       "      <th>publishTime</th>\n",
       "      <th>duration</th>\n",
       "      <th>views</th>\n",
       "      <th>likes</th>\n",
       "      <th>comments</th>\n",
       "      <th>day_name</th>\n",
       "      <th>weekday_name</th>\n",
       "      <th>duration_min</th>\n",
       "      <th>video_type</th>\n",
       "    </tr>\n",
       "  </thead>\n",
       "  <tbody>\n",
       "    <tr>\n",
       "      <th>0</th>\n",
       "      <td>IewIVZgJQm4</td>\n",
       "      <td>FREEZING DEEP WATER CLIMB! #climbing #bouldering</td>\n",
       "      <td>2023-10-20 16:10:15+00:00</td>\n",
       "      <td>0 days 00:01:00</td>\n",
       "      <td>85421</td>\n",
       "      <td>4381</td>\n",
       "      <td>52</td>\n",
       "      <td>Friday</td>\n",
       "      <td>Friday</td>\n",
       "      <td>1.000000</td>\n",
       "      <td>short</td>\n",
       "    </tr>\n",
       "    <tr>\n",
       "      <th>1</th>\n",
       "      <td>1CM7ibbbvI4</td>\n",
       "      <td>People train for years to do this   -  The Spa...</td>\n",
       "      <td>2023-10-16 17:22:29+00:00</td>\n",
       "      <td>0 days 00:21:23</td>\n",
       "      <td>601649</td>\n",
       "      <td>22099</td>\n",
       "      <td>1007</td>\n",
       "      <td>Monday</td>\n",
       "      <td>Monday</td>\n",
       "      <td>21.383333</td>\n",
       "      <td>standard</td>\n",
       "    </tr>\n",
       "    <tr>\n",
       "      <th>2</th>\n",
       "      <td>uUTFigWgRvk</td>\n",
       "      <td>How Good will CHRIS HERIA be at Climbing? #cli...</td>\n",
       "      <td>2023-10-13 15:56:38+00:00</td>\n",
       "      <td>0 days 00:01:00</td>\n",
       "      <td>110367</td>\n",
       "      <td>4411</td>\n",
       "      <td>36</td>\n",
       "      <td>Friday</td>\n",
       "      <td>Friday</td>\n",
       "      <td>1.000000</td>\n",
       "      <td>short</td>\n",
       "    </tr>\n",
       "    <tr>\n",
       "      <th>3</th>\n",
       "      <td>tbEgiTkc2aQ</td>\n",
       "      <td>CLIMBING with NORWAY'S STRONGEST MAN! #boulder...</td>\n",
       "      <td>2023-10-09 16:45:51+00:00</td>\n",
       "      <td>0 days 00:00:57</td>\n",
       "      <td>234529</td>\n",
       "      <td>9195</td>\n",
       "      <td>62</td>\n",
       "      <td>Monday</td>\n",
       "      <td>Monday</td>\n",
       "      <td>0.950000</td>\n",
       "      <td>short</td>\n",
       "    </tr>\n",
       "    <tr>\n",
       "      <th>4</th>\n",
       "      <td>t5hzMLssFUA</td>\n",
       "      <td>This is how you train to become the World’s st...</td>\n",
       "      <td>2023-10-06 16:51:45+00:00</td>\n",
       "      <td>0 days 00:14:47</td>\n",
       "      <td>325104</td>\n",
       "      <td>18999</td>\n",
       "      <td>809</td>\n",
       "      <td>Friday</td>\n",
       "      <td>Friday</td>\n",
       "      <td>14.783333</td>\n",
       "      <td>standard</td>\n",
       "    </tr>\n",
       "  </tbody>\n",
       "</table>\n",
       "</div>"
      ],
      "text/plain": [
       "            id                                              title  \\\n",
       "0  IewIVZgJQm4   FREEZING DEEP WATER CLIMB! #climbing #bouldering   \n",
       "1  1CM7ibbbvI4  People train for years to do this   -  The Spa...   \n",
       "2  uUTFigWgRvk  How Good will CHRIS HERIA be at Climbing? #cli...   \n",
       "3  tbEgiTkc2aQ  CLIMBING with NORWAY'S STRONGEST MAN! #boulder...   \n",
       "4  t5hzMLssFUA  This is how you train to become the World’s st...   \n",
       "\n",
       "                publishTime        duration   views  likes comments day_name  \\\n",
       "0 2023-10-20 16:10:15+00:00 0 days 00:01:00   85421   4381       52   Friday   \n",
       "1 2023-10-16 17:22:29+00:00 0 days 00:21:23  601649  22099     1007   Monday   \n",
       "2 2023-10-13 15:56:38+00:00 0 days 00:01:00  110367   4411       36   Friday   \n",
       "3 2023-10-09 16:45:51+00:00 0 days 00:00:57  234529   9195       62   Monday   \n",
       "4 2023-10-06 16:51:45+00:00 0 days 00:14:47  325104  18999      809   Friday   \n",
       "\n",
       "  weekday_name  duration_min video_type  \n",
       "0       Friday      1.000000      short  \n",
       "1       Monday     21.383333   standard  \n",
       "2       Friday      1.000000      short  \n",
       "3       Monday      0.950000      short  \n",
       "4       Friday     14.783333   standard  "
      ]
     },
     "execution_count": 10,
     "metadata": {},
     "output_type": "execute_result"
    }
   ],
   "source": [
    "df.head()"
   ]
  },
  {
   "cell_type": "markdown",
   "metadata": {},
   "source": [
    "# Visuals"
   ]
  },
  {
   "cell_type": "markdown",
   "metadata": {},
   "source": [
    "### Distribution of Videos Posted by Weekday Name"
   ]
  },
  {
   "cell_type": "code",
   "execution_count": null,
   "metadata": {},
   "outputs": [],
   "source": [
    "df['weekday_name'].value_counts().sort_index().plot(kind='bar')"
   ]
  }
 ],
 "metadata": {
  "kernelspec": {
   "display_name": "Python 3",
   "language": "python",
   "name": "python3"
  },
  "language_info": {
   "codemirror_mode": {
    "name": "ipython",
    "version": 3
   },
   "file_extension": ".py",
   "mimetype": "text/x-python",
   "name": "python",
   "nbconvert_exporter": "python",
   "pygments_lexer": "ipython3",
   "version": "3.11.0"
  },
  "orig_nbformat": 4
 },
 "nbformat": 4,
 "nbformat_minor": 2
}
