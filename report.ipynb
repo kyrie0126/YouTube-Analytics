{
 "cells": [
  {
   "cell_type": "markdown",
   "metadata": {},
   "source": [
    "# Configuration"
   ]
  },
  {
   "cell_type": "code",
   "execution_count": 66,
   "metadata": {},
   "outputs": [],
   "source": [
    "import os\n",
    "from dotenv import load_dotenv\n",
    "from youtubeClasses import AnalyzeChannel\n",
    "import youtubeFunctions as ytfn\n",
    "import youtubeVisuals as ytvz\n",
    "import plotly.express as px\n",
    "import plotly.graph_objects as go"
   ]
  },
  {
   "cell_type": "markdown",
   "metadata": {},
   "source": [
    "# Data Retrieval"
   ]
  },
  {
   "cell_type": "code",
   "execution_count": 2,
   "metadata": {},
   "outputs": [],
   "source": [
    "load_dotenv()\n",
    "api_key = os.getenv('YT_API_KEY')"
   ]
  },
  {
   "cell_type": "code",
   "execution_count": 3,
   "metadata": {},
   "outputs": [],
   "source": [
    "url = 'https://www.youtube.com/watch?v=IHrJuBLEsXM'"
   ]
  },
  {
   "cell_type": "code",
   "execution_count": 4,
   "metadata": {},
   "outputs": [],
   "source": [
    "yt = AnalyzeChannel(api_key=api_key, url=url)\n",
    "df = yt.retrieve_channel_videos()\n",
    "df = ytfn.calculate_lof(df, 'views')"
   ]
  },
  {
   "cell_type": "markdown",
   "metadata": {},
   "source": [
    "# Report"
   ]
  },
  {
   "cell_type": "markdown",
   "metadata": {},
   "source": [
    "## General Overview"
   ]
  },
  {
   "cell_type": "markdown",
   "metadata": {},
   "source": [
    "##### Video Count by Day of Week"
   ]
  },
  {
   "cell_type": "code",
   "execution_count": 47,
   "metadata": {},
   "outputs": [
    {
     "data": {
      "application/vnd.plotly.v1+json": {
       "config": {
        "plotlyServerURL": "https://plot.ly"
       },
       "data": [
        {
         "alignmentgroup": "True",
         "bingroup": "x",
         "hovertemplate": "weekday_name=%{x}<br>count=%{y}<extra></extra>",
         "legendgroup": "",
         "marker": {
          "color": "#636efa",
          "pattern": {
           "shape": ""
          }
         },
         "name": "",
         "offsetgroup": "",
         "orientation": "v",
         "showlegend": false,
         "type": "histogram",
         "x": [
          "Tuesday",
          "Tuesday",
          "Tuesday",
          "Tuesday",
          "Tuesday",
          "Tuesday",
          "Tuesday",
          "Tuesday",
          "Tuesday",
          "Tuesday",
          "Tuesday",
          "Tuesday",
          "Tuesday",
          "Tuesday",
          "Tuesday",
          "Tuesday",
          "Tuesday",
          "Tuesday",
          "Tuesday",
          "Tuesday",
          "Tuesday",
          "Tuesday",
          "Tuesday",
          "Tuesday",
          "Tuesday",
          "Tuesday",
          "Tuesday",
          "Tuesday",
          "Tuesday",
          "Tuesday",
          "Tuesday",
          "Tuesday",
          "Tuesday",
          "Tuesday",
          "Tuesday",
          "Tuesday",
          "Tuesday",
          "Tuesday",
          "Tuesday",
          "Tuesday",
          "Tuesday",
          "Tuesday",
          "Tuesday",
          "Tuesday",
          "Tuesday",
          "Tuesday",
          "Tuesday",
          "Tuesday",
          "Tuesday",
          "Tuesday",
          "Tuesday",
          "Tuesday",
          "Tuesday",
          "Tuesday",
          "Tuesday",
          "Tuesday",
          "Tuesday",
          "Tuesday",
          "Tuesday",
          "Tuesday",
          "Tuesday",
          "Tuesday",
          "Monday",
          "Sunday",
          "Sunday",
          "Sunday",
          "Saturday",
          "Saturday",
          "Saturday",
          "Saturday",
          "Saturday",
          "Saturday",
          "Saturday",
          "Saturday",
          "Saturday",
          "Saturday",
          "Thursday",
          "Saturday",
          "Saturday",
          "Saturday",
          "Friday",
          "Saturday",
          "Thursday",
          "Thursday",
          "Thursday",
          "Thursday",
          "Thursday",
          "Thursday",
          "Thursday",
          "Thursday",
          "Saturday",
          "Thursday",
          "Saturday",
          "Thursday",
          "Saturday",
          "Thursday",
          "Saturday",
          "Thursday",
          "Saturday",
          "Thursday",
          "Tuesday",
          "Saturday",
          "Thursday",
          "Tuesday",
          "Thursday",
          "Tuesday",
          "Thursday",
          "Tuesday",
          "Thursday",
          "Tuesday",
          "Thursday",
          "Tuesday",
          "Tuesday",
          "Tuesday",
          "Tuesday",
          "Tuesday",
          "Tuesday",
          "Sunday",
          "Tuesday",
          "Friday",
          "Tuesday",
          "Monday",
          "Tuesday",
          "Tuesday",
          "Tuesday",
          "Tuesday",
          "Saturday",
          "Wednesday",
          "Monday",
          "Wednesday",
          "Monday",
          "Wednesday",
          "Monday",
          "Thursday",
          "Monday",
          "Friday",
          "Thursday",
          "Friday",
          "Sunday",
          "Monday",
          "Friday",
          "Friday",
          "Monday",
          "Friday",
          "Monday",
          "Friday",
          "Sunday",
          "Wednesday",
          "Sunday",
          "Thursday",
          "Friday",
          "Saturday",
          "Monday",
          "Wednesday",
          "Saturday",
          "Thursday",
          "Sunday",
          "Saturday",
          "Monday",
          "Saturday",
          "Tuesday",
          "Saturday",
          "Sunday",
          "Tuesday",
          "Friday",
          "Tuesday",
          "Thursday",
          "Wednesday",
          "Saturday",
          "Thursday",
          "Wednesday",
          "Saturday",
          "Wednesday",
          "Saturday",
          "Thursday",
          "Tuesday",
          "Sunday",
          "Thursday",
          "Saturday",
          "Monday",
          "Tuesday",
          "Sunday",
          "Monday",
          "Tuesday",
          "Wednesday",
          "Sunday",
          "Saturday",
          "Wednesday",
          "Saturday",
          "Thursday",
          "Saturday",
          "Tuesday",
          "Monday",
          "Sunday",
          "Friday",
          "Tuesday",
          "Thursday",
          "Saturday",
          "Tuesday",
          "Sunday",
          "Monday",
          "Thursday",
          "Sunday",
          "Tuesday",
          "Saturday",
          "Thursday",
          "Saturday",
          "Saturday",
          "Saturday",
          "Sunday",
          "Saturday",
          "Sunday",
          "Tuesday",
          "Sunday",
          "Monday",
          "Thursday",
          "Sunday",
          "Thursday",
          "Monday",
          "Sunday",
          "Saturday",
          "Sunday",
          "Tuesday",
          "Monday",
          "Sunday",
          "Friday",
          "Wednesday",
          "Monday",
          "Friday",
          "Friday",
          "Thursday",
          "Saturday",
          "Sunday",
          "Sunday",
          "Saturday",
          "Thursday",
          "Monday",
          "Saturday",
          "Friday",
          "Wednesday",
          "Sunday",
          "Thursday",
          "Tuesday",
          "Sunday",
          "Saturday",
          "Sunday",
          "Monday",
          "Saturday",
          "Saturday",
          "Thursday",
          "Friday",
          "Tuesday",
          "Monday",
          "Friday",
          "Thursday",
          "Monday",
          "Sunday",
          "Saturday",
          "Saturday",
          "Saturday",
          "Monday",
          "Sunday",
          "Saturday",
          "Monday",
          "Friday",
          "Saturday",
          "Sunday",
          "Sunday",
          "Sunday",
          "Sunday",
          "Monday",
          "Friday",
          "Sunday",
          "Saturday",
          "Friday",
          "Monday",
          "Thursday",
          "Wednesday",
          "Wednesday",
          "Thursday",
          "Wednesday",
          "Thursday",
          "Wednesday",
          "Wednesday",
          "Thursday",
          "Wednesday",
          "Friday",
          "Thursday",
          "Wednesday",
          "Wednesday",
          "Thursday",
          "Wednesday",
          "Monday",
          "Saturday",
          "Friday",
          "Thursday",
          "Wednesday",
          "Monday",
          "Saturday",
          "Wednesday",
          "Thursday",
          "Wednesday",
          "Saturday",
          "Thursday",
          "Wednesday",
          "Monday",
          "Saturday",
          "Friday",
          "Thursday",
          "Wednesday",
          "Saturday",
          "Monday",
          "Saturday",
          "Saturday",
          "Saturday",
          "Thursday",
          "Thursday",
          "Thursday",
          "Tuesday",
          "Thursday",
          "Thursday",
          "Thursday",
          "Thursday",
          "Thursday",
          "Thursday",
          "Thursday",
          "Thursday",
          "Thursday",
          "Wednesday",
          "Saturday",
          "Wednesday",
          "Saturday",
          "Wednesday",
          "Wednesday",
          "Monday",
          "Friday",
          "Tuesday",
          "Saturday",
          "Saturday",
          "Tuesday",
          "Saturday",
          "Tuesday",
          "Saturday",
          "Saturday",
          "Thursday",
          "Wednesday",
          "Monday",
          "Wednesday",
          "Tuesday",
          "Tuesday",
          "Friday",
          "Friday",
          "Monday",
          "Thursday",
          "Wednesday",
          "Saturday",
          "Thursday",
          "Friday",
          "Friday",
          "Thursday",
          "Wednesday",
          "Friday",
          "Tuesday",
          "Monday"
         ],
         "xaxis": "x",
         "yaxis": "y"
        }
       ],
       "layout": {
        "barmode": "relative",
        "legend": {
         "tracegroupgap": 0
        },
        "margin": {
         "t": 60
        },
        "template": {
         "data": {
          "bar": [
           {
            "error_x": {
             "color": "#2a3f5f"
            },
            "error_y": {
             "color": "#2a3f5f"
            },
            "marker": {
             "line": {
              "color": "#E5ECF6",
              "width": 0.5
             },
             "pattern": {
              "fillmode": "overlay",
              "size": 10,
              "solidity": 0.2
             }
            },
            "type": "bar"
           }
          ],
          "barpolar": [
           {
            "marker": {
             "line": {
              "color": "#E5ECF6",
              "width": 0.5
             },
             "pattern": {
              "fillmode": "overlay",
              "size": 10,
              "solidity": 0.2
             }
            },
            "type": "barpolar"
           }
          ],
          "carpet": [
           {
            "aaxis": {
             "endlinecolor": "#2a3f5f",
             "gridcolor": "white",
             "linecolor": "white",
             "minorgridcolor": "white",
             "startlinecolor": "#2a3f5f"
            },
            "baxis": {
             "endlinecolor": "#2a3f5f",
             "gridcolor": "white",
             "linecolor": "white",
             "minorgridcolor": "white",
             "startlinecolor": "#2a3f5f"
            },
            "type": "carpet"
           }
          ],
          "choropleth": [
           {
            "colorbar": {
             "outlinewidth": 0,
             "ticks": ""
            },
            "type": "choropleth"
           }
          ],
          "contour": [
           {
            "colorbar": {
             "outlinewidth": 0,
             "ticks": ""
            },
            "colorscale": [
             [
              0,
              "#0d0887"
             ],
             [
              0.1111111111111111,
              "#46039f"
             ],
             [
              0.2222222222222222,
              "#7201a8"
             ],
             [
              0.3333333333333333,
              "#9c179e"
             ],
             [
              0.4444444444444444,
              "#bd3786"
             ],
             [
              0.5555555555555556,
              "#d8576b"
             ],
             [
              0.6666666666666666,
              "#ed7953"
             ],
             [
              0.7777777777777778,
              "#fb9f3a"
             ],
             [
              0.8888888888888888,
              "#fdca26"
             ],
             [
              1,
              "#f0f921"
             ]
            ],
            "type": "contour"
           }
          ],
          "contourcarpet": [
           {
            "colorbar": {
             "outlinewidth": 0,
             "ticks": ""
            },
            "type": "contourcarpet"
           }
          ],
          "heatmap": [
           {
            "colorbar": {
             "outlinewidth": 0,
             "ticks": ""
            },
            "colorscale": [
             [
              0,
              "#0d0887"
             ],
             [
              0.1111111111111111,
              "#46039f"
             ],
             [
              0.2222222222222222,
              "#7201a8"
             ],
             [
              0.3333333333333333,
              "#9c179e"
             ],
             [
              0.4444444444444444,
              "#bd3786"
             ],
             [
              0.5555555555555556,
              "#d8576b"
             ],
             [
              0.6666666666666666,
              "#ed7953"
             ],
             [
              0.7777777777777778,
              "#fb9f3a"
             ],
             [
              0.8888888888888888,
              "#fdca26"
             ],
             [
              1,
              "#f0f921"
             ]
            ],
            "type": "heatmap"
           }
          ],
          "heatmapgl": [
           {
            "colorbar": {
             "outlinewidth": 0,
             "ticks": ""
            },
            "colorscale": [
             [
              0,
              "#0d0887"
             ],
             [
              0.1111111111111111,
              "#46039f"
             ],
             [
              0.2222222222222222,
              "#7201a8"
             ],
             [
              0.3333333333333333,
              "#9c179e"
             ],
             [
              0.4444444444444444,
              "#bd3786"
             ],
             [
              0.5555555555555556,
              "#d8576b"
             ],
             [
              0.6666666666666666,
              "#ed7953"
             ],
             [
              0.7777777777777778,
              "#fb9f3a"
             ],
             [
              0.8888888888888888,
              "#fdca26"
             ],
             [
              1,
              "#f0f921"
             ]
            ],
            "type": "heatmapgl"
           }
          ],
          "histogram": [
           {
            "marker": {
             "pattern": {
              "fillmode": "overlay",
              "size": 10,
              "solidity": 0.2
             }
            },
            "type": "histogram"
           }
          ],
          "histogram2d": [
           {
            "colorbar": {
             "outlinewidth": 0,
             "ticks": ""
            },
            "colorscale": [
             [
              0,
              "#0d0887"
             ],
             [
              0.1111111111111111,
              "#46039f"
             ],
             [
              0.2222222222222222,
              "#7201a8"
             ],
             [
              0.3333333333333333,
              "#9c179e"
             ],
             [
              0.4444444444444444,
              "#bd3786"
             ],
             [
              0.5555555555555556,
              "#d8576b"
             ],
             [
              0.6666666666666666,
              "#ed7953"
             ],
             [
              0.7777777777777778,
              "#fb9f3a"
             ],
             [
              0.8888888888888888,
              "#fdca26"
             ],
             [
              1,
              "#f0f921"
             ]
            ],
            "type": "histogram2d"
           }
          ],
          "histogram2dcontour": [
           {
            "colorbar": {
             "outlinewidth": 0,
             "ticks": ""
            },
            "colorscale": [
             [
              0,
              "#0d0887"
             ],
             [
              0.1111111111111111,
              "#46039f"
             ],
             [
              0.2222222222222222,
              "#7201a8"
             ],
             [
              0.3333333333333333,
              "#9c179e"
             ],
             [
              0.4444444444444444,
              "#bd3786"
             ],
             [
              0.5555555555555556,
              "#d8576b"
             ],
             [
              0.6666666666666666,
              "#ed7953"
             ],
             [
              0.7777777777777778,
              "#fb9f3a"
             ],
             [
              0.8888888888888888,
              "#fdca26"
             ],
             [
              1,
              "#f0f921"
             ]
            ],
            "type": "histogram2dcontour"
           }
          ],
          "mesh3d": [
           {
            "colorbar": {
             "outlinewidth": 0,
             "ticks": ""
            },
            "type": "mesh3d"
           }
          ],
          "parcoords": [
           {
            "line": {
             "colorbar": {
              "outlinewidth": 0,
              "ticks": ""
             }
            },
            "type": "parcoords"
           }
          ],
          "pie": [
           {
            "automargin": true,
            "type": "pie"
           }
          ],
          "scatter": [
           {
            "fillpattern": {
             "fillmode": "overlay",
             "size": 10,
             "solidity": 0.2
            },
            "type": "scatter"
           }
          ],
          "scatter3d": [
           {
            "line": {
             "colorbar": {
              "outlinewidth": 0,
              "ticks": ""
             }
            },
            "marker": {
             "colorbar": {
              "outlinewidth": 0,
              "ticks": ""
             }
            },
            "type": "scatter3d"
           }
          ],
          "scattercarpet": [
           {
            "marker": {
             "colorbar": {
              "outlinewidth": 0,
              "ticks": ""
             }
            },
            "type": "scattercarpet"
           }
          ],
          "scattergeo": [
           {
            "marker": {
             "colorbar": {
              "outlinewidth": 0,
              "ticks": ""
             }
            },
            "type": "scattergeo"
           }
          ],
          "scattergl": [
           {
            "marker": {
             "colorbar": {
              "outlinewidth": 0,
              "ticks": ""
             }
            },
            "type": "scattergl"
           }
          ],
          "scattermapbox": [
           {
            "marker": {
             "colorbar": {
              "outlinewidth": 0,
              "ticks": ""
             }
            },
            "type": "scattermapbox"
           }
          ],
          "scatterpolar": [
           {
            "marker": {
             "colorbar": {
              "outlinewidth": 0,
              "ticks": ""
             }
            },
            "type": "scatterpolar"
           }
          ],
          "scatterpolargl": [
           {
            "marker": {
             "colorbar": {
              "outlinewidth": 0,
              "ticks": ""
             }
            },
            "type": "scatterpolargl"
           }
          ],
          "scatterternary": [
           {
            "marker": {
             "colorbar": {
              "outlinewidth": 0,
              "ticks": ""
             }
            },
            "type": "scatterternary"
           }
          ],
          "surface": [
           {
            "colorbar": {
             "outlinewidth": 0,
             "ticks": ""
            },
            "colorscale": [
             [
              0,
              "#0d0887"
             ],
             [
              0.1111111111111111,
              "#46039f"
             ],
             [
              0.2222222222222222,
              "#7201a8"
             ],
             [
              0.3333333333333333,
              "#9c179e"
             ],
             [
              0.4444444444444444,
              "#bd3786"
             ],
             [
              0.5555555555555556,
              "#d8576b"
             ],
             [
              0.6666666666666666,
              "#ed7953"
             ],
             [
              0.7777777777777778,
              "#fb9f3a"
             ],
             [
              0.8888888888888888,
              "#fdca26"
             ],
             [
              1,
              "#f0f921"
             ]
            ],
            "type": "surface"
           }
          ],
          "table": [
           {
            "cells": {
             "fill": {
              "color": "#EBF0F8"
             },
             "line": {
              "color": "white"
             }
            },
            "header": {
             "fill": {
              "color": "#C8D4E3"
             },
             "line": {
              "color": "white"
             }
            },
            "type": "table"
           }
          ]
         },
         "layout": {
          "annotationdefaults": {
           "arrowcolor": "#2a3f5f",
           "arrowhead": 0,
           "arrowwidth": 1
          },
          "autotypenumbers": "strict",
          "coloraxis": {
           "colorbar": {
            "outlinewidth": 0,
            "ticks": ""
           }
          },
          "colorscale": {
           "diverging": [
            [
             0,
             "#8e0152"
            ],
            [
             0.1,
             "#c51b7d"
            ],
            [
             0.2,
             "#de77ae"
            ],
            [
             0.3,
             "#f1b6da"
            ],
            [
             0.4,
             "#fde0ef"
            ],
            [
             0.5,
             "#f7f7f7"
            ],
            [
             0.6,
             "#e6f5d0"
            ],
            [
             0.7,
             "#b8e186"
            ],
            [
             0.8,
             "#7fbc41"
            ],
            [
             0.9,
             "#4d9221"
            ],
            [
             1,
             "#276419"
            ]
           ],
           "sequential": [
            [
             0,
             "#0d0887"
            ],
            [
             0.1111111111111111,
             "#46039f"
            ],
            [
             0.2222222222222222,
             "#7201a8"
            ],
            [
             0.3333333333333333,
             "#9c179e"
            ],
            [
             0.4444444444444444,
             "#bd3786"
            ],
            [
             0.5555555555555556,
             "#d8576b"
            ],
            [
             0.6666666666666666,
             "#ed7953"
            ],
            [
             0.7777777777777778,
             "#fb9f3a"
            ],
            [
             0.8888888888888888,
             "#fdca26"
            ],
            [
             1,
             "#f0f921"
            ]
           ],
           "sequentialminus": [
            [
             0,
             "#0d0887"
            ],
            [
             0.1111111111111111,
             "#46039f"
            ],
            [
             0.2222222222222222,
             "#7201a8"
            ],
            [
             0.3333333333333333,
             "#9c179e"
            ],
            [
             0.4444444444444444,
             "#bd3786"
            ],
            [
             0.5555555555555556,
             "#d8576b"
            ],
            [
             0.6666666666666666,
             "#ed7953"
            ],
            [
             0.7777777777777778,
             "#fb9f3a"
            ],
            [
             0.8888888888888888,
             "#fdca26"
            ],
            [
             1,
             "#f0f921"
            ]
           ]
          },
          "colorway": [
           "#636efa",
           "#EF553B",
           "#00cc96",
           "#ab63fa",
           "#FFA15A",
           "#19d3f3",
           "#FF6692",
           "#B6E880",
           "#FF97FF",
           "#FECB52"
          ],
          "font": {
           "color": "#2a3f5f"
          },
          "geo": {
           "bgcolor": "white",
           "lakecolor": "white",
           "landcolor": "#E5ECF6",
           "showlakes": true,
           "showland": true,
           "subunitcolor": "white"
          },
          "hoverlabel": {
           "align": "left"
          },
          "hovermode": "closest",
          "mapbox": {
           "style": "light"
          },
          "paper_bgcolor": "white",
          "plot_bgcolor": "#E5ECF6",
          "polar": {
           "angularaxis": {
            "gridcolor": "white",
            "linecolor": "white",
            "ticks": ""
           },
           "bgcolor": "#E5ECF6",
           "radialaxis": {
            "gridcolor": "white",
            "linecolor": "white",
            "ticks": ""
           }
          },
          "scene": {
           "xaxis": {
            "backgroundcolor": "#E5ECF6",
            "gridcolor": "white",
            "gridwidth": 2,
            "linecolor": "white",
            "showbackground": true,
            "ticks": "",
            "zerolinecolor": "white"
           },
           "yaxis": {
            "backgroundcolor": "#E5ECF6",
            "gridcolor": "white",
            "gridwidth": 2,
            "linecolor": "white",
            "showbackground": true,
            "ticks": "",
            "zerolinecolor": "white"
           },
           "zaxis": {
            "backgroundcolor": "#E5ECF6",
            "gridcolor": "white",
            "gridwidth": 2,
            "linecolor": "white",
            "showbackground": true,
            "ticks": "",
            "zerolinecolor": "white"
           }
          },
          "shapedefaults": {
           "line": {
            "color": "#2a3f5f"
           }
          },
          "ternary": {
           "aaxis": {
            "gridcolor": "white",
            "linecolor": "white",
            "ticks": ""
           },
           "baxis": {
            "gridcolor": "white",
            "linecolor": "white",
            "ticks": ""
           },
           "bgcolor": "#E5ECF6",
           "caxis": {
            "gridcolor": "white",
            "linecolor": "white",
            "ticks": ""
           }
          },
          "title": {
           "x": 0.05
          },
          "xaxis": {
           "automargin": true,
           "gridcolor": "white",
           "linecolor": "white",
           "ticks": "",
           "title": {
            "standoff": 15
           },
           "zerolinecolor": "white",
           "zerolinewidth": 2
          },
          "yaxis": {
           "automargin": true,
           "gridcolor": "white",
           "linecolor": "white",
           "ticks": "",
           "title": {
            "standoff": 15
           },
           "zerolinecolor": "white",
           "zerolinewidth": 2
          }
         }
        },
        "xaxis": {
         "anchor": "y",
         "categoryarray": [
          "Monday",
          "Tuesday",
          "Wednesday",
          "Thursday",
          "Friday",
          "Saturday",
          "Sunday"
         ],
         "categoryorder": "array",
         "domain": [
          0,
          1
         ],
         "title": {
          "text": "weekday_name"
         }
        },
        "yaxis": {
         "anchor": "x",
         "domain": [
          0,
          1
         ],
         "title": {
          "text": "count"
         }
        }
       }
      }
     },
     "metadata": {},
     "output_type": "display_data"
    }
   ],
   "source": [
    "# Define the order of days of the week (Monday to Saturday)\n",
    "days_of_week = ['Monday', 'Tuesday', 'Wednesday', 'Thursday', 'Friday', 'Saturday', 'Sunday']\n",
    "\n",
    "fig = px.histogram(df, x='weekday_name', category_orders={'weekday_name': days_of_week})\n",
    "fig.show()"
   ]
  },
  {
   "cell_type": "markdown",
   "metadata": {},
   "source": [
    "##### Video Count by Day of Week (over time)"
   ]
  },
  {
   "cell_type": "code",
   "execution_count": 48,
   "metadata": {},
   "outputs": [
    {
     "data": {
      "text/html": [
       "<div>\n",
       "<style scoped>\n",
       "    .dataframe tbody tr th:only-of-type {\n",
       "        vertical-align: middle;\n",
       "    }\n",
       "\n",
       "    .dataframe tbody tr th {\n",
       "        vertical-align: top;\n",
       "    }\n",
       "\n",
       "    .dataframe thead th {\n",
       "        text-align: right;\n",
       "    }\n",
       "</style>\n",
       "<table border=\"1\" class=\"dataframe\">\n",
       "  <thead>\n",
       "    <tr style=\"text-align: right;\">\n",
       "      <th></th>\n",
       "      <th>id</th>\n",
       "      <th>title</th>\n",
       "      <th>publishTime</th>\n",
       "      <th>duration</th>\n",
       "      <th>views</th>\n",
       "      <th>likes</th>\n",
       "      <th>comments</th>\n",
       "      <th>day_name</th>\n",
       "      <th>weekday_name</th>\n",
       "      <th>duration_min</th>\n",
       "      <th>video_type</th>\n",
       "      <th>indicator</th>\n",
       "      <th>performance</th>\n",
       "    </tr>\n",
       "  </thead>\n",
       "  <tbody>\n",
       "    <tr>\n",
       "      <th>0</th>\n",
       "      <td>hSHuUJrV4ZQ</td>\n",
       "      <td>I Fished A PRIVATE Tournament!</td>\n",
       "      <td>2023-10-24 20:29:54+00:00</td>\n",
       "      <td>0 days 00:08:51</td>\n",
       "      <td>12034</td>\n",
       "      <td>516</td>\n",
       "      <td>384</td>\n",
       "      <td>Tuesday</td>\n",
       "      <td>Tuesday</td>\n",
       "      <td>8.85</td>\n",
       "      <td>standard</td>\n",
       "      <td>1</td>\n",
       "      <td>Normal</td>\n",
       "    </tr>\n",
       "    <tr>\n",
       "      <th>2</th>\n",
       "      <td>IHrJuBLEsXM</td>\n",
       "      <td>I Tried Fishing With A GIANT SPOON!!</td>\n",
       "      <td>2023-10-17 20:31:32+00:00</td>\n",
       "      <td>0 days 00:13:58</td>\n",
       "      <td>25838</td>\n",
       "      <td>716</td>\n",
       "      <td>263</td>\n",
       "      <td>Tuesday</td>\n",
       "      <td>Tuesday</td>\n",
       "      <td>13.97</td>\n",
       "      <td>standard</td>\n",
       "      <td>1</td>\n",
       "      <td>Normal</td>\n",
       "    </tr>\n",
       "    <tr>\n",
       "      <th>4</th>\n",
       "      <td>SWSXI2EQ0L8</td>\n",
       "      <td>I Built A FALL Tackle Box!</td>\n",
       "      <td>2023-10-03 20:28:46+00:00</td>\n",
       "      <td>0 days 00:11:49</td>\n",
       "      <td>21681</td>\n",
       "      <td>769</td>\n",
       "      <td>351</td>\n",
       "      <td>Tuesday</td>\n",
       "      <td>Tuesday</td>\n",
       "      <td>11.82</td>\n",
       "      <td>standard</td>\n",
       "      <td>1</td>\n",
       "      <td>Normal</td>\n",
       "    </tr>\n",
       "    <tr>\n",
       "      <th>7</th>\n",
       "      <td>whdyp3KfVvw</td>\n",
       "      <td>I Tried Fishing With GUMMY WORMS!!</td>\n",
       "      <td>2023-09-26 20:31:59+00:00</td>\n",
       "      <td>0 days 00:10:07</td>\n",
       "      <td>63843</td>\n",
       "      <td>1004</td>\n",
       "      <td>409</td>\n",
       "      <td>Tuesday</td>\n",
       "      <td>Tuesday</td>\n",
       "      <td>10.12</td>\n",
       "      <td>standard</td>\n",
       "      <td>1</td>\n",
       "      <td>Normal</td>\n",
       "    </tr>\n",
       "    <tr>\n",
       "      <th>9</th>\n",
       "      <td>-At2zWg3mwQ</td>\n",
       "      <td>I Found The PERFECT Glidebait!</td>\n",
       "      <td>2023-09-19 20:27:47+00:00</td>\n",
       "      <td>0 days 00:12:40</td>\n",
       "      <td>20809</td>\n",
       "      <td>726</td>\n",
       "      <td>299</td>\n",
       "      <td>Tuesday</td>\n",
       "      <td>Tuesday</td>\n",
       "      <td>12.67</td>\n",
       "      <td>standard</td>\n",
       "      <td>1</td>\n",
       "      <td>Normal</td>\n",
       "    </tr>\n",
       "  </tbody>\n",
       "</table>\n",
       "</div>"
      ],
      "text/plain": [
       "            id                                 title  \\\n",
       "0  hSHuUJrV4ZQ        I Fished A PRIVATE Tournament!   \n",
       "2  IHrJuBLEsXM  I Tried Fishing With A GIANT SPOON!!   \n",
       "4  SWSXI2EQ0L8            I Built A FALL Tackle Box!   \n",
       "7  whdyp3KfVvw    I Tried Fishing With GUMMY WORMS!!   \n",
       "9  -At2zWg3mwQ        I Found The PERFECT Glidebait!   \n",
       "\n",
       "                publishTime        duration  views  likes  comments day_name  \\\n",
       "0 2023-10-24 20:29:54+00:00 0 days 00:08:51  12034    516       384  Tuesday   \n",
       "2 2023-10-17 20:31:32+00:00 0 days 00:13:58  25838    716       263  Tuesday   \n",
       "4 2023-10-03 20:28:46+00:00 0 days 00:11:49  21681    769       351  Tuesday   \n",
       "7 2023-09-26 20:31:59+00:00 0 days 00:10:07  63843   1004       409  Tuesday   \n",
       "9 2023-09-19 20:27:47+00:00 0 days 00:12:40  20809    726       299  Tuesday   \n",
       "\n",
       "  weekday_name  duration_min video_type  indicator performance  \n",
       "0      Tuesday          8.85   standard          1      Normal  \n",
       "2      Tuesday         13.97   standard          1      Normal  \n",
       "4      Tuesday         11.82   standard          1      Normal  \n",
       "7      Tuesday         10.12   standard          1      Normal  \n",
       "9      Tuesday         12.67   standard          1      Normal  "
      ]
     },
     "execution_count": 48,
     "metadata": {},
     "output_type": "execute_result"
    }
   ],
   "source": [
    "df.head()"
   ]
  },
  {
   "cell_type": "code",
   "execution_count": 91,
   "metadata": {},
   "outputs": [
    {
     "data": {
      "application/vnd.plotly.v1+json": {
       "config": {
        "plotlyServerURL": "https://plot.ly"
       },
       "data": [
        {
         "alignmentgroup": "True",
         "bingroup": "x",
         "hovertemplate": "weekday_name=%{x}<br>count=%{y}<extra></extra>",
         "legendgroup": "",
         "marker": {
          "color": "#636efa",
          "pattern": {
           "shape": ""
          }
         },
         "name": "",
         "offsetgroup": "",
         "orientation": "v",
         "showlegend": false,
         "type": "histogram",
         "x": [
          "Tuesday",
          "Tuesday",
          "Tuesday",
          "Tuesday",
          "Tuesday",
          "Tuesday",
          "Tuesday",
          "Tuesday",
          "Tuesday",
          "Tuesday",
          "Tuesday",
          "Tuesday",
          "Tuesday",
          "Tuesday",
          "Tuesday",
          "Tuesday",
          "Tuesday",
          "Tuesday",
          "Tuesday",
          "Tuesday",
          "Tuesday",
          "Tuesday",
          "Tuesday",
          "Tuesday",
          "Tuesday",
          "Tuesday",
          "Tuesday",
          "Tuesday",
          "Tuesday",
          "Tuesday",
          "Tuesday",
          "Tuesday",
          "Tuesday",
          "Tuesday",
          "Tuesday",
          "Tuesday",
          "Tuesday",
          "Tuesday",
          "Tuesday",
          "Tuesday",
          "Tuesday",
          "Tuesday",
          "Tuesday",
          "Tuesday",
          "Tuesday",
          "Tuesday",
          "Tuesday",
          "Tuesday",
          "Tuesday",
          "Tuesday",
          "Tuesday",
          "Tuesday",
          "Tuesday",
          "Tuesday",
          "Tuesday",
          "Tuesday",
          "Tuesday",
          "Tuesday",
          "Tuesday",
          "Tuesday",
          "Tuesday",
          "Tuesday",
          "Monday",
          "Sunday",
          "Sunday",
          "Sunday",
          "Saturday",
          "Saturday",
          "Saturday",
          "Saturday",
          "Saturday",
          "Saturday",
          "Saturday",
          "Saturday",
          "Saturday",
          "Saturday",
          "Thursday",
          "Saturday",
          "Saturday",
          "Saturday",
          "Friday",
          "Saturday",
          "Thursday",
          "Thursday",
          "Thursday",
          "Thursday",
          "Thursday",
          "Thursday",
          "Thursday",
          "Thursday",
          "Saturday",
          "Thursday",
          "Saturday",
          "Thursday",
          "Saturday",
          "Thursday",
          "Saturday",
          "Thursday",
          "Saturday",
          "Thursday",
          "Tuesday",
          "Saturday",
          "Thursday",
          "Tuesday",
          "Thursday",
          "Tuesday",
          "Thursday",
          "Tuesday",
          "Thursday",
          "Tuesday",
          "Thursday",
          "Tuesday",
          "Tuesday",
          "Tuesday",
          "Tuesday",
          "Tuesday",
          "Tuesday",
          "Sunday",
          "Tuesday",
          "Friday",
          "Tuesday",
          "Monday",
          "Tuesday",
          "Tuesday",
          "Tuesday",
          "Tuesday",
          "Saturday",
          "Wednesday",
          "Monday",
          "Wednesday",
          "Monday",
          "Wednesday",
          "Monday",
          "Thursday",
          "Monday",
          "Friday",
          "Thursday",
          "Friday",
          "Sunday",
          "Monday",
          "Friday",
          "Friday",
          "Monday",
          "Friday",
          "Monday",
          "Friday",
          "Sunday",
          "Wednesday",
          "Sunday",
          "Thursday",
          "Friday",
          "Friday",
          "Monday",
          "Thursday",
          "Wednesday",
          "Wednesday",
          "Thursday",
          "Wednesday",
          "Thursday",
          "Wednesday",
          "Wednesday",
          "Thursday",
          "Wednesday",
          "Friday",
          "Thursday",
          "Wednesday",
          "Wednesday",
          "Thursday",
          "Wednesday",
          "Monday",
          "Saturday",
          "Friday",
          "Thursday",
          "Wednesday",
          "Monday",
          "Saturday",
          "Wednesday",
          "Thursday",
          "Wednesday",
          "Saturday",
          "Thursday",
          "Wednesday",
          "Monday",
          "Saturday",
          "Friday",
          "Thursday",
          "Wednesday",
          "Saturday",
          "Monday",
          "Saturday",
          "Saturday",
          "Saturday",
          "Thursday",
          "Thursday",
          "Thursday",
          "Tuesday",
          "Thursday",
          "Thursday",
          "Thursday",
          "Thursday",
          "Thursday",
          "Thursday",
          "Thursday",
          "Thursday",
          "Thursday",
          "Wednesday",
          "Saturday",
          "Wednesday",
          "Saturday",
          "Wednesday",
          "Wednesday",
          "Monday",
          "Friday",
          "Tuesday",
          "Saturday",
          "Saturday",
          "Tuesday",
          "Saturday",
          "Tuesday",
          "Saturday",
          "Saturday",
          "Thursday",
          "Wednesday",
          "Monday",
          "Wednesday",
          "Tuesday",
          "Tuesday",
          "Friday",
          "Friday",
          "Monday",
          "Thursday",
          "Wednesday",
          "Saturday",
          "Thursday",
          "Friday",
          "Friday",
          "Thursday",
          "Wednesday",
          "Friday",
          "Tuesday",
          "Monday"
         ],
         "xaxis": "x",
         "yaxis": "y"
        },
        {
         "hovertemplate": "variable=views<br>weekday_name=%{x}<br>value=%{y}<extra></extra>",
         "legendgroup": "views",
         "line": {
          "color": "red",
          "dash": "solid"
         },
         "marker": {
          "symbol": "circle"
         },
         "mode": "lines",
         "name": "views",
         "orientation": "v",
         "showlegend": true,
         "type": "scatter",
         "x": [
          "Sunday",
          "Monday",
          "Tuesday",
          "Wednesday",
          "Thursday",
          "Friday",
          "Saturday"
         ],
         "xaxis": "x",
         "y": [
          99621,
          113173.16666666667,
          80986.11627906977,
          246575.5,
          153262.89583333334,
          177608.31578947368,
          214171
         ],
         "yaxis": "y2"
        }
       ],
       "layout": {
        "template": {
         "data": {
          "bar": [
           {
            "error_x": {
             "color": "#2a3f5f"
            },
            "error_y": {
             "color": "#2a3f5f"
            },
            "marker": {
             "line": {
              "color": "#E5ECF6",
              "width": 0.5
             },
             "pattern": {
              "fillmode": "overlay",
              "size": 10,
              "solidity": 0.2
             }
            },
            "type": "bar"
           }
          ],
          "barpolar": [
           {
            "marker": {
             "line": {
              "color": "#E5ECF6",
              "width": 0.5
             },
             "pattern": {
              "fillmode": "overlay",
              "size": 10,
              "solidity": 0.2
             }
            },
            "type": "barpolar"
           }
          ],
          "carpet": [
           {
            "aaxis": {
             "endlinecolor": "#2a3f5f",
             "gridcolor": "white",
             "linecolor": "white",
             "minorgridcolor": "white",
             "startlinecolor": "#2a3f5f"
            },
            "baxis": {
             "endlinecolor": "#2a3f5f",
             "gridcolor": "white",
             "linecolor": "white",
             "minorgridcolor": "white",
             "startlinecolor": "#2a3f5f"
            },
            "type": "carpet"
           }
          ],
          "choropleth": [
           {
            "colorbar": {
             "outlinewidth": 0,
             "ticks": ""
            },
            "type": "choropleth"
           }
          ],
          "contour": [
           {
            "colorbar": {
             "outlinewidth": 0,
             "ticks": ""
            },
            "colorscale": [
             [
              0,
              "#0d0887"
             ],
             [
              0.1111111111111111,
              "#46039f"
             ],
             [
              0.2222222222222222,
              "#7201a8"
             ],
             [
              0.3333333333333333,
              "#9c179e"
             ],
             [
              0.4444444444444444,
              "#bd3786"
             ],
             [
              0.5555555555555556,
              "#d8576b"
             ],
             [
              0.6666666666666666,
              "#ed7953"
             ],
             [
              0.7777777777777778,
              "#fb9f3a"
             ],
             [
              0.8888888888888888,
              "#fdca26"
             ],
             [
              1,
              "#f0f921"
             ]
            ],
            "type": "contour"
           }
          ],
          "contourcarpet": [
           {
            "colorbar": {
             "outlinewidth": 0,
             "ticks": ""
            },
            "type": "contourcarpet"
           }
          ],
          "heatmap": [
           {
            "colorbar": {
             "outlinewidth": 0,
             "ticks": ""
            },
            "colorscale": [
             [
              0,
              "#0d0887"
             ],
             [
              0.1111111111111111,
              "#46039f"
             ],
             [
              0.2222222222222222,
              "#7201a8"
             ],
             [
              0.3333333333333333,
              "#9c179e"
             ],
             [
              0.4444444444444444,
              "#bd3786"
             ],
             [
              0.5555555555555556,
              "#d8576b"
             ],
             [
              0.6666666666666666,
              "#ed7953"
             ],
             [
              0.7777777777777778,
              "#fb9f3a"
             ],
             [
              0.8888888888888888,
              "#fdca26"
             ],
             [
              1,
              "#f0f921"
             ]
            ],
            "type": "heatmap"
           }
          ],
          "heatmapgl": [
           {
            "colorbar": {
             "outlinewidth": 0,
             "ticks": ""
            },
            "colorscale": [
             [
              0,
              "#0d0887"
             ],
             [
              0.1111111111111111,
              "#46039f"
             ],
             [
              0.2222222222222222,
              "#7201a8"
             ],
             [
              0.3333333333333333,
              "#9c179e"
             ],
             [
              0.4444444444444444,
              "#bd3786"
             ],
             [
              0.5555555555555556,
              "#d8576b"
             ],
             [
              0.6666666666666666,
              "#ed7953"
             ],
             [
              0.7777777777777778,
              "#fb9f3a"
             ],
             [
              0.8888888888888888,
              "#fdca26"
             ],
             [
              1,
              "#f0f921"
             ]
            ],
            "type": "heatmapgl"
           }
          ],
          "histogram": [
           {
            "marker": {
             "pattern": {
              "fillmode": "overlay",
              "size": 10,
              "solidity": 0.2
             }
            },
            "type": "histogram"
           }
          ],
          "histogram2d": [
           {
            "colorbar": {
             "outlinewidth": 0,
             "ticks": ""
            },
            "colorscale": [
             [
              0,
              "#0d0887"
             ],
             [
              0.1111111111111111,
              "#46039f"
             ],
             [
              0.2222222222222222,
              "#7201a8"
             ],
             [
              0.3333333333333333,
              "#9c179e"
             ],
             [
              0.4444444444444444,
              "#bd3786"
             ],
             [
              0.5555555555555556,
              "#d8576b"
             ],
             [
              0.6666666666666666,
              "#ed7953"
             ],
             [
              0.7777777777777778,
              "#fb9f3a"
             ],
             [
              0.8888888888888888,
              "#fdca26"
             ],
             [
              1,
              "#f0f921"
             ]
            ],
            "type": "histogram2d"
           }
          ],
          "histogram2dcontour": [
           {
            "colorbar": {
             "outlinewidth": 0,
             "ticks": ""
            },
            "colorscale": [
             [
              0,
              "#0d0887"
             ],
             [
              0.1111111111111111,
              "#46039f"
             ],
             [
              0.2222222222222222,
              "#7201a8"
             ],
             [
              0.3333333333333333,
              "#9c179e"
             ],
             [
              0.4444444444444444,
              "#bd3786"
             ],
             [
              0.5555555555555556,
              "#d8576b"
             ],
             [
              0.6666666666666666,
              "#ed7953"
             ],
             [
              0.7777777777777778,
              "#fb9f3a"
             ],
             [
              0.8888888888888888,
              "#fdca26"
             ],
             [
              1,
              "#f0f921"
             ]
            ],
            "type": "histogram2dcontour"
           }
          ],
          "mesh3d": [
           {
            "colorbar": {
             "outlinewidth": 0,
             "ticks": ""
            },
            "type": "mesh3d"
           }
          ],
          "parcoords": [
           {
            "line": {
             "colorbar": {
              "outlinewidth": 0,
              "ticks": ""
             }
            },
            "type": "parcoords"
           }
          ],
          "pie": [
           {
            "automargin": true,
            "type": "pie"
           }
          ],
          "scatter": [
           {
            "fillpattern": {
             "fillmode": "overlay",
             "size": 10,
             "solidity": 0.2
            },
            "type": "scatter"
           }
          ],
          "scatter3d": [
           {
            "line": {
             "colorbar": {
              "outlinewidth": 0,
              "ticks": ""
             }
            },
            "marker": {
             "colorbar": {
              "outlinewidth": 0,
              "ticks": ""
             }
            },
            "type": "scatter3d"
           }
          ],
          "scattercarpet": [
           {
            "marker": {
             "colorbar": {
              "outlinewidth": 0,
              "ticks": ""
             }
            },
            "type": "scattercarpet"
           }
          ],
          "scattergeo": [
           {
            "marker": {
             "colorbar": {
              "outlinewidth": 0,
              "ticks": ""
             }
            },
            "type": "scattergeo"
           }
          ],
          "scattergl": [
           {
            "marker": {
             "colorbar": {
              "outlinewidth": 0,
              "ticks": ""
             }
            },
            "type": "scattergl"
           }
          ],
          "scattermapbox": [
           {
            "marker": {
             "colorbar": {
              "outlinewidth": 0,
              "ticks": ""
             }
            },
            "type": "scattermapbox"
           }
          ],
          "scatterpolar": [
           {
            "marker": {
             "colorbar": {
              "outlinewidth": 0,
              "ticks": ""
             }
            },
            "type": "scatterpolar"
           }
          ],
          "scatterpolargl": [
           {
            "marker": {
             "colorbar": {
              "outlinewidth": 0,
              "ticks": ""
             }
            },
            "type": "scatterpolargl"
           }
          ],
          "scatterternary": [
           {
            "marker": {
             "colorbar": {
              "outlinewidth": 0,
              "ticks": ""
             }
            },
            "type": "scatterternary"
           }
          ],
          "surface": [
           {
            "colorbar": {
             "outlinewidth": 0,
             "ticks": ""
            },
            "colorscale": [
             [
              0,
              "#0d0887"
             ],
             [
              0.1111111111111111,
              "#46039f"
             ],
             [
              0.2222222222222222,
              "#7201a8"
             ],
             [
              0.3333333333333333,
              "#9c179e"
             ],
             [
              0.4444444444444444,
              "#bd3786"
             ],
             [
              0.5555555555555556,
              "#d8576b"
             ],
             [
              0.6666666666666666,
              "#ed7953"
             ],
             [
              0.7777777777777778,
              "#fb9f3a"
             ],
             [
              0.8888888888888888,
              "#fdca26"
             ],
             [
              1,
              "#f0f921"
             ]
            ],
            "type": "surface"
           }
          ],
          "table": [
           {
            "cells": {
             "fill": {
              "color": "#EBF0F8"
             },
             "line": {
              "color": "white"
             }
            },
            "header": {
             "fill": {
              "color": "#C8D4E3"
             },
             "line": {
              "color": "white"
             }
            },
            "type": "table"
           }
          ]
         },
         "layout": {
          "annotationdefaults": {
           "arrowcolor": "#2a3f5f",
           "arrowhead": 0,
           "arrowwidth": 1
          },
          "autotypenumbers": "strict",
          "coloraxis": {
           "colorbar": {
            "outlinewidth": 0,
            "ticks": ""
           }
          },
          "colorscale": {
           "diverging": [
            [
             0,
             "#8e0152"
            ],
            [
             0.1,
             "#c51b7d"
            ],
            [
             0.2,
             "#de77ae"
            ],
            [
             0.3,
             "#f1b6da"
            ],
            [
             0.4,
             "#fde0ef"
            ],
            [
             0.5,
             "#f7f7f7"
            ],
            [
             0.6,
             "#e6f5d0"
            ],
            [
             0.7,
             "#b8e186"
            ],
            [
             0.8,
             "#7fbc41"
            ],
            [
             0.9,
             "#4d9221"
            ],
            [
             1,
             "#276419"
            ]
           ],
           "sequential": [
            [
             0,
             "#0d0887"
            ],
            [
             0.1111111111111111,
             "#46039f"
            ],
            [
             0.2222222222222222,
             "#7201a8"
            ],
            [
             0.3333333333333333,
             "#9c179e"
            ],
            [
             0.4444444444444444,
             "#bd3786"
            ],
            [
             0.5555555555555556,
             "#d8576b"
            ],
            [
             0.6666666666666666,
             "#ed7953"
            ],
            [
             0.7777777777777778,
             "#fb9f3a"
            ],
            [
             0.8888888888888888,
             "#fdca26"
            ],
            [
             1,
             "#f0f921"
            ]
           ],
           "sequentialminus": [
            [
             0,
             "#0d0887"
            ],
            [
             0.1111111111111111,
             "#46039f"
            ],
            [
             0.2222222222222222,
             "#7201a8"
            ],
            [
             0.3333333333333333,
             "#9c179e"
            ],
            [
             0.4444444444444444,
             "#bd3786"
            ],
            [
             0.5555555555555556,
             "#d8576b"
            ],
            [
             0.6666666666666666,
             "#ed7953"
            ],
            [
             0.7777777777777778,
             "#fb9f3a"
            ],
            [
             0.8888888888888888,
             "#fdca26"
            ],
            [
             1,
             "#f0f921"
            ]
           ]
          },
          "colorway": [
           "#636efa",
           "#EF553B",
           "#00cc96",
           "#ab63fa",
           "#FFA15A",
           "#19d3f3",
           "#FF6692",
           "#B6E880",
           "#FF97FF",
           "#FECB52"
          ],
          "font": {
           "color": "#2a3f5f"
          },
          "geo": {
           "bgcolor": "white",
           "lakecolor": "white",
           "landcolor": "#E5ECF6",
           "showlakes": true,
           "showland": true,
           "subunitcolor": "white"
          },
          "hoverlabel": {
           "align": "left"
          },
          "hovermode": "closest",
          "mapbox": {
           "style": "light"
          },
          "paper_bgcolor": "white",
          "plot_bgcolor": "#E5ECF6",
          "polar": {
           "angularaxis": {
            "gridcolor": "white",
            "linecolor": "white",
            "ticks": ""
           },
           "bgcolor": "#E5ECF6",
           "radialaxis": {
            "gridcolor": "white",
            "linecolor": "white",
            "ticks": ""
           }
          },
          "scene": {
           "xaxis": {
            "backgroundcolor": "#E5ECF6",
            "gridcolor": "white",
            "gridwidth": 2,
            "linecolor": "white",
            "showbackground": true,
            "ticks": "",
            "zerolinecolor": "white"
           },
           "yaxis": {
            "backgroundcolor": "#E5ECF6",
            "gridcolor": "white",
            "gridwidth": 2,
            "linecolor": "white",
            "showbackground": true,
            "ticks": "",
            "zerolinecolor": "white"
           },
           "zaxis": {
            "backgroundcolor": "#E5ECF6",
            "gridcolor": "white",
            "gridwidth": 2,
            "linecolor": "white",
            "showbackground": true,
            "ticks": "",
            "zerolinecolor": "white"
           }
          },
          "shapedefaults": {
           "line": {
            "color": "#2a3f5f"
           }
          },
          "ternary": {
           "aaxis": {
            "gridcolor": "white",
            "linecolor": "white",
            "ticks": ""
           },
           "baxis": {
            "gridcolor": "white",
            "linecolor": "white",
            "ticks": ""
           },
           "bgcolor": "#E5ECF6",
           "caxis": {
            "gridcolor": "white",
            "linecolor": "white",
            "ticks": ""
           }
          },
          "title": {
           "x": 0.05
          },
          "xaxis": {
           "automargin": true,
           "gridcolor": "white",
           "linecolor": "white",
           "ticks": "",
           "title": {
            "standoff": 15
           },
           "zerolinecolor": "white",
           "zerolinewidth": 2
          },
          "yaxis": {
           "automargin": true,
           "gridcolor": "white",
           "linecolor": "white",
           "ticks": "",
           "title": {
            "standoff": 15
           },
           "zerolinecolor": "white",
           "zerolinewidth": 2
          }
         }
        },
        "title": {
         "text": "Posting Frequency and Average Views by Day of Week (2021-01-01) to (2024-01-01)"
        },
        "xaxis": {
         "categoryarray": [
          "Sunday",
          "Monday",
          "Tuesday",
          "Wednesday",
          "Thursday",
          "Friday",
          "Saturday"
         ],
         "categoryorder": "array",
         "title": {
          "text": "Day of Week"
         }
        },
        "yaxis": {
         "title": {
          "text": "Posts"
         }
        },
        "yaxis2": {
         "anchor": "x",
         "overlaying": "y",
         "side": "right",
         "title": {
          "text": "views"
         }
        }
       }
      }
     },
     "metadata": {},
     "output_type": "display_data"
    }
   ],
   "source": [
    "# Define the order of days of the week (Monday to Saturday)\n",
    "days_of_week = ['Sunday', 'Monday', 'Tuesday', 'Wednesday', 'Thursday', 'Friday', 'Saturday']\n",
    "start_date = '2021-01-01'\n",
    "end_date = '2024-01-01'\n",
    "df_range = df[(df['publishTime'] >= start_date) & (df['publishTime'] <= end_date)]\n",
    "\n",
    "fig = go.Figure()\n",
    "\n",
    "fig1 = px.histogram(df_range, x='weekday_name', category_orders={'weekday_name': days_of_week},\n",
    "                   title = f\"{yt.channel_username}'s Posting Frequency from {start_date} to {end_date}\")\n",
    "\n",
    "fig2 = px.line(df_range.groupby('weekday_name')['views'].mean(),\n",
    "               category_orders={'weekday_name': days_of_week})\n",
    "fig2.update_traces(line_color='red')\n",
    "\n",
    "\n",
    "for trace in fig1.data:\n",
    "    fig.add_trace(trace)\n",
    "    \n",
    "for trace in fig2.data:\n",
    "    fig.add_trace(trace.update(yaxis='y2'))\n",
    "    \n",
    "fig.update_layout(title_text=f'Posting Frequency and Average Views by Day of Week ({start_date}) to ({end_date})',\n",
    "                  xaxis_title='Day of Week',\n",
    "                  yaxis_title='Posts',\n",
    "                  yaxis2=dict(anchor='x', overlaying='y', side='right', title='views'),\n",
    "                  xaxis=dict(categoryorder='array', categoryarray=days_of_week)\n",
    "                  )\n",
    "\n",
    "fig.show()"
   ]
  },
  {
   "cell_type": "code",
   "execution_count": 65,
   "metadata": {},
   "outputs": [
    {
     "data": {
      "application/vnd.plotly.v1+json": {
       "config": {
        "plotlyServerURL": "https://plot.ly"
       },
       "data": [
        {
         "hovertemplate": "variable=views<br>weekday_name=%{x}<br>value=%{y}<extra></extra>",
         "legendgroup": "views",
         "line": {
          "color": "#636efa",
          "dash": "solid"
         },
         "marker": {
          "symbol": "circle"
         },
         "mode": "lines",
         "name": "views",
         "orientation": "v",
         "showlegend": true,
         "type": "scatter",
         "x": [
          "Sunday",
          "Monday",
          "Tuesday",
          "Wednesday",
          "Thursday",
          "Friday",
          "Saturday"
         ],
         "xaxis": "x",
         "y": [
          68584,
          87452.9,
          42657.68421052631,
          13107.833333333334,
          54473.416666666664,
          26599.928571428572,
          43915.545454545456
         ],
         "yaxis": "y"
        }
       ],
       "layout": {
        "legend": {
         "title": {
          "text": "variable"
         },
         "tracegroupgap": 0
        },
        "margin": {
         "t": 60
        },
        "template": {
         "data": {
          "bar": [
           {
            "error_x": {
             "color": "#2a3f5f"
            },
            "error_y": {
             "color": "#2a3f5f"
            },
            "marker": {
             "line": {
              "color": "#E5ECF6",
              "width": 0.5
             },
             "pattern": {
              "fillmode": "overlay",
              "size": 10,
              "solidity": 0.2
             }
            },
            "type": "bar"
           }
          ],
          "barpolar": [
           {
            "marker": {
             "line": {
              "color": "#E5ECF6",
              "width": 0.5
             },
             "pattern": {
              "fillmode": "overlay",
              "size": 10,
              "solidity": 0.2
             }
            },
            "type": "barpolar"
           }
          ],
          "carpet": [
           {
            "aaxis": {
             "endlinecolor": "#2a3f5f",
             "gridcolor": "white",
             "linecolor": "white",
             "minorgridcolor": "white",
             "startlinecolor": "#2a3f5f"
            },
            "baxis": {
             "endlinecolor": "#2a3f5f",
             "gridcolor": "white",
             "linecolor": "white",
             "minorgridcolor": "white",
             "startlinecolor": "#2a3f5f"
            },
            "type": "carpet"
           }
          ],
          "choropleth": [
           {
            "colorbar": {
             "outlinewidth": 0,
             "ticks": ""
            },
            "type": "choropleth"
           }
          ],
          "contour": [
           {
            "colorbar": {
             "outlinewidth": 0,
             "ticks": ""
            },
            "colorscale": [
             [
              0,
              "#0d0887"
             ],
             [
              0.1111111111111111,
              "#46039f"
             ],
             [
              0.2222222222222222,
              "#7201a8"
             ],
             [
              0.3333333333333333,
              "#9c179e"
             ],
             [
              0.4444444444444444,
              "#bd3786"
             ],
             [
              0.5555555555555556,
              "#d8576b"
             ],
             [
              0.6666666666666666,
              "#ed7953"
             ],
             [
              0.7777777777777778,
              "#fb9f3a"
             ],
             [
              0.8888888888888888,
              "#fdca26"
             ],
             [
              1,
              "#f0f921"
             ]
            ],
            "type": "contour"
           }
          ],
          "contourcarpet": [
           {
            "colorbar": {
             "outlinewidth": 0,
             "ticks": ""
            },
            "type": "contourcarpet"
           }
          ],
          "heatmap": [
           {
            "colorbar": {
             "outlinewidth": 0,
             "ticks": ""
            },
            "colorscale": [
             [
              0,
              "#0d0887"
             ],
             [
              0.1111111111111111,
              "#46039f"
             ],
             [
              0.2222222222222222,
              "#7201a8"
             ],
             [
              0.3333333333333333,
              "#9c179e"
             ],
             [
              0.4444444444444444,
              "#bd3786"
             ],
             [
              0.5555555555555556,
              "#d8576b"
             ],
             [
              0.6666666666666666,
              "#ed7953"
             ],
             [
              0.7777777777777778,
              "#fb9f3a"
             ],
             [
              0.8888888888888888,
              "#fdca26"
             ],
             [
              1,
              "#f0f921"
             ]
            ],
            "type": "heatmap"
           }
          ],
          "heatmapgl": [
           {
            "colorbar": {
             "outlinewidth": 0,
             "ticks": ""
            },
            "colorscale": [
             [
              0,
              "#0d0887"
             ],
             [
              0.1111111111111111,
              "#46039f"
             ],
             [
              0.2222222222222222,
              "#7201a8"
             ],
             [
              0.3333333333333333,
              "#9c179e"
             ],
             [
              0.4444444444444444,
              "#bd3786"
             ],
             [
              0.5555555555555556,
              "#d8576b"
             ],
             [
              0.6666666666666666,
              "#ed7953"
             ],
             [
              0.7777777777777778,
              "#fb9f3a"
             ],
             [
              0.8888888888888888,
              "#fdca26"
             ],
             [
              1,
              "#f0f921"
             ]
            ],
            "type": "heatmapgl"
           }
          ],
          "histogram": [
           {
            "marker": {
             "pattern": {
              "fillmode": "overlay",
              "size": 10,
              "solidity": 0.2
             }
            },
            "type": "histogram"
           }
          ],
          "histogram2d": [
           {
            "colorbar": {
             "outlinewidth": 0,
             "ticks": ""
            },
            "colorscale": [
             [
              0,
              "#0d0887"
             ],
             [
              0.1111111111111111,
              "#46039f"
             ],
             [
              0.2222222222222222,
              "#7201a8"
             ],
             [
              0.3333333333333333,
              "#9c179e"
             ],
             [
              0.4444444444444444,
              "#bd3786"
             ],
             [
              0.5555555555555556,
              "#d8576b"
             ],
             [
              0.6666666666666666,
              "#ed7953"
             ],
             [
              0.7777777777777778,
              "#fb9f3a"
             ],
             [
              0.8888888888888888,
              "#fdca26"
             ],
             [
              1,
              "#f0f921"
             ]
            ],
            "type": "histogram2d"
           }
          ],
          "histogram2dcontour": [
           {
            "colorbar": {
             "outlinewidth": 0,
             "ticks": ""
            },
            "colorscale": [
             [
              0,
              "#0d0887"
             ],
             [
              0.1111111111111111,
              "#46039f"
             ],
             [
              0.2222222222222222,
              "#7201a8"
             ],
             [
              0.3333333333333333,
              "#9c179e"
             ],
             [
              0.4444444444444444,
              "#bd3786"
             ],
             [
              0.5555555555555556,
              "#d8576b"
             ],
             [
              0.6666666666666666,
              "#ed7953"
             ],
             [
              0.7777777777777778,
              "#fb9f3a"
             ],
             [
              0.8888888888888888,
              "#fdca26"
             ],
             [
              1,
              "#f0f921"
             ]
            ],
            "type": "histogram2dcontour"
           }
          ],
          "mesh3d": [
           {
            "colorbar": {
             "outlinewidth": 0,
             "ticks": ""
            },
            "type": "mesh3d"
           }
          ],
          "parcoords": [
           {
            "line": {
             "colorbar": {
              "outlinewidth": 0,
              "ticks": ""
             }
            },
            "type": "parcoords"
           }
          ],
          "pie": [
           {
            "automargin": true,
            "type": "pie"
           }
          ],
          "scatter": [
           {
            "fillpattern": {
             "fillmode": "overlay",
             "size": 10,
             "solidity": 0.2
            },
            "type": "scatter"
           }
          ],
          "scatter3d": [
           {
            "line": {
             "colorbar": {
              "outlinewidth": 0,
              "ticks": ""
             }
            },
            "marker": {
             "colorbar": {
              "outlinewidth": 0,
              "ticks": ""
             }
            },
            "type": "scatter3d"
           }
          ],
          "scattercarpet": [
           {
            "marker": {
             "colorbar": {
              "outlinewidth": 0,
              "ticks": ""
             }
            },
            "type": "scattercarpet"
           }
          ],
          "scattergeo": [
           {
            "marker": {
             "colorbar": {
              "outlinewidth": 0,
              "ticks": ""
             }
            },
            "type": "scattergeo"
           }
          ],
          "scattergl": [
           {
            "marker": {
             "colorbar": {
              "outlinewidth": 0,
              "ticks": ""
             }
            },
            "type": "scattergl"
           }
          ],
          "scattermapbox": [
           {
            "marker": {
             "colorbar": {
              "outlinewidth": 0,
              "ticks": ""
             }
            },
            "type": "scattermapbox"
           }
          ],
          "scatterpolar": [
           {
            "marker": {
             "colorbar": {
              "outlinewidth": 0,
              "ticks": ""
             }
            },
            "type": "scatterpolar"
           }
          ],
          "scatterpolargl": [
           {
            "marker": {
             "colorbar": {
              "outlinewidth": 0,
              "ticks": ""
             }
            },
            "type": "scatterpolargl"
           }
          ],
          "scatterternary": [
           {
            "marker": {
             "colorbar": {
              "outlinewidth": 0,
              "ticks": ""
             }
            },
            "type": "scatterternary"
           }
          ],
          "surface": [
           {
            "colorbar": {
             "outlinewidth": 0,
             "ticks": ""
            },
            "colorscale": [
             [
              0,
              "#0d0887"
             ],
             [
              0.1111111111111111,
              "#46039f"
             ],
             [
              0.2222222222222222,
              "#7201a8"
             ],
             [
              0.3333333333333333,
              "#9c179e"
             ],
             [
              0.4444444444444444,
              "#bd3786"
             ],
             [
              0.5555555555555556,
              "#d8576b"
             ],
             [
              0.6666666666666666,
              "#ed7953"
             ],
             [
              0.7777777777777778,
              "#fb9f3a"
             ],
             [
              0.8888888888888888,
              "#fdca26"
             ],
             [
              1,
              "#f0f921"
             ]
            ],
            "type": "surface"
           }
          ],
          "table": [
           {
            "cells": {
             "fill": {
              "color": "#EBF0F8"
             },
             "line": {
              "color": "white"
             }
            },
            "header": {
             "fill": {
              "color": "#C8D4E3"
             },
             "line": {
              "color": "white"
             }
            },
            "type": "table"
           }
          ]
         },
         "layout": {
          "annotationdefaults": {
           "arrowcolor": "#2a3f5f",
           "arrowhead": 0,
           "arrowwidth": 1
          },
          "autotypenumbers": "strict",
          "coloraxis": {
           "colorbar": {
            "outlinewidth": 0,
            "ticks": ""
           }
          },
          "colorscale": {
           "diverging": [
            [
             0,
             "#8e0152"
            ],
            [
             0.1,
             "#c51b7d"
            ],
            [
             0.2,
             "#de77ae"
            ],
            [
             0.3,
             "#f1b6da"
            ],
            [
             0.4,
             "#fde0ef"
            ],
            [
             0.5,
             "#f7f7f7"
            ],
            [
             0.6,
             "#e6f5d0"
            ],
            [
             0.7,
             "#b8e186"
            ],
            [
             0.8,
             "#7fbc41"
            ],
            [
             0.9,
             "#4d9221"
            ],
            [
             1,
             "#276419"
            ]
           ],
           "sequential": [
            [
             0,
             "#0d0887"
            ],
            [
             0.1111111111111111,
             "#46039f"
            ],
            [
             0.2222222222222222,
             "#7201a8"
            ],
            [
             0.3333333333333333,
             "#9c179e"
            ],
            [
             0.4444444444444444,
             "#bd3786"
            ],
            [
             0.5555555555555556,
             "#d8576b"
            ],
            [
             0.6666666666666666,
             "#ed7953"
            ],
            [
             0.7777777777777778,
             "#fb9f3a"
            ],
            [
             0.8888888888888888,
             "#fdca26"
            ],
            [
             1,
             "#f0f921"
            ]
           ],
           "sequentialminus": [
            [
             0,
             "#0d0887"
            ],
            [
             0.1111111111111111,
             "#46039f"
            ],
            [
             0.2222222222222222,
             "#7201a8"
            ],
            [
             0.3333333333333333,
             "#9c179e"
            ],
            [
             0.4444444444444444,
             "#bd3786"
            ],
            [
             0.5555555555555556,
             "#d8576b"
            ],
            [
             0.6666666666666666,
             "#ed7953"
            ],
            [
             0.7777777777777778,
             "#fb9f3a"
            ],
            [
             0.8888888888888888,
             "#fdca26"
            ],
            [
             1,
             "#f0f921"
            ]
           ]
          },
          "colorway": [
           "#636efa",
           "#EF553B",
           "#00cc96",
           "#ab63fa",
           "#FFA15A",
           "#19d3f3",
           "#FF6692",
           "#B6E880",
           "#FF97FF",
           "#FECB52"
          ],
          "font": {
           "color": "#2a3f5f"
          },
          "geo": {
           "bgcolor": "white",
           "lakecolor": "white",
           "landcolor": "#E5ECF6",
           "showlakes": true,
           "showland": true,
           "subunitcolor": "white"
          },
          "hoverlabel": {
           "align": "left"
          },
          "hovermode": "closest",
          "mapbox": {
           "style": "light"
          },
          "paper_bgcolor": "white",
          "plot_bgcolor": "#E5ECF6",
          "polar": {
           "angularaxis": {
            "gridcolor": "white",
            "linecolor": "white",
            "ticks": ""
           },
           "bgcolor": "#E5ECF6",
           "radialaxis": {
            "gridcolor": "white",
            "linecolor": "white",
            "ticks": ""
           }
          },
          "scene": {
           "xaxis": {
            "backgroundcolor": "#E5ECF6",
            "gridcolor": "white",
            "gridwidth": 2,
            "linecolor": "white",
            "showbackground": true,
            "ticks": "",
            "zerolinecolor": "white"
           },
           "yaxis": {
            "backgroundcolor": "#E5ECF6",
            "gridcolor": "white",
            "gridwidth": 2,
            "linecolor": "white",
            "showbackground": true,
            "ticks": "",
            "zerolinecolor": "white"
           },
           "zaxis": {
            "backgroundcolor": "#E5ECF6",
            "gridcolor": "white",
            "gridwidth": 2,
            "linecolor": "white",
            "showbackground": true,
            "ticks": "",
            "zerolinecolor": "white"
           }
          },
          "shapedefaults": {
           "line": {
            "color": "#2a3f5f"
           }
          },
          "ternary": {
           "aaxis": {
            "gridcolor": "white",
            "linecolor": "white",
            "ticks": ""
           },
           "baxis": {
            "gridcolor": "white",
            "linecolor": "white",
            "ticks": ""
           },
           "bgcolor": "#E5ECF6",
           "caxis": {
            "gridcolor": "white",
            "linecolor": "white",
            "ticks": ""
           }
          },
          "title": {
           "x": 0.05
          },
          "xaxis": {
           "automargin": true,
           "gridcolor": "white",
           "linecolor": "white",
           "ticks": "",
           "title": {
            "standoff": 15
           },
           "zerolinecolor": "white",
           "zerolinewidth": 2
          },
          "yaxis": {
           "automargin": true,
           "gridcolor": "white",
           "linecolor": "white",
           "ticks": "",
           "title": {
            "standoff": 15
           },
           "zerolinecolor": "white",
           "zerolinewidth": 2
          }
         }
        },
        "xaxis": {
         "anchor": "y",
         "categoryarray": [
          "Sunday",
          "Monday",
          "Tuesday",
          "Wednesday",
          "Thursday",
          "Friday",
          "Saturday"
         ],
         "categoryorder": "array",
         "domain": [
          0,
          1
         ],
         "title": {
          "text": "weekday_name"
         }
        },
        "yaxis": {
         "anchor": "x",
         "domain": [
          0,
          1
         ],
         "title": {
          "text": "value"
         }
        }
       }
      }
     },
     "metadata": {},
     "output_type": "display_data"
    }
   ],
   "source": [
    "fig2 = px.line(df_range.groupby('weekday_name')['views'].mean(), category_orders={'weekday_name': days_of_week})"
   ]
  },
  {
   "cell_type": "code",
   "execution_count": 55,
   "metadata": {},
   "outputs": [
    {
     "data": {
      "application/vnd.plotly.v1+json": {
       "config": {
        "plotlyServerURL": "https://plot.ly"
       },
       "data": [
        {
         "alignmentgroup": "True",
         "bingroup": "x",
         "hovertemplate": "weekday_name=%{x}<br>count=%{y}<extra></extra>",
         "legendgroup": "",
         "marker": {
          "color": "#636efa",
          "pattern": {
           "shape": ""
          }
         },
         "name": "",
         "offsetgroup": "",
         "orientation": "v",
         "showlegend": false,
         "type": "histogram",
         "x": [
          "Tuesday",
          "Tuesday",
          "Tuesday",
          "Tuesday",
          "Tuesday",
          "Tuesday",
          "Tuesday",
          "Tuesday",
          "Tuesday",
          "Tuesday",
          "Tuesday",
          "Tuesday",
          "Tuesday",
          "Tuesday",
          "Tuesday",
          "Tuesday",
          "Tuesday",
          "Tuesday",
          "Tuesday",
          "Tuesday",
          "Tuesday",
          "Tuesday",
          "Monday",
          "Sunday",
          "Sunday",
          "Sunday",
          "Saturday",
          "Saturday",
          "Saturday",
          "Saturday",
          "Saturday",
          "Saturday",
          "Saturday",
          "Saturday",
          "Saturday",
          "Saturday",
          "Thursday",
          "Saturday",
          "Friday",
          "Tuesday",
          "Saturday",
          "Saturday",
          "Tuesday",
          "Saturday",
          "Tuesday",
          "Saturday",
          "Saturday",
          "Thursday",
          "Wednesday",
          "Monday",
          "Wednesday",
          "Tuesday"
         ],
         "xaxis": "x",
         "yaxis": "y"
        }
       ],
       "layout": {
        "barmode": "relative",
        "legend": {
         "tracegroupgap": 0
        },
        "template": {
         "data": {
          "bar": [
           {
            "error_x": {
             "color": "#2a3f5f"
            },
            "error_y": {
             "color": "#2a3f5f"
            },
            "marker": {
             "line": {
              "color": "#E5ECF6",
              "width": 0.5
             },
             "pattern": {
              "fillmode": "overlay",
              "size": 10,
              "solidity": 0.2
             }
            },
            "type": "bar"
           }
          ],
          "barpolar": [
           {
            "marker": {
             "line": {
              "color": "#E5ECF6",
              "width": 0.5
             },
             "pattern": {
              "fillmode": "overlay",
              "size": 10,
              "solidity": 0.2
             }
            },
            "type": "barpolar"
           }
          ],
          "carpet": [
           {
            "aaxis": {
             "endlinecolor": "#2a3f5f",
             "gridcolor": "white",
             "linecolor": "white",
             "minorgridcolor": "white",
             "startlinecolor": "#2a3f5f"
            },
            "baxis": {
             "endlinecolor": "#2a3f5f",
             "gridcolor": "white",
             "linecolor": "white",
             "minorgridcolor": "white",
             "startlinecolor": "#2a3f5f"
            },
            "type": "carpet"
           }
          ],
          "choropleth": [
           {
            "colorbar": {
             "outlinewidth": 0,
             "ticks": ""
            },
            "type": "choropleth"
           }
          ],
          "contour": [
           {
            "colorbar": {
             "outlinewidth": 0,
             "ticks": ""
            },
            "colorscale": [
             [
              0,
              "#0d0887"
             ],
             [
              0.1111111111111111,
              "#46039f"
             ],
             [
              0.2222222222222222,
              "#7201a8"
             ],
             [
              0.3333333333333333,
              "#9c179e"
             ],
             [
              0.4444444444444444,
              "#bd3786"
             ],
             [
              0.5555555555555556,
              "#d8576b"
             ],
             [
              0.6666666666666666,
              "#ed7953"
             ],
             [
              0.7777777777777778,
              "#fb9f3a"
             ],
             [
              0.8888888888888888,
              "#fdca26"
             ],
             [
              1,
              "#f0f921"
             ]
            ],
            "type": "contour"
           }
          ],
          "contourcarpet": [
           {
            "colorbar": {
             "outlinewidth": 0,
             "ticks": ""
            },
            "type": "contourcarpet"
           }
          ],
          "heatmap": [
           {
            "colorbar": {
             "outlinewidth": 0,
             "ticks": ""
            },
            "colorscale": [
             [
              0,
              "#0d0887"
             ],
             [
              0.1111111111111111,
              "#46039f"
             ],
             [
              0.2222222222222222,
              "#7201a8"
             ],
             [
              0.3333333333333333,
              "#9c179e"
             ],
             [
              0.4444444444444444,
              "#bd3786"
             ],
             [
              0.5555555555555556,
              "#d8576b"
             ],
             [
              0.6666666666666666,
              "#ed7953"
             ],
             [
              0.7777777777777778,
              "#fb9f3a"
             ],
             [
              0.8888888888888888,
              "#fdca26"
             ],
             [
              1,
              "#f0f921"
             ]
            ],
            "type": "heatmap"
           }
          ],
          "heatmapgl": [
           {
            "colorbar": {
             "outlinewidth": 0,
             "ticks": ""
            },
            "colorscale": [
             [
              0,
              "#0d0887"
             ],
             [
              0.1111111111111111,
              "#46039f"
             ],
             [
              0.2222222222222222,
              "#7201a8"
             ],
             [
              0.3333333333333333,
              "#9c179e"
             ],
             [
              0.4444444444444444,
              "#bd3786"
             ],
             [
              0.5555555555555556,
              "#d8576b"
             ],
             [
              0.6666666666666666,
              "#ed7953"
             ],
             [
              0.7777777777777778,
              "#fb9f3a"
             ],
             [
              0.8888888888888888,
              "#fdca26"
             ],
             [
              1,
              "#f0f921"
             ]
            ],
            "type": "heatmapgl"
           }
          ],
          "histogram": [
           {
            "marker": {
             "pattern": {
              "fillmode": "overlay",
              "size": 10,
              "solidity": 0.2
             }
            },
            "type": "histogram"
           }
          ],
          "histogram2d": [
           {
            "colorbar": {
             "outlinewidth": 0,
             "ticks": ""
            },
            "colorscale": [
             [
              0,
              "#0d0887"
             ],
             [
              0.1111111111111111,
              "#46039f"
             ],
             [
              0.2222222222222222,
              "#7201a8"
             ],
             [
              0.3333333333333333,
              "#9c179e"
             ],
             [
              0.4444444444444444,
              "#bd3786"
             ],
             [
              0.5555555555555556,
              "#d8576b"
             ],
             [
              0.6666666666666666,
              "#ed7953"
             ],
             [
              0.7777777777777778,
              "#fb9f3a"
             ],
             [
              0.8888888888888888,
              "#fdca26"
             ],
             [
              1,
              "#f0f921"
             ]
            ],
            "type": "histogram2d"
           }
          ],
          "histogram2dcontour": [
           {
            "colorbar": {
             "outlinewidth": 0,
             "ticks": ""
            },
            "colorscale": [
             [
              0,
              "#0d0887"
             ],
             [
              0.1111111111111111,
              "#46039f"
             ],
             [
              0.2222222222222222,
              "#7201a8"
             ],
             [
              0.3333333333333333,
              "#9c179e"
             ],
             [
              0.4444444444444444,
              "#bd3786"
             ],
             [
              0.5555555555555556,
              "#d8576b"
             ],
             [
              0.6666666666666666,
              "#ed7953"
             ],
             [
              0.7777777777777778,
              "#fb9f3a"
             ],
             [
              0.8888888888888888,
              "#fdca26"
             ],
             [
              1,
              "#f0f921"
             ]
            ],
            "type": "histogram2dcontour"
           }
          ],
          "mesh3d": [
           {
            "colorbar": {
             "outlinewidth": 0,
             "ticks": ""
            },
            "type": "mesh3d"
           }
          ],
          "parcoords": [
           {
            "line": {
             "colorbar": {
              "outlinewidth": 0,
              "ticks": ""
             }
            },
            "type": "parcoords"
           }
          ],
          "pie": [
           {
            "automargin": true,
            "type": "pie"
           }
          ],
          "scatter": [
           {
            "fillpattern": {
             "fillmode": "overlay",
             "size": 10,
             "solidity": 0.2
            },
            "type": "scatter"
           }
          ],
          "scatter3d": [
           {
            "line": {
             "colorbar": {
              "outlinewidth": 0,
              "ticks": ""
             }
            },
            "marker": {
             "colorbar": {
              "outlinewidth": 0,
              "ticks": ""
             }
            },
            "type": "scatter3d"
           }
          ],
          "scattercarpet": [
           {
            "marker": {
             "colorbar": {
              "outlinewidth": 0,
              "ticks": ""
             }
            },
            "type": "scattercarpet"
           }
          ],
          "scattergeo": [
           {
            "marker": {
             "colorbar": {
              "outlinewidth": 0,
              "ticks": ""
             }
            },
            "type": "scattergeo"
           }
          ],
          "scattergl": [
           {
            "marker": {
             "colorbar": {
              "outlinewidth": 0,
              "ticks": ""
             }
            },
            "type": "scattergl"
           }
          ],
          "scattermapbox": [
           {
            "marker": {
             "colorbar": {
              "outlinewidth": 0,
              "ticks": ""
             }
            },
            "type": "scattermapbox"
           }
          ],
          "scatterpolar": [
           {
            "marker": {
             "colorbar": {
              "outlinewidth": 0,
              "ticks": ""
             }
            },
            "type": "scatterpolar"
           }
          ],
          "scatterpolargl": [
           {
            "marker": {
             "colorbar": {
              "outlinewidth": 0,
              "ticks": ""
             }
            },
            "type": "scatterpolargl"
           }
          ],
          "scatterternary": [
           {
            "marker": {
             "colorbar": {
              "outlinewidth": 0,
              "ticks": ""
             }
            },
            "type": "scatterternary"
           }
          ],
          "surface": [
           {
            "colorbar": {
             "outlinewidth": 0,
             "ticks": ""
            },
            "colorscale": [
             [
              0,
              "#0d0887"
             ],
             [
              0.1111111111111111,
              "#46039f"
             ],
             [
              0.2222222222222222,
              "#7201a8"
             ],
             [
              0.3333333333333333,
              "#9c179e"
             ],
             [
              0.4444444444444444,
              "#bd3786"
             ],
             [
              0.5555555555555556,
              "#d8576b"
             ],
             [
              0.6666666666666666,
              "#ed7953"
             ],
             [
              0.7777777777777778,
              "#fb9f3a"
             ],
             [
              0.8888888888888888,
              "#fdca26"
             ],
             [
              1,
              "#f0f921"
             ]
            ],
            "type": "surface"
           }
          ],
          "table": [
           {
            "cells": {
             "fill": {
              "color": "#EBF0F8"
             },
             "line": {
              "color": "white"
             }
            },
            "header": {
             "fill": {
              "color": "#C8D4E3"
             },
             "line": {
              "color": "white"
             }
            },
            "type": "table"
           }
          ]
         },
         "layout": {
          "annotationdefaults": {
           "arrowcolor": "#2a3f5f",
           "arrowhead": 0,
           "arrowwidth": 1
          },
          "autotypenumbers": "strict",
          "coloraxis": {
           "colorbar": {
            "outlinewidth": 0,
            "ticks": ""
           }
          },
          "colorscale": {
           "diverging": [
            [
             0,
             "#8e0152"
            ],
            [
             0.1,
             "#c51b7d"
            ],
            [
             0.2,
             "#de77ae"
            ],
            [
             0.3,
             "#f1b6da"
            ],
            [
             0.4,
             "#fde0ef"
            ],
            [
             0.5,
             "#f7f7f7"
            ],
            [
             0.6,
             "#e6f5d0"
            ],
            [
             0.7,
             "#b8e186"
            ],
            [
             0.8,
             "#7fbc41"
            ],
            [
             0.9,
             "#4d9221"
            ],
            [
             1,
             "#276419"
            ]
           ],
           "sequential": [
            [
             0,
             "#0d0887"
            ],
            [
             0.1111111111111111,
             "#46039f"
            ],
            [
             0.2222222222222222,
             "#7201a8"
            ],
            [
             0.3333333333333333,
             "#9c179e"
            ],
            [
             0.4444444444444444,
             "#bd3786"
            ],
            [
             0.5555555555555556,
             "#d8576b"
            ],
            [
             0.6666666666666666,
             "#ed7953"
            ],
            [
             0.7777777777777778,
             "#fb9f3a"
            ],
            [
             0.8888888888888888,
             "#fdca26"
            ],
            [
             1,
             "#f0f921"
            ]
           ],
           "sequentialminus": [
            [
             0,
             "#0d0887"
            ],
            [
             0.1111111111111111,
             "#46039f"
            ],
            [
             0.2222222222222222,
             "#7201a8"
            ],
            [
             0.3333333333333333,
             "#9c179e"
            ],
            [
             0.4444444444444444,
             "#bd3786"
            ],
            [
             0.5555555555555556,
             "#d8576b"
            ],
            [
             0.6666666666666666,
             "#ed7953"
            ],
            [
             0.7777777777777778,
             "#fb9f3a"
            ],
            [
             0.8888888888888888,
             "#fdca26"
            ],
            [
             1,
             "#f0f921"
            ]
           ]
          },
          "colorway": [
           "#636efa",
           "#EF553B",
           "#00cc96",
           "#ab63fa",
           "#FFA15A",
           "#19d3f3",
           "#FF6692",
           "#B6E880",
           "#FF97FF",
           "#FECB52"
          ],
          "font": {
           "color": "#2a3f5f"
          },
          "geo": {
           "bgcolor": "white",
           "lakecolor": "white",
           "landcolor": "#E5ECF6",
           "showlakes": true,
           "showland": true,
           "subunitcolor": "white"
          },
          "hoverlabel": {
           "align": "left"
          },
          "hovermode": "closest",
          "mapbox": {
           "style": "light"
          },
          "paper_bgcolor": "white",
          "plot_bgcolor": "#E5ECF6",
          "polar": {
           "angularaxis": {
            "gridcolor": "white",
            "linecolor": "white",
            "ticks": ""
           },
           "bgcolor": "#E5ECF6",
           "radialaxis": {
            "gridcolor": "white",
            "linecolor": "white",
            "ticks": ""
           }
          },
          "scene": {
           "xaxis": {
            "backgroundcolor": "#E5ECF6",
            "gridcolor": "white",
            "gridwidth": 2,
            "linecolor": "white",
            "showbackground": true,
            "ticks": "",
            "zerolinecolor": "white"
           },
           "yaxis": {
            "backgroundcolor": "#E5ECF6",
            "gridcolor": "white",
            "gridwidth": 2,
            "linecolor": "white",
            "showbackground": true,
            "ticks": "",
            "zerolinecolor": "white"
           },
           "zaxis": {
            "backgroundcolor": "#E5ECF6",
            "gridcolor": "white",
            "gridwidth": 2,
            "linecolor": "white",
            "showbackground": true,
            "ticks": "",
            "zerolinecolor": "white"
           }
          },
          "shapedefaults": {
           "line": {
            "color": "#2a3f5f"
           }
          },
          "ternary": {
           "aaxis": {
            "gridcolor": "white",
            "linecolor": "white",
            "ticks": ""
           },
           "baxis": {
            "gridcolor": "white",
            "linecolor": "white",
            "ticks": ""
           },
           "bgcolor": "#E5ECF6",
           "caxis": {
            "gridcolor": "white",
            "linecolor": "white",
            "ticks": ""
           }
          },
          "title": {
           "x": 0.05
          },
          "xaxis": {
           "automargin": true,
           "gridcolor": "white",
           "linecolor": "white",
           "ticks": "",
           "title": {
            "standoff": 15
           },
           "zerolinecolor": "white",
           "zerolinewidth": 2
          },
          "yaxis": {
           "automargin": true,
           "gridcolor": "white",
           "linecolor": "white",
           "ticks": "",
           "title": {
            "standoff": 15
           },
           "zerolinecolor": "white",
           "zerolinewidth": 2
          }
         }
        },
        "title": {
         "text": "FISHERYIN's Posting Frequency from 2022-01-01 to 2023-01-01"
        },
        "xaxis": {
         "anchor": "y",
         "categoryarray": [
          "Monday",
          "Tuesday",
          "Wednesday",
          "Thursday",
          "Friday",
          "Saturday",
          "Sunday"
         ],
         "categoryorder": "array",
         "domain": [
          0,
          1
         ],
         "title": {
          "text": "weekday_name"
         }
        },
        "yaxis": {
         "anchor": "x",
         "domain": [
          0,
          1
         ],
         "title": {
          "text": "count"
         }
        }
       }
      }
     },
     "metadata": {},
     "output_type": "display_data"
    }
   ],
   "source": [
    "# Define the order of days of the week (Monday to Saturday)\n",
    "days_of_week = ['Monday', 'Tuesday', 'Wednesday', 'Thursday', 'Friday', 'Saturday', 'Sunday']\n",
    "start_date = '2022-01-01'\n",
    "end_date = '2023-01-01'\n",
    "df_range = df[(df['publishTime'] >= start_date) & (df['publishTime'] <= end_date)]\n",
    "\n",
    "fig = px.histogram(df_range, x='weekday_name', category_orders={'weekday_name': days_of_week},\n",
    "                   title = f\"{yt.channel_username}'s Posting Frequency from {start_date} to {end_date}\")\n",
    "fig.show()"
   ]
  },
  {
   "cell_type": "code",
   "execution_count": 56,
   "metadata": {},
   "outputs": [
    {
     "data": {
      "application/vnd.plotly.v1+json": {
       "config": {
        "plotlyServerURL": "https://plot.ly"
       },
       "data": [
        {
         "alignmentgroup": "True",
         "bingroup": "x",
         "hovertemplate": "weekday_name=%{x}<br>count=%{y}<extra></extra>",
         "legendgroup": "",
         "marker": {
          "color": "#636efa",
          "pattern": {
           "shape": ""
          }
         },
         "name": "",
         "offsetgroup": "",
         "orientation": "v",
         "showlegend": false,
         "type": "histogram",
         "x": [
          "Tuesday",
          "Tuesday",
          "Tuesday",
          "Tuesday",
          "Tuesday",
          "Tuesday",
          "Tuesday",
          "Tuesday",
          "Tuesday",
          "Tuesday",
          "Tuesday",
          "Tuesday",
          "Tuesday",
          "Tuesday",
          "Tuesday",
          "Tuesday",
          "Tuesday",
          "Tuesday",
          "Tuesday",
          "Tuesday",
          "Tuesday",
          "Tuesday",
          "Tuesday",
          "Tuesday",
          "Tuesday",
          "Tuesday",
          "Tuesday",
          "Tuesday",
          "Tuesday",
          "Tuesday",
          "Tuesday",
          "Tuesday",
          "Tuesday",
          "Tuesday",
          "Tuesday",
          "Tuesday",
          "Tuesday",
          "Tuesday",
          "Tuesday",
          "Tuesday",
          "Friday",
          "Monday",
          "Thursday",
          "Wednesday",
          "Wednesday",
          "Thursday",
          "Wednesday",
          "Thursday",
          "Wednesday",
          "Wednesday",
          "Thursday",
          "Wednesday",
          "Friday",
          "Thursday",
          "Wednesday",
          "Wednesday",
          "Thursday",
          "Wednesday",
          "Monday",
          "Saturday",
          "Friday",
          "Thursday",
          "Wednesday",
          "Monday",
          "Saturday",
          "Wednesday",
          "Thursday",
          "Wednesday",
          "Saturday",
          "Thursday",
          "Wednesday",
          "Monday",
          "Saturday",
          "Friday",
          "Thursday",
          "Wednesday",
          "Saturday",
          "Monday",
          "Saturday",
          "Saturday",
          "Saturday",
          "Thursday",
          "Thursday",
          "Thursday",
          "Tuesday",
          "Thursday",
          "Thursday",
          "Thursday",
          "Thursday",
          "Thursday",
          "Thursday",
          "Thursday",
          "Thursday",
          "Thursday",
          "Wednesday",
          "Saturday",
          "Wednesday",
          "Saturday",
          "Wednesday",
          "Wednesday",
          "Monday"
         ],
         "xaxis": "x",
         "yaxis": "y"
        }
       ],
       "layout": {
        "barmode": "relative",
        "legend": {
         "tracegroupgap": 0
        },
        "template": {
         "data": {
          "bar": [
           {
            "error_x": {
             "color": "#2a3f5f"
            },
            "error_y": {
             "color": "#2a3f5f"
            },
            "marker": {
             "line": {
              "color": "#E5ECF6",
              "width": 0.5
             },
             "pattern": {
              "fillmode": "overlay",
              "size": 10,
              "solidity": 0.2
             }
            },
            "type": "bar"
           }
          ],
          "barpolar": [
           {
            "marker": {
             "line": {
              "color": "#E5ECF6",
              "width": 0.5
             },
             "pattern": {
              "fillmode": "overlay",
              "size": 10,
              "solidity": 0.2
             }
            },
            "type": "barpolar"
           }
          ],
          "carpet": [
           {
            "aaxis": {
             "endlinecolor": "#2a3f5f",
             "gridcolor": "white",
             "linecolor": "white",
             "minorgridcolor": "white",
             "startlinecolor": "#2a3f5f"
            },
            "baxis": {
             "endlinecolor": "#2a3f5f",
             "gridcolor": "white",
             "linecolor": "white",
             "minorgridcolor": "white",
             "startlinecolor": "#2a3f5f"
            },
            "type": "carpet"
           }
          ],
          "choropleth": [
           {
            "colorbar": {
             "outlinewidth": 0,
             "ticks": ""
            },
            "type": "choropleth"
           }
          ],
          "contour": [
           {
            "colorbar": {
             "outlinewidth": 0,
             "ticks": ""
            },
            "colorscale": [
             [
              0,
              "#0d0887"
             ],
             [
              0.1111111111111111,
              "#46039f"
             ],
             [
              0.2222222222222222,
              "#7201a8"
             ],
             [
              0.3333333333333333,
              "#9c179e"
             ],
             [
              0.4444444444444444,
              "#bd3786"
             ],
             [
              0.5555555555555556,
              "#d8576b"
             ],
             [
              0.6666666666666666,
              "#ed7953"
             ],
             [
              0.7777777777777778,
              "#fb9f3a"
             ],
             [
              0.8888888888888888,
              "#fdca26"
             ],
             [
              1,
              "#f0f921"
             ]
            ],
            "type": "contour"
           }
          ],
          "contourcarpet": [
           {
            "colorbar": {
             "outlinewidth": 0,
             "ticks": ""
            },
            "type": "contourcarpet"
           }
          ],
          "heatmap": [
           {
            "colorbar": {
             "outlinewidth": 0,
             "ticks": ""
            },
            "colorscale": [
             [
              0,
              "#0d0887"
             ],
             [
              0.1111111111111111,
              "#46039f"
             ],
             [
              0.2222222222222222,
              "#7201a8"
             ],
             [
              0.3333333333333333,
              "#9c179e"
             ],
             [
              0.4444444444444444,
              "#bd3786"
             ],
             [
              0.5555555555555556,
              "#d8576b"
             ],
             [
              0.6666666666666666,
              "#ed7953"
             ],
             [
              0.7777777777777778,
              "#fb9f3a"
             ],
             [
              0.8888888888888888,
              "#fdca26"
             ],
             [
              1,
              "#f0f921"
             ]
            ],
            "type": "heatmap"
           }
          ],
          "heatmapgl": [
           {
            "colorbar": {
             "outlinewidth": 0,
             "ticks": ""
            },
            "colorscale": [
             [
              0,
              "#0d0887"
             ],
             [
              0.1111111111111111,
              "#46039f"
             ],
             [
              0.2222222222222222,
              "#7201a8"
             ],
             [
              0.3333333333333333,
              "#9c179e"
             ],
             [
              0.4444444444444444,
              "#bd3786"
             ],
             [
              0.5555555555555556,
              "#d8576b"
             ],
             [
              0.6666666666666666,
              "#ed7953"
             ],
             [
              0.7777777777777778,
              "#fb9f3a"
             ],
             [
              0.8888888888888888,
              "#fdca26"
             ],
             [
              1,
              "#f0f921"
             ]
            ],
            "type": "heatmapgl"
           }
          ],
          "histogram": [
           {
            "marker": {
             "pattern": {
              "fillmode": "overlay",
              "size": 10,
              "solidity": 0.2
             }
            },
            "type": "histogram"
           }
          ],
          "histogram2d": [
           {
            "colorbar": {
             "outlinewidth": 0,
             "ticks": ""
            },
            "colorscale": [
             [
              0,
              "#0d0887"
             ],
             [
              0.1111111111111111,
              "#46039f"
             ],
             [
              0.2222222222222222,
              "#7201a8"
             ],
             [
              0.3333333333333333,
              "#9c179e"
             ],
             [
              0.4444444444444444,
              "#bd3786"
             ],
             [
              0.5555555555555556,
              "#d8576b"
             ],
             [
              0.6666666666666666,
              "#ed7953"
             ],
             [
              0.7777777777777778,
              "#fb9f3a"
             ],
             [
              0.8888888888888888,
              "#fdca26"
             ],
             [
              1,
              "#f0f921"
             ]
            ],
            "type": "histogram2d"
           }
          ],
          "histogram2dcontour": [
           {
            "colorbar": {
             "outlinewidth": 0,
             "ticks": ""
            },
            "colorscale": [
             [
              0,
              "#0d0887"
             ],
             [
              0.1111111111111111,
              "#46039f"
             ],
             [
              0.2222222222222222,
              "#7201a8"
             ],
             [
              0.3333333333333333,
              "#9c179e"
             ],
             [
              0.4444444444444444,
              "#bd3786"
             ],
             [
              0.5555555555555556,
              "#d8576b"
             ],
             [
              0.6666666666666666,
              "#ed7953"
             ],
             [
              0.7777777777777778,
              "#fb9f3a"
             ],
             [
              0.8888888888888888,
              "#fdca26"
             ],
             [
              1,
              "#f0f921"
             ]
            ],
            "type": "histogram2dcontour"
           }
          ],
          "mesh3d": [
           {
            "colorbar": {
             "outlinewidth": 0,
             "ticks": ""
            },
            "type": "mesh3d"
           }
          ],
          "parcoords": [
           {
            "line": {
             "colorbar": {
              "outlinewidth": 0,
              "ticks": ""
             }
            },
            "type": "parcoords"
           }
          ],
          "pie": [
           {
            "automargin": true,
            "type": "pie"
           }
          ],
          "scatter": [
           {
            "fillpattern": {
             "fillmode": "overlay",
             "size": 10,
             "solidity": 0.2
            },
            "type": "scatter"
           }
          ],
          "scatter3d": [
           {
            "line": {
             "colorbar": {
              "outlinewidth": 0,
              "ticks": ""
             }
            },
            "marker": {
             "colorbar": {
              "outlinewidth": 0,
              "ticks": ""
             }
            },
            "type": "scatter3d"
           }
          ],
          "scattercarpet": [
           {
            "marker": {
             "colorbar": {
              "outlinewidth": 0,
              "ticks": ""
             }
            },
            "type": "scattercarpet"
           }
          ],
          "scattergeo": [
           {
            "marker": {
             "colorbar": {
              "outlinewidth": 0,
              "ticks": ""
             }
            },
            "type": "scattergeo"
           }
          ],
          "scattergl": [
           {
            "marker": {
             "colorbar": {
              "outlinewidth": 0,
              "ticks": ""
             }
            },
            "type": "scattergl"
           }
          ],
          "scattermapbox": [
           {
            "marker": {
             "colorbar": {
              "outlinewidth": 0,
              "ticks": ""
             }
            },
            "type": "scattermapbox"
           }
          ],
          "scatterpolar": [
           {
            "marker": {
             "colorbar": {
              "outlinewidth": 0,
              "ticks": ""
             }
            },
            "type": "scatterpolar"
           }
          ],
          "scatterpolargl": [
           {
            "marker": {
             "colorbar": {
              "outlinewidth": 0,
              "ticks": ""
             }
            },
            "type": "scatterpolargl"
           }
          ],
          "scatterternary": [
           {
            "marker": {
             "colorbar": {
              "outlinewidth": 0,
              "ticks": ""
             }
            },
            "type": "scatterternary"
           }
          ],
          "surface": [
           {
            "colorbar": {
             "outlinewidth": 0,
             "ticks": ""
            },
            "colorscale": [
             [
              0,
              "#0d0887"
             ],
             [
              0.1111111111111111,
              "#46039f"
             ],
             [
              0.2222222222222222,
              "#7201a8"
             ],
             [
              0.3333333333333333,
              "#9c179e"
             ],
             [
              0.4444444444444444,
              "#bd3786"
             ],
             [
              0.5555555555555556,
              "#d8576b"
             ],
             [
              0.6666666666666666,
              "#ed7953"
             ],
             [
              0.7777777777777778,
              "#fb9f3a"
             ],
             [
              0.8888888888888888,
              "#fdca26"
             ],
             [
              1,
              "#f0f921"
             ]
            ],
            "type": "surface"
           }
          ],
          "table": [
           {
            "cells": {
             "fill": {
              "color": "#EBF0F8"
             },
             "line": {
              "color": "white"
             }
            },
            "header": {
             "fill": {
              "color": "#C8D4E3"
             },
             "line": {
              "color": "white"
             }
            },
            "type": "table"
           }
          ]
         },
         "layout": {
          "annotationdefaults": {
           "arrowcolor": "#2a3f5f",
           "arrowhead": 0,
           "arrowwidth": 1
          },
          "autotypenumbers": "strict",
          "coloraxis": {
           "colorbar": {
            "outlinewidth": 0,
            "ticks": ""
           }
          },
          "colorscale": {
           "diverging": [
            [
             0,
             "#8e0152"
            ],
            [
             0.1,
             "#c51b7d"
            ],
            [
             0.2,
             "#de77ae"
            ],
            [
             0.3,
             "#f1b6da"
            ],
            [
             0.4,
             "#fde0ef"
            ],
            [
             0.5,
             "#f7f7f7"
            ],
            [
             0.6,
             "#e6f5d0"
            ],
            [
             0.7,
             "#b8e186"
            ],
            [
             0.8,
             "#7fbc41"
            ],
            [
             0.9,
             "#4d9221"
            ],
            [
             1,
             "#276419"
            ]
           ],
           "sequential": [
            [
             0,
             "#0d0887"
            ],
            [
             0.1111111111111111,
             "#46039f"
            ],
            [
             0.2222222222222222,
             "#7201a8"
            ],
            [
             0.3333333333333333,
             "#9c179e"
            ],
            [
             0.4444444444444444,
             "#bd3786"
            ],
            [
             0.5555555555555556,
             "#d8576b"
            ],
            [
             0.6666666666666666,
             "#ed7953"
            ],
            [
             0.7777777777777778,
             "#fb9f3a"
            ],
            [
             0.8888888888888888,
             "#fdca26"
            ],
            [
             1,
             "#f0f921"
            ]
           ],
           "sequentialminus": [
            [
             0,
             "#0d0887"
            ],
            [
             0.1111111111111111,
             "#46039f"
            ],
            [
             0.2222222222222222,
             "#7201a8"
            ],
            [
             0.3333333333333333,
             "#9c179e"
            ],
            [
             0.4444444444444444,
             "#bd3786"
            ],
            [
             0.5555555555555556,
             "#d8576b"
            ],
            [
             0.6666666666666666,
             "#ed7953"
            ],
            [
             0.7777777777777778,
             "#fb9f3a"
            ],
            [
             0.8888888888888888,
             "#fdca26"
            ],
            [
             1,
             "#f0f921"
            ]
           ]
          },
          "colorway": [
           "#636efa",
           "#EF553B",
           "#00cc96",
           "#ab63fa",
           "#FFA15A",
           "#19d3f3",
           "#FF6692",
           "#B6E880",
           "#FF97FF",
           "#FECB52"
          ],
          "font": {
           "color": "#2a3f5f"
          },
          "geo": {
           "bgcolor": "white",
           "lakecolor": "white",
           "landcolor": "#E5ECF6",
           "showlakes": true,
           "showland": true,
           "subunitcolor": "white"
          },
          "hoverlabel": {
           "align": "left"
          },
          "hovermode": "closest",
          "mapbox": {
           "style": "light"
          },
          "paper_bgcolor": "white",
          "plot_bgcolor": "#E5ECF6",
          "polar": {
           "angularaxis": {
            "gridcolor": "white",
            "linecolor": "white",
            "ticks": ""
           },
           "bgcolor": "#E5ECF6",
           "radialaxis": {
            "gridcolor": "white",
            "linecolor": "white",
            "ticks": ""
           }
          },
          "scene": {
           "xaxis": {
            "backgroundcolor": "#E5ECF6",
            "gridcolor": "white",
            "gridwidth": 2,
            "linecolor": "white",
            "showbackground": true,
            "ticks": "",
            "zerolinecolor": "white"
           },
           "yaxis": {
            "backgroundcolor": "#E5ECF6",
            "gridcolor": "white",
            "gridwidth": 2,
            "linecolor": "white",
            "showbackground": true,
            "ticks": "",
            "zerolinecolor": "white"
           },
           "zaxis": {
            "backgroundcolor": "#E5ECF6",
            "gridcolor": "white",
            "gridwidth": 2,
            "linecolor": "white",
            "showbackground": true,
            "ticks": "",
            "zerolinecolor": "white"
           }
          },
          "shapedefaults": {
           "line": {
            "color": "#2a3f5f"
           }
          },
          "ternary": {
           "aaxis": {
            "gridcolor": "white",
            "linecolor": "white",
            "ticks": ""
           },
           "baxis": {
            "gridcolor": "white",
            "linecolor": "white",
            "ticks": ""
           },
           "bgcolor": "#E5ECF6",
           "caxis": {
            "gridcolor": "white",
            "linecolor": "white",
            "ticks": ""
           }
          },
          "title": {
           "x": 0.05
          },
          "xaxis": {
           "automargin": true,
           "gridcolor": "white",
           "linecolor": "white",
           "ticks": "",
           "title": {
            "standoff": 15
           },
           "zerolinecolor": "white",
           "zerolinewidth": 2
          },
          "yaxis": {
           "automargin": true,
           "gridcolor": "white",
           "linecolor": "white",
           "ticks": "",
           "title": {
            "standoff": 15
           },
           "zerolinecolor": "white",
           "zerolinewidth": 2
          }
         }
        },
        "title": {
         "text": "FISHERYIN's Posting Frequency from 2023-01-01 to 2024-01-01"
        },
        "xaxis": {
         "anchor": "y",
         "categoryarray": [
          "Monday",
          "Tuesday",
          "Wednesday",
          "Thursday",
          "Friday",
          "Saturday",
          "Sunday"
         ],
         "categoryorder": "array",
         "domain": [
          0,
          1
         ],
         "title": {
          "text": "weekday_name"
         }
        },
        "yaxis": {
         "anchor": "x",
         "domain": [
          0,
          1
         ],
         "title": {
          "text": "count"
         }
        }
       }
      }
     },
     "metadata": {},
     "output_type": "display_data"
    }
   ],
   "source": [
    "# Define the order of days of the week (Monday to Saturday)\n",
    "days_of_week = ['Monday', 'Tuesday', 'Wednesday', 'Thursday', 'Friday', 'Saturday', 'Sunday']\n",
    "start_date = '2023-01-01'\n",
    "end_date = '2024-01-01'\n",
    "df_range = df[(df['publishTime'] >= start_date) & (df['publishTime'] <= end_date)]\n",
    "\n",
    "fig = px.histogram(df_range, x='weekday_name', category_orders={'weekday_name': days_of_week},\n",
    "                   title = f\"{yt.channel_username}'s Posting Frequency from {start_date} to {end_date}\")\n",
    "fig.show()"
   ]
  },
  {
   "cell_type": "markdown",
   "metadata": {},
   "source": [
    "## Hits"
   ]
  },
  {
   "cell_type": "markdown",
   "metadata": {},
   "source": [
    "### Hit Videos"
   ]
  },
  {
   "cell_type": "markdown",
   "metadata": {},
   "source": [
    "##### Scatterplot of Hit Videos"
   ]
  },
  {
   "cell_type": "code",
   "execution_count": 5,
   "metadata": {},
   "outputs": [
    {
     "data": {
      "application/vnd.plotly.v1+json": {
       "config": {
        "plotlyServerURL": "https://plot.ly"
       },
       "data": [
        {
         "customdata": [
          [
           "I Fished A PRIVATE Tournament!",
           8.85
          ],
          [
           "I Tried Fishing With A GIANT SPOON!!",
           13.97
          ],
          [
           "I Built A FALL Tackle Box!",
           11.82
          ],
          [
           "I Tried Fishing With GUMMY WORMS!!",
           10.12
          ],
          [
           "I Found The PERFECT Glidebait!",
           12.67
          ],
          [
           "The FUNNEST Lure To Throw!",
           9.92
          ],
          [
           "I Went Back To College!",
           11.4
          ],
          [
           "I Built A TOPWATER Box!!",
           13.2
          ],
          [
           "I Tried Fishing On A FOLDABLE Kayak!!",
           15.32
          ],
          [
           "I Fished With A CONTROVERSIAL Bait!",
           10.88
          ],
          [
           "I Tried Fishing With MICRO Baits!",
           10.2
          ],
          [
           "I Tried Fishing With ROBOTIC Baits!",
           9.87
          ],
          [
           "I Tried Fishing With BFS Technology!",
           9.77
          ],
          [
           "I Fished With The Most OVERRATED Baits!!",
           11.15
          ],
          [
           "I Built The Ultimate SUMMERTIME Tackle Box!",
           10.68
          ],
          [
           "I Built A Giant Swimbait Tackle Box!",
           10.12
          ],
          [
           "I Got A Fishing Kayak!",
           11.25
          ],
          [
           "I Went Fishing With The Weirdest Bait Ever!!",
           11.13
          ],
          [
           "I Went Fishing With A Handmade Lure!!",
           12.22
          ],
          [
           "The YinTin Is Finished!!",
           22.17
          ],
          [
           "Fishing My First College Tournament!",
           12.02
          ],
          [
           "My College Lake Is Finally Open!!",
           10.28
          ],
          [
           "Can I Outfish A Tournament Angler?",
           11.97
          ],
          [
           "I Built The Ultimate SPRINGTIME Tackle Box!",
           16.03
          ],
          [
           "Converting The YinTin Into A Bass Boat!!",
           11
          ],
          [
           "I Fished The Most Pressured Pond In Town!",
           13.28
          ],
          [
           "I Went Fishing With My Reels Upside Down!",
           14.2
          ],
          [
           "I Built And Went Fishing With A WINTER Tackle Box!",
           20.4
          ],
          [
           "I Went Fishing With The World's TINIEST Combo!",
           15.1
          ],
          [
           "I Built A Tackle Kit And Then Fished With It!",
           15.43
          ],
          [
           "I Got Permission To Fish This CRAZY PRIVATE POND!",
           17.03
          ],
          [
           "I Went Fishing At My Childhood Pond!!",
           17.23
          ],
          [
           "Top 10 Fishing Moments Of 2022!!",
           23.57
          ],
          [
           "Giant Fish Swim In This Lake!",
           11.58
          ],
          [
           "The HUNT For A Freshwater PB │ Pt. 2",
           11.72
          ],
          [
           "The HUNT For A Freshwater PB │ Pt. 1",
           10.6
          ],
          [
           "I Tried To Catch A New PB!",
           15.9
          ],
          [
           "Cooking Freshly Caught Fish From The Beach",
           11.22
          ],
          [
           "Exploring Fishing Spots Near My College!",
           16.95
          ],
          [
           "Attempting To Break My Colleges Lake Record",
           16.37
          ],
          [
           "I Went Fishing With A Long Range Electric Bike!",
           13.55
          ],
          [
           "I Went Fishing After A Hurricane!",
           11.47
          ],
          [
           "I Only Fished Big Swimbaits For 2 Days!",
           14.82
          ],
          [
           "I Went Fishing With My First Combo!",
           14.17
          ],
          [
           "I Went Fishing With My Oldest Baitcaster Combo!",
           16.47
          ],
          [
           "I Went Fishing With The Perfect Pond Hopping Box!",
           13.95
          ],
          [
           "I Went Fishing At My College!",
           12.75
          ],
          [
           "I Went Fishing At A Cliffside Pond!",
           16.82
          ],
          [
           "I Went Fishing With Game Changing Baits!",
           16.42
          ],
          [
           "The Weirdest Private Lake I’ve Ever Fished..",
           16.08
          ],
          [
           "Fishing On A $400 Origami Folding Kayak!",
           11.25
          ],
          [
           "I Fished On The World's Largest Paddleboard!",
           11.3
          ],
          [
           "I Got An Inflatable Fishing Paddle Board!",
           11.9
          ],
          [
           "I Fished In a Sauna Suit for 24 Hours",
           14.78
          ],
          [
           "This Tackle Kit Makes Fishing Easy!",
           10.93
          ],
          [
           "Whoever Catches The Biggest Fish Wins $300!!",
           9.32
          ],
          [
           "World's Most Famous Fishing Destination!",
           12.63
          ],
          [
           "This Fish Attractant Will Change Everything!",
           13.47
          ],
          [
           "I Drove 8 Hours To Catch A Bass",
           12.42
          ],
          [
           "Fishing On My Project Boat For The First Time!",
           11.5
          ],
          [
           "Fishing Is Expensive, So I Gave Away Free Tackle!",
           10.92
          ],
          [
           "Chasing The State Record Bass",
           10.47
          ],
          [
           "Transforming My Jon Boat Into A Bass Boat!",
           9.6
          ],
          [
           "Trout Fishing In The Freezing Rain!",
           8.55
          ],
          [
           "I Swapped Boats For The Day!",
           8.63
          ],
          [
           "Catch a Fish and I'll Eat a Ghost Pepper Chip!",
           8.55
          ],
          [
           "Can I Outfish a High School Tournament Angler?",
           8.17
          ],
          [
           "Spending a Day on My Dream Boat",
           11.78
          ],
          [
           "I Took My College Friend Fishing!",
           8.32
          ],
          [
           "Day in the Life of a Fishing YouTuber",
           6.48
          ],
          [
           "I Went Fishing With A Fish Sonar!",
           12.08
          ],
          [
           "Big Fish In My Little Boat!",
           10.28
          ],
          [
           "First Time Fishing On My Boat!",
           11.95
          ],
          [
           "My Boat is Finally Here!",
           13.48
          ],
          [
           "Whoever Catches the Smallest Fish Shaves Their Head!!",
           17.08
          ],
          [
           "They Made A Pikachu Fishing Lure..",
           10.5
          ],
          [
           "I Fished the Best Ponds In the Country!!",
           8.73
          ],
          [
           "I Drove 3 Hours to Catch This Fish!!",
           11.63
          ],
          [
           "I Bought My Dream Baitcaster!!",
           12.1
          ],
          [
           "I Went Fishing With A Telescopic Rod..",
           12.2
          ],
          [
           "I Went On A Guided Fly Fishing Trip!!",
           9.1
          ],
          [
           "Unboxing $1000 Of Fishing Lures!!",
           8.05
          ],
          [
           "EXTREME Budget ACADEMY Fishing Challenge!!",
           14.22
          ],
          [
           "What's inside a GOOGAN's Tackle Room?!?",
           6.6
          ],
          [
           "I Went Fishing At Lojo's Backyard Pond!!",
           15.82
          ],
          [
           "FIRST Time MAKING My Own SOFT PLASTICS!! (ft. LarryMelton, Jr.)",
           6.77
          ],
          [
           "You Have $20 To Pick Out My Fishing Lures!!!",
           14.32
          ],
          [
           "SURPRISING My Friend With His DREAM FISHING REEL!!!",
           9.55
          ],
          [
           "ULTIMATE Roulette FISHING CHALLENGE With Mystery Tackle Boxes!!",
           15.65
          ],
          [
           "My FIRST Time Fishing On A BASS BOAT!!",
           11.8
          ],
          [
           "FRANKENFISH CATCH N' COOK (So Delicious!!)",
           15.78
          ],
          [
           "thank you",
           8.38
          ],
          [
           "THE BIGGEST FISH OF HIS LIFE!!! (Drag Screaming Action)",
           11.9
          ],
          [
           "INSANE 6 MILE FISHING ADVENTURE (Crazy Topwater Eats)",
           12.52
          ],
          [
           "SPILLWAY FISHING ADVENTURE WITH CATCH CO BOX (On The Line Challenge #4)",
           15.02
          ],
          [
           "CREATE MY OWN FISHING LURE CATCH CO CHALLENGE!! (On The Line Challenge #3)",
           14.58
          ],
          [
           "CRAZY SPEED FISHING CHALLENGE WITH A CATCH CO BOX!! (On The Line Challenge #2)",
           15
          ],
          [
           "COMPLETING A CATCH CO TACKLE BOX SLAM?!? (On The Line Challenge #1)",
           14.93
          ],
          [
           "I FINALLY Caught This Fish AFTER TWO YEARS (James River Fishing)",
           11.08
          ],
          [
           "I CAUGHT My BIGGEST Smallmouth On The FLY (Wet Wading Adventure)",
           11.9
          ],
          [
           "THROWING The Chatterbait PAYS OFF! (Bank Fishing)",
           7.33
          ],
          [
           "I HOOKED INTO AN ABSOLUTE BEAST!! (Jon Boat Adventure)",
           9.58
          ],
          [
           "WE THOUGHT WE HOOKED A ROCK!! (Scary Reptile Encounter)",
           9.83
          ],
          [
           "CRAPPIE CATCH N' COOK (6K SUBSCRIBER SPECIAL)",
           14.13
          ],
          [
           "INSANE Bed Fishing For AGGRESSIVE Largemouth (BIG BASS CAUGHT)",
           8.95
          ],
          [
           "EXPLORING Crystal Clear Streams For BEAUTIFUL FISH -- On The Fly (3/3)",
           18.45
          ],
          [
           "The BEST Trout Stream I've Ever Fished!! --- On The Fly (2/3)",
           16.07
          ],
          [
           "Fly Fishing PRISTINE Mountain Stream --- On The Fly (1/3)",
           9.37
          ],
          [
           "HE DID NOT MEAN TO CATCH THIS FISH!!! (Pond Hopping Adventure)",
           9.6
          ],
          [
           "Hunting Down the POOR MAN'S TARPON In Richmond, VA!! (RVA Shad Fishing)",
           9.3
          ],
          [
           "I BOUGHT The MOST EXPENSIVE Baitcaster From BASS PRO & Caught Fish On It!!",
           10.75
          ],
          [
           "Fishing Against HUGE Cliffside (Reel Unboxing!!)",
           8.47
          ],
          [
           "I'VE NEVER CAUGHT THIS FISH BEFORE!! (Swift Creek Reservoir)",
           8.3
          ],
          [
           "THE ULTIMATE FLY FISHING SHOWDOWN (1v1v1)",
           9.13
          ],
          [
           "They FINALLY Came In -- VLOG #2",
           7.63
          ],
          [
           "Fishing BIG SWIMBAITS For Pre-Spawn Bass (Bank Fishing)",
           11.83
          ],
          [
           "HE CAUGHT A GIANT BASS!!! (Winter Pond Hopping)",
           8.75
          ],
          [
           "REACTING To My OLD FISHING VIDEOS (Hilarious)",
           11.87
          ],
          [
           "This was NOT supposed to happen...",
           6.78
          ],
          [
           "POND HOPPING A Golf Course With Subscriber (BIG BASS CAUGHT)",
           11.8
          ],
          [
           "FINESSE Fishing For COLD Water Largemouth",
           10.53
          ],
          [
           "FISHING In The SNOW?! (BAD IDEA)",
           5.77
          ],
          [
           "GHOST PEPPER CHIP FISHING CHALLENGE (Painful)",
           11.43
          ],
          [
           "Fishing an URBAN CREEK FOR WHATEVER BITES",
           11.27
          ],
          [
           "That's A Big Trout.. -- VLOG #1",
           4.88
          ],
          [
           "URBAN Creek Fishing For LARGIES (Crystal Clear Water)",
           9.68
          ],
          [
           "Exploring ABANDONED Golf Course (CRAZY Fun)",
           3.93
          ],
          [
           "The HUNT For ELUSIVE River MONSTERS (Cut Bait)",
           9.42
          ],
          [
           "My 2021 Fishing Tackle...",
           9.18
          ],
          [
           "Winter SPILLWAY Fishing Is TOUGH",
           6.03
          ],
          [
           "Top 5 Craziest Fishing Moments from 2020",
           8.68
          ],
          [
           "Catching WINTER Bass Under TREES (Bank Fishing)",
           16.82
          ],
          [
           "INSANE Day of Bass Fishing (Pond Hopping)",
           14.4
          ],
          [
           "I GOT NEW RODS & REELS",
           3.13
          ],
          [
           "How To: Drop Shot",
           7.6
          ],
          [
           "The HUNT For Brown Trout In An AMAZING Stream",
           13.67
          ],
          [
           "DIFFICULT GOOGLE MAPS Fishing CHALLENGE",
           19.13
          ],
          [
           "HAMMERING Some AGGRESSIVE Largies (Dam Fishing)",
           13.62
          ],
          [
           "Fly Fishing Basics",
           12.27
          ],
          [
           "Fishing With FROZEN Shad",
           9.63
          ],
          [
           "Someone Sent Me A REEL",
           7.97
          ],
          [
           "OFF TRAIL (Small Stream Fly Fishing Adventure)",
           13.8
          ],
          [
           "FISH CANNOT RESIST THIS LURE",
           15.82
          ],
          [
           "FOUND THE FISH!!  (Kayak Fishing)",
           6.48
          ],
          [
           "FISHING WITH SUBSCRIBER SENT LURES  (Surprise Catch)",
           16.17
          ],
          [
           "Bottom Fishing For HUNGRY Catfish",
           10.02
          ],
          [
           "UNBOXING FAN MAIL",
           9.22
          ],
          [
           "REACTING to FISHING FAILS (2k Sub Special)",
           7.75
          ],
          [
           "CATFISH CATCH N' COOK",
           8.27
          ],
          [
           "This Store Is INSANE",
           7.3
          ],
          [
           "Fishing With A DRILL (WHAT WAS I THINKING??)",
           9.53
          ],
          [
           "SPIDER-MAN ROD BASS FISHING CHALLENGE!!!",
           13.07
          ],
          [
           "BLUEGILL CATCH N' COOK  (100TH VIDEO SPECIAL)",
           12.67
          ],
          [
           "WHAT'S IN MY FISHING BACKPACK?!? (+ROD AND REELS)",
           8.77
          ],
          [
           "CRAZY TOPWATER LURE CHALLENGE",
           11.67
          ],
          [
           "FISHING URBAN WATERFALLS   (FLY FISHING)",
           8.97
          ],
          [
           "10,000 Fish Shimmer Shad   (IS IT WORTH IT??)",
           9.63
          ],
          [
           "Caught In A Storm (This Is BAD)",
           8.8
          ],
          [
           "WET WADING The James River!",
           8.08
          ],
          [
           "NIGHTTIME Catfishing (Channels, Brown Bullheads, Perch)",
           9
          ],
          [
           "EPIC Live Bait Fishing (New PB)",
           13.28
          ],
          [
           "Fishing Off SKETCHY Tree (River Fishing)",
           8.85
          ],
          [
           "Fishing PUDDLES",
           10.43
          ],
          [
           "Summer Fishing Has Begun!!",
           9.93
          ],
          [
           "Catching First Bass On My New SLX DC",
           6.7
          ],
          [
           "SHIMANO SLX DC COMBO (Unboxing And Review)",
           11.97
          ],
          [
           "MultiSpecies At The River",
           8.58
          ],
          [
           "Giant Turtle Ate Our Bluegill",
           14.07
          ],
          [
           "Canoe Fishing Adventure (Swift Creek Reservoir)",
           10.38
          ],
          [
           "NEW BIGGEST BASS OF 2020!!!",
           6.83
          ],
          [
           "Catching Vicious Sharp Toothed Fish (NEW SPECIES)",
           7.83
          ],
          [
           "Catfish LOVE The Dropshot!",
           12.68
          ],
          [
           "Trying Out The Googan Baits Saucy Swimmer",
           7.1
          ],
          [
           "MICRO Fishing In Creek",
           7.03
          ],
          [
           "WHAT DID THIS FISH EAT??",
           5.77
          ],
          [
           "LIVE BAITFISH FISHING (Two PBs Caught)",
           15.77
          ],
          [
           "CRYSTAL CLEAR Fly Fishing For Native Brook Trout",
           20.12
          ],
          [
           "HOMEMADE COKE BOTTLE FISH TRAP",
           8.35
          ],
          [
           "WE ARE CRAZY FOR WADING THIS!!!",
           14.1
          ],
          [
           "RARE Meanmouth Bass Caught?!?",
           11.18
          ],
          [
           "QUARANTINE MONDOS",
           5.17
          ],
          [
           "Fishing Thick Brush For Prespawn Bass",
           5.05
          ],
          [
           "Aggressive Bass Destroyed These Flies!!!!!",
           1.85
          ],
          [
           "Fly Fishing Backwoods Creek With Popper (My First Catch on my Fly)",
           9.2
          ],
          [
           "TFO NXT Black Label Combo Unboxing!!!",
           5.3
          ],
          [
           "Creek Fishing My Backyard!",
           10.52
          ],
          [
           "These River Fish Were Finicky (Spring Fishing With the Boys)",
           3.13
          ],
          [
           "BASS SPECIES SLAM (Smallmouth, Spotted, Largemouth)",
           9.28
          ],
          [
           "EPIC FLY FISHING CHALLENGE!!! (ft. NEWFishing, FishingWithEthan)",
           11.17
          ],
          [
           "Catching My Second Bass of The Year!",
           1.47
          ],
          [
           "Richmond Fishing Expo (ft. ScottMartinChallenge, Mike Bucca)",
           8.35
          ],
          [
           "My TOP SIX FISHING MOMENTS of 2019!",
           8.28
          ],
          [
           "Late December Fishing",
           7.58
          ],
          [
           "These Striped Bass were BIG  (New Jersey) (Bottom Jigging)",
           13.17
          ],
          [
           "My First Spotted Bass (New Species)",
           7.27
          ],
          [
           "CHILLY River Fishing With Ned Rig (NEW SPECIES!!) (ft. FishingWithEthan)",
           8.93
          ],
          [
           "UNREAL Topwater Bass At The River!!",
           9.85
          ],
          [
           "Fishing the Appomattox River  (PB Smallie) (New Species)",
           8.7
          ],
          [
           "BOWFIN ATE AT MY FEET!!  (James River Fishing w/ NEWFishing)",
           5.98
          ],
          [
           "Cane Pole Fishing A Drying Creek",
           8.33
          ],
          [
           "Catching Bass using CHEAP Bluegill Swimbait!!",
           4.37
          ],
          [
           "Wading in a CRYSTAL CLEAR river for Smallmouth Bass   (New Personal Species!)",
           12.63
          ],
          [
           "5LB+ BASS COMES OFF MY HOOK! (Live Minnow Fishing)",
           5.43
          ],
          [
           "Trying out the Lunkerhunt Dragonfly Lure!",
           7.02
          ],
          [
           "My First Time Fishing A Jig",
           3.5
          ],
          [
           "Fly Fishing GORGEOUS Streams for Brook Trout",
           6.08
          ],
          [
           "LOOK WHAT HE CAUGHT (Long Beach Island. Ep 4)",
           4.33
          ],
          [
           "I Got Extremly Sea Sick (Long Beach Island. Ep 3)",
           4.2
          ],
          [
           "Using BIG Poppers to catch BIG Fish (Long Beach Island. Ep 2)",
           6.85
          ],
          [
           "The Bass of the Sea (Long Beach Island. Ep 1)",
           5.45
          ],
          [
           "I HAD TO GET IN THE WATER TO LAND THIS FISH!!!  (Fishing at UVA)",
           7.23
          ],
          [
           "Fishing at UVA! (His first bass ever)",
           5.8
          ],
          [
           "Putting Bandito Bugs to the test! (ft.EBO)",
           6.1
          ],
          [
           "My LARGEST freshwater fish",
           10.12
          ],
          [
           "FISHING TRICKSHOTS",
           2.22
          ],
          [
           "GIANT Bass Caught Out of TINY CREEK  (2019 Personal Best!) (Ft. FishingWithEthan)",
           12.88
          ],
          [
           "Fishing With My New Combo From Bass Pro Shops ( Ft. NEWFishing)",
           8.6
          ],
          [
           "STOCKING a Local Pond With Bluegill! (Ft.NEWFishing)",
           11.9
          ],
          [
           "TINY Dock Demon Bass Fishing CHALLENGE!!! (Ft.NEWFishing, EBO)",
           10
          ],
          [
           "My FIRST time using this lure",
           4.58
          ],
          [
           "CREEK Fishing in the James River",
           8.42
          ],
          [
           "Trying out the Hula Popper! (Topwater Bass)",
           4.73
          ],
          [
           "HIT RIGHT AT MY FEET ON THE SWIMBAIT!!",
           6.8
          ],
          [
           "Cheap swimbait from Wish app! (Ft. NEWFishing, FWE, and Iverson)",
           5.05
          ],
          [
           "NO WAY HE CAUGHT THIS ON A FLY! (ft. NEWFishing)",
           12.38
          ],
          [
           "Topwater Bass on the Whopper Plopper!!",
           13.1
          ],
          [
           "My Favorite Springtime Bass Lure! (2019 PB CAUGHT) FT. NEWFishing, and FishingWithEthan",
           18.97
          ],
          [
           "Swift Creek Reservoir Adventure",
           9.87
          ],
          [
           "Golf Course Pond Hopping (ft. NEWFishing)",
           12.4
          ],
          [
           "This Mini Popper Catches EVERYTHING! Spring Bloom (Part 2)",
           7.28
          ],
          [
           "Spring Bloom (Part 1) AGGRESIVE FISH DESTROY PLASTIC WORM",
           5.7
          ],
          [
           "Fishing Bear Creek State Park",
           5.05
          ],
          [
           "I REALLY need to work on my hookset (ft.FishingWithEthan)",
           4.15
          ],
          [
           "Dinks, Dinks, and more Dinks..",
           3.77
          ],
          [
           "I Can't Believe I Wasn't Recording...",
           5.12
          ],
          [
           "I LOST A GIANT (ft. FishingWithEthan)",
           9.82
          ],
          [
           "HEAT WAVE (Part 2) Nasty Pond Scum Bed Fishing",
           7.07
          ],
          [
           "HEAT WAVE (Part 1) What A Crappie Day!",
           9.15
          ],
          [
           "I Catch Everything Except a Crappie",
           8.18
          ],
          [
           "ARTIFICIAL VS LIVE BAIT Challenge!!",
           5.43
          ],
          [
           "Bobber Fishing Madness!!",
           7
          ],
          [
           "Fishing Before a Thunderstorm!! (BIG BASS CAUGHT)",
           8.43
          ],
          [
           "Fishing An Old Coal Mine!! (ft. NEWFishing)",
           5.57
          ],
          [
           "Fluke Saves The Day (ft. NEWFishing)",
           5.95
          ],
          [
           "Spring Is Just Around the Corner!",
           4.28
          ],
          [
           "Finally ended my BASS SKUNK!!",
           4.4
          ],
          [
           "UNEXPECTED FISH CAUGHT AT SMALL POND!",
           11.4
          ],
          [
           "Dead Fish Everywhere!",
           8.88
          ],
          [
           "Catching Our First Fish Of The Year?!",
           5.12
          ],
          [
           "Crappie Fishing In December",
           3.5
          ],
          [
           "Winter Biggins",
           5.98
          ],
          [
           "Catching Bass On A Broken Lure?!",
           5.2
          ],
          [
           "POND FISHING IN DECEMBER [Giant Perch Caught]",
           6.28
          ]
         ],
         "hovertemplate": "performance=Normal<br>publishTime=%{x}<br>views=%{y}<br>title=%{customdata[0]}<br>duration_min=%{customdata[1]}<extra></extra>",
         "legendgroup": "Normal",
         "marker": {
          "color": "#497174",
          "symbol": "circle"
         },
         "mode": "markers",
         "name": "Normal",
         "orientation": "v",
         "showlegend": true,
         "type": "scatter",
         "x": [
          "2023-10-24T20:29:54+00:00",
          "2023-10-17T20:31:32+00:00",
          "2023-10-03T20:28:46+00:00",
          "2023-09-26T20:31:59+00:00",
          "2023-09-19T20:27:47+00:00",
          "2023-09-12T20:27:20+00:00",
          "2023-09-05T20:26:58+00:00",
          "2023-08-29T20:28:20+00:00",
          "2023-08-22T20:30:24+00:00",
          "2023-08-15T20:28:45+00:00",
          "2023-08-01T20:28:10+00:00",
          "2023-07-25T20:28:26+00:00",
          "2023-07-11T20:28:53+00:00",
          "2023-06-20T20:27:18+00:00",
          "2023-06-13T20:29:39+00:00",
          "2023-06-06T20:29:04+00:00",
          "2023-05-30T20:28:22+00:00",
          "2023-05-23T20:28:25+00:00",
          "2023-05-16T20:30:34+00:00",
          "2023-04-25T20:29:23+00:00",
          "2023-04-11T20:28:40+00:00",
          "2023-04-04T20:29:52+00:00",
          "2023-03-21T20:28:39+00:00",
          "2023-03-14T20:29:56+00:00",
          "2023-02-28T21:29:26+00:00",
          "2023-02-21T21:28:20+00:00",
          "2023-02-14T21:29:39+00:00",
          "2023-02-07T21:28:53+00:00",
          "2023-01-31T21:30:05+00:00",
          "2023-01-24T21:30:28+00:00",
          "2023-01-17T21:30:37+00:00",
          "2023-01-10T21:31:35+00:00",
          "2023-01-03T21:32:57+00:00",
          "2022-12-27T21:27:51+00:00",
          "2022-12-20T20:42:47+00:00",
          "2022-12-13T21:29:54+00:00",
          "2022-12-06T21:28:58+00:00",
          "2022-11-22T21:27:07+00:00",
          "2022-11-15T21:30:16+00:00",
          "2022-11-08T21:30:52+00:00",
          "2022-11-01T20:28:40+00:00",
          "2022-10-11T20:30:02+00:00",
          "2022-10-04T20:31:08+00:00",
          "2022-09-27T20:31:56+00:00",
          "2022-09-20T20:30:42+00:00",
          "2022-09-13T20:29:52+00:00",
          "2022-09-06T20:33:20+00:00",
          "2022-08-23T15:15:41+00:00",
          "2022-08-16T15:16:02+00:00",
          "2022-08-09T15:16:02+00:00",
          "2022-07-26T15:00:13+00:00",
          "2022-07-19T15:16:11+00:00",
          "2022-07-05T15:14:29+00:00",
          "2022-06-13T18:57:00+00:00",
          "2022-05-15T12:25:00+00:00",
          "2022-04-23T14:45:04+00:00",
          "2022-04-02T14:39:23+00:00",
          "2022-03-12T15:37:55+00:00",
          "2022-03-05T14:15:01+00:00",
          "2022-02-19T16:45:02+00:00",
          "2022-02-05T17:12:52+00:00",
          "2022-01-29T16:45:59+00:00",
          "2022-01-22T16:46:08+00:00",
          "2022-01-06T23:45:00+00:00",
          "2022-01-01T16:40:00+00:00",
          "2021-12-18T16:00:12+00:00",
          "2021-12-11T17:15:01+00:00",
          "2021-12-03T00:15:00+00:00",
          "2021-11-27T00:00:04+00:00",
          "2021-11-18T00:00:01+00:00",
          "2021-11-11T00:00:26+00:00",
          "2021-11-04T21:00:04+00:00",
          "2021-10-21T16:15:03+00:00",
          "2021-10-14T16:15:00+00:00",
          "2021-09-30T16:15:05+00:00",
          "2021-09-25T16:15:00+00:00",
          "2021-09-23T16:15:00+00:00",
          "2021-09-18T16:15:01+00:00",
          "2021-09-02T16:15:01+00:00",
          "2021-08-28T16:15:01+00:00",
          "2021-08-21T16:30:00+00:00",
          "2021-08-17T16:00:14+00:00",
          "2021-08-14T14:30:10+00:00",
          "2021-08-12T16:00:15+00:00",
          "2021-08-10T16:00:04+00:00",
          "2021-08-05T16:00:33+00:00",
          "2021-08-03T16:00:24+00:00",
          "2021-07-29T16:00:09+00:00",
          "2021-07-27T15:00:05+00:00",
          "2021-07-22T16:00:26+00:00",
          "2021-07-20T15:00:24+00:00",
          "2021-07-15T16:00:22+00:00",
          "2021-07-13T14:07:45+00:00",
          "2021-06-29T14:33:57+00:00",
          "2021-06-22T15:08:12+00:00",
          "2021-06-15T14:02:27+00:00",
          "2021-06-08T14:00:16+00:00",
          "2021-06-01T14:00:09+00:00",
          "2021-05-25T21:00:14+00:00",
          "2021-05-21T17:49:23+00:00",
          "2021-05-18T21:00:32+00:00",
          "2021-05-11T21:00:07+00:00",
          "2021-05-04T20:59:35+00:00",
          "2021-04-27T21:00:30+00:00",
          "2021-04-20T19:05:21+00:00",
          "2021-04-17T22:00:15+00:00",
          "2021-04-14T21:00:19+00:00",
          "2021-04-12T16:00:03+00:00",
          "2021-03-31T21:30:02+00:00",
          "2021-03-29T19:00:14+00:00",
          "2021-03-24T21:30:16+00:00",
          "2021-03-22T19:00:16+00:00",
          "2021-03-18T22:00:01+00:00",
          "2021-03-15T19:00:00+00:00",
          "2021-03-12T16:30:06+00:00",
          "2021-03-11T23:00:12+00:00",
          "2021-03-05T21:00:06+00:00",
          "2021-02-28T23:15:00+00:00",
          "2021-02-22T16:57:08+00:00",
          "2021-02-19T22:00:07+00:00",
          "2021-02-12T21:00:06+00:00",
          "2021-02-08T19:15:00+00:00",
          "2021-02-05T21:00:13+00:00",
          "2021-02-01T19:00:08+00:00",
          "2021-01-29T20:45:00+00:00",
          "2021-01-24T00:00:02+00:00",
          "2021-01-20T19:30:01+00:00",
          "2021-01-17T19:15:00+00:00",
          "2021-01-07T18:00:00+00:00",
          "2021-01-01T19:30:02+00:00",
          "2020-12-26T18:30:10+00:00",
          "2020-12-21T19:59:07+00:00",
          "2020-12-09T19:45:00+00:00",
          "2020-12-05T13:00:12+00:00",
          "2020-11-26T16:22:31+00:00",
          "2020-11-15T19:57:13+00:00",
          "2020-11-14T16:28:26+00:00",
          "2020-10-12T23:10:52+00:00",
          "2020-10-03T03:23:41+00:00",
          "2020-09-29T02:03:43+00:00",
          "2020-09-19T01:55:53+00:00",
          "2020-09-13T23:37:40+00:00",
          "2020-09-08T02:22:36+00:00",
          "2020-09-04T23:06:47+00:00",
          "2020-09-01T16:46:31+00:00",
          "2020-08-27T16:32:36+00:00",
          "2020-08-26T14:56:44+00:00",
          "2020-08-22T14:27:50+00:00",
          "2020-08-20T13:32:10+00:00",
          "2020-08-19T01:00:46+00:00",
          "2020-08-15T17:46:28+00:00",
          "2020-08-12T22:22:07+00:00",
          "2020-08-08T21:06:13+00:00",
          "2020-08-06T02:47:06+00:00",
          "2020-08-04T18:13:30+00:00",
          "2020-08-02T21:53:18+00:00",
          "2020-07-30T21:53:03+00:00",
          "2020-07-25T02:30:14+00:00",
          "2020-07-20T22:36:35+00:00",
          "2020-07-14T22:07:04+00:00",
          "2020-07-12T21:21:03+00:00",
          "2020-07-06T02:45:55+00:00",
          "2020-06-30T03:18:38+00:00",
          "2020-06-10T04:00:10+00:00",
          "2020-06-07T14:00:13+00:00",
          "2020-06-06T18:51:38+00:00",
          "2020-06-03T21:30:09+00:00",
          "2020-05-30T13:59:31+00:00",
          "2020-05-28T03:02:37+00:00",
          "2020-05-23T04:02:50+00:00",
          "2020-05-19T15:28:38+00:00",
          "2020-05-18T14:42:27+00:00",
          "2020-05-10T02:22:16+00:00",
          "2020-05-08T04:11:12+00:00",
          "2020-05-05T15:55:36+00:00",
          "2020-04-30T21:43:58+00:00",
          "2020-04-25T02:06:16+00:00",
          "2020-04-21T23:16:36+00:00",
          "2020-04-19T02:20:56+00:00",
          "2020-04-13T15:37:39+00:00",
          "2020-04-09T03:23:20+00:00",
          "2020-04-05T20:27:29+00:00",
          "2020-03-31T00:41:52+00:00",
          "2020-03-28T21:48:41+00:00",
          "2020-03-26T20:03:27+00:00",
          "2020-03-21T01:54:15+00:00",
          "2020-03-14T17:28:49+00:00",
          "2020-03-14T00:43:50+00:00",
          "2020-03-08T00:41:11+00:00",
          "2020-01-25T23:39:51+00:00",
          "2020-01-19T23:37:02+00:00",
          "2019-12-31T04:45:06+00:00",
          "2019-12-29T22:00:28+00:00",
          "2019-12-02T00:28:33+00:00",
          "2019-11-07T02:18:25+00:00",
          "2019-11-03T01:30:15+00:00",
          "2019-10-31T02:31:36+00:00",
          "2019-10-14T00:19:36+00:00",
          "2019-10-13T21:45:52+00:00",
          "2019-10-12T17:29:57+00:00",
          "2019-10-06T18:53:39+00:00",
          "2019-10-01T22:09:32+00:00",
          "2019-09-23T21:19:10+00:00",
          "2019-09-15T18:20:31+00:00",
          "2019-08-30T22:02:51+00:00",
          "2019-08-28T19:24:27+00:00",
          "2019-08-26T02:20:38+00:00",
          "2019-08-23T17:18:47+00:00",
          "2019-08-23T00:37:39+00:00",
          "2019-08-22T22:13:07+00:00",
          "2019-07-27T17:13:55+00:00",
          "2019-07-21T18:34:13+00:00",
          "2019-06-30T13:31:55+00:00",
          "2019-06-29T23:07:24+00:00",
          "2019-06-27T22:47:57+00:00",
          "2019-06-17T15:41:20+00:00",
          "2019-06-15T21:04:34+00:00",
          "2019-06-14T18:57:06+00:00",
          "2019-06-12T22:35:01+00:00",
          "2019-06-09T23:11:34+00:00",
          "2019-06-06T02:14:56+00:00",
          "2019-06-04T17:59:48+00:00",
          "2019-06-02T02:28:18+00:00",
          "2019-05-25T20:48:24+00:00",
          "2019-05-19T13:29:45+00:00",
          "2019-05-13T02:58:37+00:00",
          "2019-05-11T20:51:16+00:00",
          "2019-05-04T23:35:34+00:00",
          "2019-04-18T00:30:35+00:00",
          "2019-04-12T01:53:50+00:00",
          "2019-04-09T03:05:09+00:00",
          "2019-04-08T01:44:48+00:00",
          "2019-04-05T03:01:14+00:00",
          "2019-04-04T02:43:16+00:00",
          "2019-04-01T15:26:50+00:00",
          "2019-03-31T19:04:58+00:00",
          "2019-03-30T16:47:20+00:00",
          "2019-03-30T03:24:52+00:00",
          "2019-03-23T13:46:07+00:00",
          "2019-03-18T01:53:20+00:00",
          "2019-03-17T03:20:49+00:00",
          "2019-03-16T14:44:54+00:00",
          "2019-03-11T01:32:11+00:00",
          "2019-03-08T22:10:33+00:00",
          "2019-02-16T15:22:40+00:00",
          "2019-02-10T03:52:01+00:00",
          "2019-01-27T23:06:51+00:00",
          "2019-01-20T19:32:41+00:00",
          "2019-01-06T22:47:12+00:00",
          "2018-12-24T05:46:17+00:00",
          "2018-12-21T00:07:13+00:00",
          "2018-12-16T18:17:35+00:00",
          "2018-12-08T03:21:50+00:00"
         ],
         "xaxis": "x",
         "y": [
          12034,
          25838,
          21681,
          63843,
          20809,
          26883,
          24558,
          33557,
          29417,
          27143,
          48856,
          64825,
          67482,
          56094,
          56217,
          67139,
          52096,
          37709,
          50674,
          75676,
          67987,
          23195,
          27706,
          78773,
          58320,
          31548,
          11921,
          31597,
          24831,
          27877,
          20156,
          50799,
          7991,
          6755,
          10958,
          11369,
          16957,
          7183,
          20939,
          25603,
          13247,
          26463,
          53864,
          39023,
          34020,
          50249,
          34764,
          83510,
          67420,
          29002,
          47030,
          21645,
          58138,
          13446,
          63956,
          32462,
          50906,
          69084,
          11745,
          27339,
          10556,
          41139,
          48980,
          12147,
          7156,
          23264,
          73984,
          12146,
          6388,
          9551,
          57810,
          11815,
          15712,
          16349,
          33615,
          32464,
          29510,
          55532,
          72970,
          53373,
          10657,
          17226,
          63072,
          12438,
          68386,
          53794,
          32225,
          55652,
          13023,
          9097,
          6729,
          2266,
          2419,
          12543,
          22101,
          25364,
          18135,
          45006,
          5514,
          4915,
          2264,
          5510,
          4873,
          4571,
          2130,
          7686,
          3648,
          1183,
          2263,
          2235,
          9832,
          2053,
          4014,
          6293,
          1585,
          3557,
          2551,
          1219,
          849,
          1342,
          1683,
          1642,
          3380,
          1605,
          1451,
          5988,
          1000,
          1623,
          1846,
          1504,
          1320,
          12653,
          3506,
          1133,
          1442,
          2855,
          31664,
          4225,
          1108,
          3764,
          1258,
          1937,
          4349,
          924,
          22867,
          1410,
          901,
          858,
          1733,
          1280,
          1571,
          11901,
          6701,
          5069,
          6312,
          4140,
          4667,
          753,
          2150,
          575,
          4814,
          479,
          661,
          497,
          760,
          20732,
          424,
          343,
          1257,
          348,
          367,
          3229,
          12184,
          221,
          151,
          555,
          4269,
          653,
          188,
          657,
          146,
          190,
          619,
          2948,
          8937,
          1508,
          183,
          172,
          272,
          116,
          363,
          144,
          134,
          857,
          218,
          140,
          176,
          1509,
          345,
          1039,
          5686,
          223,
          176,
          5482,
          249,
          304,
          121,
          193,
          328,
          164,
          366,
          330,
          316,
          427,
          175,
          739,
          285,
          156,
          676,
          161,
          744,
          32089,
          123,
          3358,
          133,
          423,
          222,
          764,
          210,
          311,
          117,
          440,
          119,
          116,
          122,
          142,
          355,
          142,
          228,
          236,
          686,
          186,
          482,
          295,
          290,
          215,
          328,
          588,
          538,
          327,
          434,
          527,
          3640
         ],
         "yaxis": "y"
        },
        {
         "customdata": [
          [
           "The YinTin's First Tournament! (WE WON)",
           11.63
          ],
          [
           "I Built A PREMIUM Pond Hopping Tackle Box!!",
           18.52
          ],
          [
           "I Tried Fishing With GIANT Worms!! (NEW PB)",
           11.3
          ],
          [
           "I Went Fishing With Realistic Baits!!",
           11.87
          ],
          [
           "Taking The YinTin Fishing!!",
           15.85
          ],
          [
           "I Went Fishing With The Stinkiest Baits!!",
           11
          ],
          [
           "I Went Fishing With A LEGENDARY Baitcaster!",
           14.18
          ],
          [
           "I Bought Amazon's BEST RATED Telescopic Rods!",
           13.55
          ],
          [
           "I Went Fishing With The Kraziest Looking Combos",
           10.1
          ],
          [
           "Surviving 48 Hours In The Woods",
           19.7
          ],
          [
           "I Gave Myself 2 Days To Break My PB",
           11.42
          ],
          [
           "I Fished Florida’s Best Private Lakes!",
           12.67
          ],
          [
           "Fishing Big Swimbaits For 24 Hours!",
           17.15
          ],
          [
           "He Got Me Into Fishing!",
           11.55
          ],
          [
           "The Best Lake I've Ever Fished..",
           17.42
          ],
          [
           "I Went Fishing With My Old Gear..",
           12.17
          ],
          [
           "I Got A Fishing Paddle Board!!",
           14.12
          ],
          [
           "Pick Any Baitcasting Combo and I'll Buy It For You!!",
           11.22
          ],
          [
           "We Fished With DC Reels Only...",
           10.45
          ],
          [
           "GOOGLE MAPS Pond Was LOADED With Fish!!",
           10.08
          ],
          [
           "MICRO Fishing A PUDDLE! (Insanely Difficult)",
           8.23
          ]
         ],
         "hovertemplate": "performance=Hit<br>publishTime=%{x}<br>views=%{y}<br>title=%{customdata[0]}<br>duration_min=%{customdata[1]}<extra></extra>",
         "legendgroup": "Hit",
         "marker": {
          "color": "#EB6440",
          "symbol": "circle"
         },
         "mode": "markers",
         "name": "Hit",
         "orientation": "v",
         "showlegend": true,
         "type": "scatter",
         "x": [
          "2023-07-18T20:30:48+00:00",
          "2023-07-04T20:23:20+00:00",
          "2023-06-27T20:32:56+00:00",
          "2023-05-09T20:30:33+00:00",
          "2023-05-02T20:30:13+00:00",
          "2023-03-28T20:28:55+00:00",
          "2023-03-07T21:27:28+00:00",
          "2022-10-25T20:30:58+00:00",
          "2022-06-21T15:00:54+00:00",
          "2022-05-29T12:20:01+00:00",
          "2022-05-01T12:15:02+00:00",
          "2022-04-09T14:40:00+00:00",
          "2022-03-19T14:45:03+00:00",
          "2021-10-28T16:15:00+00:00",
          "2021-10-07T16:15:01+00:00",
          "2021-09-09T16:15:03+00:00",
          "2021-09-04T16:15:00+00:00",
          "2021-08-26T16:15:01+00:00",
          "2021-08-19T16:15:30+00:00",
          "2021-05-30T23:49:49+00:00",
          "2021-05-17T00:00:05+00:00"
         ],
         "xaxis": "x",
         "y": [
          314002,
          114805,
          156200,
          211368,
          99202,
          153366,
          111274,
          89136,
          513110,
          164996,
          194059,
          147156,
          100331,
          87872,
          115437,
          203517,
          131313,
          111861,
          112346,
          265506,
          269176
         ],
         "yaxis": "y"
        },
        {
         "hovertemplate": "publishTime=%{x}<br>normal_rolling_average=%{y}<extra></extra>",
         "legendgroup": "",
         "line": {
          "color": "#497174",
          "dash": "solid"
         },
         "marker": {
          "symbol": "circle"
         },
         "mode": "lines",
         "name": "",
         "orientation": "v",
         "showlegend": false,
         "type": "scatter",
         "x": [
          "2023-10-24T20:29:54+00:00",
          "2023-10-17T20:31:32+00:00",
          "2023-10-03T20:28:46+00:00",
          "2023-09-26T20:31:59+00:00",
          "2023-09-19T20:27:47+00:00",
          "2023-09-12T20:27:20+00:00",
          "2023-09-05T20:26:58+00:00",
          "2023-08-29T20:28:20+00:00",
          "2023-08-22T20:30:24+00:00",
          "2023-08-15T20:28:45+00:00",
          "2023-08-01T20:28:10+00:00",
          "2023-07-25T20:28:26+00:00",
          "2023-07-11T20:28:53+00:00",
          "2023-06-20T20:27:18+00:00",
          "2023-06-13T20:29:39+00:00",
          "2023-06-06T20:29:04+00:00",
          "2023-05-30T20:28:22+00:00",
          "2023-05-23T20:28:25+00:00",
          "2023-05-16T20:30:34+00:00",
          "2023-04-25T20:29:23+00:00",
          "2023-04-11T20:28:40+00:00",
          "2023-04-04T20:29:52+00:00",
          "2023-03-21T20:28:39+00:00",
          "2023-03-14T20:29:56+00:00",
          "2023-02-28T21:29:26+00:00",
          "2023-02-21T21:28:20+00:00",
          "2023-02-14T21:29:39+00:00",
          "2023-02-07T21:28:53+00:00",
          "2023-01-31T21:30:05+00:00",
          "2023-01-24T21:30:28+00:00",
          "2023-01-17T21:30:37+00:00",
          "2023-01-10T21:31:35+00:00",
          "2023-01-03T21:32:57+00:00",
          "2022-12-27T21:27:51+00:00",
          "2022-12-20T20:42:47+00:00",
          "2022-12-13T21:29:54+00:00",
          "2022-12-06T21:28:58+00:00",
          "2022-11-22T21:27:07+00:00",
          "2022-11-15T21:30:16+00:00",
          "2022-11-08T21:30:52+00:00",
          "2022-11-01T20:28:40+00:00",
          "2022-10-11T20:30:02+00:00",
          "2022-10-04T20:31:08+00:00",
          "2022-09-27T20:31:56+00:00",
          "2022-09-20T20:30:42+00:00",
          "2022-09-13T20:29:52+00:00",
          "2022-09-06T20:33:20+00:00",
          "2022-08-23T15:15:41+00:00",
          "2022-08-16T15:16:02+00:00",
          "2022-08-09T15:16:02+00:00",
          "2022-07-26T15:00:13+00:00",
          "2022-07-19T15:16:11+00:00",
          "2022-07-05T15:14:29+00:00",
          "2022-06-13T18:57:00+00:00",
          "2022-05-15T12:25:00+00:00",
          "2022-04-23T14:45:04+00:00",
          "2022-04-02T14:39:23+00:00",
          "2022-03-12T15:37:55+00:00",
          "2022-03-05T14:15:01+00:00",
          "2022-02-19T16:45:02+00:00",
          "2022-02-05T17:12:52+00:00",
          "2022-01-29T16:45:59+00:00",
          "2022-01-22T16:46:08+00:00",
          "2022-01-06T23:45:00+00:00",
          "2022-01-01T16:40:00+00:00",
          "2021-12-18T16:00:12+00:00",
          "2021-12-11T17:15:01+00:00",
          "2021-12-03T00:15:00+00:00",
          "2021-11-27T00:00:04+00:00",
          "2021-11-18T00:00:01+00:00",
          "2021-11-11T00:00:26+00:00",
          "2021-11-04T21:00:04+00:00",
          "2021-10-21T16:15:03+00:00",
          "2021-10-14T16:15:00+00:00",
          "2021-09-30T16:15:05+00:00",
          "2021-09-25T16:15:00+00:00",
          "2021-09-23T16:15:00+00:00",
          "2021-09-18T16:15:01+00:00",
          "2021-09-02T16:15:01+00:00",
          "2021-08-28T16:15:01+00:00",
          "2021-08-21T16:30:00+00:00",
          "2021-08-17T16:00:14+00:00",
          "2021-08-14T14:30:10+00:00",
          "2021-08-12T16:00:15+00:00",
          "2021-08-10T16:00:04+00:00",
          "2021-08-05T16:00:33+00:00",
          "2021-08-03T16:00:24+00:00",
          "2021-07-29T16:00:09+00:00",
          "2021-07-27T15:00:05+00:00",
          "2021-07-22T16:00:26+00:00",
          "2021-07-20T15:00:24+00:00",
          "2021-07-15T16:00:22+00:00",
          "2021-07-13T14:07:45+00:00",
          "2021-06-29T14:33:57+00:00",
          "2021-06-22T15:08:12+00:00",
          "2021-06-15T14:02:27+00:00",
          "2021-06-08T14:00:16+00:00",
          "2021-06-01T14:00:09+00:00",
          "2021-05-25T21:00:14+00:00",
          "2021-05-21T17:49:23+00:00",
          "2021-05-18T21:00:32+00:00",
          "2021-05-11T21:00:07+00:00",
          "2021-05-04T20:59:35+00:00",
          "2021-04-27T21:00:30+00:00",
          "2021-04-20T19:05:21+00:00",
          "2021-04-17T22:00:15+00:00",
          "2021-04-14T21:00:19+00:00",
          "2021-04-12T16:00:03+00:00",
          "2021-03-31T21:30:02+00:00",
          "2021-03-29T19:00:14+00:00",
          "2021-03-24T21:30:16+00:00",
          "2021-03-22T19:00:16+00:00",
          "2021-03-18T22:00:01+00:00",
          "2021-03-15T19:00:00+00:00",
          "2021-03-12T16:30:06+00:00",
          "2021-03-11T23:00:12+00:00",
          "2021-03-05T21:00:06+00:00",
          "2021-02-28T23:15:00+00:00",
          "2021-02-22T16:57:08+00:00",
          "2021-02-19T22:00:07+00:00",
          "2021-02-12T21:00:06+00:00",
          "2021-02-08T19:15:00+00:00",
          "2021-02-05T21:00:13+00:00",
          "2021-02-01T19:00:08+00:00",
          "2021-01-29T20:45:00+00:00",
          "2021-01-24T00:00:02+00:00",
          "2021-01-20T19:30:01+00:00",
          "2021-01-17T19:15:00+00:00",
          "2021-01-07T18:00:00+00:00",
          "2021-01-01T19:30:02+00:00",
          "2020-12-26T18:30:10+00:00",
          "2020-12-21T19:59:07+00:00",
          "2020-12-09T19:45:00+00:00",
          "2020-12-05T13:00:12+00:00",
          "2020-11-26T16:22:31+00:00",
          "2020-11-15T19:57:13+00:00",
          "2020-11-14T16:28:26+00:00",
          "2020-10-12T23:10:52+00:00",
          "2020-10-03T03:23:41+00:00",
          "2020-09-29T02:03:43+00:00",
          "2020-09-19T01:55:53+00:00",
          "2020-09-13T23:37:40+00:00",
          "2020-09-08T02:22:36+00:00",
          "2020-09-04T23:06:47+00:00",
          "2020-09-01T16:46:31+00:00",
          "2020-08-27T16:32:36+00:00",
          "2020-08-26T14:56:44+00:00",
          "2020-08-22T14:27:50+00:00",
          "2020-08-20T13:32:10+00:00",
          "2020-08-19T01:00:46+00:00",
          "2020-08-15T17:46:28+00:00",
          "2020-08-12T22:22:07+00:00",
          "2020-08-08T21:06:13+00:00",
          "2020-08-06T02:47:06+00:00",
          "2020-08-04T18:13:30+00:00",
          "2020-08-02T21:53:18+00:00",
          "2020-07-30T21:53:03+00:00",
          "2020-07-25T02:30:14+00:00",
          "2020-07-20T22:36:35+00:00",
          "2020-07-14T22:07:04+00:00",
          "2020-07-12T21:21:03+00:00",
          "2020-07-06T02:45:55+00:00",
          "2020-06-30T03:18:38+00:00",
          "2020-06-10T04:00:10+00:00",
          "2020-06-07T14:00:13+00:00",
          "2020-06-06T18:51:38+00:00",
          "2020-06-03T21:30:09+00:00",
          "2020-05-30T13:59:31+00:00",
          "2020-05-28T03:02:37+00:00",
          "2020-05-23T04:02:50+00:00",
          "2020-05-19T15:28:38+00:00",
          "2020-05-18T14:42:27+00:00",
          "2020-05-10T02:22:16+00:00",
          "2020-05-08T04:11:12+00:00",
          "2020-05-05T15:55:36+00:00",
          "2020-04-30T21:43:58+00:00",
          "2020-04-25T02:06:16+00:00",
          "2020-04-21T23:16:36+00:00",
          "2020-04-19T02:20:56+00:00",
          "2020-04-13T15:37:39+00:00",
          "2020-04-09T03:23:20+00:00",
          "2020-04-05T20:27:29+00:00",
          "2020-03-31T00:41:52+00:00",
          "2020-03-28T21:48:41+00:00",
          "2020-03-26T20:03:27+00:00",
          "2020-03-21T01:54:15+00:00",
          "2020-03-14T17:28:49+00:00",
          "2020-03-14T00:43:50+00:00",
          "2020-03-08T00:41:11+00:00",
          "2020-01-25T23:39:51+00:00",
          "2020-01-19T23:37:02+00:00",
          "2019-12-31T04:45:06+00:00",
          "2019-12-29T22:00:28+00:00",
          "2019-12-02T00:28:33+00:00",
          "2019-11-07T02:18:25+00:00",
          "2019-11-03T01:30:15+00:00",
          "2019-10-31T02:31:36+00:00",
          "2019-10-14T00:19:36+00:00",
          "2019-10-13T21:45:52+00:00",
          "2019-10-12T17:29:57+00:00",
          "2019-10-06T18:53:39+00:00",
          "2019-10-01T22:09:32+00:00",
          "2019-09-23T21:19:10+00:00",
          "2019-09-15T18:20:31+00:00",
          "2019-08-30T22:02:51+00:00",
          "2019-08-28T19:24:27+00:00",
          "2019-08-26T02:20:38+00:00",
          "2019-08-23T17:18:47+00:00",
          "2019-08-23T00:37:39+00:00",
          "2019-08-22T22:13:07+00:00",
          "2019-07-27T17:13:55+00:00",
          "2019-07-21T18:34:13+00:00",
          "2019-06-30T13:31:55+00:00",
          "2019-06-29T23:07:24+00:00",
          "2019-06-27T22:47:57+00:00",
          "2019-06-17T15:41:20+00:00",
          "2019-06-15T21:04:34+00:00",
          "2019-06-14T18:57:06+00:00",
          "2019-06-12T22:35:01+00:00",
          "2019-06-09T23:11:34+00:00",
          "2019-06-06T02:14:56+00:00",
          "2019-06-04T17:59:48+00:00",
          "2019-06-02T02:28:18+00:00",
          "2019-05-25T20:48:24+00:00",
          "2019-05-19T13:29:45+00:00",
          "2019-05-13T02:58:37+00:00",
          "2019-05-11T20:51:16+00:00",
          "2019-05-04T23:35:34+00:00",
          "2019-04-18T00:30:35+00:00",
          "2019-04-12T01:53:50+00:00",
          "2019-04-09T03:05:09+00:00",
          "2019-04-08T01:44:48+00:00",
          "2019-04-05T03:01:14+00:00",
          "2019-04-04T02:43:16+00:00",
          "2019-04-01T15:26:50+00:00",
          "2019-03-31T19:04:58+00:00",
          "2019-03-30T16:47:20+00:00",
          "2019-03-30T03:24:52+00:00",
          "2019-03-23T13:46:07+00:00",
          "2019-03-18T01:53:20+00:00",
          "2019-03-17T03:20:49+00:00",
          "2019-03-16T14:44:54+00:00",
          "2019-03-11T01:32:11+00:00",
          "2019-03-08T22:10:33+00:00",
          "2019-02-16T15:22:40+00:00",
          "2019-02-10T03:52:01+00:00",
          "2019-01-27T23:06:51+00:00",
          "2019-01-20T19:32:41+00:00",
          "2019-01-06T22:47:12+00:00",
          "2018-12-24T05:46:17+00:00",
          "2018-12-21T00:07:13+00:00",
          "2018-12-16T18:17:35+00:00",
          "2018-12-08T03:21:50+00:00"
         ],
         "xaxis": "x",
         "y": [
          null,
          null,
          null,
          null,
          null,
          null,
          null,
          null,
          null,
          null,
          null,
          33287,
          37907.666666666664,
          40429,
          43307,
          43581.666666666664,
          46188.916666666664,
          47091.083333333336,
          49267.416666666664,
          52777.333333333336,
          55991.5,
          55662.5,
          53900,
          55062.333333333336,
          54298.833333333336,
          52253.333333333336,
          48562,
          45600.166666666664,
          43328.083333333336,
          42508.75,
          39965.583333333336,
          37892.5,
          32892.833333333336,
          31522.833333333332,
          30127.166666666668,
          24510.166666666668,
          21063.25,
          19032.833333333332,
          19784.333333333332,
          19284.833333333332,
          18319.5,
          18201.666666666668,
          21010.666666666668,
          20029.333333333332,
          22198.416666666668,
          25822.916666666668,
          27806.75,
          33818.5,
          38023.75,
          39842,
          42016.25,
          41686.416666666664,
          45427.333333333336,
          44342.583333333336,
          45183.583333333336,
          44636.833333333336,
          46044,
          47613.583333333336,
          45695.333333333336,
          41014.416666666664,
          36275.75,
          37287.166666666664,
          37449.666666666664,
          36658.166666666664,
          32409.666666666668,
          33227.833333333336,
          34063.5,
          32370.5,
          28660.666666666668,
          23699.583333333332,
          27538.333333333332,
          26244.666666666668,
          26674.333333333332,
          24608.5,
          23328.083333333332,
          25021.166666666668,
          26884,
          29573,
          29488.5,
          32924.083333333336,
          33279.833333333336,
          33919.416666666664,
          34357.916666666664,
          34409.833333333336,
          38799.333333333336,
          41919.75,
          41803.916666666664,
          43736.25,
          42362.333333333336,
          38492.75,
          32972.666666666664,
          28713.75,
          28027.25,
          27637,
          24222.75,
          25299.916666666668,
          21112.333333333332,
          20380,
          18154.083333333332,
          13926,
          13029.416666666666,
          12730.5,
          12575.833333333334,
          12767.916666666666,
          12743.833333333334,
          12339.083333333334,
          10801.333333333334,
          8786.25,
          7463.583333333333,
          3899.3333333333335,
          4259.166666666667,
          4020.6666666666665,
          4166.5,
          4231.75,
          3957.75,
          3873.25,
          3908.3333333333335,
          3369.4166666666665,
          3136.1666666666665,
          3149.4166666666665,
          3101.0833333333335,
          3051.6666666666665,
          2514,
          2476.6666666666665,
          2263.0833333333335,
          2237.6666666666665,
          2188.9166666666665,
          2027.75,
          1969,
          1992.75,
          2032,
          2974.5833333333335,
          3126.5,
          3084.0833333333335,
          2922.5833333333335,
          3026.75,
          5544.5,
          5397.583333333333,
          5406.583333333333,
          5585,
          5536,
          5572.083333333333,
          5824.5,
          4847.083333333333,
          6460.5,
          6483.583333333333,
          6438.5,
          6272.083333333333,
          3777.8333333333335,
          3532.4166666666665,
          3571,
          4249.083333333333,
          4702.666666666667,
          4963.666666666667,
          5127.25,
          5395.25,
          3878.5833333333335,
          3823.8333333333335,
          3927.9166666666665,
          3904.3333333333335,
          4161.083333333333,
          4094.3333333333335,
          4018.5,
          3068.1666666666665,
          2573.0833333333335,
          3878.3333333333335,
          3387.6666666666665,
          3071.25,
          2787.0833333333335,
          2753.3333333333335,
          2604.75,
          2825.9166666666665,
          3440.0833333333335,
          3418.5833333333335,
          3376.0833333333335,
          3380.9166666666665,
          3673.3333333333335,
          2000.0833333333333,
          1980.4166666666667,
          2006.5833333333333,
          1914,
          1900.8333333333333,
          1921.8333333333333,
          1898.4166666666667,
          1627.8333333333333,
          1735.0833333333333,
          1737.75,
          1705.8333333333333,
          1372.75,
          1328,
          1342.5833333333333,
          1299.8333333333333,
          1298.8333333333333,
          1354.4166666666667,
          1321,
          1087,
          356.9166666666667,
          357,
          370.5,
          442.75,
          893.9166666666666,
          902.8333333333334,
          887.25,
          1332.0833333333333,
          1341.6666666666667,
          1295.5833333333333,
          1287.5,
          1291.9166666666667,
          1304.5833333333333,
          1192.5,
          1194.25,
          1135.1666666666667,
          687.6666666666666,
          704.6666666666666,
          704.5833333333334,
          309.3333333333333,
          312.3333333333333,
          300,
          346.25,
          343.5833333333333,
          378.25,
          3038.6666666666665,
          3018.4166666666665,
          3270.75,
          3255.5,
          3255.1666666666665,
          3259.0833333333335,
          3261.1666666666665,
          3254.9166666666665,
          3267.8333333333335,
          3221.25,
          3244.5,
          3192.4166666666665,
          528,
          527.9166666666666,
          259.9166666666667,
          278.4166666666667,
          255,
          255.5,
          211.5,
          251.16666666666666,
          240.75,
          271.1666666666667,
          259.0833333333333,
          273.3333333333333,
          281.5833333333333,
          298.75,
          335.9166666666667,
          351.1666666666667,
          366.5833333333333,
          383.75,
          408,
          654.1666666666666
         ],
         "yaxis": "y"
        }
       ],
       "layout": {
        "height": 600,
        "legend": {
         "itemsizing": "constant",
         "title": {
          "text": "Performance"
         },
         "traceorder": "reversed"
        },
        "plot_bgcolor": "#D6E4E5",
        "template": {
         "data": {
          "bar": [
           {
            "error_x": {
             "color": "#2a3f5f"
            },
            "error_y": {
             "color": "#2a3f5f"
            },
            "marker": {
             "line": {
              "color": "#E5ECF6",
              "width": 0.5
             },
             "pattern": {
              "fillmode": "overlay",
              "size": 10,
              "solidity": 0.2
             }
            },
            "type": "bar"
           }
          ],
          "barpolar": [
           {
            "marker": {
             "line": {
              "color": "#E5ECF6",
              "width": 0.5
             },
             "pattern": {
              "fillmode": "overlay",
              "size": 10,
              "solidity": 0.2
             }
            },
            "type": "barpolar"
           }
          ],
          "carpet": [
           {
            "aaxis": {
             "endlinecolor": "#2a3f5f",
             "gridcolor": "white",
             "linecolor": "white",
             "minorgridcolor": "white",
             "startlinecolor": "#2a3f5f"
            },
            "baxis": {
             "endlinecolor": "#2a3f5f",
             "gridcolor": "white",
             "linecolor": "white",
             "minorgridcolor": "white",
             "startlinecolor": "#2a3f5f"
            },
            "type": "carpet"
           }
          ],
          "choropleth": [
           {
            "colorbar": {
             "outlinewidth": 0,
             "ticks": ""
            },
            "type": "choropleth"
           }
          ],
          "contour": [
           {
            "colorbar": {
             "outlinewidth": 0,
             "ticks": ""
            },
            "colorscale": [
             [
              0,
              "#0d0887"
             ],
             [
              0.1111111111111111,
              "#46039f"
             ],
             [
              0.2222222222222222,
              "#7201a8"
             ],
             [
              0.3333333333333333,
              "#9c179e"
             ],
             [
              0.4444444444444444,
              "#bd3786"
             ],
             [
              0.5555555555555556,
              "#d8576b"
             ],
             [
              0.6666666666666666,
              "#ed7953"
             ],
             [
              0.7777777777777778,
              "#fb9f3a"
             ],
             [
              0.8888888888888888,
              "#fdca26"
             ],
             [
              1,
              "#f0f921"
             ]
            ],
            "type": "contour"
           }
          ],
          "contourcarpet": [
           {
            "colorbar": {
             "outlinewidth": 0,
             "ticks": ""
            },
            "type": "contourcarpet"
           }
          ],
          "heatmap": [
           {
            "colorbar": {
             "outlinewidth": 0,
             "ticks": ""
            },
            "colorscale": [
             [
              0,
              "#0d0887"
             ],
             [
              0.1111111111111111,
              "#46039f"
             ],
             [
              0.2222222222222222,
              "#7201a8"
             ],
             [
              0.3333333333333333,
              "#9c179e"
             ],
             [
              0.4444444444444444,
              "#bd3786"
             ],
             [
              0.5555555555555556,
              "#d8576b"
             ],
             [
              0.6666666666666666,
              "#ed7953"
             ],
             [
              0.7777777777777778,
              "#fb9f3a"
             ],
             [
              0.8888888888888888,
              "#fdca26"
             ],
             [
              1,
              "#f0f921"
             ]
            ],
            "type": "heatmap"
           }
          ],
          "heatmapgl": [
           {
            "colorbar": {
             "outlinewidth": 0,
             "ticks": ""
            },
            "colorscale": [
             [
              0,
              "#0d0887"
             ],
             [
              0.1111111111111111,
              "#46039f"
             ],
             [
              0.2222222222222222,
              "#7201a8"
             ],
             [
              0.3333333333333333,
              "#9c179e"
             ],
             [
              0.4444444444444444,
              "#bd3786"
             ],
             [
              0.5555555555555556,
              "#d8576b"
             ],
             [
              0.6666666666666666,
              "#ed7953"
             ],
             [
              0.7777777777777778,
              "#fb9f3a"
             ],
             [
              0.8888888888888888,
              "#fdca26"
             ],
             [
              1,
              "#f0f921"
             ]
            ],
            "type": "heatmapgl"
           }
          ],
          "histogram": [
           {
            "marker": {
             "pattern": {
              "fillmode": "overlay",
              "size": 10,
              "solidity": 0.2
             }
            },
            "type": "histogram"
           }
          ],
          "histogram2d": [
           {
            "colorbar": {
             "outlinewidth": 0,
             "ticks": ""
            },
            "colorscale": [
             [
              0,
              "#0d0887"
             ],
             [
              0.1111111111111111,
              "#46039f"
             ],
             [
              0.2222222222222222,
              "#7201a8"
             ],
             [
              0.3333333333333333,
              "#9c179e"
             ],
             [
              0.4444444444444444,
              "#bd3786"
             ],
             [
              0.5555555555555556,
              "#d8576b"
             ],
             [
              0.6666666666666666,
              "#ed7953"
             ],
             [
              0.7777777777777778,
              "#fb9f3a"
             ],
             [
              0.8888888888888888,
              "#fdca26"
             ],
             [
              1,
              "#f0f921"
             ]
            ],
            "type": "histogram2d"
           }
          ],
          "histogram2dcontour": [
           {
            "colorbar": {
             "outlinewidth": 0,
             "ticks": ""
            },
            "colorscale": [
             [
              0,
              "#0d0887"
             ],
             [
              0.1111111111111111,
              "#46039f"
             ],
             [
              0.2222222222222222,
              "#7201a8"
             ],
             [
              0.3333333333333333,
              "#9c179e"
             ],
             [
              0.4444444444444444,
              "#bd3786"
             ],
             [
              0.5555555555555556,
              "#d8576b"
             ],
             [
              0.6666666666666666,
              "#ed7953"
             ],
             [
              0.7777777777777778,
              "#fb9f3a"
             ],
             [
              0.8888888888888888,
              "#fdca26"
             ],
             [
              1,
              "#f0f921"
             ]
            ],
            "type": "histogram2dcontour"
           }
          ],
          "mesh3d": [
           {
            "colorbar": {
             "outlinewidth": 0,
             "ticks": ""
            },
            "type": "mesh3d"
           }
          ],
          "parcoords": [
           {
            "line": {
             "colorbar": {
              "outlinewidth": 0,
              "ticks": ""
             }
            },
            "type": "parcoords"
           }
          ],
          "pie": [
           {
            "automargin": true,
            "type": "pie"
           }
          ],
          "scatter": [
           {
            "fillpattern": {
             "fillmode": "overlay",
             "size": 10,
             "solidity": 0.2
            },
            "type": "scatter"
           }
          ],
          "scatter3d": [
           {
            "line": {
             "colorbar": {
              "outlinewidth": 0,
              "ticks": ""
             }
            },
            "marker": {
             "colorbar": {
              "outlinewidth": 0,
              "ticks": ""
             }
            },
            "type": "scatter3d"
           }
          ],
          "scattercarpet": [
           {
            "marker": {
             "colorbar": {
              "outlinewidth": 0,
              "ticks": ""
             }
            },
            "type": "scattercarpet"
           }
          ],
          "scattergeo": [
           {
            "marker": {
             "colorbar": {
              "outlinewidth": 0,
              "ticks": ""
             }
            },
            "type": "scattergeo"
           }
          ],
          "scattergl": [
           {
            "marker": {
             "colorbar": {
              "outlinewidth": 0,
              "ticks": ""
             }
            },
            "type": "scattergl"
           }
          ],
          "scattermapbox": [
           {
            "marker": {
             "colorbar": {
              "outlinewidth": 0,
              "ticks": ""
             }
            },
            "type": "scattermapbox"
           }
          ],
          "scatterpolar": [
           {
            "marker": {
             "colorbar": {
              "outlinewidth": 0,
              "ticks": ""
             }
            },
            "type": "scatterpolar"
           }
          ],
          "scatterpolargl": [
           {
            "marker": {
             "colorbar": {
              "outlinewidth": 0,
              "ticks": ""
             }
            },
            "type": "scatterpolargl"
           }
          ],
          "scatterternary": [
           {
            "marker": {
             "colorbar": {
              "outlinewidth": 0,
              "ticks": ""
             }
            },
            "type": "scatterternary"
           }
          ],
          "surface": [
           {
            "colorbar": {
             "outlinewidth": 0,
             "ticks": ""
            },
            "colorscale": [
             [
              0,
              "#0d0887"
             ],
             [
              0.1111111111111111,
              "#46039f"
             ],
             [
              0.2222222222222222,
              "#7201a8"
             ],
             [
              0.3333333333333333,
              "#9c179e"
             ],
             [
              0.4444444444444444,
              "#bd3786"
             ],
             [
              0.5555555555555556,
              "#d8576b"
             ],
             [
              0.6666666666666666,
              "#ed7953"
             ],
             [
              0.7777777777777778,
              "#fb9f3a"
             ],
             [
              0.8888888888888888,
              "#fdca26"
             ],
             [
              1,
              "#f0f921"
             ]
            ],
            "type": "surface"
           }
          ],
          "table": [
           {
            "cells": {
             "fill": {
              "color": "#EBF0F8"
             },
             "line": {
              "color": "white"
             }
            },
            "header": {
             "fill": {
              "color": "#C8D4E3"
             },
             "line": {
              "color": "white"
             }
            },
            "type": "table"
           }
          ]
         },
         "layout": {
          "annotationdefaults": {
           "arrowcolor": "#2a3f5f",
           "arrowhead": 0,
           "arrowwidth": 1
          },
          "autotypenumbers": "strict",
          "coloraxis": {
           "colorbar": {
            "outlinewidth": 0,
            "ticks": ""
           }
          },
          "colorscale": {
           "diverging": [
            [
             0,
             "#8e0152"
            ],
            [
             0.1,
             "#c51b7d"
            ],
            [
             0.2,
             "#de77ae"
            ],
            [
             0.3,
             "#f1b6da"
            ],
            [
             0.4,
             "#fde0ef"
            ],
            [
             0.5,
             "#f7f7f7"
            ],
            [
             0.6,
             "#e6f5d0"
            ],
            [
             0.7,
             "#b8e186"
            ],
            [
             0.8,
             "#7fbc41"
            ],
            [
             0.9,
             "#4d9221"
            ],
            [
             1,
             "#276419"
            ]
           ],
           "sequential": [
            [
             0,
             "#0d0887"
            ],
            [
             0.1111111111111111,
             "#46039f"
            ],
            [
             0.2222222222222222,
             "#7201a8"
            ],
            [
             0.3333333333333333,
             "#9c179e"
            ],
            [
             0.4444444444444444,
             "#bd3786"
            ],
            [
             0.5555555555555556,
             "#d8576b"
            ],
            [
             0.6666666666666666,
             "#ed7953"
            ],
            [
             0.7777777777777778,
             "#fb9f3a"
            ],
            [
             0.8888888888888888,
             "#fdca26"
            ],
            [
             1,
             "#f0f921"
            ]
           ],
           "sequentialminus": [
            [
             0,
             "#0d0887"
            ],
            [
             0.1111111111111111,
             "#46039f"
            ],
            [
             0.2222222222222222,
             "#7201a8"
            ],
            [
             0.3333333333333333,
             "#9c179e"
            ],
            [
             0.4444444444444444,
             "#bd3786"
            ],
            [
             0.5555555555555556,
             "#d8576b"
            ],
            [
             0.6666666666666666,
             "#ed7953"
            ],
            [
             0.7777777777777778,
             "#fb9f3a"
            ],
            [
             0.8888888888888888,
             "#fdca26"
            ],
            [
             1,
             "#f0f921"
            ]
           ]
          },
          "colorway": [
           "#636efa",
           "#EF553B",
           "#00cc96",
           "#ab63fa",
           "#FFA15A",
           "#19d3f3",
           "#FF6692",
           "#B6E880",
           "#FF97FF",
           "#FECB52"
          ],
          "font": {
           "color": "#2a3f5f"
          },
          "geo": {
           "bgcolor": "white",
           "lakecolor": "white",
           "landcolor": "#E5ECF6",
           "showlakes": true,
           "showland": true,
           "subunitcolor": "white"
          },
          "hoverlabel": {
           "align": "left"
          },
          "hovermode": "closest",
          "mapbox": {
           "style": "light"
          },
          "paper_bgcolor": "white",
          "plot_bgcolor": "#E5ECF6",
          "polar": {
           "angularaxis": {
            "gridcolor": "white",
            "linecolor": "white",
            "ticks": ""
           },
           "bgcolor": "#E5ECF6",
           "radialaxis": {
            "gridcolor": "white",
            "linecolor": "white",
            "ticks": ""
           }
          },
          "scene": {
           "xaxis": {
            "backgroundcolor": "#E5ECF6",
            "gridcolor": "white",
            "gridwidth": 2,
            "linecolor": "white",
            "showbackground": true,
            "ticks": "",
            "zerolinecolor": "white"
           },
           "yaxis": {
            "backgroundcolor": "#E5ECF6",
            "gridcolor": "white",
            "gridwidth": 2,
            "linecolor": "white",
            "showbackground": true,
            "ticks": "",
            "zerolinecolor": "white"
           },
           "zaxis": {
            "backgroundcolor": "#E5ECF6",
            "gridcolor": "white",
            "gridwidth": 2,
            "linecolor": "white",
            "showbackground": true,
            "ticks": "",
            "zerolinecolor": "white"
           }
          },
          "shapedefaults": {
           "line": {
            "color": "#2a3f5f"
           }
          },
          "ternary": {
           "aaxis": {
            "gridcolor": "white",
            "linecolor": "white",
            "ticks": ""
           },
           "baxis": {
            "gridcolor": "white",
            "linecolor": "white",
            "ticks": ""
           },
           "bgcolor": "#E5ECF6",
           "caxis": {
            "gridcolor": "white",
            "linecolor": "white",
            "ticks": ""
           }
          },
          "title": {
           "x": 0.05
          },
          "xaxis": {
           "automargin": true,
           "gridcolor": "white",
           "linecolor": "white",
           "ticks": "",
           "title": {
            "standoff": 15
           },
           "zerolinecolor": "white",
           "zerolinewidth": 2
          },
          "yaxis": {
           "automargin": true,
           "gridcolor": "white",
           "linecolor": "white",
           "ticks": "",
           "title": {
            "standoff": 15
           },
           "zerolinecolor": "white",
           "zerolinewidth": 2
          }
         }
        },
        "title": {
         "text": "FISHERYIN's Youtube Video Performance (views)",
         "x": 0.5
        },
        "xaxis": {
         "title": {
          "text": "Date Posted"
         }
        },
        "yaxis": {
         "title": {
          "text": "views"
         }
        }
       }
      }
     },
     "metadata": {},
     "output_type": "display_data"
    }
   ],
   "source": [
    "ytvz.scatter_performance(yt.channel_username, df=df, variable='views',vid_type='standard')"
   ]
  },
  {
   "cell_type": "markdown",
   "metadata": {},
   "source": [
    "##### Stats of Hit Videos"
   ]
  },
  {
   "cell_type": "code",
   "execution_count": 11,
   "metadata": {},
   "outputs": [],
   "source": [
    "df_videos = df[df['video_type']=='standard'].copy()"
   ]
  },
  {
   "cell_type": "code",
   "execution_count": 12,
   "metadata": {},
   "outputs": [
    {
     "data": {
      "text/plain": [
       "Index(['id', 'title', 'publishTime', 'duration', 'views', 'likes', 'comments',\n",
       "       'day_name', 'weekday_name', 'duration_min', 'video_type', 'indicator',\n",
       "       'performance'],\n",
       "      dtype='object')"
      ]
     },
     "execution_count": 12,
     "metadata": {},
     "output_type": "execute_result"
    }
   ],
   "source": [
    "df_videos.columns"
   ]
  },
  {
   "cell_type": "code",
   "execution_count": 14,
   "metadata": {},
   "outputs": [
    {
     "data": {
      "text/plain": [
       "performance  weekday_name\n",
       "Hit          Tuesday          9\n",
       "             Thursday         5\n",
       "             Sunday           3\n",
       "             Saturday         3\n",
       "             Monday           1\n",
       "             Wednesday        0\n",
       "             Friday           0\n",
       "Normal       Tuesday         84\n",
       "             Saturday        49\n",
       "             Thursday        33\n",
       "             Sunday          31\n",
       "             Monday          25\n",
       "             Friday          19\n",
       "             Wednesday       12\n",
       "Name: weekday_name, dtype: int64"
      ]
     },
     "execution_count": 14,
     "metadata": {},
     "output_type": "execute_result"
    }
   ],
   "source": [
    "df_videos.groupby('performance')['weekday_name'].value_counts()"
   ]
  },
  {
   "cell_type": "code",
   "execution_count": 28,
   "metadata": {},
   "outputs": [
    {
     "data": {
      "text/html": [
       "<div>\n",
       "<style scoped>\n",
       "    .dataframe tbody tr th:only-of-type {\n",
       "        vertical-align: middle;\n",
       "    }\n",
       "\n",
       "    .dataframe tbody tr th {\n",
       "        vertical-align: top;\n",
       "    }\n",
       "\n",
       "    .dataframe thead tr th {\n",
       "        text-align: left;\n",
       "    }\n",
       "</style>\n",
       "<table border=\"1\" class=\"dataframe\">\n",
       "  <thead>\n",
       "    <tr>\n",
       "      <th></th>\n",
       "      <th>performance</th>\n",
       "      <th colspan=\"4\" halign=\"left\">duration_min</th>\n",
       "    </tr>\n",
       "    <tr>\n",
       "      <th></th>\n",
       "      <th></th>\n",
       "      <th>max</th>\n",
       "      <th>mean</th>\n",
       "      <th>min</th>\n",
       "      <th>std</th>\n",
       "    </tr>\n",
       "  </thead>\n",
       "  <tbody>\n",
       "    <tr>\n",
       "      <th>0</th>\n",
       "      <td>Hit</td>\n",
       "      <td>19.70</td>\n",
       "      <td>13.056190</td>\n",
       "      <td>8.23</td>\n",
       "      <td>3.065334</td>\n",
       "    </tr>\n",
       "    <tr>\n",
       "      <th>1</th>\n",
       "      <td>Normal</td>\n",
       "      <td>23.57</td>\n",
       "      <td>10.293636</td>\n",
       "      <td>1.47</td>\n",
       "      <td>3.844804</td>\n",
       "    </tr>\n",
       "  </tbody>\n",
       "</table>\n",
       "</div>"
      ],
      "text/plain": [
       "  performance duration_min                           \n",
       "                       max       mean   min       std\n",
       "0         Hit        19.70  13.056190  8.23  3.065334\n",
       "1      Normal        23.57  10.293636  1.47  3.844804"
      ]
     },
     "execution_count": 28,
     "metadata": {},
     "output_type": "execute_result"
    }
   ],
   "source": [
    "df_videos.groupby('performance').agg({\n",
    "    'duration_min': ['max', 'mean', 'min', 'std']\n",
    "    }).reset_index()"
   ]
  },
  {
   "cell_type": "code",
   "execution_count": 31,
   "metadata": {},
   "outputs": [
    {
     "data": {
      "text/plain": [
       "Index(['id', 'title', 'publishTime', 'duration', 'views', 'likes', 'comments',\n",
       "       'day_name', 'weekday_name', 'duration_min', 'video_type', 'indicator',\n",
       "       'performance'],\n",
       "      dtype='object')"
      ]
     },
     "execution_count": 31,
     "metadata": {},
     "output_type": "execute_result"
    }
   ],
   "source": [
    "df.columns"
   ]
  },
  {
   "cell_type": "code",
   "execution_count": 39,
   "metadata": {},
   "outputs": [
    {
     "data": {
      "application/vnd.plotly.v1+json": {
       "config": {
        "plotlyServerURL": "https://plot.ly"
       },
       "data": [
        {
         "alignmentgroup": "True",
         "hovertemplate": "weekday_name=%{x}<br>count=%{y}<extra></extra>",
         "legendgroup": "",
         "marker": {
          "color": "#636efa",
          "pattern": {
           "shape": ""
          }
         },
         "name": "",
         "offsetgroup": "",
         "orientation": "v",
         "showlegend": false,
         "textposition": "auto",
         "type": "bar",
         "x": [
          "Tuesday",
          "Tuesday",
          "Tuesday",
          "Tuesday",
          "Tuesday",
          "Tuesday",
          "Tuesday",
          "Tuesday",
          "Tuesday",
          "Sunday",
          "Sunday",
          "Saturday",
          "Saturday",
          "Thursday",
          "Thursday",
          "Thursday",
          "Saturday",
          "Thursday",
          "Thursday",
          "Sunday",
          "Monday"
         ],
         "xaxis": "x",
         "y": [
          1,
          1,
          1,
          1,
          1,
          1,
          1,
          1,
          1,
          1,
          1,
          1,
          1,
          1,
          1,
          1,
          1,
          1,
          1,
          1,
          1
         ],
         "yaxis": "y"
        }
       ],
       "layout": {
        "barmode": "relative",
        "legend": {
         "tracegroupgap": 0
        },
        "margin": {
         "t": 60
        },
        "template": {
         "data": {
          "bar": [
           {
            "error_x": {
             "color": "#2a3f5f"
            },
            "error_y": {
             "color": "#2a3f5f"
            },
            "marker": {
             "line": {
              "color": "#E5ECF6",
              "width": 0.5
             },
             "pattern": {
              "fillmode": "overlay",
              "size": 10,
              "solidity": 0.2
             }
            },
            "type": "bar"
           }
          ],
          "barpolar": [
           {
            "marker": {
             "line": {
              "color": "#E5ECF6",
              "width": 0.5
             },
             "pattern": {
              "fillmode": "overlay",
              "size": 10,
              "solidity": 0.2
             }
            },
            "type": "barpolar"
           }
          ],
          "carpet": [
           {
            "aaxis": {
             "endlinecolor": "#2a3f5f",
             "gridcolor": "white",
             "linecolor": "white",
             "minorgridcolor": "white",
             "startlinecolor": "#2a3f5f"
            },
            "baxis": {
             "endlinecolor": "#2a3f5f",
             "gridcolor": "white",
             "linecolor": "white",
             "minorgridcolor": "white",
             "startlinecolor": "#2a3f5f"
            },
            "type": "carpet"
           }
          ],
          "choropleth": [
           {
            "colorbar": {
             "outlinewidth": 0,
             "ticks": ""
            },
            "type": "choropleth"
           }
          ],
          "contour": [
           {
            "colorbar": {
             "outlinewidth": 0,
             "ticks": ""
            },
            "colorscale": [
             [
              0,
              "#0d0887"
             ],
             [
              0.1111111111111111,
              "#46039f"
             ],
             [
              0.2222222222222222,
              "#7201a8"
             ],
             [
              0.3333333333333333,
              "#9c179e"
             ],
             [
              0.4444444444444444,
              "#bd3786"
             ],
             [
              0.5555555555555556,
              "#d8576b"
             ],
             [
              0.6666666666666666,
              "#ed7953"
             ],
             [
              0.7777777777777778,
              "#fb9f3a"
             ],
             [
              0.8888888888888888,
              "#fdca26"
             ],
             [
              1,
              "#f0f921"
             ]
            ],
            "type": "contour"
           }
          ],
          "contourcarpet": [
           {
            "colorbar": {
             "outlinewidth": 0,
             "ticks": ""
            },
            "type": "contourcarpet"
           }
          ],
          "heatmap": [
           {
            "colorbar": {
             "outlinewidth": 0,
             "ticks": ""
            },
            "colorscale": [
             [
              0,
              "#0d0887"
             ],
             [
              0.1111111111111111,
              "#46039f"
             ],
             [
              0.2222222222222222,
              "#7201a8"
             ],
             [
              0.3333333333333333,
              "#9c179e"
             ],
             [
              0.4444444444444444,
              "#bd3786"
             ],
             [
              0.5555555555555556,
              "#d8576b"
             ],
             [
              0.6666666666666666,
              "#ed7953"
             ],
             [
              0.7777777777777778,
              "#fb9f3a"
             ],
             [
              0.8888888888888888,
              "#fdca26"
             ],
             [
              1,
              "#f0f921"
             ]
            ],
            "type": "heatmap"
           }
          ],
          "heatmapgl": [
           {
            "colorbar": {
             "outlinewidth": 0,
             "ticks": ""
            },
            "colorscale": [
             [
              0,
              "#0d0887"
             ],
             [
              0.1111111111111111,
              "#46039f"
             ],
             [
              0.2222222222222222,
              "#7201a8"
             ],
             [
              0.3333333333333333,
              "#9c179e"
             ],
             [
              0.4444444444444444,
              "#bd3786"
             ],
             [
              0.5555555555555556,
              "#d8576b"
             ],
             [
              0.6666666666666666,
              "#ed7953"
             ],
             [
              0.7777777777777778,
              "#fb9f3a"
             ],
             [
              0.8888888888888888,
              "#fdca26"
             ],
             [
              1,
              "#f0f921"
             ]
            ],
            "type": "heatmapgl"
           }
          ],
          "histogram": [
           {
            "marker": {
             "pattern": {
              "fillmode": "overlay",
              "size": 10,
              "solidity": 0.2
             }
            },
            "type": "histogram"
           }
          ],
          "histogram2d": [
           {
            "colorbar": {
             "outlinewidth": 0,
             "ticks": ""
            },
            "colorscale": [
             [
              0,
              "#0d0887"
             ],
             [
              0.1111111111111111,
              "#46039f"
             ],
             [
              0.2222222222222222,
              "#7201a8"
             ],
             [
              0.3333333333333333,
              "#9c179e"
             ],
             [
              0.4444444444444444,
              "#bd3786"
             ],
             [
              0.5555555555555556,
              "#d8576b"
             ],
             [
              0.6666666666666666,
              "#ed7953"
             ],
             [
              0.7777777777777778,
              "#fb9f3a"
             ],
             [
              0.8888888888888888,
              "#fdca26"
             ],
             [
              1,
              "#f0f921"
             ]
            ],
            "type": "histogram2d"
           }
          ],
          "histogram2dcontour": [
           {
            "colorbar": {
             "outlinewidth": 0,
             "ticks": ""
            },
            "colorscale": [
             [
              0,
              "#0d0887"
             ],
             [
              0.1111111111111111,
              "#46039f"
             ],
             [
              0.2222222222222222,
              "#7201a8"
             ],
             [
              0.3333333333333333,
              "#9c179e"
             ],
             [
              0.4444444444444444,
              "#bd3786"
             ],
             [
              0.5555555555555556,
              "#d8576b"
             ],
             [
              0.6666666666666666,
              "#ed7953"
             ],
             [
              0.7777777777777778,
              "#fb9f3a"
             ],
             [
              0.8888888888888888,
              "#fdca26"
             ],
             [
              1,
              "#f0f921"
             ]
            ],
            "type": "histogram2dcontour"
           }
          ],
          "mesh3d": [
           {
            "colorbar": {
             "outlinewidth": 0,
             "ticks": ""
            },
            "type": "mesh3d"
           }
          ],
          "parcoords": [
           {
            "line": {
             "colorbar": {
              "outlinewidth": 0,
              "ticks": ""
             }
            },
            "type": "parcoords"
           }
          ],
          "pie": [
           {
            "automargin": true,
            "type": "pie"
           }
          ],
          "scatter": [
           {
            "fillpattern": {
             "fillmode": "overlay",
             "size": 10,
             "solidity": 0.2
            },
            "type": "scatter"
           }
          ],
          "scatter3d": [
           {
            "line": {
             "colorbar": {
              "outlinewidth": 0,
              "ticks": ""
             }
            },
            "marker": {
             "colorbar": {
              "outlinewidth": 0,
              "ticks": ""
             }
            },
            "type": "scatter3d"
           }
          ],
          "scattercarpet": [
           {
            "marker": {
             "colorbar": {
              "outlinewidth": 0,
              "ticks": ""
             }
            },
            "type": "scattercarpet"
           }
          ],
          "scattergeo": [
           {
            "marker": {
             "colorbar": {
              "outlinewidth": 0,
              "ticks": ""
             }
            },
            "type": "scattergeo"
           }
          ],
          "scattergl": [
           {
            "marker": {
             "colorbar": {
              "outlinewidth": 0,
              "ticks": ""
             }
            },
            "type": "scattergl"
           }
          ],
          "scattermapbox": [
           {
            "marker": {
             "colorbar": {
              "outlinewidth": 0,
              "ticks": ""
             }
            },
            "type": "scattermapbox"
           }
          ],
          "scatterpolar": [
           {
            "marker": {
             "colorbar": {
              "outlinewidth": 0,
              "ticks": ""
             }
            },
            "type": "scatterpolar"
           }
          ],
          "scatterpolargl": [
           {
            "marker": {
             "colorbar": {
              "outlinewidth": 0,
              "ticks": ""
             }
            },
            "type": "scatterpolargl"
           }
          ],
          "scatterternary": [
           {
            "marker": {
             "colorbar": {
              "outlinewidth": 0,
              "ticks": ""
             }
            },
            "type": "scatterternary"
           }
          ],
          "surface": [
           {
            "colorbar": {
             "outlinewidth": 0,
             "ticks": ""
            },
            "colorscale": [
             [
              0,
              "#0d0887"
             ],
             [
              0.1111111111111111,
              "#46039f"
             ],
             [
              0.2222222222222222,
              "#7201a8"
             ],
             [
              0.3333333333333333,
              "#9c179e"
             ],
             [
              0.4444444444444444,
              "#bd3786"
             ],
             [
              0.5555555555555556,
              "#d8576b"
             ],
             [
              0.6666666666666666,
              "#ed7953"
             ],
             [
              0.7777777777777778,
              "#fb9f3a"
             ],
             [
              0.8888888888888888,
              "#fdca26"
             ],
             [
              1,
              "#f0f921"
             ]
            ],
            "type": "surface"
           }
          ],
          "table": [
           {
            "cells": {
             "fill": {
              "color": "#EBF0F8"
             },
             "line": {
              "color": "white"
             }
            },
            "header": {
             "fill": {
              "color": "#C8D4E3"
             },
             "line": {
              "color": "white"
             }
            },
            "type": "table"
           }
          ]
         },
         "layout": {
          "annotationdefaults": {
           "arrowcolor": "#2a3f5f",
           "arrowhead": 0,
           "arrowwidth": 1
          },
          "autotypenumbers": "strict",
          "coloraxis": {
           "colorbar": {
            "outlinewidth": 0,
            "ticks": ""
           }
          },
          "colorscale": {
           "diverging": [
            [
             0,
             "#8e0152"
            ],
            [
             0.1,
             "#c51b7d"
            ],
            [
             0.2,
             "#de77ae"
            ],
            [
             0.3,
             "#f1b6da"
            ],
            [
             0.4,
             "#fde0ef"
            ],
            [
             0.5,
             "#f7f7f7"
            ],
            [
             0.6,
             "#e6f5d0"
            ],
            [
             0.7,
             "#b8e186"
            ],
            [
             0.8,
             "#7fbc41"
            ],
            [
             0.9,
             "#4d9221"
            ],
            [
             1,
             "#276419"
            ]
           ],
           "sequential": [
            [
             0,
             "#0d0887"
            ],
            [
             0.1111111111111111,
             "#46039f"
            ],
            [
             0.2222222222222222,
             "#7201a8"
            ],
            [
             0.3333333333333333,
             "#9c179e"
            ],
            [
             0.4444444444444444,
             "#bd3786"
            ],
            [
             0.5555555555555556,
             "#d8576b"
            ],
            [
             0.6666666666666666,
             "#ed7953"
            ],
            [
             0.7777777777777778,
             "#fb9f3a"
            ],
            [
             0.8888888888888888,
             "#fdca26"
            ],
            [
             1,
             "#f0f921"
            ]
           ],
           "sequentialminus": [
            [
             0,
             "#0d0887"
            ],
            [
             0.1111111111111111,
             "#46039f"
            ],
            [
             0.2222222222222222,
             "#7201a8"
            ],
            [
             0.3333333333333333,
             "#9c179e"
            ],
            [
             0.4444444444444444,
             "#bd3786"
            ],
            [
             0.5555555555555556,
             "#d8576b"
            ],
            [
             0.6666666666666666,
             "#ed7953"
            ],
            [
             0.7777777777777778,
             "#fb9f3a"
            ],
            [
             0.8888888888888888,
             "#fdca26"
            ],
            [
             1,
             "#f0f921"
            ]
           ]
          },
          "colorway": [
           "#636efa",
           "#EF553B",
           "#00cc96",
           "#ab63fa",
           "#FFA15A",
           "#19d3f3",
           "#FF6692",
           "#B6E880",
           "#FF97FF",
           "#FECB52"
          ],
          "font": {
           "color": "#2a3f5f"
          },
          "geo": {
           "bgcolor": "white",
           "lakecolor": "white",
           "landcolor": "#E5ECF6",
           "showlakes": true,
           "showland": true,
           "subunitcolor": "white"
          },
          "hoverlabel": {
           "align": "left"
          },
          "hovermode": "closest",
          "mapbox": {
           "style": "light"
          },
          "paper_bgcolor": "white",
          "plot_bgcolor": "#E5ECF6",
          "polar": {
           "angularaxis": {
            "gridcolor": "white",
            "linecolor": "white",
            "ticks": ""
           },
           "bgcolor": "#E5ECF6",
           "radialaxis": {
            "gridcolor": "white",
            "linecolor": "white",
            "ticks": ""
           }
          },
          "scene": {
           "xaxis": {
            "backgroundcolor": "#E5ECF6",
            "gridcolor": "white",
            "gridwidth": 2,
            "linecolor": "white",
            "showbackground": true,
            "ticks": "",
            "zerolinecolor": "white"
           },
           "yaxis": {
            "backgroundcolor": "#E5ECF6",
            "gridcolor": "white",
            "gridwidth": 2,
            "linecolor": "white",
            "showbackground": true,
            "ticks": "",
            "zerolinecolor": "white"
           },
           "zaxis": {
            "backgroundcolor": "#E5ECF6",
            "gridcolor": "white",
            "gridwidth": 2,
            "linecolor": "white",
            "showbackground": true,
            "ticks": "",
            "zerolinecolor": "white"
           }
          },
          "shapedefaults": {
           "line": {
            "color": "#2a3f5f"
           }
          },
          "ternary": {
           "aaxis": {
            "gridcolor": "white",
            "linecolor": "white",
            "ticks": ""
           },
           "baxis": {
            "gridcolor": "white",
            "linecolor": "white",
            "ticks": ""
           },
           "bgcolor": "#E5ECF6",
           "caxis": {
            "gridcolor": "white",
            "linecolor": "white",
            "ticks": ""
           }
          },
          "title": {
           "x": 0.05
          },
          "xaxis": {
           "automargin": true,
           "gridcolor": "white",
           "linecolor": "white",
           "ticks": "",
           "title": {
            "standoff": 15
           },
           "zerolinecolor": "white",
           "zerolinewidth": 2
          },
          "yaxis": {
           "automargin": true,
           "gridcolor": "white",
           "linecolor": "white",
           "ticks": "",
           "title": {
            "standoff": 15
           },
           "zerolinecolor": "white",
           "zerolinewidth": 2
          }
         }
        },
        "xaxis": {
         "anchor": "y",
         "categoryarray": [
          "Monday",
          "Tuesday",
          "Wednesday",
          "Thursday",
          "Friday",
          "Saturday",
          "Sunday"
         ],
         "categoryorder": "array",
         "domain": [
          0,
          1
         ],
         "title": {
          "text": "weekday_name"
         }
        },
        "yaxis": {
         "anchor": "x",
         "domain": [
          0,
          1
         ],
         "title": {
          "text": "count"
         }
        }
       }
      }
     },
     "metadata": {},
     "output_type": "display_data"
    }
   ],
   "source": [
    "\n",
    "# Define the order of days of the week (Monday to Saturday)\n",
    "days_of_week = ['Monday', 'Tuesday', 'Wednesday', 'Thursday', 'Friday', 'Saturday', 'Sunday']\n",
    "\n",
    "# Create a bar chart using Plotly Express\n",
    "fig = px.bar(df_videos[df_videos['performance']=='Hit'], x='weekday_name',\n",
    "             category_orders={'weekday_name': days_of_week})\n",
    "\n",
    "# Show the plot\n",
    "fig.show()"
   ]
  },
  {
   "cell_type": "code",
   "execution_count": 40,
   "metadata": {},
   "outputs": [
    {
     "data": {
      "application/vnd.plotly.v1+json": {
       "config": {
        "plotlyServerURL": "https://plot.ly"
       },
       "data": [
        {
         "alignmentgroup": "True",
         "hovertemplate": "weekday_name=%{x}<br>count=%{y}<extra></extra>",
         "legendgroup": "",
         "marker": {
          "color": "#636efa",
          "pattern": {
           "shape": ""
          }
         },
         "name": "",
         "offsetgroup": "",
         "orientation": "v",
         "showlegend": false,
         "textposition": "auto",
         "type": "bar",
         "x": [
          "Tuesday",
          "Tuesday",
          "Tuesday",
          "Tuesday",
          "Tuesday",
          "Tuesday",
          "Tuesday",
          "Tuesday",
          "Tuesday",
          "Tuesday",
          "Tuesday",
          "Tuesday",
          "Tuesday",
          "Tuesday",
          "Tuesday",
          "Tuesday",
          "Tuesday",
          "Tuesday",
          "Tuesday",
          "Tuesday",
          "Tuesday",
          "Tuesday",
          "Tuesday",
          "Tuesday",
          "Tuesday",
          "Tuesday",
          "Tuesday",
          "Tuesday",
          "Tuesday",
          "Tuesday",
          "Tuesday",
          "Tuesday",
          "Tuesday",
          "Tuesday",
          "Tuesday",
          "Tuesday",
          "Tuesday",
          "Tuesday",
          "Tuesday",
          "Tuesday",
          "Tuesday",
          "Tuesday",
          "Tuesday",
          "Tuesday",
          "Tuesday",
          "Tuesday",
          "Tuesday",
          "Tuesday",
          "Tuesday",
          "Tuesday",
          "Tuesday",
          "Tuesday",
          "Tuesday",
          "Monday",
          "Sunday",
          "Saturday",
          "Saturday",
          "Saturday",
          "Saturday",
          "Saturday",
          "Saturday",
          "Saturday",
          "Saturday",
          "Thursday",
          "Saturday",
          "Saturday",
          "Saturday",
          "Friday",
          "Saturday",
          "Thursday",
          "Thursday",
          "Thursday",
          "Thursday",
          "Thursday",
          "Thursday",
          "Saturday",
          "Thursday",
          "Saturday",
          "Thursday",
          "Saturday",
          "Saturday",
          "Tuesday",
          "Saturday",
          "Thursday",
          "Tuesday",
          "Thursday",
          "Tuesday",
          "Thursday",
          "Tuesday",
          "Thursday",
          "Tuesday",
          "Thursday",
          "Tuesday",
          "Tuesday",
          "Tuesday",
          "Tuesday",
          "Tuesday",
          "Tuesday",
          "Tuesday",
          "Friday",
          "Tuesday",
          "Tuesday",
          "Tuesday",
          "Tuesday",
          "Tuesday",
          "Saturday",
          "Wednesday",
          "Monday",
          "Wednesday",
          "Monday",
          "Wednesday",
          "Monday",
          "Thursday",
          "Monday",
          "Friday",
          "Thursday",
          "Friday",
          "Sunday",
          "Monday",
          "Friday",
          "Friday",
          "Monday",
          "Friday",
          "Monday",
          "Friday",
          "Sunday",
          "Wednesday",
          "Sunday",
          "Thursday",
          "Friday",
          "Saturday",
          "Monday",
          "Wednesday",
          "Saturday",
          "Thursday",
          "Sunday",
          "Saturday",
          "Monday",
          "Saturday",
          "Tuesday",
          "Saturday",
          "Sunday",
          "Tuesday",
          "Friday",
          "Tuesday",
          "Thursday",
          "Wednesday",
          "Saturday",
          "Thursday",
          "Wednesday",
          "Saturday",
          "Wednesday",
          "Saturday",
          "Thursday",
          "Tuesday",
          "Sunday",
          "Thursday",
          "Saturday",
          "Monday",
          "Tuesday",
          "Sunday",
          "Monday",
          "Tuesday",
          "Wednesday",
          "Sunday",
          "Saturday",
          "Wednesday",
          "Saturday",
          "Thursday",
          "Saturday",
          "Tuesday",
          "Monday",
          "Sunday",
          "Friday",
          "Tuesday",
          "Thursday",
          "Saturday",
          "Tuesday",
          "Sunday",
          "Monday",
          "Thursday",
          "Sunday",
          "Tuesday",
          "Saturday",
          "Thursday",
          "Saturday",
          "Saturday",
          "Saturday",
          "Sunday",
          "Saturday",
          "Sunday",
          "Tuesday",
          "Sunday",
          "Monday",
          "Thursday",
          "Sunday",
          "Thursday",
          "Monday",
          "Sunday",
          "Saturday",
          "Sunday",
          "Tuesday",
          "Monday",
          "Sunday",
          "Friday",
          "Wednesday",
          "Monday",
          "Friday",
          "Friday",
          "Thursday",
          "Saturday",
          "Sunday",
          "Sunday",
          "Saturday",
          "Thursday",
          "Monday",
          "Saturday",
          "Friday",
          "Wednesday",
          "Sunday",
          "Thursday",
          "Tuesday",
          "Sunday",
          "Saturday",
          "Sunday",
          "Monday",
          "Saturday",
          "Saturday",
          "Thursday",
          "Friday",
          "Tuesday",
          "Monday",
          "Friday",
          "Thursday",
          "Monday",
          "Sunday",
          "Saturday",
          "Saturday",
          "Saturday",
          "Monday",
          "Sunday",
          "Saturday",
          "Monday",
          "Friday",
          "Saturday",
          "Sunday",
          "Sunday",
          "Sunday",
          "Sunday",
          "Monday",
          "Friday",
          "Sunday",
          "Saturday"
         ],
         "xaxis": "x",
         "y": [
          1,
          1,
          1,
          1,
          1,
          1,
          1,
          1,
          1,
          1,
          1,
          1,
          1,
          1,
          1,
          1,
          1,
          1,
          1,
          1,
          1,
          1,
          1,
          1,
          1,
          1,
          1,
          1,
          1,
          1,
          1,
          1,
          1,
          1,
          1,
          1,
          1,
          1,
          1,
          1,
          1,
          1,
          1,
          1,
          1,
          1,
          1,
          1,
          1,
          1,
          1,
          1,
          1,
          1,
          1,
          1,
          1,
          1,
          1,
          1,
          1,
          1,
          1,
          1,
          1,
          1,
          1,
          1,
          1,
          1,
          1,
          1,
          1,
          1,
          1,
          1,
          1,
          1,
          1,
          1,
          1,
          1,
          1,
          1,
          1,
          1,
          1,
          1,
          1,
          1,
          1,
          1,
          1,
          1,
          1,
          1,
          1,
          1,
          1,
          1,
          1,
          1,
          1,
          1,
          1,
          1,
          1,
          1,
          1,
          1,
          1,
          1,
          1,
          1,
          1,
          1,
          1,
          1,
          1,
          1,
          1,
          1,
          1,
          1,
          1,
          1,
          1,
          1,
          1,
          1,
          1,
          1,
          1,
          1,
          1,
          1,
          1,
          1,
          1,
          1,
          1,
          1,
          1,
          1,
          1,
          1,
          1,
          1,
          1,
          1,
          1,
          1,
          1,
          1,
          1,
          1,
          1,
          1,
          1,
          1,
          1,
          1,
          1,
          1,
          1,
          1,
          1,
          1,
          1,
          1,
          1,
          1,
          1,
          1,
          1,
          1,
          1,
          1,
          1,
          1,
          1,
          1,
          1,
          1,
          1,
          1,
          1,
          1,
          1,
          1,
          1,
          1,
          1,
          1,
          1,
          1,
          1,
          1,
          1,
          1,
          1,
          1,
          1,
          1,
          1,
          1,
          1,
          1,
          1,
          1,
          1,
          1,
          1,
          1,
          1,
          1,
          1,
          1,
          1,
          1,
          1,
          1,
          1,
          1,
          1,
          1,
          1,
          1,
          1,
          1,
          1,
          1,
          1,
          1,
          1,
          1,
          1,
          1,
          1,
          1,
          1,
          1,
          1,
          1,
          1,
          1,
          1,
          1,
          1,
          1,
          1,
          1,
          1
         ],
         "yaxis": "y"
        }
       ],
       "layout": {
        "barmode": "relative",
        "legend": {
         "tracegroupgap": 0
        },
        "margin": {
         "t": 60
        },
        "template": {
         "data": {
          "bar": [
           {
            "error_x": {
             "color": "#2a3f5f"
            },
            "error_y": {
             "color": "#2a3f5f"
            },
            "marker": {
             "line": {
              "color": "#E5ECF6",
              "width": 0.5
             },
             "pattern": {
              "fillmode": "overlay",
              "size": 10,
              "solidity": 0.2
             }
            },
            "type": "bar"
           }
          ],
          "barpolar": [
           {
            "marker": {
             "line": {
              "color": "#E5ECF6",
              "width": 0.5
             },
             "pattern": {
              "fillmode": "overlay",
              "size": 10,
              "solidity": 0.2
             }
            },
            "type": "barpolar"
           }
          ],
          "carpet": [
           {
            "aaxis": {
             "endlinecolor": "#2a3f5f",
             "gridcolor": "white",
             "linecolor": "white",
             "minorgridcolor": "white",
             "startlinecolor": "#2a3f5f"
            },
            "baxis": {
             "endlinecolor": "#2a3f5f",
             "gridcolor": "white",
             "linecolor": "white",
             "minorgridcolor": "white",
             "startlinecolor": "#2a3f5f"
            },
            "type": "carpet"
           }
          ],
          "choropleth": [
           {
            "colorbar": {
             "outlinewidth": 0,
             "ticks": ""
            },
            "type": "choropleth"
           }
          ],
          "contour": [
           {
            "colorbar": {
             "outlinewidth": 0,
             "ticks": ""
            },
            "colorscale": [
             [
              0,
              "#0d0887"
             ],
             [
              0.1111111111111111,
              "#46039f"
             ],
             [
              0.2222222222222222,
              "#7201a8"
             ],
             [
              0.3333333333333333,
              "#9c179e"
             ],
             [
              0.4444444444444444,
              "#bd3786"
             ],
             [
              0.5555555555555556,
              "#d8576b"
             ],
             [
              0.6666666666666666,
              "#ed7953"
             ],
             [
              0.7777777777777778,
              "#fb9f3a"
             ],
             [
              0.8888888888888888,
              "#fdca26"
             ],
             [
              1,
              "#f0f921"
             ]
            ],
            "type": "contour"
           }
          ],
          "contourcarpet": [
           {
            "colorbar": {
             "outlinewidth": 0,
             "ticks": ""
            },
            "type": "contourcarpet"
           }
          ],
          "heatmap": [
           {
            "colorbar": {
             "outlinewidth": 0,
             "ticks": ""
            },
            "colorscale": [
             [
              0,
              "#0d0887"
             ],
             [
              0.1111111111111111,
              "#46039f"
             ],
             [
              0.2222222222222222,
              "#7201a8"
             ],
             [
              0.3333333333333333,
              "#9c179e"
             ],
             [
              0.4444444444444444,
              "#bd3786"
             ],
             [
              0.5555555555555556,
              "#d8576b"
             ],
             [
              0.6666666666666666,
              "#ed7953"
             ],
             [
              0.7777777777777778,
              "#fb9f3a"
             ],
             [
              0.8888888888888888,
              "#fdca26"
             ],
             [
              1,
              "#f0f921"
             ]
            ],
            "type": "heatmap"
           }
          ],
          "heatmapgl": [
           {
            "colorbar": {
             "outlinewidth": 0,
             "ticks": ""
            },
            "colorscale": [
             [
              0,
              "#0d0887"
             ],
             [
              0.1111111111111111,
              "#46039f"
             ],
             [
              0.2222222222222222,
              "#7201a8"
             ],
             [
              0.3333333333333333,
              "#9c179e"
             ],
             [
              0.4444444444444444,
              "#bd3786"
             ],
             [
              0.5555555555555556,
              "#d8576b"
             ],
             [
              0.6666666666666666,
              "#ed7953"
             ],
             [
              0.7777777777777778,
              "#fb9f3a"
             ],
             [
              0.8888888888888888,
              "#fdca26"
             ],
             [
              1,
              "#f0f921"
             ]
            ],
            "type": "heatmapgl"
           }
          ],
          "histogram": [
           {
            "marker": {
             "pattern": {
              "fillmode": "overlay",
              "size": 10,
              "solidity": 0.2
             }
            },
            "type": "histogram"
           }
          ],
          "histogram2d": [
           {
            "colorbar": {
             "outlinewidth": 0,
             "ticks": ""
            },
            "colorscale": [
             [
              0,
              "#0d0887"
             ],
             [
              0.1111111111111111,
              "#46039f"
             ],
             [
              0.2222222222222222,
              "#7201a8"
             ],
             [
              0.3333333333333333,
              "#9c179e"
             ],
             [
              0.4444444444444444,
              "#bd3786"
             ],
             [
              0.5555555555555556,
              "#d8576b"
             ],
             [
              0.6666666666666666,
              "#ed7953"
             ],
             [
              0.7777777777777778,
              "#fb9f3a"
             ],
             [
              0.8888888888888888,
              "#fdca26"
             ],
             [
              1,
              "#f0f921"
             ]
            ],
            "type": "histogram2d"
           }
          ],
          "histogram2dcontour": [
           {
            "colorbar": {
             "outlinewidth": 0,
             "ticks": ""
            },
            "colorscale": [
             [
              0,
              "#0d0887"
             ],
             [
              0.1111111111111111,
              "#46039f"
             ],
             [
              0.2222222222222222,
              "#7201a8"
             ],
             [
              0.3333333333333333,
              "#9c179e"
             ],
             [
              0.4444444444444444,
              "#bd3786"
             ],
             [
              0.5555555555555556,
              "#d8576b"
             ],
             [
              0.6666666666666666,
              "#ed7953"
             ],
             [
              0.7777777777777778,
              "#fb9f3a"
             ],
             [
              0.8888888888888888,
              "#fdca26"
             ],
             [
              1,
              "#f0f921"
             ]
            ],
            "type": "histogram2dcontour"
           }
          ],
          "mesh3d": [
           {
            "colorbar": {
             "outlinewidth": 0,
             "ticks": ""
            },
            "type": "mesh3d"
           }
          ],
          "parcoords": [
           {
            "line": {
             "colorbar": {
              "outlinewidth": 0,
              "ticks": ""
             }
            },
            "type": "parcoords"
           }
          ],
          "pie": [
           {
            "automargin": true,
            "type": "pie"
           }
          ],
          "scatter": [
           {
            "fillpattern": {
             "fillmode": "overlay",
             "size": 10,
             "solidity": 0.2
            },
            "type": "scatter"
           }
          ],
          "scatter3d": [
           {
            "line": {
             "colorbar": {
              "outlinewidth": 0,
              "ticks": ""
             }
            },
            "marker": {
             "colorbar": {
              "outlinewidth": 0,
              "ticks": ""
             }
            },
            "type": "scatter3d"
           }
          ],
          "scattercarpet": [
           {
            "marker": {
             "colorbar": {
              "outlinewidth": 0,
              "ticks": ""
             }
            },
            "type": "scattercarpet"
           }
          ],
          "scattergeo": [
           {
            "marker": {
             "colorbar": {
              "outlinewidth": 0,
              "ticks": ""
             }
            },
            "type": "scattergeo"
           }
          ],
          "scattergl": [
           {
            "marker": {
             "colorbar": {
              "outlinewidth": 0,
              "ticks": ""
             }
            },
            "type": "scattergl"
           }
          ],
          "scattermapbox": [
           {
            "marker": {
             "colorbar": {
              "outlinewidth": 0,
              "ticks": ""
             }
            },
            "type": "scattermapbox"
           }
          ],
          "scatterpolar": [
           {
            "marker": {
             "colorbar": {
              "outlinewidth": 0,
              "ticks": ""
             }
            },
            "type": "scatterpolar"
           }
          ],
          "scatterpolargl": [
           {
            "marker": {
             "colorbar": {
              "outlinewidth": 0,
              "ticks": ""
             }
            },
            "type": "scatterpolargl"
           }
          ],
          "scatterternary": [
           {
            "marker": {
             "colorbar": {
              "outlinewidth": 0,
              "ticks": ""
             }
            },
            "type": "scatterternary"
           }
          ],
          "surface": [
           {
            "colorbar": {
             "outlinewidth": 0,
             "ticks": ""
            },
            "colorscale": [
             [
              0,
              "#0d0887"
             ],
             [
              0.1111111111111111,
              "#46039f"
             ],
             [
              0.2222222222222222,
              "#7201a8"
             ],
             [
              0.3333333333333333,
              "#9c179e"
             ],
             [
              0.4444444444444444,
              "#bd3786"
             ],
             [
              0.5555555555555556,
              "#d8576b"
             ],
             [
              0.6666666666666666,
              "#ed7953"
             ],
             [
              0.7777777777777778,
              "#fb9f3a"
             ],
             [
              0.8888888888888888,
              "#fdca26"
             ],
             [
              1,
              "#f0f921"
             ]
            ],
            "type": "surface"
           }
          ],
          "table": [
           {
            "cells": {
             "fill": {
              "color": "#EBF0F8"
             },
             "line": {
              "color": "white"
             }
            },
            "header": {
             "fill": {
              "color": "#C8D4E3"
             },
             "line": {
              "color": "white"
             }
            },
            "type": "table"
           }
          ]
         },
         "layout": {
          "annotationdefaults": {
           "arrowcolor": "#2a3f5f",
           "arrowhead": 0,
           "arrowwidth": 1
          },
          "autotypenumbers": "strict",
          "coloraxis": {
           "colorbar": {
            "outlinewidth": 0,
            "ticks": ""
           }
          },
          "colorscale": {
           "diverging": [
            [
             0,
             "#8e0152"
            ],
            [
             0.1,
             "#c51b7d"
            ],
            [
             0.2,
             "#de77ae"
            ],
            [
             0.3,
             "#f1b6da"
            ],
            [
             0.4,
             "#fde0ef"
            ],
            [
             0.5,
             "#f7f7f7"
            ],
            [
             0.6,
             "#e6f5d0"
            ],
            [
             0.7,
             "#b8e186"
            ],
            [
             0.8,
             "#7fbc41"
            ],
            [
             0.9,
             "#4d9221"
            ],
            [
             1,
             "#276419"
            ]
           ],
           "sequential": [
            [
             0,
             "#0d0887"
            ],
            [
             0.1111111111111111,
             "#46039f"
            ],
            [
             0.2222222222222222,
             "#7201a8"
            ],
            [
             0.3333333333333333,
             "#9c179e"
            ],
            [
             0.4444444444444444,
             "#bd3786"
            ],
            [
             0.5555555555555556,
             "#d8576b"
            ],
            [
             0.6666666666666666,
             "#ed7953"
            ],
            [
             0.7777777777777778,
             "#fb9f3a"
            ],
            [
             0.8888888888888888,
             "#fdca26"
            ],
            [
             1,
             "#f0f921"
            ]
           ],
           "sequentialminus": [
            [
             0,
             "#0d0887"
            ],
            [
             0.1111111111111111,
             "#46039f"
            ],
            [
             0.2222222222222222,
             "#7201a8"
            ],
            [
             0.3333333333333333,
             "#9c179e"
            ],
            [
             0.4444444444444444,
             "#bd3786"
            ],
            [
             0.5555555555555556,
             "#d8576b"
            ],
            [
             0.6666666666666666,
             "#ed7953"
            ],
            [
             0.7777777777777778,
             "#fb9f3a"
            ],
            [
             0.8888888888888888,
             "#fdca26"
            ],
            [
             1,
             "#f0f921"
            ]
           ]
          },
          "colorway": [
           "#636efa",
           "#EF553B",
           "#00cc96",
           "#ab63fa",
           "#FFA15A",
           "#19d3f3",
           "#FF6692",
           "#B6E880",
           "#FF97FF",
           "#FECB52"
          ],
          "font": {
           "color": "#2a3f5f"
          },
          "geo": {
           "bgcolor": "white",
           "lakecolor": "white",
           "landcolor": "#E5ECF6",
           "showlakes": true,
           "showland": true,
           "subunitcolor": "white"
          },
          "hoverlabel": {
           "align": "left"
          },
          "hovermode": "closest",
          "mapbox": {
           "style": "light"
          },
          "paper_bgcolor": "white",
          "plot_bgcolor": "#E5ECF6",
          "polar": {
           "angularaxis": {
            "gridcolor": "white",
            "linecolor": "white",
            "ticks": ""
           },
           "bgcolor": "#E5ECF6",
           "radialaxis": {
            "gridcolor": "white",
            "linecolor": "white",
            "ticks": ""
           }
          },
          "scene": {
           "xaxis": {
            "backgroundcolor": "#E5ECF6",
            "gridcolor": "white",
            "gridwidth": 2,
            "linecolor": "white",
            "showbackground": true,
            "ticks": "",
            "zerolinecolor": "white"
           },
           "yaxis": {
            "backgroundcolor": "#E5ECF6",
            "gridcolor": "white",
            "gridwidth": 2,
            "linecolor": "white",
            "showbackground": true,
            "ticks": "",
            "zerolinecolor": "white"
           },
           "zaxis": {
            "backgroundcolor": "#E5ECF6",
            "gridcolor": "white",
            "gridwidth": 2,
            "linecolor": "white",
            "showbackground": true,
            "ticks": "",
            "zerolinecolor": "white"
           }
          },
          "shapedefaults": {
           "line": {
            "color": "#2a3f5f"
           }
          },
          "ternary": {
           "aaxis": {
            "gridcolor": "white",
            "linecolor": "white",
            "ticks": ""
           },
           "baxis": {
            "gridcolor": "white",
            "linecolor": "white",
            "ticks": ""
           },
           "bgcolor": "#E5ECF6",
           "caxis": {
            "gridcolor": "white",
            "linecolor": "white",
            "ticks": ""
           }
          },
          "title": {
           "x": 0.05
          },
          "xaxis": {
           "automargin": true,
           "gridcolor": "white",
           "linecolor": "white",
           "ticks": "",
           "title": {
            "standoff": 15
           },
           "zerolinecolor": "white",
           "zerolinewidth": 2
          },
          "yaxis": {
           "automargin": true,
           "gridcolor": "white",
           "linecolor": "white",
           "ticks": "",
           "title": {
            "standoff": 15
           },
           "zerolinecolor": "white",
           "zerolinewidth": 2
          }
         }
        },
        "xaxis": {
         "anchor": "y",
         "categoryarray": [
          "Monday",
          "Tuesday",
          "Wednesday",
          "Thursday",
          "Friday",
          "Saturday",
          "Sunday"
         ],
         "categoryorder": "array",
         "domain": [
          0,
          1
         ],
         "title": {
          "text": "weekday_name"
         }
        },
        "yaxis": {
         "anchor": "x",
         "domain": [
          0,
          1
         ],
         "title": {
          "text": "count"
         }
        }
       }
      }
     },
     "metadata": {},
     "output_type": "display_data"
    }
   ],
   "source": [
    "# Define the order of days of the week (Monday to Saturday)\n",
    "days_of_week = ['Monday', 'Tuesday', 'Wednesday', 'Thursday', 'Friday', 'Saturday', 'Sunday']\n",
    "\n",
    "# Create a bar chart using Plotly Express\n",
    "fig = px.bar(df_videos[df_videos['performance']=='Normal'], x='weekday_name',\n",
    "             category_orders={'weekday_name': days_of_week})\n",
    "\n",
    "# Show the plot\n",
    "fig.show()"
   ]
  },
  {
   "cell_type": "markdown",
   "metadata": {},
   "source": [
    "### Hit Shorts"
   ]
  },
  {
   "cell_type": "code",
   "execution_count": 12,
   "metadata": {},
   "outputs": [
    {
     "data": {
      "application/vnd.plotly.v1+json": {
       "config": {
        "plotlyServerURL": "https://plot.ly"
       },
       "data": [
        {
         "customdata": [
          [
           "Fishing on EASY MODE!",
           0.98
          ],
          [
           "You MUST fish right now!",
           0.97
          ],
          [
           "I feel really bad about this…",
           0.97
          ],
          [
           "Fishing with gummy worms..",
           0.38
          ],
          [
           "I’m in love with this…",
           0.53
          ],
          [
           "My friends scared of fish..",
           1
          ],
          [
           "Things didn’t go as planned..",
           1
          ],
          [
           "I waited all summer for this…",
           0.28
          ],
          [
           "Would you pay $600 for this?",
           0.42
          ],
          [
           "Tie this on when things get tough!",
           0.98
          ],
          [
           "People are angry with this bait..",
           0.58
          ],
          [
           "Winning my first tournament!",
           0.98
          ],
          [
           "This was a mistake…",
           0.97
          ],
          [
           "I decided to switch things up…",
           0.43
          ],
          [
           "These baits are too fancy for me",
           0.38
          ],
          [
           "Does this fish catch count?",
           0.97
          ],
          [
           "Fishing here is cheating!",
           0.98
          ],
          [
           "I caught the lake monster!",
           0.98
          ],
          [
           "I’m in trouble..",
           0.98
          ],
          [
           "I’m confused why this exists",
           0.38
          ],
          [
           "I suck at catching this fish",
           0.98
          ],
          [
           "The biggest bass of my life!",
           1
          ],
          [
           "He caught his biggest bass!",
           0.97
          ],
          [
           "My most expensive tackle box!",
           0.42
          ],
          [
           "We caught these GIANT fish!!",
           0.42
          ],
          [
           "Fishing on my paddleboard!",
           0.6
          ],
          [
           "Do these baits actually work?",
           0.37
          ],
          [
           "Taking my mini bass boat fishing!",
           0.77
          ],
          [
           "Transforming my jon boat into a bass boat! Pt. 2",
           0.63
          ],
          [
           "Transforming my jon boat into a bass boat! Pt.1",
           0.7
          ],
          [
           "This is a luxury kayak!",
           0.4
          ],
          [
           "This tackle box catches giants!",
           0.28
          ],
          [
           "Catching my own dinner!",
           0.5
          ],
          [
           "Fishing is for everyone!!",
           0.57
          ],
          [
           "He finally caught a fish!",
           0.5
          ],
          [
           "I fished with a broken finger",
           0.58
          ],
          [
           "Taking my college roommate fishing!!",
           0.63
          ],
          [
           "Taking my classmate fishing!",
           0.72
          ],
          [
           "This Is Why I LOVE Fishing!",
           0.77
          ],
          [
           "Fishing my first college tournament!!",
           0.63
          ],
          [
           "Why I woke up at 3am",
           0.55
          ],
          [
           "Celebrating the end of winter!!",
           0.63
          ],
          [
           "I took my friend fishing!!",
           0.68
          ],
          [
           "Celebrating my last week of school!",
           0.77
          ],
          [
           "My class got canceled, so I went fishing!",
           0.68
          ],
          [
           "Fishing After A College Exam!",
           0.82
          ],
          [
           "Why I Do This Exercise Incorrectly",
           0.8
          ],
          [
           "A Day In My Life As A Student Fishlete",
           0.95
          ],
          [
           "Surprising My Friend With A TINY Fishing Rod!",
           0.97
          ],
          [
           "I Went Fishing On My First Day Back At College!",
           0.8
          ],
          [
           "This Store Is Better Than Bass Pro!",
           0.93
          ],
          [
           "A Fisherman’s Dream Convention!",
           0.7
          ],
          [
           "The Government Put Fish In This Pond!",
           0.68
          ],
          [
           "I Built A Fishing Tackle Box!",
           0.57
          ],
          [
           "What I Do On Rainy Days",
           0.63
          ],
          [
           "Biggest Fishing Fails Of 2022!",
           0.58
          ],
          [
           "I Went Fishing Before Class!",
           0.72
          ],
          [
           "I’ve Never Had This Happen While Fishing!",
           0.75
          ],
          [
           "My Favorite Lake Is Closing Down..",
           0.8
          ],
          [
           "I Took My Classmate Fishing!",
           0.73
          ],
          [
           "My Longest River Adventure! (Part 2)",
           0.65
          ],
          [
           "My Longest River Adventure! (Part 1)",
           0.72
          ],
          [
           "We Avoided A Near DISASTER!",
           0.62
          ],
          [
           "My FAVORITE Way to Fish With Friends!!",
           0.43
          ],
          [
           "I’ve NEVER Fished Anywhere Like This!!",
           0.62
          ],
          [
           "Kid challenges me to a 1v1..",
           0.55
          ],
          [
           "Fish love snakes!! #shorts",
           0.23
          ],
          [
           "I Bought My Friend His DREAM Fishing Reel",
           0.92
          ],
          [
           "Friend's First Bass Is BIGGER Than My PB!!!",
           0.42
          ],
          [
           "FISHING LURE VENDING MACHINE!!",
           0.52
          ],
          [
           "CATCHING MINNOWS IN A STREAM #shorts",
           0.52
          ],
          [
           "Why Topwater Bites Are The BEST",
           0.6
          ],
          [
           "Bass Ate Right At My FEET!",
           0.63
          ],
          [
           "BIG Striper HOOKED!!!",
           0.62
          ],
          [
           "CRAZY Smallmouth Caught On FLY ROD",
           0.73
          ],
          [
           "This Fishing REEL Cost Me An ARM And A LEG!",
           0.8
          ],
          [
           "Are There FISH In This PUDDLE?!?",
           0.25
          ],
          [
           "STRANGE LOOKING Fishing Lure CATCHES Fish!",
           0.48
          ],
          [
           "MY WORST DAY OF FISHING...",
           0.92
          ],
          [
           "I went fishing...with a drill?",
           0.72
          ],
          [
           "A SNAKE BROKE MY FISHING ROD?!?",
           0.7
          ]
         ],
         "hovertemplate": "performance=Normal<br>publishTime=%{x}<br>views=%{y}<br>title=%{customdata[0]}<br>duration_min=%{customdata[1]}<extra></extra>",
         "legendgroup": "Normal",
         "marker": {
          "color": "#497174",
          "symbol": "circle"
         },
         "mode": "markers",
         "name": "Normal",
         "orientation": "v",
         "showlegend": true,
         "type": "scatter",
         "x": [
          "2023-10-20T20:25:00+00:00",
          "2023-10-16T20:25:00+00:00",
          "2023-09-28T20:21:00+00:00",
          "2023-09-27T20:25:00+00:00",
          "2023-09-20T20:24:00+00:00",
          "2023-09-14T20:29:48+00:00",
          "2023-09-07T20:24:00+00:00",
          "2023-09-06T20:25:01+00:00",
          "2023-08-23T20:25:01+00:00",
          "2023-08-17T20:24:00+00:00",
          "2023-08-16T20:25:01+00:00",
          "2023-08-04T20:49:01+00:00",
          "2023-08-03T20:26:00+00:00",
          "2023-08-02T20:26:00+00:00",
          "2023-07-26T20:20:01+00:00",
          "2023-07-20T20:25:00+00:00",
          "2023-07-19T20:26:00+00:00",
          "2023-07-17T20:35:00+00:00",
          "2023-07-15T15:50:00+00:00",
          "2023-07-13T20:26:00+00:00",
          "2023-07-12T20:25:00+00:00",
          "2023-07-10T20:32:00+00:00",
          "2023-07-08T15:36:00+00:00",
          "2023-07-05T20:28:01+00:00",
          "2023-06-29T20:24:00+00:00",
          "2023-06-24T15:44:00+00:00",
          "2023-06-22T20:23:00+00:00",
          "2023-06-21T20:21:00+00:00",
          "2023-06-19T20:20:00+00:00",
          "2023-06-17T15:34:00+00:00",
          "2023-06-16T20:23:00+00:00",
          "2023-06-14T19:50:40+00:00",
          "2023-06-10T15:30:05+00:00",
          "2023-06-05T20:30:02+00:00",
          "2023-05-27T15:30:04+00:00",
          "2023-05-20T15:30:19+00:00",
          "2023-05-11T20:30:03+00:00",
          "2023-04-27T20:25:00+00:00",
          "2023-04-20T20:28:00+00:00",
          "2023-04-18T20:58:32+00:00",
          "2023-04-06T20:25:00+00:00",
          "2023-03-30T20:00:22+00:00",
          "2023-03-16T20:41:25+00:00",
          "2023-03-09T21:29:51+00:00",
          "2023-03-02T21:35:07+00:00",
          "2023-02-23T21:32:16+00:00",
          "2023-02-16T21:24:52+00:00",
          "2023-02-09T21:26:24+00:00",
          "2023-02-02T21:28:31+00:00",
          "2023-01-25T20:36:55+00:00",
          "2023-01-21T15:41:39+00:00",
          "2023-01-18T21:28:59+00:00",
          "2023-01-14T16:45:01+00:00",
          "2023-01-11T21:29:24+00:00",
          "2023-01-04T21:30:03+00:00",
          "2023-01-02T21:28:02+00:00",
          "2022-12-16T20:01:28+00:00",
          "2022-11-29T23:41:15+00:00",
          "2022-11-05T15:28:34+00:00",
          "2022-10-22T15:32:04+00:00",
          "2022-08-30T20:36:14+00:00",
          "2022-08-27T12:56:56+00:00",
          "2022-08-03T14:58:42+00:00",
          "2022-07-25T16:33:43+00:00",
          "2022-07-20T15:57:23+00:00",
          "2022-06-07T14:57:36+00:00",
          "2021-09-28T15:27:41+00:00",
          "2021-08-13T14:59:15+00:00",
          "2021-07-23T20:57:30+00:00",
          "2021-07-19T16:27:15+00:00",
          "2021-07-08T15:41:49+00:00",
          "2021-07-07T16:00:44+00:00",
          "2021-05-29T21:00:10+00:00",
          "2021-05-27T00:00:00+00:00",
          "2021-05-21T23:45:00+00:00",
          "2021-05-14T19:00:21+00:00",
          "2021-05-13T03:18:44+00:00",
          "2021-05-12T20:27:32+00:00",
          "2021-04-23T23:15:00+00:00",
          "2021-04-20T22:12:14+00:00",
          "2021-03-29T16:04:16+00:00"
         ],
         "xaxis": "x",
         "y": [
          28332,
          20225,
          73981,
          323530,
          300870,
          303838,
          70933,
          40058,
          42824,
          175360,
          518105,
          499880,
          219657,
          119184,
          695557,
          140135,
          199398,
          365210,
          281069,
          549637,
          472065,
          166615,
          83728,
          106983,
          114243,
          237008,
          106600,
          100599,
          85031,
          746887,
          320681,
          263676,
          164799,
          153664,
          306664,
          390990,
          184944,
          92857,
          171458,
          405753,
          33776,
          48381,
          261419,
          148320,
          136082,
          311636,
          112187,
          351585,
          620318,
          54264,
          110656,
          80774,
          515984,
          68643,
          44234,
          90388,
          286713,
          483312,
          216630,
          412355,
          243020,
          159933,
          87005,
          267645,
          638493,
          462304,
          500895,
          149744,
          89395,
          507664,
          45123,
          33776,
          25337,
          218983,
          26368,
          57649,
          22210,
          28122,
          18662,
          21572,
          81806
         ],
         "yaxis": "y"
        },
        {
         "customdata": [
          [
           "The most SATISFYING bait to skip!",
           0.4
          ],
          [
           "I caught fish using grass!",
           0.98
          ],
          [
           "I’ve never thrown a worm this big..",
           0.28
          ],
          [
           "I’m terrified to throw these baits!",
           0.43
          ],
          [
           "This is one of my favorite fish!",
           0.62
          ],
          [
           "I’m Scared To Throw This Lure!",
           0.83
          ],
          [
           "I Went Fishing After Class!",
           0.82
          ],
          [
           "I Took My Friends Fishing For The First Time!",
           0.65
          ],
          [
           "I Built A Perfect Pond Hopping Tackle Box!",
           0.68
          ]
         ],
         "hovertemplate": "performance=Hit<br>publishTime=%{x}<br>views=%{y}<br>title=%{customdata[0]}<br>duration_min=%{customdata[1]}<extra></extra>",
         "legendgroup": "Hit",
         "marker": {
          "color": "#EB6440",
          "symbol": "circle"
         },
         "mode": "markers",
         "name": "Hit",
         "orientation": "v",
         "showlegend": true,
         "type": "scatter",
         "x": [
          "2023-09-13T20:20:01+00:00",
          "2023-07-14T20:27:00+00:00",
          "2023-06-28T20:25:00+00:00",
          "2023-06-15T20:20:00+00:00",
          "2023-06-03T15:30:05+00:00",
          "2022-10-18T20:31:33+00:00",
          "2022-09-17T15:05:32+00:00",
          "2022-08-20T15:12:39+00:00",
          "2022-08-11T15:07:33+00:00"
         ],
         "xaxis": "x",
         "y": [
          1173781,
          1859125,
          991403,
          816987,
          1417179,
          814046,
          918326,
          930871,
          991834
         ],
         "yaxis": "y"
        },
        {
         "hovertemplate": "publishTime=%{x}<br>normal_rolling_average=%{y}<extra></extra>",
         "legendgroup": "",
         "line": {
          "color": "#497174",
          "dash": "solid"
         },
         "marker": {
          "symbol": "circle"
         },
         "mode": "lines",
         "name": "",
         "orientation": "v",
         "showlegend": false,
         "type": "scatter",
         "x": [
          "2023-10-20T20:25:00+00:00",
          "2023-10-16T20:25:00+00:00",
          "2023-09-28T20:21:00+00:00",
          "2023-09-27T20:25:00+00:00",
          "2023-09-20T20:24:00+00:00",
          "2023-09-14T20:29:48+00:00",
          "2023-09-07T20:24:00+00:00",
          "2023-09-06T20:25:01+00:00",
          "2023-08-23T20:25:01+00:00",
          "2023-08-17T20:24:00+00:00",
          "2023-08-16T20:25:01+00:00",
          "2023-08-04T20:49:01+00:00",
          "2023-08-03T20:26:00+00:00",
          "2023-08-02T20:26:00+00:00",
          "2023-07-26T20:20:01+00:00",
          "2023-07-20T20:25:00+00:00",
          "2023-07-19T20:26:00+00:00",
          "2023-07-17T20:35:00+00:00",
          "2023-07-15T15:50:00+00:00",
          "2023-07-13T20:26:00+00:00",
          "2023-07-12T20:25:00+00:00",
          "2023-07-10T20:32:00+00:00",
          "2023-07-08T15:36:00+00:00",
          "2023-07-05T20:28:01+00:00",
          "2023-06-29T20:24:00+00:00",
          "2023-06-24T15:44:00+00:00",
          "2023-06-22T20:23:00+00:00",
          "2023-06-21T20:21:00+00:00",
          "2023-06-19T20:20:00+00:00",
          "2023-06-17T15:34:00+00:00",
          "2023-06-16T20:23:00+00:00",
          "2023-06-14T19:50:40+00:00",
          "2023-06-10T15:30:05+00:00",
          "2023-06-05T20:30:02+00:00",
          "2023-05-27T15:30:04+00:00",
          "2023-05-20T15:30:19+00:00",
          "2023-05-11T20:30:03+00:00",
          "2023-04-27T20:25:00+00:00",
          "2023-04-20T20:28:00+00:00",
          "2023-04-18T20:58:32+00:00",
          "2023-04-06T20:25:00+00:00",
          "2023-03-30T20:00:22+00:00",
          "2023-03-16T20:41:25+00:00",
          "2023-03-09T21:29:51+00:00",
          "2023-03-02T21:35:07+00:00",
          "2023-02-23T21:32:16+00:00",
          "2023-02-16T21:24:52+00:00",
          "2023-02-09T21:26:24+00:00",
          "2023-02-02T21:28:31+00:00",
          "2023-01-25T20:36:55+00:00",
          "2023-01-21T15:41:39+00:00",
          "2023-01-18T21:28:59+00:00",
          "2023-01-14T16:45:01+00:00",
          "2023-01-11T21:29:24+00:00",
          "2023-01-04T21:30:03+00:00",
          "2023-01-02T21:28:02+00:00",
          "2022-12-16T20:01:28+00:00",
          "2022-11-29T23:41:15+00:00",
          "2022-11-05T15:28:34+00:00",
          "2022-10-22T15:32:04+00:00",
          "2022-08-30T20:36:14+00:00",
          "2022-08-27T12:56:56+00:00",
          "2022-08-03T14:58:42+00:00",
          "2022-07-25T16:33:43+00:00",
          "2022-07-20T15:57:23+00:00",
          "2022-06-07T14:57:36+00:00",
          "2021-09-28T15:27:41+00:00",
          "2021-08-13T14:59:15+00:00",
          "2021-07-23T20:57:30+00:00",
          "2021-07-19T16:27:15+00:00",
          "2021-07-08T15:41:49+00:00",
          "2021-07-07T16:00:44+00:00",
          "2021-05-29T21:00:10+00:00",
          "2021-05-27T00:00:00+00:00",
          "2021-05-21T23:45:00+00:00",
          "2021-05-14T19:00:21+00:00",
          "2021-05-13T03:18:44+00:00",
          "2021-05-12T20:27:32+00:00",
          "2021-04-23T23:15:00+00:00",
          "2021-04-20T22:12:14+00:00",
          "2021-03-29T16:04:16+00:00"
         ],
         "xaxis": "x",
         "y": [
          null,
          null,
          null,
          null,
          null,
          null,
          null,
          null,
          null,
          null,
          null,
          199828,
          215771.75,
          224018.33333333334,
          275816.3333333333,
          260533.41666666666,
          252077.41666666666,
          257191.75,
          274703.0833333333,
          317168,
          352938.0833333333,
          352209.3333333333,
          316011.25,
          283269.8333333333,
          274485.3333333333,
          284304,
          235224.25,
          231929.58333333334,
          222399,
          254205.41666666666,
          257506.41666666666,
          233676.33333333334,
          208070.83333333334,
          206991.58333333334,
          225569.58333333334,
          249236.83333333334,
          255128.58333333334,
          243116,
          248520.83333333334,
          273950.3333333333,
          269679.0833333333,
          211470.25,
          206531.75,
          196918.75,
          194525.66666666666,
          207690,
          191483.58333333334,
          188199.83333333334,
          224481,
          221264.91666666666,
          216198.08333333334,
          189116.5,
          229300.5,
          230989,
          212890.25,
          208062.58333333334,
          220615.16666666666,
          234921.5,
          243625.08333333334,
          248689.25,
          217247.75,
          226053.5,
          224082.58333333334,
          239655.16666666666,
          249864.25,
          282669.3333333333,
          320724.4166666667,
          325670.75,
          309227.5833333333,
          311256.9166666667,
          296964.6666666667,
          265416.4166666667,
          247276.16666666666,
          252197,
          247143.91666666666,
          229644.25,
          178287.33333333334,
          142105.5,
          101919.41666666667,
          91238.41666666667,
          90606
         ],
         "yaxis": "y"
        }
       ],
       "layout": {
        "height": 600,
        "legend": {
         "itemsizing": "constant",
         "title": {
          "text": "Performance"
         },
         "traceorder": "reversed"
        },
        "plot_bgcolor": "#D6E4E5",
        "template": {
         "data": {
          "bar": [
           {
            "error_x": {
             "color": "#2a3f5f"
            },
            "error_y": {
             "color": "#2a3f5f"
            },
            "marker": {
             "line": {
              "color": "#E5ECF6",
              "width": 0.5
             },
             "pattern": {
              "fillmode": "overlay",
              "size": 10,
              "solidity": 0.2
             }
            },
            "type": "bar"
           }
          ],
          "barpolar": [
           {
            "marker": {
             "line": {
              "color": "#E5ECF6",
              "width": 0.5
             },
             "pattern": {
              "fillmode": "overlay",
              "size": 10,
              "solidity": 0.2
             }
            },
            "type": "barpolar"
           }
          ],
          "carpet": [
           {
            "aaxis": {
             "endlinecolor": "#2a3f5f",
             "gridcolor": "white",
             "linecolor": "white",
             "minorgridcolor": "white",
             "startlinecolor": "#2a3f5f"
            },
            "baxis": {
             "endlinecolor": "#2a3f5f",
             "gridcolor": "white",
             "linecolor": "white",
             "minorgridcolor": "white",
             "startlinecolor": "#2a3f5f"
            },
            "type": "carpet"
           }
          ],
          "choropleth": [
           {
            "colorbar": {
             "outlinewidth": 0,
             "ticks": ""
            },
            "type": "choropleth"
           }
          ],
          "contour": [
           {
            "colorbar": {
             "outlinewidth": 0,
             "ticks": ""
            },
            "colorscale": [
             [
              0,
              "#0d0887"
             ],
             [
              0.1111111111111111,
              "#46039f"
             ],
             [
              0.2222222222222222,
              "#7201a8"
             ],
             [
              0.3333333333333333,
              "#9c179e"
             ],
             [
              0.4444444444444444,
              "#bd3786"
             ],
             [
              0.5555555555555556,
              "#d8576b"
             ],
             [
              0.6666666666666666,
              "#ed7953"
             ],
             [
              0.7777777777777778,
              "#fb9f3a"
             ],
             [
              0.8888888888888888,
              "#fdca26"
             ],
             [
              1,
              "#f0f921"
             ]
            ],
            "type": "contour"
           }
          ],
          "contourcarpet": [
           {
            "colorbar": {
             "outlinewidth": 0,
             "ticks": ""
            },
            "type": "contourcarpet"
           }
          ],
          "heatmap": [
           {
            "colorbar": {
             "outlinewidth": 0,
             "ticks": ""
            },
            "colorscale": [
             [
              0,
              "#0d0887"
             ],
             [
              0.1111111111111111,
              "#46039f"
             ],
             [
              0.2222222222222222,
              "#7201a8"
             ],
             [
              0.3333333333333333,
              "#9c179e"
             ],
             [
              0.4444444444444444,
              "#bd3786"
             ],
             [
              0.5555555555555556,
              "#d8576b"
             ],
             [
              0.6666666666666666,
              "#ed7953"
             ],
             [
              0.7777777777777778,
              "#fb9f3a"
             ],
             [
              0.8888888888888888,
              "#fdca26"
             ],
             [
              1,
              "#f0f921"
             ]
            ],
            "type": "heatmap"
           }
          ],
          "heatmapgl": [
           {
            "colorbar": {
             "outlinewidth": 0,
             "ticks": ""
            },
            "colorscale": [
             [
              0,
              "#0d0887"
             ],
             [
              0.1111111111111111,
              "#46039f"
             ],
             [
              0.2222222222222222,
              "#7201a8"
             ],
             [
              0.3333333333333333,
              "#9c179e"
             ],
             [
              0.4444444444444444,
              "#bd3786"
             ],
             [
              0.5555555555555556,
              "#d8576b"
             ],
             [
              0.6666666666666666,
              "#ed7953"
             ],
             [
              0.7777777777777778,
              "#fb9f3a"
             ],
             [
              0.8888888888888888,
              "#fdca26"
             ],
             [
              1,
              "#f0f921"
             ]
            ],
            "type": "heatmapgl"
           }
          ],
          "histogram": [
           {
            "marker": {
             "pattern": {
              "fillmode": "overlay",
              "size": 10,
              "solidity": 0.2
             }
            },
            "type": "histogram"
           }
          ],
          "histogram2d": [
           {
            "colorbar": {
             "outlinewidth": 0,
             "ticks": ""
            },
            "colorscale": [
             [
              0,
              "#0d0887"
             ],
             [
              0.1111111111111111,
              "#46039f"
             ],
             [
              0.2222222222222222,
              "#7201a8"
             ],
             [
              0.3333333333333333,
              "#9c179e"
             ],
             [
              0.4444444444444444,
              "#bd3786"
             ],
             [
              0.5555555555555556,
              "#d8576b"
             ],
             [
              0.6666666666666666,
              "#ed7953"
             ],
             [
              0.7777777777777778,
              "#fb9f3a"
             ],
             [
              0.8888888888888888,
              "#fdca26"
             ],
             [
              1,
              "#f0f921"
             ]
            ],
            "type": "histogram2d"
           }
          ],
          "histogram2dcontour": [
           {
            "colorbar": {
             "outlinewidth": 0,
             "ticks": ""
            },
            "colorscale": [
             [
              0,
              "#0d0887"
             ],
             [
              0.1111111111111111,
              "#46039f"
             ],
             [
              0.2222222222222222,
              "#7201a8"
             ],
             [
              0.3333333333333333,
              "#9c179e"
             ],
             [
              0.4444444444444444,
              "#bd3786"
             ],
             [
              0.5555555555555556,
              "#d8576b"
             ],
             [
              0.6666666666666666,
              "#ed7953"
             ],
             [
              0.7777777777777778,
              "#fb9f3a"
             ],
             [
              0.8888888888888888,
              "#fdca26"
             ],
             [
              1,
              "#f0f921"
             ]
            ],
            "type": "histogram2dcontour"
           }
          ],
          "mesh3d": [
           {
            "colorbar": {
             "outlinewidth": 0,
             "ticks": ""
            },
            "type": "mesh3d"
           }
          ],
          "parcoords": [
           {
            "line": {
             "colorbar": {
              "outlinewidth": 0,
              "ticks": ""
             }
            },
            "type": "parcoords"
           }
          ],
          "pie": [
           {
            "automargin": true,
            "type": "pie"
           }
          ],
          "scatter": [
           {
            "fillpattern": {
             "fillmode": "overlay",
             "size": 10,
             "solidity": 0.2
            },
            "type": "scatter"
           }
          ],
          "scatter3d": [
           {
            "line": {
             "colorbar": {
              "outlinewidth": 0,
              "ticks": ""
             }
            },
            "marker": {
             "colorbar": {
              "outlinewidth": 0,
              "ticks": ""
             }
            },
            "type": "scatter3d"
           }
          ],
          "scattercarpet": [
           {
            "marker": {
             "colorbar": {
              "outlinewidth": 0,
              "ticks": ""
             }
            },
            "type": "scattercarpet"
           }
          ],
          "scattergeo": [
           {
            "marker": {
             "colorbar": {
              "outlinewidth": 0,
              "ticks": ""
             }
            },
            "type": "scattergeo"
           }
          ],
          "scattergl": [
           {
            "marker": {
             "colorbar": {
              "outlinewidth": 0,
              "ticks": ""
             }
            },
            "type": "scattergl"
           }
          ],
          "scattermapbox": [
           {
            "marker": {
             "colorbar": {
              "outlinewidth": 0,
              "ticks": ""
             }
            },
            "type": "scattermapbox"
           }
          ],
          "scatterpolar": [
           {
            "marker": {
             "colorbar": {
              "outlinewidth": 0,
              "ticks": ""
             }
            },
            "type": "scatterpolar"
           }
          ],
          "scatterpolargl": [
           {
            "marker": {
             "colorbar": {
              "outlinewidth": 0,
              "ticks": ""
             }
            },
            "type": "scatterpolargl"
           }
          ],
          "scatterternary": [
           {
            "marker": {
             "colorbar": {
              "outlinewidth": 0,
              "ticks": ""
             }
            },
            "type": "scatterternary"
           }
          ],
          "surface": [
           {
            "colorbar": {
             "outlinewidth": 0,
             "ticks": ""
            },
            "colorscale": [
             [
              0,
              "#0d0887"
             ],
             [
              0.1111111111111111,
              "#46039f"
             ],
             [
              0.2222222222222222,
              "#7201a8"
             ],
             [
              0.3333333333333333,
              "#9c179e"
             ],
             [
              0.4444444444444444,
              "#bd3786"
             ],
             [
              0.5555555555555556,
              "#d8576b"
             ],
             [
              0.6666666666666666,
              "#ed7953"
             ],
             [
              0.7777777777777778,
              "#fb9f3a"
             ],
             [
              0.8888888888888888,
              "#fdca26"
             ],
             [
              1,
              "#f0f921"
             ]
            ],
            "type": "surface"
           }
          ],
          "table": [
           {
            "cells": {
             "fill": {
              "color": "#EBF0F8"
             },
             "line": {
              "color": "white"
             }
            },
            "header": {
             "fill": {
              "color": "#C8D4E3"
             },
             "line": {
              "color": "white"
             }
            },
            "type": "table"
           }
          ]
         },
         "layout": {
          "annotationdefaults": {
           "arrowcolor": "#2a3f5f",
           "arrowhead": 0,
           "arrowwidth": 1
          },
          "autotypenumbers": "strict",
          "coloraxis": {
           "colorbar": {
            "outlinewidth": 0,
            "ticks": ""
           }
          },
          "colorscale": {
           "diverging": [
            [
             0,
             "#8e0152"
            ],
            [
             0.1,
             "#c51b7d"
            ],
            [
             0.2,
             "#de77ae"
            ],
            [
             0.3,
             "#f1b6da"
            ],
            [
             0.4,
             "#fde0ef"
            ],
            [
             0.5,
             "#f7f7f7"
            ],
            [
             0.6,
             "#e6f5d0"
            ],
            [
             0.7,
             "#b8e186"
            ],
            [
             0.8,
             "#7fbc41"
            ],
            [
             0.9,
             "#4d9221"
            ],
            [
             1,
             "#276419"
            ]
           ],
           "sequential": [
            [
             0,
             "#0d0887"
            ],
            [
             0.1111111111111111,
             "#46039f"
            ],
            [
             0.2222222222222222,
             "#7201a8"
            ],
            [
             0.3333333333333333,
             "#9c179e"
            ],
            [
             0.4444444444444444,
             "#bd3786"
            ],
            [
             0.5555555555555556,
             "#d8576b"
            ],
            [
             0.6666666666666666,
             "#ed7953"
            ],
            [
             0.7777777777777778,
             "#fb9f3a"
            ],
            [
             0.8888888888888888,
             "#fdca26"
            ],
            [
             1,
             "#f0f921"
            ]
           ],
           "sequentialminus": [
            [
             0,
             "#0d0887"
            ],
            [
             0.1111111111111111,
             "#46039f"
            ],
            [
             0.2222222222222222,
             "#7201a8"
            ],
            [
             0.3333333333333333,
             "#9c179e"
            ],
            [
             0.4444444444444444,
             "#bd3786"
            ],
            [
             0.5555555555555556,
             "#d8576b"
            ],
            [
             0.6666666666666666,
             "#ed7953"
            ],
            [
             0.7777777777777778,
             "#fb9f3a"
            ],
            [
             0.8888888888888888,
             "#fdca26"
            ],
            [
             1,
             "#f0f921"
            ]
           ]
          },
          "colorway": [
           "#636efa",
           "#EF553B",
           "#00cc96",
           "#ab63fa",
           "#FFA15A",
           "#19d3f3",
           "#FF6692",
           "#B6E880",
           "#FF97FF",
           "#FECB52"
          ],
          "font": {
           "color": "#2a3f5f"
          },
          "geo": {
           "bgcolor": "white",
           "lakecolor": "white",
           "landcolor": "#E5ECF6",
           "showlakes": true,
           "showland": true,
           "subunitcolor": "white"
          },
          "hoverlabel": {
           "align": "left"
          },
          "hovermode": "closest",
          "mapbox": {
           "style": "light"
          },
          "paper_bgcolor": "white",
          "plot_bgcolor": "#E5ECF6",
          "polar": {
           "angularaxis": {
            "gridcolor": "white",
            "linecolor": "white",
            "ticks": ""
           },
           "bgcolor": "#E5ECF6",
           "radialaxis": {
            "gridcolor": "white",
            "linecolor": "white",
            "ticks": ""
           }
          },
          "scene": {
           "xaxis": {
            "backgroundcolor": "#E5ECF6",
            "gridcolor": "white",
            "gridwidth": 2,
            "linecolor": "white",
            "showbackground": true,
            "ticks": "",
            "zerolinecolor": "white"
           },
           "yaxis": {
            "backgroundcolor": "#E5ECF6",
            "gridcolor": "white",
            "gridwidth": 2,
            "linecolor": "white",
            "showbackground": true,
            "ticks": "",
            "zerolinecolor": "white"
           },
           "zaxis": {
            "backgroundcolor": "#E5ECF6",
            "gridcolor": "white",
            "gridwidth": 2,
            "linecolor": "white",
            "showbackground": true,
            "ticks": "",
            "zerolinecolor": "white"
           }
          },
          "shapedefaults": {
           "line": {
            "color": "#2a3f5f"
           }
          },
          "ternary": {
           "aaxis": {
            "gridcolor": "white",
            "linecolor": "white",
            "ticks": ""
           },
           "baxis": {
            "gridcolor": "white",
            "linecolor": "white",
            "ticks": ""
           },
           "bgcolor": "#E5ECF6",
           "caxis": {
            "gridcolor": "white",
            "linecolor": "white",
            "ticks": ""
           }
          },
          "title": {
           "x": 0.05
          },
          "xaxis": {
           "automargin": true,
           "gridcolor": "white",
           "linecolor": "white",
           "ticks": "",
           "title": {
            "standoff": 15
           },
           "zerolinecolor": "white",
           "zerolinewidth": 2
          },
          "yaxis": {
           "automargin": true,
           "gridcolor": "white",
           "linecolor": "white",
           "ticks": "",
           "title": {
            "standoff": 15
           },
           "zerolinecolor": "white",
           "zerolinewidth": 2
          }
         }
        },
        "title": {
         "text": "FISHERYIN's Youtube Shorts Performance (views)",
         "x": 0.5
        },
        "xaxis": {
         "title": {
          "text": "Date Posted"
         }
        },
        "yaxis": {
         "title": {
          "text": "views"
         }
        }
       }
      }
     },
     "metadata": {},
     "output_type": "display_data"
    }
   ],
   "source": [
    "ytvz.scatter_performance(yt.channel_username, df=df, variable='views',vid_type='short')"
   ]
  },
  {
   "cell_type": "markdown",
   "metadata": {},
   "source": [
    "### Import Channel Data"
   ]
  }
 ],
 "metadata": {
  "kernelspec": {
   "display_name": "Python 3",
   "language": "python",
   "name": "python3"
  },
  "language_info": {
   "codemirror_mode": {
    "name": "ipython",
    "version": 3
   },
   "file_extension": ".py",
   "mimetype": "text/x-python",
   "name": "python",
   "nbconvert_exporter": "python",
   "pygments_lexer": "ipython3",
   "version": "3.11.0"
  },
  "orig_nbformat": 4
 },
 "nbformat": 4,
 "nbformat_minor": 2
}
