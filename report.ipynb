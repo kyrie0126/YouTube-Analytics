{
 "cells": [
  {
   "cell_type": "markdown",
   "metadata": {},
   "source": [
    "# Configuration"
   ]
  },
  {
   "cell_type": "code",
   "execution_count": 25,
   "metadata": {},
   "outputs": [],
   "source": [
    "import os\n",
    "from dotenv import load_dotenv\n",
    "from youtubeClasses import AnalyzeChannel\n",
    "import youtubeFunctions as ytfn\n",
    "import youtubeVisuals as ytvz\n",
    "import plotly.express as px\n",
    "import plotly.graph_objects as go\n",
    "import matplotlib.pyplot as plt\n",
    "import plotly.offline as pyo\n",
    "import markdown\n"
   ]
  },
  {
   "cell_type": "markdown",
   "metadata": {},
   "source": [
    "# Data Retrieval"
   ]
  },
  {
   "cell_type": "code",
   "execution_count": 26,
   "metadata": {},
   "outputs": [],
   "source": [
    "load_dotenv()\n",
    "api_key = os.getenv('YT_API_KEY')"
   ]
  },
  {
   "cell_type": "code",
   "execution_count": 27,
   "metadata": {},
   "outputs": [],
   "source": [
    "url = 'https://www.youtube.com/watch?v=x-9TAjyqSaY'"
   ]
  },
  {
   "cell_type": "code",
   "execution_count": null,
   "metadata": {},
   "outputs": [],
   "source": [
    "yt = AnalyzeChannel(api_key=api_key, url=url)"
   ]
  },
  {
   "cell_type": "code",
   "execution_count": null,
   "metadata": {},
   "outputs": [],
   "source": [
    "df = yt.retrieve_channel_videos()"
   ]
  },
  {
   "cell_type": "code",
   "execution_count": null,
   "metadata": {},
   "outputs": [],
   "source": [
    "df['video_type'].value_counts()"
   ]
  },
  {
   "cell_type": "code",
   "execution_count": null,
   "metadata": {},
   "outputs": [],
   "source": [
    "df = ytfn.calculate_lof(df, 'views')"
   ]
  },
  {
   "cell_type": "markdown",
   "metadata": {},
   "source": [
    "# Posting Behavior"
   ]
  },
  {
   "cell_type": "markdown",
   "metadata": {},
   "source": [
    "### Video Performance"
   ]
  },
  {
   "cell_type": "code",
   "execution_count": null,
   "metadata": {},
   "outputs": [],
   "source": [
    "df_videos = df[df['video_type']=='standard'].copy()"
   ]
  },
  {
   "cell_type": "markdown",
   "metadata": {},
   "source": [
    "##### Video Posts and Average Views by Day of Week"
   ]
  },
  {
   "cell_type": "code",
   "execution_count": null,
   "metadata": {},
   "outputs": [],
   "source": [
    "# Lifetime statistics\n",
    "start_date = df_videos['publishTime'].min()\n",
    "end_date = df_videos['publishTime'].max()\n",
    "title = f\"{yt.channel_username}: Posting Frequency and Average Views by Day of Week (All Time)\"\n",
    "ytvz.bar_post_views_dow_range(df=df_videos, start_date=start_date, end_date=end_date, title=title)"
   ]
  },
  {
   "cell_type": "code",
   "execution_count": null,
   "metadata": {},
   "outputs": [],
   "source": [
    "# <2021\n",
    "start_date = '2000-01-01'\n",
    "end_date = '2021-01-01'\n",
    "title = \"Posting Frequency and Average Views by Day of Week (2021)\"\n",
    "ytvz.bar_post_views_dow_range(df=df_videos, start_date=start_date, end_date=end_date, title=title)"
   ]
  },
  {
   "cell_type": "code",
   "execution_count": null,
   "metadata": {},
   "outputs": [],
   "source": [
    "# 2021\n",
    "start_date = '2021-01-01'\n",
    "end_date = '2022-12-31'\n",
    "title = \"Posting Frequency and Average Views by Day of Week (2021-2022)\"\n",
    "ytvz.bar_post_views_dow_range(df=df_videos, start_date=start_date, end_date=end_date, title=title)"
   ]
  },
  {
   "cell_type": "code",
   "execution_count": null,
   "metadata": {},
   "outputs": [],
   "source": [
    "# 2022\n",
    "start_date = '2022-01-01'\n",
    "end_date = '2022-12-31'\n",
    "title = \"Posting Frequency and Average Views by Day of Week (2022)\"\n",
    "ytvz.bar_post_views_dow_range(df=df_videos, start_date=start_date, end_date=end_date, title=title)"
   ]
  },
  {
   "cell_type": "code",
   "execution_count": null,
   "metadata": {},
   "outputs": [],
   "source": [
    "# 2023\n",
    "start_date = '2023-01-01'\n",
    "end_date = '2023-12-31'\n",
    "title = \"Posting Frequency and Average Views by Day of Week (2023)\"\n",
    "ytvz.bar_post_views_dow_range(df=df_videos, start_date=start_date, end_date=end_date, title=title)"
   ]
  },
  {
   "cell_type": "markdown",
   "metadata": {},
   "source": [
    "### Shorts Performance"
   ]
  },
  {
   "cell_type": "code",
   "execution_count": null,
   "metadata": {},
   "outputs": [],
   "source": [
    "df_shorts = df[df['video_type']=='short'].copy()"
   ]
  },
  {
   "cell_type": "markdown",
   "metadata": {},
   "source": [
    "##### Video Posts and Average Views by Day of Week"
   ]
  },
  {
   "cell_type": "code",
   "execution_count": null,
   "metadata": {},
   "outputs": [],
   "source": [
    "# Lifetime statistics\n",
    "start_date = df_shorts['publishTime'].min()\n",
    "end_date = df_shorts['publishTime'].max()\n",
    "title = \"Posting Frequency and Average Views by Day of Week (All Time)\"\n",
    "ytvz.bar_post_views_dow_range(df=df_shorts, start_date=start_date, end_date=end_date, title=title)"
   ]
  },
  {
   "cell_type": "code",
   "execution_count": null,
   "metadata": {},
   "outputs": [],
   "source": [
    "# 2021\n",
    "start_date = '2021-01-01'\n",
    "end_date = '2021-12-31'\n",
    "title = \"Posting Frequency and Average Views by Day of Week (2021)\"\n",
    "ytvz.bar_post_views_dow_range(df=df_shorts, start_date=start_date, end_date=end_date, title=title)"
   ]
  },
  {
   "cell_type": "code",
   "execution_count": null,
   "metadata": {},
   "outputs": [],
   "source": [
    "# 2022\n",
    "start_date = '2022-01-01'\n",
    "end_date = '2022-12-31'\n",
    "title = \"Posting Frequency and Average Views by Day of Week (2022)\"\n",
    "ytvz.bar_post_views_dow_range(df=df_shorts, start_date=start_date, end_date=end_date, title=title)"
   ]
  },
  {
   "cell_type": "code",
   "execution_count": null,
   "metadata": {},
   "outputs": [],
   "source": [
    "# 2023\n",
    "start_date = '2023-01-01'\n",
    "end_date = '2023-12-31'\n",
    "title = f\"{yt.channel_username}'s Posting Frequency and Average Views by Day of Week (2023)\"\n",
    "ytvz.bar_post_views_dow_range(df=df_shorts, start_date=start_date, end_date=end_date, title=title)"
   ]
  },
  {
   "cell_type": "markdown",
   "metadata": {},
   "source": [
    "# Hits"
   ]
  },
  {
   "cell_type": "markdown",
   "metadata": {},
   "source": [
    "### Hit Videos"
   ]
  },
  {
   "cell_type": "markdown",
   "metadata": {},
   "source": [
    "##### Scatterplot of Hit Videos"
   ]
  },
  {
   "cell_type": "code",
   "execution_count": null,
   "metadata": {},
   "outputs": [],
   "source": [
    "ytvz.scatter_performance(yt.channel_username, df=df, variable='views',vid_type='standard')"
   ]
  },
  {
   "cell_type": "markdown",
   "metadata": {},
   "source": [
    "##### Stats of Hit Videos"
   ]
  },
  {
   "cell_type": "code",
   "execution_count": null,
   "metadata": {},
   "outputs": [],
   "source": [
    "df_videos = df[df['video_type']=='standard'].copy()"
   ]
  },
  {
   "cell_type": "code",
   "execution_count": null,
   "metadata": {},
   "outputs": [],
   "source": [
    "df_videos.columns"
   ]
  },
  {
   "cell_type": "code",
   "execution_count": null,
   "metadata": {},
   "outputs": [],
   "source": [
    "df_videos.groupby('performance')['weekday_name'].value_counts()"
   ]
  },
  {
   "cell_type": "code",
   "execution_count": null,
   "metadata": {},
   "outputs": [],
   "source": [
    "df_videos.groupby('performance').agg({\n",
    "    'duration_min': ['max', 'mean', 'min', 'std']\n",
    "    }).reset_index()"
   ]
  },
  {
   "cell_type": "code",
   "execution_count": null,
   "metadata": {},
   "outputs": [],
   "source": [
    "df.columns"
   ]
  },
  {
   "cell_type": "code",
   "execution_count": null,
   "metadata": {},
   "outputs": [],
   "source": [
    "\n",
    "# Define the order of days of the week (Monday to Saturday)\n",
    "days_of_week = ['Monday', 'Tuesday', 'Wednesday', 'Thursday', 'Friday', 'Saturday', 'Sunday']\n",
    "\n",
    "# Create a bar chart using Plotly Express\n",
    "fig = px.bar(df_videos[df_videos['performance']=='Hit'], x='weekday_name',\n",
    "             category_orders={'weekday_name': days_of_week})\n",
    "\n",
    "# Show the plot\n",
    "fig.show()"
   ]
  },
  {
   "cell_type": "code",
   "execution_count": null,
   "metadata": {},
   "outputs": [],
   "source": [
    "# Define the order of days of the week (Monday to Saturday)\n",
    "days_of_week = ['Monday', 'Tuesday', 'Wednesday', 'Thursday', 'Friday', 'Saturday', 'Sunday']\n",
    "\n",
    "# Create a bar chart using Plotly Express\n",
    "fig = px.bar(df_videos[df_videos['performance']=='Normal'], x='weekday_name',\n",
    "             category_orders={'weekday_name': days_of_week})\n",
    "\n",
    "# Show the plot\n",
    "fig.show()"
   ]
  },
  {
   "cell_type": "markdown",
   "metadata": {},
   "source": [
    "### Hit Shorts"
   ]
  },
  {
   "cell_type": "code",
   "execution_count": null,
   "metadata": {},
   "outputs": [],
   "source": [
    "ytvz.scatter_performance(yt.channel_username, df=df, variable='views',vid_type='short')"
   ]
  },
  {
   "cell_type": "markdown",
   "metadata": {},
   "source": [
    "# Export"
   ]
  },
  {
   "cell_type": "code",
   "execution_count": null,
   "metadata": {},
   "outputs": [],
   "source": [
    "\n",
    "fig_2022 = ytvz.bar_post_views_dow_range(df_videos, '2022-01-01', '2022-12-31', title=\"2022 Plot\")\n",
    "fig_2023 = ytvz.bar_post_views_dow_range(df_videos, '2023-01-01', '2023-12-31', title=\"2023 Plot\")"
   ]
  },
  {
   "cell_type": "code",
   "execution_count": null,
   "metadata": {},
   "outputs": [],
   "source": [
    "variable1 = yt.channel_username\n",
    "variable2 = yt.channel_subscriber_count\n",
    "image_path = 'barplot_2022.html'\n",
    "\n",
    "# Read the markdown template\n",
    "with open(\"report_output.md\", \"r\") as f:\n",
    "    template_content = f.read()\n",
    "\n",
    "# Substitute placeholders with actual values\n",
    "markdown_content = template_content.replace(\"{{variable1}}\", variable1)\\\n",
    "                                   .replace(\"{{variable2}}\", str(variable2))\\\n",
    "                                   .replace(\"{{image_path}}\", image_path)\n",
    "                                   \n",
    "# Write the rendered markdown content to a file\n",
    "with open(\"report.md\", \"w\") as f:\n",
    "    f.write(markdown_content)\n",
    "    \n",
    "# Read the Markdown content from a file\n",
    "with open('report.md', 'r') as file:\n",
    "    markdown_content = file.read()\n",
    "\n",
    "# Convert Markdown to HTML\n",
    "html_content = markdown.markdown(markdown_content)\n",
    "\n",
    "# Write the HTML content to a file\n",
    "with open('output.html', 'w') as file:\n",
    "    file.write(html_content)"
   ]
  },
  {
   "cell_type": "code",
   "execution_count": null,
   "metadata": {},
   "outputs": [],
   "source": [
    "pyo.plot(fig_2022, filename='barplot_2022.html')\n",
    "pyo.plot(fig_2023, filename='barplot_2023.html')\n"
   ]
  },
  {
   "cell_type": "markdown",
   "metadata": {},
   "source": [
    "# Trending Content by Category"
   ]
  },
  {
   "cell_type": "code",
   "execution_count": 28,
   "metadata": {},
   "outputs": [],
   "source": [
    "from googleapiclient.discovery import build\n",
    "load_dotenv()\n",
    "api_key = os.getenv('YT_API_KEY')"
   ]
  },
  {
   "cell_type": "markdown",
   "metadata": {},
   "source": [
    "### Retrieves trending video titles, channels"
   ]
  },
  {
   "cell_type": "code",
   "execution_count": 127,
   "metadata": {},
   "outputs": [],
   "source": [
    "req = build('youtube', 'v3', developerKey=api_key).search().list(\n",
    "            part='snippet',\n",
    "            maxResults=50,\n",
    "            q='fishing',\n",
    "            order='viewCount',\n",
    "            type='video',\n",
    "            regionCode='US',\n",
    "            videoDuration='medium',\n",
    "            publishedAfter='2023-01-01T00:00:00Z'\n",
    "        ).execute()"
   ]
  },
  {
   "cell_type": "code",
   "execution_count": 41,
   "metadata": {},
   "outputs": [],
   "source": [
    "from pprint import pprint\n",
    "import pandas as pd"
   ]
  },
  {
   "cell_type": "code",
   "execution_count": 128,
   "metadata": {},
   "outputs": [
    {
     "name": "stdout",
     "output_type": "stream",
     "text": [
      "{'etag': '4WJPaED4R8PoBKl2VGlh-8iOaOw',\n",
      " 'id': {'kind': 'youtube#video', 'videoId': 'NigrQ9UcJy4'},\n",
      " 'kind': 'youtube#searchResult',\n",
      " 'snippet': {'channelId': 'UCUaT_39o1x6qWjz7K2pWcgw',\n",
      "             'channelTitle': 'Beast Reacts',\n",
      "             'description': 'they are really strapping go pros to everything '\n",
      "                            'lol CHECK OUT THESE CHANNELS OR ELSE GoPro ...',\n",
      "             'liveBroadcastContent': 'none',\n",
      "             'publishTime': '2023-01-05T21:01:33Z',\n",
      "             'publishedAt': '2023-01-05T21:01:33Z',\n",
      "             'thumbnails': {'default': {'height': 90,\n",
      "                                        'url': 'https://i.ytimg.com/vi/NigrQ9UcJy4/default.jpg',\n",
      "                                        'width': 120},\n",
      "                            'high': {'height': 360,\n",
      "                                     'url': 'https://i.ytimg.com/vi/NigrQ9UcJy4/hqdefault.jpg',\n",
      "                                     'width': 480},\n",
      "                            'medium': {'height': 180,\n",
      "                                       'url': 'https://i.ytimg.com/vi/NigrQ9UcJy4/mqdefault.jpg',\n",
      "                                       'width': 320}},\n",
      "             'title': 'I Strapped A GoPro To A Fish!'}}\n"
     ]
    }
   ],
   "source": [
    "pprint(req['items'][0])"
   ]
  },
  {
   "cell_type": "code",
   "execution_count": 129,
   "metadata": {},
   "outputs": [],
   "source": [
    "user, user_id, vid_id, title, date = [], [], [], [], []\n",
    "\n",
    "for item in req['items']:\n",
    "    user.append(item['snippet']['channelTitle'])\n",
    "    user_id.append(item['snippet']['channelId'])\n",
    "    vid_id.append(item['id']['videoId'])\n",
    "    title.append(item['snippet']['title'])\n",
    "    date.append(item['snippet']['publishTime'])\n",
    "\n",
    "df_3 = pd.DataFrame({\n",
    "    'username': user,\n",
    "    'user_id':user_id,\n",
    "    'vid_id': vid_id,\n",
    "    'date': date,\n",
    "    'title': title\n",
    "})"
   ]
  },
  {
   "cell_type": "code",
   "execution_count": 130,
   "metadata": {},
   "outputs": [
    {
     "data": {
      "text/html": [
       "<div>\n",
       "<style scoped>\n",
       "    .dataframe tbody tr th:only-of-type {\n",
       "        vertical-align: middle;\n",
       "    }\n",
       "\n",
       "    .dataframe tbody tr th {\n",
       "        vertical-align: top;\n",
       "    }\n",
       "\n",
       "    .dataframe thead th {\n",
       "        text-align: right;\n",
       "    }\n",
       "</style>\n",
       "<table border=\"1\" class=\"dataframe\">\n",
       "  <thead>\n",
       "    <tr style=\"text-align: right;\">\n",
       "      <th></th>\n",
       "      <th>username</th>\n",
       "      <th>user_id</th>\n",
       "      <th>vid_id</th>\n",
       "      <th>date</th>\n",
       "      <th>title</th>\n",
       "    </tr>\n",
       "  </thead>\n",
       "  <tbody>\n",
       "    <tr>\n",
       "      <th>0</th>\n",
       "      <td>Beast Reacts</td>\n",
       "      <td>UCUaT_39o1x6qWjz7K2pWcgw</td>\n",
       "      <td>NigrQ9UcJy4</td>\n",
       "      <td>2023-01-05T21:01:33Z</td>\n",
       "      <td>I Strapped A GoPro To A Fish!</td>\n",
       "    </tr>\n",
       "    <tr>\n",
       "      <th>1</th>\n",
       "      <td>Mini Yummy</td>\n",
       "      <td>UCF2qXppRwjoIUZNxIa9fdZA</td>\n",
       "      <td>uBCQi-E6e6s</td>\n",
       "      <td>2023-01-12T10:45:11Z</td>\n",
       "      <td>Yummy Miniature Blooming Fish Fried Recipe 🐟 C...</td>\n",
       "    </tr>\n",
       "    <tr>\n",
       "      <th>2</th>\n",
       "      <td>Village Cooking Channel</td>\n",
       "      <td>UCk3JZr7eS3pg5AGEvBdEvFg</td>\n",
       "      <td>0n47msSQllA</td>\n",
       "      <td>2023-08-16T14:39:05Z</td>\n",
       "      <td>200 Pounds BIG TUNA FISH | Tuna Fish Cutting a...</td>\n",
       "    </tr>\n",
       "    <tr>\n",
       "      <th>3</th>\n",
       "      <td>Matthew Beem</td>\n",
       "      <td>UCR_J_SntqJh5eXw66d5hJxA</td>\n",
       "      <td>Qe_3uvrPmtA</td>\n",
       "      <td>2023-05-23T23:55:05Z</td>\n",
       "      <td>I Turned My House Into A Fish Tank!</td>\n",
       "    </tr>\n",
       "    <tr>\n",
       "      <th>4</th>\n",
       "      <td>Nana Fishing</td>\n",
       "      <td>UCFnlBSh16mfwts4iAM4wfFw</td>\n",
       "      <td>diA8Uoo2604</td>\n",
       "      <td>2023-03-30T11:30:10Z</td>\n",
       "      <td>Fishing Videos: Survival Skills, Catch A Lot O...</td>\n",
       "    </tr>\n",
       "  </tbody>\n",
       "</table>\n",
       "</div>"
      ],
      "text/plain": [
       "                  username                   user_id       vid_id  \\\n",
       "0             Beast Reacts  UCUaT_39o1x6qWjz7K2pWcgw  NigrQ9UcJy4   \n",
       "1               Mini Yummy  UCF2qXppRwjoIUZNxIa9fdZA  uBCQi-E6e6s   \n",
       "2  Village Cooking Channel  UCk3JZr7eS3pg5AGEvBdEvFg  0n47msSQllA   \n",
       "3             Matthew Beem  UCR_J_SntqJh5eXw66d5hJxA  Qe_3uvrPmtA   \n",
       "4             Nana Fishing  UCFnlBSh16mfwts4iAM4wfFw  diA8Uoo2604   \n",
       "\n",
       "                   date                                              title  \n",
       "0  2023-01-05T21:01:33Z                      I Strapped A GoPro To A Fish!  \n",
       "1  2023-01-12T10:45:11Z  Yummy Miniature Blooming Fish Fried Recipe 🐟 C...  \n",
       "2  2023-08-16T14:39:05Z  200 Pounds BIG TUNA FISH | Tuna Fish Cutting a...  \n",
       "3  2023-05-23T23:55:05Z                I Turned My House Into A Fish Tank!  \n",
       "4  2023-03-30T11:30:10Z  Fishing Videos: Survival Skills, Catch A Lot O...  "
      ]
     },
     "execution_count": 130,
     "metadata": {},
     "output_type": "execute_result"
    }
   ],
   "source": [
    "df_3.head()"
   ]
  },
  {
   "cell_type": "markdown",
   "metadata": {},
   "source": [
    "### Retrieves subs and views for trending videos"
   ]
  },
  {
   "cell_type": "code",
   "execution_count": 62,
   "metadata": {},
   "outputs": [],
   "source": []
  },
  {
   "cell_type": "code",
   "execution_count": 97,
   "metadata": {},
   "outputs": [],
   "source": [
    "vid_id_out = \"\"\n",
    "for val in set(vid_id):\n",
    "    vid_id_out += val + ','\n",
    "vid_id_out = vid_id_out[:-1]"
   ]
  },
  {
   "cell_type": "code",
   "execution_count": 99,
   "metadata": {},
   "outputs": [
    {
     "data": {
      "text/plain": [
       "'_1ojh6leoI0,1l7sq-3RSf4,R0JfzwSdIB8,hRxck7z2p1I,Gfx5sR1IBzk,tFitCk2q2i0,3T42Xtdkam8,f6Ok-Ggqg5s,GFRgBJLjx6I,edKGqJhmJvM,6_fesOKe7NY,diA8Uoo2604,ppr3O7WN7MM,RpNfMFNz2VM,NbXSj2WT6nw,d16068DfkFg,8T1ZTYtfhI0,XpcLvyjF7Hg,NigrQ9UcJy4,XEwwKrVRFhw,EA0pxwl_UP0,0n47msSQllA,3SUoPvL0Mck,pGux-WGiH-w,GOUG2xcDwsc,uBCQi-E6e6s,hNIDzuiuLgI,Ks_eYMFlDiY,mvJoO6ubtG8,gX-TkeKvd7w,k0Pwn4iMWGw,Vj6spl1qcO0,KBs1egIgcAY,hJO61gQfpb8,VniYSRlhuRE,IwnPFOqzwQ8,6fys87Fo7is,8CGtO7EBuCk,M9Wm0Hw12Bo,1CHt6Yo6sVE,ssiWtD2Tw_w,EEPEfenpewA,Zxb5AblnA48,Pbh02Xl6D3E,rgB_LoNymVw,0Etg292G0Rk,opo7Zn4gQQk,Qe_3uvrPmtA,FQTQD3WHlCk,BE3SlZK9oZk'"
      ]
     },
     "execution_count": 99,
     "metadata": {},
     "output_type": "execute_result"
    }
   ],
   "source": [
    "vid_id_out"
   ]
  },
  {
   "cell_type": "code",
   "execution_count": 124,
   "metadata": {},
   "outputs": [],
   "source": [
    "topics_query = build('youtube', 'v3', developerKey=api_key).videos().list(\n",
    "            id=vid_id_out,\n",
    "            part='snippet,statistics,topicDetails'\n",
    "        ).execute()"
   ]
  },
  {
   "cell_type": "code",
   "execution_count": 125,
   "metadata": {},
   "outputs": [
    {
     "name": "stdout",
     "output_type": "stream",
     "text": [
      "{'etag': 'njy7PFns_BmKi-N5kBcGTPeOIo4',\n",
      " 'id': '_1ojh6leoI0',\n",
      " 'kind': 'youtube#video',\n",
      " 'snippet': {'categoryId': '24',\n",
      "             'channelId': 'UC4vT4PeaB7v-kbpdY4aEBWg',\n",
      "             'channelTitle': 'Life In Jungle',\n",
      "             'defaultAudioLanguage': 'en-US',\n",
      "             'description': 'Survival in the forest  fishing in the river '\n",
      "                            'found strawberries, Eat delicious strawberries',\n",
      "             'liveBroadcastContent': 'none',\n",
      "             'localized': {'description': 'Survival in the forest  fishing in '\n",
      "                                          'the river found strawberries, Eat '\n",
      "                                          'delicious strawberries',\n",
      "                           'title': 'Survival in the forest - fishing in the '\n",
      "                                    'river found strawberries, Eat delicious '\n",
      "                                    'strawberries'},\n",
      "             'publishedAt': '2023-03-12T12:15:30Z',\n",
      "             'thumbnails': {'default': {'height': 90,\n",
      "                                        'url': 'https://i.ytimg.com/vi/_1ojh6leoI0/default.jpg',\n",
      "                                        'width': 120},\n",
      "                            'high': {'height': 360,\n",
      "                                     'url': 'https://i.ytimg.com/vi/_1ojh6leoI0/hqdefault.jpg',\n",
      "                                     'width': 480},\n",
      "                            'maxres': {'height': 720,\n",
      "                                       'url': 'https://i.ytimg.com/vi/_1ojh6leoI0/maxresdefault.jpg',\n",
      "                                       'width': 1280},\n",
      "                            'medium': {'height': 180,\n",
      "                                       'url': 'https://i.ytimg.com/vi/_1ojh6leoI0/mqdefault.jpg',\n",
      "                                       'width': 320},\n",
      "                            'standard': {'height': 480,\n",
      "                                         'url': 'https://i.ytimg.com/vi/_1ojh6leoI0/sddefault.jpg',\n",
      "                                         'width': 640}},\n",
      "             'title': 'Survival in the forest - fishing in the river found '\n",
      "                      'strawberries, Eat delicious strawberries'},\n",
      " 'statistics': {'favoriteCount': '0', 'viewCount': '6762089'},\n",
      " 'topicDetails': {'topicCategories': ['https://en.wikipedia.org/wiki/Food',\n",
      "                                      'https://en.wikipedia.org/wiki/Hobby',\n",
      "                                      'https://en.wikipedia.org/wiki/Lifestyle_(sociology)']}}\n"
     ]
    }
   ],
   "source": [
    "pprint(topics_query['items'][0])"
   ]
  },
  {
   "cell_type": "code",
   "execution_count": 118,
   "metadata": {},
   "outputs": [],
   "source": [
    "vid_id, views, topics = [], [], []\n",
    "for items in topics_query['items']:\n",
    "    vid_id.append(items['id'])\n",
    "    views.append(items['statistics']['viewCount'])\n",
    "    for topic in items['topicDetails']['topicCategories']:\n",
    "        topics.append(topic)"
   ]
  },
  {
   "cell_type": "code",
   "execution_count": 109,
   "metadata": {},
   "outputs": [],
   "source": [
    "df_4 = pd.DataFrame({\n",
    "    'vid_id': vid_id,\n",
    "    'views': views,\n",
    "    'topics': topics\n",
    "})"
   ]
  },
  {
   "cell_type": "code",
   "execution_count": 123,
   "metadata": {},
   "outputs": [
    {
     "data": {
      "text/plain": [
       "['https://en.wikipedia.org/wiki/Food', 'https://en.wikipedia.org/wiki/Hobby', 'https://en.wikipedia.org/wiki/Lifestyle_(sociology)', 'https://en.wikipedia.org/wiki/Hobby', 'https://en.wikipedia.org/wiki/Lifestyle_(sociology)', 'https://en.wikipedia.org/wiki/Pet', 'https://en.wikipedia.org/wiki/Entertainment', 'https://en.wikipedia.org/wiki/Film', 'https://en.wikipedia.org/wiki/Hobby', 'https://en.wikipedia.org/wiki/Lifestyle_(sociology)', 'https://en.wikipedia.org/wiki/Pet', 'https://en.wikipedia.org/wiki/Food', 'https://en.wikipedia.org/wiki/Lifestyle_(sociology)', 'https://en.wikipedia.org/wiki/Pet', 'https://en.wikipedia.org/wiki/Hobby', 'https://en.wikipedia.org/wiki/Lifestyle_(sociology)', 'https://en.wikipedia.org/wiki/Food', 'https://en.wikipedia.org/wiki/Hobby', 'https://en.wikipedia.org/wiki/Lifestyle_(sociology)', 'https://en.wikipedia.org/wiki/Pet', 'https://en.wikipedia.org/wiki/Hobby', 'https://en.wikipedia.org/wiki/Lifestyle_(sociology)', 'https://en.wikipedia.org/wiki/Pet', 'https://en.wikipedia.org/wiki/Food', 'https://en.wikipedia.org/wiki/Lifestyle_(sociology)', 'https://en.wikipedia.org/wiki/Pet', 'https://en.wikipedia.org/wiki/Lifestyle_(sociology)', 'https://en.wikipedia.org/wiki/Pet', 'https://en.wikipedia.org/wiki/Food', 'https://en.wikipedia.org/wiki/Lifestyle_(sociology)', 'https://en.wikipedia.org/wiki/Pet', 'https://en.wikipedia.org/wiki/Hobby', 'https://en.wikipedia.org/wiki/Lifestyle_(sociology)', 'https://en.wikipedia.org/wiki/Pet', 'https://en.wikipedia.org/wiki/Lifestyle_(sociology)', 'https://en.wikipedia.org/wiki/Hobby', 'https://en.wikipedia.org/wiki/Lifestyle_(sociology)', 'https://en.wikipedia.org/wiki/Pet', 'https://en.wikipedia.org/wiki/Hobby', 'https://en.wikipedia.org/wiki/Lifestyle_(sociology)', 'https://en.wikipedia.org/wiki/Hobby', 'https://en.wikipedia.org/wiki/Lifestyle_(sociology)', 'https://en.wikipedia.org/wiki/Pet', 'https://en.wikipedia.org/wiki/Hobby', 'https://en.wikipedia.org/wiki/Lifestyle_(sociology)', 'https://en.wikipedia.org/wiki/Pet', 'https://en.wikipedia.org/wiki/Hobby', 'https://en.wikipedia.org/wiki/Lifestyle_(sociology)', 'https://en.wikipedia.org/wiki/Pet', 'https://en.wikipedia.org/wiki/Lifestyle_(sociology)', 'https://en.wikipedia.org/wiki/Pet', 'https://en.wikipedia.org/wiki/Hobby', 'https://en.wikipedia.org/wiki/Lifestyle_(sociology)', 'https://en.wikipedia.org/wiki/Pet', 'https://en.wikipedia.org/wiki/Lifestyle_(sociology)', 'https://en.wikipedia.org/wiki/Pet', 'https://en.wikipedia.org/wiki/Food', 'https://en.wikipedia.org/wiki/Lifestyle_(sociology)', 'https://en.wikipedia.org/wiki/Pet', 'https://en.wikipedia.org/wiki/Hobby', 'https://en.wikipedia.org/wiki/Lifestyle_(sociology)', 'https://en.wikipedia.org/wiki/Pet', 'https://en.wikipedia.org/wiki/Hobby', 'https://en.wikipedia.org/wiki/Lifestyle_(sociology)', 'https://en.wikipedia.org/wiki/Pet', 'https://en.wikipedia.org/wiki/Lifestyle_(sociology)', 'https://en.wikipedia.org/wiki/Pet', 'https://en.wikipedia.org/wiki/Food', 'https://en.wikipedia.org/wiki/Lifestyle_(sociology)', 'https://en.wikipedia.org/wiki/Pet', 'https://en.wikipedia.org/wiki/Food', 'https://en.wikipedia.org/wiki/Hobby', 'https://en.wikipedia.org/wiki/Lifestyle_(sociology)', 'https://en.wikipedia.org/wiki/Pet', 'https://en.wikipedia.org/wiki/Hobby', 'https://en.wikipedia.org/wiki/Lifestyle_(sociology)', 'https://en.wikipedia.org/wiki/Pet', 'https://en.wikipedia.org/wiki/Hobby', 'https://en.wikipedia.org/wiki/Lifestyle_(sociology)', 'https://en.wikipedia.org/wiki/Pet', 'https://en.wikipedia.org/wiki/Hobby', 'https://en.wikipedia.org/wiki/Lifestyle_(sociology)', 'https://en.wikipedia.org/wiki/Pet', 'https://en.wikipedia.org/wiki/Hobby', 'https://en.wikipedia.org/wiki/Lifestyle_(sociology)', 'https://en.wikipedia.org/wiki/Pet', 'https://en.wikipedia.org/wiki/Hobby', 'https://en.wikipedia.org/wiki/Lifestyle_(sociology)', 'https://en.wikipedia.org/wiki/Pet', 'https://en.wikipedia.org/wiki/Hobby', 'https://en.wikipedia.org/wiki/Lifestyle_(sociology)', 'https://en.wikipedia.org/wiki/Hobby', 'https://en.wikipedia.org/wiki/Lifestyle_(sociology)', 'https://en.wikipedia.org/wiki/Pet', 'https://en.wikipedia.org/wiki/Hobby', 'https://en.wikipedia.org/wiki/Lifestyle_(sociology)', 'https://en.wikipedia.org/wiki/Pet', 'https://en.wikipedia.org/wiki/Hobby', 'https://en.wikipedia.org/wiki/Lifestyle_(sociology)', 'https://en.wikipedia.org/wiki/Pet', 'https://en.wikipedia.org/wiki/Hobby', 'https://en.wikipedia.org/wiki/Lifestyle_(sociology)', 'https://en.wikipedia.org/wiki/Pet', 'https://en.wikipedia.org/wiki/Lifestyle_(sociology)', 'https://en.wikipedia.org/wiki/Pet', 'https://en.wikipedia.org/wiki/Hobby', 'https://en.wikipedia.org/wiki/Lifestyle_(sociology)', 'https://en.wikipedia.org/wiki/Pet', 'https://en.wikipedia.org/wiki/Food', 'https://en.wikipedia.org/wiki/Lifestyle_(sociology)', 'https://en.wikipedia.org/wiki/Pet', 'https://en.wikipedia.org/wiki/Lifestyle_(sociology)', 'https://en.wikipedia.org/wiki/Pet', 'https://en.wikipedia.org/wiki/Hobby', 'https://en.wikipedia.org/wiki/Lifestyle_(sociology)', 'https://en.wikipedia.org/wiki/Pet', 'https://en.wikipedia.org/wiki/Food', 'https://en.wikipedia.org/wiki/Lifestyle_(sociology)', 'https://en.wikipedia.org/wiki/Pet', 'https://en.wikipedia.org/wiki/Hobby', 'https://en.wikipedia.org/wiki/Lifestyle_(sociology)', 'https://en.wikipedia.org/wiki/Pet', 'https://en.wikipedia.org/wiki/Hobby', 'https://en.wikipedia.org/wiki/Lifestyle_(sociology)', 'https://en.wikipedia.org/wiki/Pet', 'https://en.wikipedia.org/wiki/Food', 'https://en.wikipedia.org/wiki/Hobby', 'https://en.wikipedia.org/wiki/Lifestyle_(sociology)', 'https://en.wikipedia.org/wiki/Pet', 'https://en.wikipedia.org/wiki/Lifestyle_(sociology)', 'https://en.wikipedia.org/wiki/Pet', 'https://en.wikipedia.org/wiki/Lifestyle_(sociology)', 'https://en.wikipedia.org/wiki/Pet', 'https://en.wikipedia.org/wiki/Lifestyle_(sociology)', 'https://en.wikipedia.org/wiki/Hobby', 'https://en.wikipedia.org/wiki/Lifestyle_(sociology)']"
      ]
     },
     "execution_count": 123,
     "metadata": {},
     "output_type": "execute_result"
    }
   ],
   "source": [
    "topics"
   ]
  }
 ],
 "metadata": {
  "kernelspec": {
   "display_name": "Python 3",
   "language": "python",
   "name": "python3"
  },
  "language_info": {
   "codemirror_mode": {
    "name": "ipython",
    "version": 3
   },
   "file_extension": ".py",
   "mimetype": "text/x-python",
   "name": "python",
   "nbconvert_exporter": "python",
   "pygments_lexer": "ipython3",
   "version": "3.11.0"
  },
  "orig_nbformat": 4
 },
 "nbformat": 4,
 "nbformat_minor": 2
}
