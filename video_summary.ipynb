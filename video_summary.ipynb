{
 "cells": [
  {
   "cell_type": "code",
   "execution_count": 1,
   "metadata": {},
   "outputs": [],
   "source": [
    "from selenium import webdriver\n",
    "from bs4 import BeautifulSoup\n",
    "import pandas as pd"
   ]
  },
  {
   "cell_type": "markdown",
   "metadata": {},
   "source": [
    "# Web Scraper"
   ]
  },
  {
   "cell_type": "code",
   "execution_count": 41,
   "metadata": {},
   "outputs": [],
   "source": [
    "def yt_video_summary_to_df(url:str):\n",
    "    \"\"\"Returns dataframe with video information: title, views, duration, date\n",
    "    \n",
    "    Input:\\n\n",
    "    url: (str) \n",
    "    \n",
    "    \"\"\"\n",
    "    \n",
    "    driver = webdriver.Chrome()\n",
    "    driver.get(f'{url}/videos?view=0&sort=p&flow=grid')\n",
    "    content = driver.page_source.encode('utf-8').strip()\n",
    "    soup = BeautifulSoup(content, 'lxml')\n",
    "    titles_html = soup.findAll('yt-formatted-string', id='video-title')\n",
    "    views_html = soup.findAll('span', class_='inline-metadata-item style-scope ytd-video-meta-block')\n",
    "    duration_html = soup.findAll('span', id='text', class_='style-scope ytd-thumbnail-overlay-time-status-renderer')\n",
    "    title, views, duration, date = [], [], [], []\n",
    "    \n",
    "    for i in range(len(titles_html)):\n",
    "        title.append(titles_html[i].text)\n",
    "        views.append(views_html[i*2].text)\n",
    "        duration.append(duration_html[i*2].text)\n",
    "        date.append(views_html[i*2+1].text)\n",
    "        \n",
    "    return pd.DataFrame({\n",
    "        'title': title,\n",
    "        'views':views,\n",
    "        'duration':duration,\n",
    "        'date':date})"
   ]
  },
  {
   "cell_type": "code",
   "execution_count": 42,
   "metadata": {},
   "outputs": [
    {
     "data": {
      "text/html": [
       "<div>\n",
       "<style scoped>\n",
       "    .dataframe tbody tr th:only-of-type {\n",
       "        vertical-align: middle;\n",
       "    }\n",
       "\n",
       "    .dataframe tbody tr th {\n",
       "        vertical-align: top;\n",
       "    }\n",
       "\n",
       "    .dataframe thead th {\n",
       "        text-align: right;\n",
       "    }\n",
       "</style>\n",
       "<table border=\"1\" class=\"dataframe\">\n",
       "  <thead>\n",
       "    <tr style=\"text-align: right;\">\n",
       "      <th></th>\n",
       "      <th>title</th>\n",
       "      <th>views</th>\n",
       "      <th>duration</th>\n",
       "      <th>date</th>\n",
       "    </tr>\n",
       "  </thead>\n",
       "  <tbody>\n",
       "    <tr>\n",
       "      <th>0</th>\n",
       "      <td>Ace your DevOps interview | GeeksforGeeks</td>\n",
       "      <td>358 views</td>\n",
       "      <td>\\n    0:44\\n</td>\n",
       "      <td>2 days ago</td>\n",
       "    </tr>\n",
       "    <tr>\n",
       "      <th>1</th>\n",
       "      <td>How to Get Free Google Cloud Qwiklabs Credits ...</td>\n",
       "      <td>3.2K views</td>\n",
       "      <td>\\n    1:08\\n</td>\n",
       "      <td>2 weeks ago</td>\n",
       "    </tr>\n",
       "    <tr>\n",
       "      <th>2</th>\n",
       "      <td>GeeksforGeeks Community – Connect, Ask, Learn ...</td>\n",
       "      <td>724 views</td>\n",
       "      <td>\\n    0:52\\n</td>\n",
       "      <td>2 weeks ago</td>\n",
       "    </tr>\n",
       "    <tr>\n",
       "      <th>3</th>\n",
       "      <td>Become a SDET Expert with GeeksforGeeks</td>\n",
       "      <td>8.3K views</td>\n",
       "      <td>\\n    0:33\\n</td>\n",
       "      <td>2 weeks ago</td>\n",
       "    </tr>\n",
       "    <tr>\n",
       "      <th>4</th>\n",
       "      <td>Geeks Premier League 2023 | India's Biggest Co...</td>\n",
       "      <td>1.6K views</td>\n",
       "      <td>\\n    0:53\\n</td>\n",
       "      <td>3 weeks ago</td>\n",
       "    </tr>\n",
       "  </tbody>\n",
       "</table>\n",
       "</div>"
      ],
      "text/plain": [
       "                                               title       views  \\\n",
       "0          Ace your DevOps interview | GeeksforGeeks   358 views   \n",
       "1  How to Get Free Google Cloud Qwiklabs Credits ...  3.2K views   \n",
       "2  GeeksforGeeks Community – Connect, Ask, Learn ...   724 views   \n",
       "3            Become a SDET Expert with GeeksforGeeks  8.3K views   \n",
       "4  Geeks Premier League 2023 | India's Biggest Co...  1.6K views   \n",
       "\n",
       "         duration         date  \n",
       "0  \\n    0:44\\n     2 days ago  \n",
       "1  \\n    1:08\\n    2 weeks ago  \n",
       "2  \\n    0:52\\n    2 weeks ago  \n",
       "3  \\n    0:33\\n    2 weeks ago  \n",
       "4  \\n    0:53\\n    3 weeks ago  "
      ]
     },
     "execution_count": 42,
     "metadata": {},
     "output_type": "execute_result"
    }
   ],
   "source": [
    "# testing function - only 30 videos are being pulled\n",
    "url = 'https://www.youtube.com/channel/UC0RhatS1pyxInC00YKjjBqQ'\n",
    "geek_df = yt_video_summary_to_df(url)\n",
    "geek_df.head()"
   ]
  },
  {
   "cell_type": "markdown",
   "metadata": {},
   "source": [
    "# ETL Pipeline"
   ]
  },
  {
   "cell_type": "code",
   "execution_count": 5,
   "metadata": {},
   "outputs": [],
   "source": [
    "# Convert views to numeric form\n",
    "def view_transform(views_word:str):\n",
    "    conv = {'K':1000,'M':1000000,'B':1000000000}\n",
    "    temp = views_word.split(' ')[0]\n",
    "    suff = temp[-1]\n",
    "    if suff in conv.keys():\n",
    "        return int(float(temp[:-1]) * conv[suff])\n",
    "    else:\n",
    "        return int(temp)\n"
   ]
  },
  {
   "cell_type": "code",
   "execution_count": 35,
   "metadata": {},
   "outputs": [
    {
     "data": {
      "text/plain": [
       "0.73"
      ]
     },
     "execution_count": 35,
     "metadata": {},
     "output_type": "execute_result"
    }
   ],
   "source": [
    "# convert duration to minutes\n",
    "# raw extraction is: \\n 0:44\\n\n",
    "# can come in multiple forms - HH:MM:SS, MM:SS, 0:SS\n",
    "# strategy, use number of semicolons to determine\n",
    "def duration_to_minutes(dur:str):\n",
    "    temp = dur.strip()\n",
    "    units = temp.split(':')\n",
    "    if len(units) == 3:\n",
    "        return float(units[-1])/60 + float(units[-2]) + float(units[-3])*60\n",
    "    return round(float(units[-1])/60 + float(units[-2]),2)\n",
    "\n",
    "duration_to_minutes('\\n    0:44\\n')"
   ]
  },
  {
   "cell_type": "code",
   "execution_count": 43,
   "metadata": {},
   "outputs": [],
   "source": [
    "geek_df['views'] = geek_df['views'].transform(view_transform)"
   ]
  },
  {
   "cell_type": "code",
   "execution_count": 44,
   "metadata": {},
   "outputs": [],
   "source": [
    "geek_df['duration'] = geek_df['duration'].transform(duration_to_minutes)"
   ]
  },
  {
   "cell_type": "code",
   "execution_count": 45,
   "metadata": {},
   "outputs": [
    {
     "data": {
      "text/html": [
       "<div>\n",
       "<style scoped>\n",
       "    .dataframe tbody tr th:only-of-type {\n",
       "        vertical-align: middle;\n",
       "    }\n",
       "\n",
       "    .dataframe tbody tr th {\n",
       "        vertical-align: top;\n",
       "    }\n",
       "\n",
       "    .dataframe thead th {\n",
       "        text-align: right;\n",
       "    }\n",
       "</style>\n",
       "<table border=\"1\" class=\"dataframe\">\n",
       "  <thead>\n",
       "    <tr style=\"text-align: right;\">\n",
       "      <th></th>\n",
       "      <th>title</th>\n",
       "      <th>views</th>\n",
       "      <th>duration</th>\n",
       "      <th>date</th>\n",
       "    </tr>\n",
       "  </thead>\n",
       "  <tbody>\n",
       "    <tr>\n",
       "      <th>0</th>\n",
       "      <td>Ace your DevOps interview | GeeksforGeeks</td>\n",
       "      <td>358</td>\n",
       "      <td>0.73</td>\n",
       "      <td>2 days ago</td>\n",
       "    </tr>\n",
       "    <tr>\n",
       "      <th>1</th>\n",
       "      <td>How to Get Free Google Cloud Qwiklabs Credits ...</td>\n",
       "      <td>3200</td>\n",
       "      <td>1.13</td>\n",
       "      <td>2 weeks ago</td>\n",
       "    </tr>\n",
       "    <tr>\n",
       "      <th>2</th>\n",
       "      <td>GeeksforGeeks Community – Connect, Ask, Learn ...</td>\n",
       "      <td>724</td>\n",
       "      <td>0.87</td>\n",
       "      <td>2 weeks ago</td>\n",
       "    </tr>\n",
       "    <tr>\n",
       "      <th>3</th>\n",
       "      <td>Become a SDET Expert with GeeksforGeeks</td>\n",
       "      <td>8300</td>\n",
       "      <td>0.55</td>\n",
       "      <td>2 weeks ago</td>\n",
       "    </tr>\n",
       "    <tr>\n",
       "      <th>4</th>\n",
       "      <td>Geeks Premier League 2023 | India's Biggest Co...</td>\n",
       "      <td>1600</td>\n",
       "      <td>0.88</td>\n",
       "      <td>3 weeks ago</td>\n",
       "    </tr>\n",
       "  </tbody>\n",
       "</table>\n",
       "</div>"
      ],
      "text/plain": [
       "                                               title  views  duration  \\\n",
       "0          Ace your DevOps interview | GeeksforGeeks    358      0.73   \n",
       "1  How to Get Free Google Cloud Qwiklabs Credits ...   3200      1.13   \n",
       "2  GeeksforGeeks Community – Connect, Ask, Learn ...    724      0.87   \n",
       "3            Become a SDET Expert with GeeksforGeeks   8300      0.55   \n",
       "4  Geeks Premier League 2023 | India's Biggest Co...   1600      0.88   \n",
       "\n",
       "          date  \n",
       "0   2 days ago  \n",
       "1  2 weeks ago  \n",
       "2  2 weeks ago  \n",
       "3  2 weeks ago  \n",
       "4  3 weeks ago  "
      ]
     },
     "execution_count": 45,
     "metadata": {},
     "output_type": "execute_result"
    }
   ],
   "source": [
    "geek_df.head()"
   ]
  },
  {
   "cell_type": "code",
   "execution_count": null,
   "metadata": {},
   "outputs": [],
   "source": []
  }
 ],
 "metadata": {
  "kernelspec": {
   "display_name": "Python 3",
   "language": "python",
   "name": "python3"
  },
  "language_info": {
   "codemirror_mode": {
    "name": "ipython",
    "version": 3
   },
   "file_extension": ".py",
   "mimetype": "text/x-python",
   "name": "python",
   "nbconvert_exporter": "python",
   "pygments_lexer": "ipython3",
   "version": "3.11.0"
  },
  "orig_nbformat": 4
 },
 "nbformat": 4,
 "nbformat_minor": 2
}
